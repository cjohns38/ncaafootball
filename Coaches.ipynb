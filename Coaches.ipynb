{
 "cells": [
  {
   "cell_type": "code",
   "execution_count": 1,
   "metadata": {
    "collapsed": true
   },
   "outputs": [],
   "source": [
    "import scrapy, re, urllib, datetime, io, requests\n",
    "import pandas as pd\n",
    "from scrapy.crawler import CrawlerProcess\n",
    "from scrapy.linkextractors import LinkExtractor\n",
    "from bs4 import BeautifulSoup as bs"
   ]
  },
  {
   "cell_type": "code",
   "execution_count": null,
   "metadata": {
    "collapsed": true
   },
   "outputs": [],
   "source": [
    "class item_coaches(scrapy.Item):\n",
    "    \"\"\"Scrapy Item for Coaching Profiles\"\"\"\n",
    "    Year = scrapy.Field()\n",
    "    Org = scrapy.Field()\n",
    "    Division = scrapy.Field()\n",
    "    Wins = scrapy.Field()\n",
    "    Losses = scrapy.Field()\n",
    "    Ties = scrapy.Field()\n",
    "    WL = scrapy.Field()\n",
    "    Notes = scrapy.Field()\n",
    "    Name = scapy.Field()"
   ]
  },
  {
   "cell_type": "code",
   "execution_count": null,
   "metadata": {
    "collapsed": true
   },
   "outputs": [],
   "source": [
    "class CoachesCSVPipeline(object):\n",
    "    \"\"\"Scrapy Pipeline Object for Coaching Profiles\"\"\"\n",
    "    def __init__(self):\n",
    "        fileName = \"Coaches.csv\"\n",
    "        self.file = open(fileName, 'wb')\n",
    "        self.exporter = CsvItemExporter(self.file, fields_to_export=[\"Name\", \"Year\", \"Org\", \"Division\", \"Wins\", \"Losses\", \"Ties\", \"WL\", \"Notes\"])\n",
    "        self.exporter.start_exporting()\n",
    " \n",
    "    def close_spider(self, spider):\n",
    "        self.exporter.finish_exporting()\n",
    "        self.file.close()\n",
    " \n",
    "    def process_item(self, item, spider):\n",
    "        self.exporter.export_item(item)\n",
    "        return item"
   ]
  },
  {
   "cell_type": "code",
   "execution_count": 2,
   "metadata": {
    "collapsed": true
   },
   "outputs": [],
   "source": [
    "class CoachSpider(scrapy.Spider): \n",
    "    name = \"Coach\"\n",
    "    \n",
    "    # Read in data\n",
    "    data = pd.read_csv(file_in)\n",
    "    df = data[data.key == target].drop_duplicates()\n",
    "    df.sort_values(['team'], inplace = True)\n",
    "    _list = df.to_dict(orient='record')\n",
    "    \n",
    "    def start_requests(self): \n",
    "        \n",
    "        for url in self._list[:1]: \n",
    "            yield scrapy.Request(url=url['link'], \n",
    "                                 callback=self.parse, \n",
    "                                 meta={'name':url['txt']}\n",
    "                                )\n",
    "    \n",
    "    def parse(self, response):         \n",
    "        # Create table \n",
    "        tables = pd.read_html(response.body)\n",
    "        tables[1]['Name'] = response.meta['name']\n",
    "\n",
    "        # Convert the table to a dict and yield those results to items \n",
    "        \n",
    "        "
   ]
  },
  {
   "cell_type": "code",
   "execution_count": 3,
   "metadata": {},
   "outputs": [
    {
     "name": "stderr",
     "output_type": "stream",
     "text": [
      "2017-12-05 21:54:02 [scrapy.utils.log] INFO: Scrapy 1.4.0 started (bot: scrapybot)\n",
      "2017-12-05 21:54:02 [scrapy.utils.log] INFO: Overridden settings: {'USER_AGENT': 'Mozilla/4.0 (compatible; MSIE 7.0; Windows NT 5.1)'}\n",
      "2017-12-05 21:54:02 [scrapy.middleware] INFO: Enabled extensions:\n",
      "['scrapy.extensions.corestats.CoreStats',\n",
      " 'scrapy.extensions.telnet.TelnetConsole',\n",
      " 'scrapy.extensions.memusage.MemoryUsage',\n",
      " 'scrapy.extensions.logstats.LogStats']\n",
      "2017-12-05 21:54:02 [scrapy.middleware] INFO: Enabled downloader middlewares:\n",
      "['scrapy.downloadermiddlewares.httpauth.HttpAuthMiddleware',\n",
      " 'scrapy.downloadermiddlewares.downloadtimeout.DownloadTimeoutMiddleware',\n",
      " 'scrapy.downloadermiddlewares.defaultheaders.DefaultHeadersMiddleware',\n",
      " 'scrapy.downloadermiddlewares.useragent.UserAgentMiddleware',\n",
      " 'scrapy.downloadermiddlewares.retry.RetryMiddleware',\n",
      " 'scrapy.downloadermiddlewares.redirect.MetaRefreshMiddleware',\n",
      " 'scrapy.downloadermiddlewares.httpcompression.HttpCompressionMiddleware',\n",
      " 'scrapy.downloadermiddlewares.redirect.RedirectMiddleware',\n",
      " 'scrapy.downloadermiddlewares.cookies.CookiesMiddleware',\n",
      " 'scrapy.downloadermiddlewares.httpproxy.HttpProxyMiddleware',\n",
      " 'scrapy.downloadermiddlewares.stats.DownloaderStats']\n",
      "2017-12-05 21:54:02 [scrapy.middleware] INFO: Enabled spider middlewares:\n",
      "['scrapy.spidermiddlewares.httperror.HttpErrorMiddleware',\n",
      " 'scrapy.spidermiddlewares.offsite.OffsiteMiddleware',\n",
      " 'scrapy.spidermiddlewares.referer.RefererMiddleware',\n",
      " 'scrapy.spidermiddlewares.urllength.UrlLengthMiddleware',\n",
      " 'scrapy.spidermiddlewares.depth.DepthMiddleware']\n",
      "2017-12-05 21:54:02 [scrapy.middleware] INFO: Enabled item pipelines:\n",
      "[]\n",
      "2017-12-05 21:54:02 [scrapy.core.engine] INFO: Spider opened\n",
      "2017-12-05 21:54:02 [scrapy.extensions.logstats] INFO: Crawled 0 pages (at 0 pages/min), scraped 0 items (at 0 items/min)\n",
      "2017-12-05 21:54:02 [scrapy.extensions.telnet] DEBUG: Telnet console listening on 127.0.0.1:6024\n",
      "2017-12-05 21:54:06 [scrapy.core.engine] DEBUG: Crawled (200) <GET http://stats.ncaa.org/people/31099?sport_code=MFB> (referer: None)\n",
      "2017-12-05 21:54:06 [scrapy.core.engine] INFO: Closing spider (finished)\n",
      "2017-12-05 21:54:06 [scrapy.statscollectors] INFO: Dumping Scrapy stats:\n",
      "{'downloader/request_bytes': 256,\n",
      " 'downloader/request_count': 1,\n",
      " 'downloader/request_method_count/GET': 1,\n",
      " 'downloader/response_bytes': 4238,\n",
      " 'downloader/response_count': 1,\n",
      " 'downloader/response_status_count/200': 1,\n",
      " 'finish_reason': 'finished',\n",
      " 'finish_time': datetime.datetime(2017, 12, 6, 3, 54, 6, 245995),\n",
      " 'log_count/DEBUG': 2,\n",
      " 'log_count/INFO': 7,\n",
      " 'memusage/max': 123035648,\n",
      " 'memusage/startup': 123035648,\n",
      " 'response_received_count': 1,\n",
      " 'scheduler/dequeued': 1,\n",
      " 'scheduler/dequeued/memory': 1,\n",
      " 'scheduler/enqueued': 1,\n",
      " 'scheduler/enqueued/memory': 1,\n",
      " 'start_time': datetime.datetime(2017, 12, 6, 3, 54, 2, 747934)}\n",
      "2017-12-05 21:54:06 [scrapy.core.engine] INFO: Spider closed (finished)\n"
     ]
    }
   ],
   "source": [
    "process = CrawlerProcess({\n",
    "    'USER_AGENT': 'Mozilla/4.0 (compatible; MSIE 7.0; Windows NT 5.1)'\n",
    "})\n",
    "\n",
    "process.crawl(CoachSpider)\n",
    "process.start() "
   ]
  },
  {
   "cell_type": "code",
   "execution_count": null,
   "metadata": {
    "collapsed": true
   },
   "outputs": [],
   "source": []
  },
  {
   "cell_type": "code",
   "execution_count": 2,
   "metadata": {
    "collapsed": true
   },
   "outputs": [],
   "source": [
    "class CoachSpider(scrapy.Spider): \n",
    "    name = \"Coach\"\n",
    "    \n",
    "    file_in = \"NewLinks2017-12-03 20:28:18.862583.csv\"\n",
    "    file_out = \"Coaches_{0}.csv\"\n",
    "    variables = [ \"Year\", \"Org\", \"Division\", \"Wins\", \"Losses\", \"Ties\", \"WL%\", \"Notes\", \"Name\"]\n",
    "    header = ','.join(variables) + \"\\n\"\n",
    "    target = 'people'\n",
    "    \n",
    "    # Read in data\n",
    "    data = pd.read_csv(file_in)\n",
    "    df = data[data.key == target].drop_duplicates()\n",
    "    df.sort_values(['team'], inplace = True)\n",
    "    _list = df.to_dict(orient='record')\n",
    "    \n",
    "    # Create file to append to \n",
    "    fileName = file_out.format(datetime.datetime.now())\n",
    "    \n",
    "    with open(fileName, 'w') as f: \n",
    "        f.write(header)\n",
    "    \n",
    "    def start_requests(self): \n",
    "        \n",
    "        for url in self._list[:1]: \n",
    "            yield scrapy.Request(url=url['link'], \n",
    "                                 callback=self.parse, \n",
    "                                 meta={'name':url['txt']}\n",
    "                                )\n",
    "    \n",
    "    def parse(self, response):         \n",
    "        # Create tables \n",
    "        tables = pd.read_html(response.body)\n",
    "        tables[1]['Name'] = response.meta['name']\n",
    "\n",
    "        # Create a pandas df and append to csv \n",
    "        c = io.StringIO()\n",
    "        tables[1][self.variables][:-1].to_csv(c, index=False, header=False)\n",
    "        \n",
    "        # Append links to CSV \n",
    "        with open(self.fileName, 'a') as f:\n",
    "            f.write(c.getvalue())\n",
    "        "
   ]
  }
 ],
 "metadata": {
  "kernelspec": {
   "display_name": "Python 3",
   "language": "python",
   "name": "python3"
  },
  "language_info": {
   "codemirror_mode": {
    "name": "ipython",
    "version": 3
   },
   "file_extension": ".py",
   "mimetype": "text/x-python",
   "name": "python",
   "nbconvert_exporter": "python",
   "pygments_lexer": "ipython3",
   "version": "3.6.1"
  }
 },
 "nbformat": 4,
 "nbformat_minor": 2
}
