{
 "cells": [
  {
   "cell_type": "code",
   "execution_count": 1,
   "metadata": {
    "collapsed": true
   },
   "outputs": [],
   "source": [
    "import pandas as pd\n",
    "import requests"
   ]
  },
  {
   "cell_type": "code",
   "execution_count": 2,
   "metadata": {
    "collapsed": true
   },
   "outputs": [],
   "source": [
    "data = pd.read_csv(\"NewLinks2017-12-03 20:28:18.862583.csv\")"
   ]
  },
  {
   "cell_type": "code",
   "execution_count": 24,
   "metadata": {
    "collapsed": true
   },
   "outputs": [],
   "source": [
    "coach = data[data.key == 'people'].drop_duplicates()"
   ]
  },
  {
   "cell_type": "code",
   "execution_count": 26,
   "metadata": {},
   "outputs": [],
   "source": [
    "coach.sort_values(['team'], inplace = True)"
   ]
  },
  {
   "cell_type": "code",
   "execution_count": 29,
   "metadata": {},
   "outputs": [],
   "source": [
    "coach_list = coach.to_dict(orient='record')"
   ]
  },
  {
   "cell_type": "code",
   "execution_count": 31,
   "metadata": {
    "collapsed": true
   },
   "outputs": [],
   "source": [
    "r = requests.get(coach_list[0]['link'])"
   ]
  },
  {
   "cell_type": "code",
   "execution_count": 33,
   "metadata": {},
   "outputs": [],
   "source": [
    "tables = pd.read_html(r.content)"
   ]
  },
  {
   "cell_type": "code",
   "execution_count": 43,
   "metadata": {},
   "outputs": [],
   "source": [
    "tables[1]['name'] = coach_list[0]['txt']"
   ]
  },
  {
   "cell_type": "code",
   "execution_count": 50,
   "metadata": {},
   "outputs": [
    {
     "data": {
      "text/html": [
       "<div>\n",
       "<style>\n",
       "    .dataframe thead tr:only-child th {\n",
       "        text-align: right;\n",
       "    }\n",
       "\n",
       "    .dataframe thead th {\n",
       "        text-align: left;\n",
       "    }\n",
       "\n",
       "    .dataframe tbody tr th {\n",
       "        vertical-align: top;\n",
       "    }\n",
       "</style>\n",
       "<table border=\"1\" class=\"dataframe\">\n",
       "  <thead>\n",
       "    <tr style=\"text-align: right;\">\n",
       "      <th></th>\n",
       "      <th>Year</th>\n",
       "      <th>Org</th>\n",
       "      <th>Division</th>\n",
       "      <th>Wins</th>\n",
       "      <th>Losses</th>\n",
       "      <th>Ties</th>\n",
       "      <th>WL%</th>\n",
       "      <th>Notes</th>\n",
       "      <th>name</th>\n",
       "    </tr>\n",
       "  </thead>\n",
       "  <tbody>\n",
       "    <tr>\n",
       "      <th>0</th>\n",
       "      <td>2007-08</td>\n",
       "      <td>Air Force</td>\n",
       "      <td>FBS</td>\n",
       "      <td>9</td>\n",
       "      <td>4.0</td>\n",
       "      <td>0.0</td>\n",
       "      <td>0.692</td>\n",
       "      <td>NaN</td>\n",
       "      <td>Troy Calhoun</td>\n",
       "    </tr>\n",
       "    <tr>\n",
       "      <th>1</th>\n",
       "      <td>2008-09</td>\n",
       "      <td>Air Force</td>\n",
       "      <td>FBS</td>\n",
       "      <td>8</td>\n",
       "      <td>5.0</td>\n",
       "      <td>0.0</td>\n",
       "      <td>0.615</td>\n",
       "      <td>NaN</td>\n",
       "      <td>Troy Calhoun</td>\n",
       "    </tr>\n",
       "    <tr>\n",
       "      <th>2</th>\n",
       "      <td>2009-10</td>\n",
       "      <td>Air Force</td>\n",
       "      <td>FBS</td>\n",
       "      <td>8</td>\n",
       "      <td>5.0</td>\n",
       "      <td>0.0</td>\n",
       "      <td>0.615</td>\n",
       "      <td>NaN</td>\n",
       "      <td>Troy Calhoun</td>\n",
       "    </tr>\n",
       "    <tr>\n",
       "      <th>3</th>\n",
       "      <td>2010-11</td>\n",
       "      <td>Air Force</td>\n",
       "      <td>FBS</td>\n",
       "      <td>9</td>\n",
       "      <td>4.0</td>\n",
       "      <td>0.0</td>\n",
       "      <td>0.692</td>\n",
       "      <td>NaN</td>\n",
       "      <td>Troy Calhoun</td>\n",
       "    </tr>\n",
       "    <tr>\n",
       "      <th>4</th>\n",
       "      <td>2011-12</td>\n",
       "      <td>Air Force</td>\n",
       "      <td>FBS</td>\n",
       "      <td>7</td>\n",
       "      <td>6.0</td>\n",
       "      <td>0.0</td>\n",
       "      <td>0.538</td>\n",
       "      <td>NaN</td>\n",
       "      <td>Troy Calhoun</td>\n",
       "    </tr>\n",
       "    <tr>\n",
       "      <th>5</th>\n",
       "      <td>2012-13</td>\n",
       "      <td>Air Force</td>\n",
       "      <td>FBS</td>\n",
       "      <td>6</td>\n",
       "      <td>7.0</td>\n",
       "      <td>0.0</td>\n",
       "      <td>0.462</td>\n",
       "      <td>NaN</td>\n",
       "      <td>Troy Calhoun</td>\n",
       "    </tr>\n",
       "    <tr>\n",
       "      <th>6</th>\n",
       "      <td>2013-14</td>\n",
       "      <td>Air Force</td>\n",
       "      <td>FBS</td>\n",
       "      <td>2</td>\n",
       "      <td>10.0</td>\n",
       "      <td>0.0</td>\n",
       "      <td>0.167</td>\n",
       "      <td>NaN</td>\n",
       "      <td>Troy Calhoun</td>\n",
       "    </tr>\n",
       "    <tr>\n",
       "      <th>7</th>\n",
       "      <td>2014-15</td>\n",
       "      <td>Air Force</td>\n",
       "      <td>FBS</td>\n",
       "      <td>10</td>\n",
       "      <td>3.0</td>\n",
       "      <td>0.0</td>\n",
       "      <td>0.769</td>\n",
       "      <td>NaN</td>\n",
       "      <td>Troy Calhoun</td>\n",
       "    </tr>\n",
       "    <tr>\n",
       "      <th>8</th>\n",
       "      <td>2015-16</td>\n",
       "      <td>Air Force</td>\n",
       "      <td>FBS</td>\n",
       "      <td>8</td>\n",
       "      <td>6.0</td>\n",
       "      <td>0.0</td>\n",
       "      <td>0.571</td>\n",
       "      <td>NaN</td>\n",
       "      <td>Troy Calhoun</td>\n",
       "    </tr>\n",
       "    <tr>\n",
       "      <th>9</th>\n",
       "      <td>2016-17</td>\n",
       "      <td>Air Force</td>\n",
       "      <td>FBS</td>\n",
       "      <td>10</td>\n",
       "      <td>3.0</td>\n",
       "      <td>0.0</td>\n",
       "      <td>0.769</td>\n",
       "      <td>NaN</td>\n",
       "      <td>Troy Calhoun</td>\n",
       "    </tr>\n",
       "    <tr>\n",
       "      <th>10</th>\n",
       "      <td>2017-18</td>\n",
       "      <td>Air Force</td>\n",
       "      <td>FBS</td>\n",
       "      <td>5</td>\n",
       "      <td>7.0</td>\n",
       "      <td>0.0</td>\n",
       "      <td>0.417</td>\n",
       "      <td>NaN</td>\n",
       "      <td>Troy Calhoun</td>\n",
       "    </tr>\n",
       "  </tbody>\n",
       "</table>\n",
       "</div>"
      ],
      "text/plain": [
       "       Year        Org Division  Wins  Losses  Ties    WL%  Notes  \\\n",
       "0   2007-08  Air Force      FBS     9     4.0   0.0  0.692    NaN   \n",
       "1   2008-09  Air Force      FBS     8     5.0   0.0  0.615    NaN   \n",
       "2   2009-10  Air Force      FBS     8     5.0   0.0  0.615    NaN   \n",
       "3   2010-11  Air Force      FBS     9     4.0   0.0  0.692    NaN   \n",
       "4   2011-12  Air Force      FBS     7     6.0   0.0  0.538    NaN   \n",
       "5   2012-13  Air Force      FBS     6     7.0   0.0  0.462    NaN   \n",
       "6   2013-14  Air Force      FBS     2    10.0   0.0  0.167    NaN   \n",
       "7   2014-15  Air Force      FBS    10     3.0   0.0  0.769    NaN   \n",
       "8   2015-16  Air Force      FBS     8     6.0   0.0  0.571    NaN   \n",
       "9   2016-17  Air Force      FBS    10     3.0   0.0  0.769    NaN   \n",
       "10  2017-18  Air Force      FBS     5     7.0   0.0  0.417    NaN   \n",
       "\n",
       "            name  \n",
       "0   Troy Calhoun  \n",
       "1   Troy Calhoun  \n",
       "2   Troy Calhoun  \n",
       "3   Troy Calhoun  \n",
       "4   Troy Calhoun  \n",
       "5   Troy Calhoun  \n",
       "6   Troy Calhoun  \n",
       "7   Troy Calhoun  \n",
       "8   Troy Calhoun  \n",
       "9   Troy Calhoun  \n",
       "10  Troy Calhoun  "
      ]
     },
     "execution_count": 50,
     "metadata": {},
     "output_type": "execute_result"
    }
   ],
   "source": [
    "%matplotlib inline\n",
    "tables[1][:-1]"
   ]
  }
 ],
 "metadata": {
  "kernelspec": {
   "display_name": "Python 3",
   "language": "python",
   "name": "python3"
  },
  "language_info": {
   "codemirror_mode": {
    "name": "ipython",
    "version": 3
   },
   "file_extension": ".py",
   "mimetype": "text/x-python",
   "name": "python",
   "nbconvert_exporter": "python",
   "pygments_lexer": "ipython3",
   "version": "3.6.1"
  }
 },
 "nbformat": 4,
 "nbformat_minor": 2
}
