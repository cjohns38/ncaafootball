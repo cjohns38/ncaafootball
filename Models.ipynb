{
 "cells": [
  {
   "cell_type": "code",
   "execution_count": 1,
   "metadata": {},
   "outputs": [],
   "source": [
    "import zipfile, os\n",
    "import pandas as pd\n",
    "import sklearn as sk\n",
    "import matplotlib.pyplot as plt\n",
    "import seaborn as sns\n",
    "\n",
    "from sklearn.model_selection import train_test_split\n",
    "from sklearn.ensemble import RandomForestClassifier\n",
    "from sklearn.preprocessing import Imputer\n",
    "from sklearn.model_selection import GridSearchCV, RandomizedSearchCV\n",
    "from sklearn.feature_selection import SelectFromModel\n",
    "from sklearn.pipeline import Pipeline\n",
    "from sklearn.metrics import roc_curve, roc_auc_score, classification_report, confusion_matrix\n",
    "from functions.functions import previous_yrs, opponent_stats\n",
    "\n",
    "% matplotlib inline"
   ]
  },
  {
   "cell_type": "markdown",
   "metadata": {},
   "source": [
    "# Read in files"
   ]
  },
  {
   "cell_type": "code",
   "execution_count": 2,
   "metadata": {},
   "outputs": [],
   "source": [
    "_file = os.path.join('Data', 'finalgamedata.zip')\n",
    "zf = zipfile.ZipFile(_file)\n",
    "gamestats = pd.read_csv(zf.open('gamestats.csv'))\n",
    "gamelist = pd.read_csv(zf.open('gameslist.csv'))\n",
    "gamelist['opponentName'] = gamelist['opponentName'].str.replace(\"  \", \" \")"
   ]
  },
  {
   "cell_type": "code",
   "execution_count": 3,
   "metadata": {},
   "outputs": [],
   "source": [
    "# Fix time of possession \n",
    "gamestats.TOP = pd.to_timedelta(gamestats.TOP).astype('timedelta64[s]')\n",
    "gamestats.def_TOP = pd.to_timedelta(gamestats.def_TOP).astype('timedelta64[s]')"
   ]
  },
  {
   "cell_type": "code",
   "execution_count": 4,
   "metadata": {},
   "outputs": [],
   "source": [
    "# Create a list of the teams \n",
    "teamlist = list(gamelist['Team'].unique())"
   ]
  },
  {
   "cell_type": "code",
   "execution_count": 5,
   "metadata": {},
   "outputs": [],
   "source": [
    "# Create the opponent's game list data for use later \n",
    "opponent_game_list_data = gamelist.copy(deep=True)\n",
    "opponent_game_list_data.drop(['Opponent', 'Result', 'year', 'opponentName'], axis = 1, inplace = True)\n",
    "opponent_game_list_data.rename(columns={'Team':'opponentName'}, inplace = True)\n",
    "\n",
    "# Relabel the variables\n",
    "opponent_game_list_columns = ['opp_'+ x if x not in ['Date', 'opponentName']\n",
    "                              else x\n",
    "                              for x in list(opponent_game_list_data.columns) \n",
    "                             ]\n",
    "\n",
    "opponent_game_list_data.columns = opponent_game_list_columns"
   ]
  },
  {
   "cell_type": "code",
   "execution_count": 6,
   "metadata": {},
   "outputs": [],
   "source": [
    "gamelist = gamelist.merge(opponent_game_list_data, \n",
    "                          left_on = ['opponentName', 'Date'],\n",
    "                          right_on = ['opponentName', 'Date'], \n",
    "                          how = 'left'\n",
    "                         );"
   ]
  },
  {
   "cell_type": "markdown",
   "metadata": {},
   "source": [
    "# Target variables"
   ]
  },
  {
   "cell_type": "code",
   "execution_count": 7,
   "metadata": {},
   "outputs": [],
   "source": [
    "cols = list(gamestats.columns )\n",
    "target_variables = cols[cols.index('RushNetYards'):]\n",
    "target_variables.remove('def_Opponent')\n",
    "target_variables.remove('gamenumber')\n",
    "target_variables.remove('year')"
   ]
  },
  {
   "cell_type": "markdown",
   "metadata": {},
   "source": [
    "target_variables = [\"FG\",\"RushNetYards\",\"PassYards\",\"Interceptions\",\"Pct\", \"RZScores\",\n",
    "                    \"Punts\",\"FumblesLost\",\"Penalties\",\"Plays\",\"def_RushNetYards\",\"def_PassYards\",\n",
    "                    \"def_Interceptions\",\"def_Punts\", \"def_FF\",\"def_PenaltyYards\",\"def_PDef\",\"Sacks\",\"Tackles\",\n",
    "                    \"def_Plays\", \"TOP\"\n",
    "                   ]"
   ]
  },
  {
   "cell_type": "markdown",
   "metadata": {},
   "source": [
    "# Fill in game stats missing variables with zeros "
   ]
  },
  {
   "cell_type": "code",
   "execution_count": 8,
   "metadata": {},
   "outputs": [],
   "source": [
    "gamestats[target_variables] = gamestats[target_variables].fillna(value = 0, axis = 'columns')"
   ]
  },
  {
   "cell_type": "markdown",
   "metadata": {},
   "source": [
    "# Create opponent variable names"
   ]
  },
  {
   "cell_type": "code",
   "execution_count": 9,
   "metadata": {},
   "outputs": [],
   "source": [
    "# Create the opponent variable names \n",
    "opponent_variables = ['opp_' + x for x in target_variables]"
   ]
  },
  {
   "cell_type": "markdown",
   "metadata": {},
   "source": [
    "# Create dataset"
   ]
  },
  {
   "cell_type": "code",
   "execution_count": 10,
   "metadata": {},
   "outputs": [],
   "source": [
    "pd.set_option('display.max_columns', 1000)"
   ]
  },
  {
   "cell_type": "code",
   "execution_count": 11,
   "metadata": {},
   "outputs": [],
   "source": [
    "base_year_mask = ~((gamelist.year == 2013) & (gamelist['gamenumber'] == 1))"
   ]
  },
  {
   "cell_type": "code",
   "execution_count": 12,
   "metadata": {
    "scrolled": false
   },
   "outputs": [],
   "source": [
    "gamelist[target_variables] = gamelist[base_year_mask].apply(lambda x: previous_yrs(team = x['Team'], \n",
    "                                                                                   year = x['year'], \n",
    "                                                                                   game = x['gamenumber'], \n",
    "                                                                                   cols = target_variables, \n",
    "                                                                                   gamestats = gamestats,\n",
    "                                                                                   debug = False\n",
    "                                                                                  ), \n",
    "                                                            axis = 1\n",
    "                                                           )"
   ]
  },
  {
   "cell_type": "code",
   "execution_count": 13,
   "metadata": {},
   "outputs": [],
   "source": [
    "# Subset the datset to only the needed games \n",
    "games = gamelist[base_year_mask].copy()\n",
    "\n",
    "# Calculate the opponent game data \n",
    "games[opponent_variables] = gamelist.apply(lambda x: opponent_stats(team = x['Team'],\n",
    "                                           date = x['Date'], \n",
    "                                           year = x['year'], \n",
    "                                           cols = target_variables,\n",
    "                                           gamestats = gamestats,\n",
    "                                           debug = False\n",
    "                                          )\n",
    "                             if x['opponentName'] in teamlist\n",
    "                             else pd.Series([None for x in range(0, len(target_variables))]),\n",
    "                             axis = 1\n",
    "                            )"
   ]
  },
  {
   "cell_type": "markdown",
   "metadata": {},
   "source": [
    "# Game list file variables to include"
   ]
  },
  {
   "cell_type": "code",
   "execution_count": 14,
   "metadata": {},
   "outputs": [],
   "source": [
    "history = list(gamelist.loc[:, 'history_wins_1yrs':'history_WL_maxyrs'].columns)\n",
    "coach = list(gamelist.loc[:, 'Coach_wins':'Coach_years'].columns)\n",
    "opp_history = list(gamelist.loc[:, 'opp_gamenumber':'opp_history_WL_maxyrs'].columns)\n",
    "opp_coach = list(gamelist.loc[:, 'opp_Coach_wins':'RushNetYards'].columns)\n",
    "game_list_variables = target_variables + history + coach + opp_history + opp_coach"
   ]
  },
  {
   "cell_type": "code",
   "execution_count": 15,
   "metadata": {},
   "outputs": [],
   "source": [
    "final_variables = target_variables + game_list_variables"
   ]
  },
  {
   "cell_type": "markdown",
   "metadata": {},
   "source": [
    "# Create variables for analysis "
   ]
  },
  {
   "cell_type": "code",
   "execution_count": 40,
   "metadata": {},
   "outputs": [],
   "source": [
    "y = games[games.HomeAway == 1]['WinLoss'].values\n",
    "X = games[games.HomeAway == 1][final_variables].values\n",
    "\n",
    "X_train, X_test, y_train, y_test = train_test_split(X, y, test_size=0.33, random_state=42)"
   ]
  },
  {
   "cell_type": "markdown",
   "metadata": {},
   "source": [
    "# Run Grid Search on Random Forest Classifier"
   ]
  },
  {
   "cell_type": "code",
   "execution_count": 41,
   "metadata": {},
   "outputs": [],
   "source": [
    "imputer = Imputer()\n",
    "forest = RandomForestClassifier()\n",
    "rf_feature = RandomForestClassifier(n_estimators = 1000, min_samples_split = 20)\n",
    "feat_selection = SelectFromModel(rf_feature, threshold = .01) # Set a low threshhold to avoid failures "
   ]
  },
  {
   "cell_type": "code",
   "execution_count": 42,
   "metadata": {},
   "outputs": [],
   "source": [
    "pipe = Pipeline(steps=[('imputer', imputer),('fs', feat_selection), ('forest', forest)])"
   ]
  },
  {
   "cell_type": "code",
   "execution_count": 43,
   "metadata": {},
   "outputs": [],
   "source": [
    "random_grid_parameters = {  \n",
    "                            'forest__criterion': ['gini', 'entropy'], \n",
    "                            'forest__max_depth':[x for x in range (1,5,1)], \n",
    "                            'forest__n_estimators':[100, 250, 500, 750, 1000, 1250], \n",
    "                            'forest__n_jobs':[-1], \n",
    "                            'forest__random_state':[42], \n",
    "                            'forest__min_samples_split':[x for x in range (10,50,5)],\n",
    "                            'imputer__missing_values':['NaN'], \n",
    "                            'imputer__strategy':['mean'], \n",
    "                            'imputer__axis':[0], \n",
    "                           }"
   ]
  },
  {
   "cell_type": "code",
   "execution_count": 44,
   "metadata": {},
   "outputs": [
    {
     "data": {
      "text/plain": [
       "RandomizedSearchCV(cv=3, error_score='raise',\n",
       "          estimator=Pipeline(memory=None,\n",
       "     steps=[('imputer', Imputer(axis=0, copy=True, missing_values='NaN', strategy='mean', verbose=0)), ('fs', SelectFromModel(estimator=RandomForestClassifier(bootstrap=True, class_weight=None, criterion='gini',\n",
       "            max_depth=None, max_features='auto', max_leaf_nodes=None,\n",
       "            min_impurit...n_jobs=1,\n",
       "            oob_score=False, random_state=None, verbose=0,\n",
       "            warm_start=False))]),\n",
       "          fit_params=None, iid=True, n_iter=10, n_jobs=1,\n",
       "          param_distributions={'forest__criterion': ['gini', 'entropy'], 'forest__max_depth': [1, 2, 3, 4], 'forest__n_estimators': [100, 250, 500, 750, 1000, 1250], 'forest__n_jobs': [-1], 'forest__random_state': [42], 'forest__min_samples_split': [10, 15, 20, 25, 30, 35, 40, 45], 'imputer__missing_values': ['NaN'], 'imputer__strategy': ['mean'], 'imputer__axis': [0]},\n",
       "          pre_dispatch='2*n_jobs', random_state=None, refit=True,\n",
       "          return_train_score='warn', scoring=None, verbose=0)"
      ]
     },
     "execution_count": 44,
     "metadata": {},
     "output_type": "execute_result"
    }
   ],
   "source": [
    "grid = RandomizedSearchCV(pipe, random_grid_parameters, cv=3)\n",
    "grid.fit(X_train, y_train)"
   ]
  },
  {
   "cell_type": "markdown",
   "metadata": {},
   "source": [
    "# Model Results"
   ]
  },
  {
   "cell_type": "code",
   "execution_count": 45,
   "metadata": {},
   "outputs": [
    {
     "name": "stdout",
     "output_type": "stream",
     "text": [
      "Accuracy: 0.96\n",
      "Best Parameters:\t\n",
      "{'forest__criterion': 'gini',\n",
      " 'forest__max_depth': 4,\n",
      " 'forest__min_samples_split': 15,\n",
      " 'forest__n_estimators': 500,\n",
      " 'forest__n_jobs': -1,\n",
      " 'forest__random_state': 42,\n",
      " 'imputer__axis': 0,\n",
      " 'imputer__missing_values': 'NaN',\n",
      " 'imputer__strategy': 'mean'}\n"
     ]
    }
   ],
   "source": [
    "tree_model = grid.best_estimator_\n",
    "print(\"Accuracy: {:0.2f}\".format(grid.best_score_) )\n",
    "import pprint\n",
    "print(\"Best Parameters:\\t\") \n",
    "pprint.pprint(grid.best_params_) "
   ]
  },
  {
   "cell_type": "markdown",
   "metadata": {},
   "source": [
    "# Feature Importance"
   ]
  },
  {
   "cell_type": "code",
   "execution_count": 46,
   "metadata": {},
   "outputs": [],
   "source": [
    "feature_importance = grid.best_estimator_.named_steps['forest'].feature_importances_\n",
    "x = list(zip(final_variables, feature_importance))\n",
    "importance = pd.DataFrame(x, columns=['var', 'importance'])"
   ]
  },
  {
   "cell_type": "code",
   "execution_count": 47,
   "metadata": {
    "scrolled": false
   },
   "outputs": [
    {
     "data": {
      "text/html": [
       "<div>\n",
       "<style scoped>\n",
       "    .dataframe tbody tr th:only-of-type {\n",
       "        vertical-align: middle;\n",
       "    }\n",
       "\n",
       "    .dataframe tbody tr th {\n",
       "        vertical-align: top;\n",
       "    }\n",
       "\n",
       "    .dataframe thead th {\n",
       "        text-align: right;\n",
       "    }\n",
       "</style>\n",
       "<table border=\"1\" class=\"dataframe\">\n",
       "  <thead>\n",
       "    <tr style=\"text-align: right;\">\n",
       "      <th></th>\n",
       "      <th>var</th>\n",
       "      <th>importance</th>\n",
       "    </tr>\n",
       "  </thead>\n",
       "  <tbody>\n",
       "    <tr>\n",
       "      <th>14</th>\n",
       "      <td>FGM</td>\n",
       "      <td>0.563465</td>\n",
       "    </tr>\n",
       "    <tr>\n",
       "      <th>10</th>\n",
       "      <td>Blkd</td>\n",
       "      <td>0.064909</td>\n",
       "    </tr>\n",
       "    <tr>\n",
       "      <th>8</th>\n",
       "      <td>FumblesRecovered</td>\n",
       "      <td>0.051751</td>\n",
       "    </tr>\n",
       "    <tr>\n",
       "      <th>9</th>\n",
       "      <td>Int</td>\n",
       "      <td>0.038734</td>\n",
       "    </tr>\n",
       "    <tr>\n",
       "      <th>3</th>\n",
       "      <td>PuntRetYds</td>\n",
       "      <td>0.033455</td>\n",
       "    </tr>\n",
       "    <tr>\n",
       "      <th>4</th>\n",
       "      <td>FRetYds</td>\n",
       "      <td>0.032100</td>\n",
       "    </tr>\n",
       "    <tr>\n",
       "      <th>7</th>\n",
       "      <td>All-PurposeYardsG</td>\n",
       "      <td>0.031310</td>\n",
       "    </tr>\n",
       "    <tr>\n",
       "      <th>0</th>\n",
       "      <td>RushNetYards</td>\n",
       "      <td>0.029460</td>\n",
       "    </tr>\n",
       "    <tr>\n",
       "      <th>5</th>\n",
       "      <td>KORetYds</td>\n",
       "      <td>0.028771</td>\n",
       "    </tr>\n",
       "    <tr>\n",
       "      <th>1</th>\n",
       "      <td>ReceivingYards</td>\n",
       "      <td>0.028521</td>\n",
       "    </tr>\n",
       "    <tr>\n",
       "      <th>2</th>\n",
       "      <td>IntRYds</td>\n",
       "      <td>0.026462</td>\n",
       "    </tr>\n",
       "    <tr>\n",
       "      <th>13</th>\n",
       "      <td>FRetTD</td>\n",
       "      <td>0.023121</td>\n",
       "    </tr>\n",
       "    <tr>\n",
       "      <th>6</th>\n",
       "      <td>APY</td>\n",
       "      <td>0.023000</td>\n",
       "    </tr>\n",
       "    <tr>\n",
       "      <th>11</th>\n",
       "      <td>FF</td>\n",
       "      <td>0.014007</td>\n",
       "    </tr>\n",
       "    <tr>\n",
       "      <th>12</th>\n",
       "      <td>FRet</td>\n",
       "      <td>0.010935</td>\n",
       "    </tr>\n",
       "  </tbody>\n",
       "</table>\n",
       "</div>"
      ],
      "text/plain": [
       "                  var  importance\n",
       "14                FGM    0.563465\n",
       "10               Blkd    0.064909\n",
       "8    FumblesRecovered    0.051751\n",
       "9                 Int    0.038734\n",
       "3          PuntRetYds    0.033455\n",
       "4             FRetYds    0.032100\n",
       "7   All-PurposeYardsG    0.031310\n",
       "0        RushNetYards    0.029460\n",
       "5            KORetYds    0.028771\n",
       "1      ReceivingYards    0.028521\n",
       "2             IntRYds    0.026462\n",
       "13             FRetTD    0.023121\n",
       "6                 APY    0.023000\n",
       "11                 FF    0.014007\n",
       "12               FRet    0.010935"
      ]
     },
     "execution_count": 47,
     "metadata": {},
     "output_type": "execute_result"
    }
   ],
   "source": [
    "# Print the importance values \n",
    "importance.sort_values('importance', ascending = False)"
   ]
  },
  {
   "cell_type": "markdown",
   "metadata": {},
   "source": [
    "# Test score"
   ]
  },
  {
   "cell_type": "code",
   "execution_count": 48,
   "metadata": {},
   "outputs": [
    {
     "name": "stdout",
     "output_type": "stream",
     "text": [
      "Test score: 0.97\n"
     ]
    }
   ],
   "source": [
    "print('Test score: {:0.2f}'.format(grid.score(X_test, y_test)))"
   ]
  },
  {
   "cell_type": "markdown",
   "metadata": {},
   "source": [
    "# Predict Test "
   ]
  },
  {
   "cell_type": "code",
   "execution_count": 49,
   "metadata": {},
   "outputs": [],
   "source": [
    "y_pred = grid.predict(X_test)"
   ]
  },
  {
   "cell_type": "markdown",
   "metadata": {},
   "source": [
    "# Plot the ROC Curve"
   ]
  },
  {
   "cell_type": "code",
   "execution_count": 50,
   "metadata": {
    "scrolled": true
   },
   "outputs": [
    {
     "data": {
      "image/png": "[encoded data removed]",
      "text/plain": [
       "<matplotlib.figure.Figure at 0x7f1afbc4a2b0>"
      ]
     },
     "metadata": {},
     "output_type": "display_data"
    }
   ],
   "source": [
    "# Set seaborn style \n",
    "sns.set_style(\"darkgrid\")\n",
    "\n",
    "y_pred_proba = grid.predict_proba(X_test)[::,1]\n",
    "fpr, tpr, _ = roc_curve(y_test,  y_pred_proba)\n",
    "auc = roc_auc_score(y_test, y_pred_proba)\n",
    "plt.plot(fpr,tpr,label=\"AUC\" + \" {:0.2f}\".format(auc))\n",
    "plt.xlabel('False positive rate')\n",
    "plt.ylabel('True positive rate')\n",
    "plt.title(\"ROC Curve\")\n",
    "plt.legend(loc=4);\n"
   ]
  },
  {
   "cell_type": "markdown",
   "metadata": {},
   "source": [
    "# Classification Report"
   ]
  },
  {
   "cell_type": "code",
   "execution_count": 51,
   "metadata": {},
   "outputs": [
    {
     "name": "stdout",
     "output_type": "stream",
     "text": [
      "             precision    recall  f1-score   support\n",
      "\n",
      "          0       1.00      0.92      0.96       381\n",
      "          1       0.95      1.00      0.98       614\n",
      "\n",
      "avg / total       0.97      0.97      0.97       995\n",
      "\n"
     ]
    }
   ],
   "source": [
    "print(classification_report(y_test, y_pred))\n"
   ]
  },
  {
   "cell_type": "code",
   "execution_count": 53,
   "metadata": {},
   "outputs": [],
   "source": [
    "grid.cv_results_;"
   ]
  },
  {
   "cell_type": "code",
   "execution_count": null,
   "metadata": {},
   "outputs": [],
   "source": []
  }
 ],
 "metadata": {
  "kernelspec": {
   "display_name": "Python 3",
   "language": "python",
   "name": "python3"
  },
  "language_info": {
   "codemirror_mode": {
    "name": "ipython",
    "version": 3
   },
   "file_extension": ".py",
   "mimetype": "text/x-python",
   "name": "python",
   "nbconvert_exporter": "python",
   "pygments_lexer": "ipython3",
   "version": "3.6.1"
  }
 },
 "nbformat": 4,
 "nbformat_minor": 2
}
