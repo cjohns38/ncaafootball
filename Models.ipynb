{
 "cells": [
  {
   "cell_type": "code",
   "execution_count": 1,
   "metadata": {},
   "outputs": [],
   "source": [
    "import zipfile, os\n",
    "import pandas as pd\n",
    "import sklearn as sk\n",
    "import matplotlib.pyplot as plt\n",
    "import seaborn as sns\n",
    "\n",
    "from sklearn.model_selection import train_test_split\n",
    "from sklearn.ensemble import RandomForestClassifier\n",
    "from sklearn.preprocessing import Imputer\n",
    "from sklearn.model_selection import GridSearchCV, RandomizedSearchCV\n",
    "from sklearn.feature_selection import SelectFromModel\n",
    "from sklearn.pipeline import Pipeline\n",
    "from sklearn.metrics import roc_curve, roc_auc_score, classification_report\n",
    "from functions.functions import previous_yrs, opponent_stats\n",
    "\n",
    "% matplotlib inline"
   ]
  },
  {
   "cell_type": "markdown",
   "metadata": {},
   "source": [
    "# Read in files"
   ]
  },
  {
   "cell_type": "code",
   "execution_count": 2,
   "metadata": {},
   "outputs": [],
   "source": [
    "_file = os.path.join('Data', 'finalgamedata.zip')\n",
    "zf = zipfile.ZipFile(_file)\n",
    "gamestats = pd.read_csv(zf.open('gamestats.csv'))\n",
    "gamelist = pd.read_csv(zf.open('gameslist.csv'))\n",
    "gamelist['opponentName'] = gamelist['opponentName'].str.replace(\"  \", \" \")"
   ]
  },
  {
   "cell_type": "code",
   "execution_count": 3,
   "metadata": {},
   "outputs": [],
   "source": [
    "# Fix time of possession \n",
    "gamestats.TOP = pd.to_timedelta(gamestats.TOP).astype('timedelta64[s]')\n",
    "gamestats.def_TOP = pd.to_timedelta(gamestats.def_TOP).astype('timedelta64[s]')"
   ]
  },
  {
   "cell_type": "code",
   "execution_count": 4,
   "metadata": {},
   "outputs": [],
   "source": [
    "# Create a list of the teams \n",
    "teamlist = list(gamelist['Team'].unique())"
   ]
  },
  {
   "cell_type": "code",
   "execution_count": 5,
   "metadata": {},
   "outputs": [],
   "source": [
    "# Create the opponent's game list data for use later \n",
    "opponent_game_list_data = gamelist.copy(deep=True)\n",
    "opponent_game_list_data.drop(['Opponent', 'Result', 'year', 'opponentName'], axis = 1, inplace = True)\n",
    "opponent_game_list_data.rename(columns={'Team':'opponentName'}, inplace = True)\n",
    "\n",
    "# Relabel the variables\n",
    "opponent_game_list_columns = ['opp_'+ x if x not in ['Date', 'opponentName']\n",
    "                              else x\n",
    "                              for x in list(opponent_game_list_data.columns) \n",
    "                             ]\n",
    "\n",
    "opponent_game_list_data.columns = opponent_game_list_columns"
   ]
  },
  {
   "cell_type": "code",
   "execution_count": 6,
   "metadata": {},
   "outputs": [],
   "source": [
    "gamelist = gamelist.merge(opponent_game_list_data, \n",
    "                          left_on = ['opponentName', 'Date'],\n",
    "                          right_on = ['opponentName', 'Date'], \n",
    "                          how = 'left'\n",
    "                         );"
   ]
  },
  {
   "cell_type": "markdown",
   "metadata": {},
   "source": [
    "# Target variables"
   ]
  },
  {
   "cell_type": "code",
   "execution_count": 15,
   "metadata": {},
   "outputs": [],
   "source": [
    "cols = list(gamestats.columns )\n",
    "target_variables = cols[cols.index('RushNetYards'):]\n",
    "target_variables.remove('def_Opponent')\n",
    "gamestats[target_variables] = gamestats[target_variables].fillna(value = 0, axis = 'columns')"
   ]
  },
  {
   "cell_type": "markdown",
   "metadata": {},
   "source": [
    "target_variables = [\"FG\",\"RushNetYards\",\"PassYards\",\"Interceptions\",\"Pct\", \"RZScores\",\n",
    "                    \"Punts\",\"FumblesLost\",\"Penalties\",\"Plays\",\"def_RushNetYards\",\"def_PassYards\",\n",
    "                    \"def_Interceptions\",\"def_Punts\", \"def_FF\",\"def_PenaltyYards\",\"def_PDef\",\"Sacks\",\"Tackles\",\n",
    "                    \"def_Plays\", \"TOP\"\n",
    "                   ]"
   ]
  },
  {
   "cell_type": "markdown",
   "metadata": {},
   "source": [
    "# Create opponent variable names"
   ]
  },
  {
   "cell_type": "code",
   "execution_count": 18,
   "metadata": {},
   "outputs": [],
   "source": [
    "# Create the opponent variable names \n",
    "opponent_variables = ['opp_' + x for x in target_variables]"
   ]
  },
  {
   "cell_type": "markdown",
   "metadata": {},
   "source": [
    "# Create dataset"
   ]
  },
  {
   "cell_type": "code",
   "execution_count": 19,
   "metadata": {},
   "outputs": [],
   "source": [
    "base_year_mask = ~((gamelist.year == 2013) & (gamelist['gamenumber'] == 1))"
   ]
  },
  {
   "cell_type": "code",
   "execution_count": 20,
   "metadata": {
    "scrolled": false
   },
   "outputs": [
    {
     "name": "stderr",
     "output_type": "stream",
     "text": [
      "/home/craig/Documents/Springboard/ncaafootball/functions/functions.py:149: UserWarning: DataFrame columns are not unique, some columns will be omitted.\n",
      "  mean = pd.concat(out).mean().to_frame().T.to_dict(orient='record')[0]\n"
     ]
    }
   ],
   "source": [
    "gamelist[target_variables] = gamelist[base_year_mask].apply(lambda x: previous_yrs(team = x['Team'], \n",
    "                                                                                   year = x['year'], \n",
    "                                                                                   game = x['gamenumber'], \n",
    "                                                                                   cols = target_variables, \n",
    "                                                                                   gamestats = gamestats,\n",
    "                                                                                   debug = False\n",
    "                                                                                  ), \n",
    "                                                            axis = 1\n",
    "                                                           )"
   ]
  },
  {
   "cell_type": "code",
   "execution_count": 21,
   "metadata": {},
   "outputs": [
    {
     "name": "stderr",
     "output_type": "stream",
     "text": [
      "/home/craig/Documents/Springboard/ncaafootball/functions/functions.py:149: UserWarning: DataFrame columns are not unique, some columns will be omitted.\n",
      "  mean = pd.concat(out).mean().to_frame().T.to_dict(orient='record')[0]\n"
     ]
    }
   ],
   "source": [
    "# Subset the datset to only the needed games \n",
    "games = gamelist[base_year_mask].copy()\n",
    "\n",
    "# Calculate the opponent game data \n",
    "games[opponent_variables] = gamelist.apply(lambda x: opponent_stats(team = x['Team'],\n",
    "                                           date = x['Date'], \n",
    "                                           year = x['year'], \n",
    "                                           cols = target_variables,\n",
    "                                           gamestats = gamestats,\n",
    "                                           debug = False\n",
    "                                          )\n",
    "                             if x['opponentName'] in teamlist\n",
    "                             else pd.Series([None for x in range(0, len(target_variables))]),\n",
    "                             axis = 1\n",
    "                            )"
   ]
  },
  {
   "cell_type": "markdown",
   "metadata": {},
   "source": [
    "# Game list file variables to include"
   ]
  },
  {
   "cell_type": "code",
   "execution_count": 22,
   "metadata": {},
   "outputs": [],
   "source": [
    "game_list_variables = ['gamenumber', 'Coach_years', 'Coach_wins', 'HomeAway', 'history_WL_1yrs']\n",
    "game_list_variables = game_list_variables + ['opp_' + x for x in game_list_variables]"
   ]
  },
  {
   "cell_type": "code",
   "execution_count": 23,
   "metadata": {},
   "outputs": [],
   "source": [
    "final_variables = target_variables + opponent_variables + game_list_variables"
   ]
  },
  {
   "cell_type": "code",
   "execution_count": 24,
   "metadata": {},
   "outputs": [],
   "source": [
    "games[final_variables];"
   ]
  },
  {
   "cell_type": "markdown",
   "metadata": {},
   "source": [
    "# Count the number of missing variables"
   ]
  },
  {
   "cell_type": "code",
   "execution_count": 25,
   "metadata": {
    "scrolled": true
   },
   "outputs": [],
   "source": [
    "games['missing'] = games[final_variables].isnull().sum(axis=1)"
   ]
  },
  {
   "cell_type": "code",
   "execution_count": 26,
   "metadata": {},
   "outputs": [],
   "source": [
    "games[final_variables];"
   ]
  },
  {
   "cell_type": "markdown",
   "metadata": {},
   "source": [
    "# Create variables for analysis "
   ]
  },
  {
   "cell_type": "code",
   "execution_count": 27,
   "metadata": {},
   "outputs": [],
   "source": [
    "y = games[games['missing'] == 0]['WinLoss'].values\n",
    "X = games[games['missing'] == 0][final_variables].values"
   ]
  },
  {
   "cell_type": "markdown",
   "metadata": {},
   "source": [
    "# Run single Random Forest Classifier"
   ]
  },
  {
   "cell_type": "code",
   "execution_count": 28,
   "metadata": {},
   "outputs": [],
   "source": [
    "# Create the train test split \n",
    "X_train, X_test, y_train, y_test = train_test_split(X, y, test_size=0.33, random_state=42)"
   ]
  },
  {
   "cell_type": "code",
   "execution_count": 29,
   "metadata": {},
   "outputs": [
    {
     "data": {
      "text/plain": [
       "RandomForestClassifier(bootstrap=True, class_weight=None, criterion='gini',\n",
       "            max_depth=None, max_features='auto', max_leaf_nodes=None,\n",
       "            min_impurity_decrease=0.0, min_impurity_split=None,\n",
       "            min_samples_leaf=1, min_samples_split=2,\n",
       "            min_weight_fraction_leaf=0.0, n_estimators=10, n_jobs=1,\n",
       "            oob_score=False, random_state=42, verbose=0, warm_start=False)"
      ]
     },
     "execution_count": 29,
     "metadata": {},
     "output_type": "execute_result"
    }
   ],
   "source": [
    "# Create and fit the DT Classifier \n",
    "dt = RandomForestClassifier(random_state = 42)\n",
    "dt.fit(X= X_train, y=y_train)"
   ]
  },
  {
   "cell_type": "code",
   "execution_count": 30,
   "metadata": {
    "scrolled": true
   },
   "outputs": [
    {
     "name": "stdout",
     "output_type": "stream",
     "text": [
      "Accuracy:\t 0.988253968254\n",
      "Accuracy:\t 0.69587628866\n"
     ]
    }
   ],
   "source": [
    "print(\"Accuracy:\\t\", (y_train == dt.predict(X_train)).mean())\n",
    "print(\"Accuracy:\\t\", (y_test == dt.predict(X_test)).mean())"
   ]
  },
  {
   "cell_type": "markdown",
   "metadata": {},
   "source": [
    "# Run Grid Search on Random Forest Classifier"
   ]
  },
  {
   "cell_type": "code",
   "execution_count": 66,
   "metadata": {},
   "outputs": [],
   "source": [
    "imputer = Imputer()\n",
    "forest = RandomForestClassifier()\n",
    "rf_feature = RandomForestClassifier(1000)\n",
    "feat_selection = SelectFromModel(rf_feature, threshold = .01) # Set a low threshhold to avoid failures "
   ]
  },
  {
   "cell_type": "code",
   "execution_count": 67,
   "metadata": {},
   "outputs": [],
   "source": [
    "pipe = Pipeline(steps=[('imputer', imputer),('fs', feat_selection), ('forest', forest)])"
   ]
  },
  {
   "cell_type": "code",
   "execution_count": 42,
   "metadata": {},
   "outputs": [],
   "source": [
    "random_grid_parameters = {  \n",
    "                            'forest__criterion': ['gini', 'entropy'], \n",
    "                            'forest__max_depth':[1,5], \n",
    "                            'forest__n_estimators':[100, 1250], \n",
    "                            'forest__n_jobs':[-1], \n",
    "                            'forest__random_state':[42], \n",
    "                            'forest__min_samples_split':[5, 10],\n",
    "                            'imputer__missing_values':['NaN'], \n",
    "                            'imputer__strategy':['mean'], \n",
    "                            'imputer__axis':[0], \n",
    "                           }"
   ]
  },
  {
   "cell_type": "code",
   "execution_count": 43,
   "metadata": {},
   "outputs": [
    {
     "data": {
      "text/plain": [
       "RandomizedSearchCV(cv=5, error_score='raise',\n",
       "          estimator=Pipeline(memory=None,\n",
       "     steps=[('imputer', Imputer(axis=0, copy=True, missing_values='NaN', strategy='mean', verbose=0)), ('fs', SelectFromModel(estimator=RandomForestClassifier(bootstrap=True, class_weight=None, criterion='gini',\n",
       "            max_depth=None, max_features='auto', max_leaf_nodes=None,\n",
       "            min_impurit...n_jobs=1,\n",
       "            oob_score=False, random_state=None, verbose=0,\n",
       "            warm_start=False))]),\n",
       "          fit_params=None, iid=True, n_iter=10, n_jobs=1,\n",
       "          param_distributions={'forest__criterion': ['gini', 'entropy'], 'forest__max_depth': [1, 5], 'forest__n_estimators': [100, 1250], 'forest__n_jobs': [-1], 'forest__random_state': [42], 'forest__min_samples_split': [5, 10], 'imputer__missing_values': ['NaN'], 'imputer__strategy': ['mean'], 'imputer__axis': [0]},\n",
       "          pre_dispatch='2*n_jobs', random_state=None, refit=True,\n",
       "          return_train_score='warn', scoring=None, verbose=0)"
      ]
     },
     "execution_count": 43,
     "metadata": {},
     "output_type": "execute_result"
    }
   ],
   "source": [
    "grid = RandomizedSearchCV(pipe, random_grid_parameters, cv=5)\n",
    "grid.fit(X_train, y_train)"
   ]
  },
  {
   "cell_type": "markdown",
   "metadata": {},
   "source": [
    "# Model Results"
   ]
  },
  {
   "cell_type": "code",
   "execution_count": 82,
   "metadata": {},
   "outputs": [
    {
     "name": "stdout",
     "output_type": "stream",
     "text": [
      "Accuracy: 0.76\n",
      "Best Parameters:\t\n",
      "{'forest__criterion': 'gini',\n",
      " 'forest__max_depth': 5,\n",
      " 'forest__min_samples_split': 10,\n",
      " 'forest__n_estimators': 100,\n",
      " 'forest__n_jobs': -1,\n",
      " 'forest__random_state': 42,\n",
      " 'imputer__axis': 0,\n",
      " 'imputer__missing_values': 'NaN',\n",
      " 'imputer__strategy': 'mean'}\n"
     ]
    }
   ],
   "source": [
    "tree_model = grid.best_estimator_\n",
    "print(\"Accuracy: {:0.2f}\".format(grid.best_score_) )\n",
    "import pprint\n",
    "print(\"Best Parameters:\\t\") \n",
    "pprint.pprint(grid.best_params_) "
   ]
  },
  {
   "cell_type": "markdown",
   "metadata": {},
   "source": [
    "# Feature Importance"
   ]
  },
  {
   "cell_type": "code",
   "execution_count": 83,
   "metadata": {},
   "outputs": [],
   "source": [
    "feature_importance = grid.best_estimator_.named_steps['forest'].feature_importances_\n",
    "x = list(zip(final_variables, feature_importance))\n",
    "importance = pd.DataFrame(x, columns=['var', 'importance'])"
   ]
  },
  {
   "cell_type": "code",
   "execution_count": 84,
   "metadata": {
    "scrolled": false
   },
   "outputs": [
    {
     "data": {
      "text/html": [
       "<div>\n",
       "<style scoped>\n",
       "    .dataframe tbody tr th:only-of-type {\n",
       "        vertical-align: middle;\n",
       "    }\n",
       "\n",
       "    .dataframe tbody tr th {\n",
       "        vertical-align: top;\n",
       "    }\n",
       "\n",
       "    .dataframe thead th {\n",
       "        text-align: right;\n",
       "    }\n",
       "</style>\n",
       "<table border=\"1\" class=\"dataframe\">\n",
       "  <thead>\n",
       "    <tr style=\"text-align: right;\">\n",
       "      <th></th>\n",
       "      <th>var</th>\n",
       "      <th>importance</th>\n",
       "    </tr>\n",
       "  </thead>\n",
       "  <tbody>\n",
       "    <tr>\n",
       "      <th>31</th>\n",
       "      <td>PassEff</td>\n",
       "      <td>0.215476</td>\n",
       "    </tr>\n",
       "    <tr>\n",
       "      <th>29</th>\n",
       "      <td>PassYards</td>\n",
       "      <td>0.087531</td>\n",
       "    </tr>\n",
       "    <tr>\n",
       "      <th>30</th>\n",
       "      <td>PassTDs</td>\n",
       "      <td>0.077477</td>\n",
       "    </tr>\n",
       "    <tr>\n",
       "      <th>7</th>\n",
       "      <td>All-PurposeYardsG</td>\n",
       "      <td>0.044549</td>\n",
       "    </tr>\n",
       "    <tr>\n",
       "      <th>0</th>\n",
       "      <td>RushNetYards</td>\n",
       "      <td>0.041194</td>\n",
       "    </tr>\n",
       "    <tr>\n",
       "      <th>21</th>\n",
       "      <td>KORet</td>\n",
       "      <td>0.040868</td>\n",
       "    </tr>\n",
       "    <tr>\n",
       "      <th>15</th>\n",
       "      <td>FGA</td>\n",
       "      <td>0.038691</td>\n",
       "    </tr>\n",
       "    <tr>\n",
       "      <th>14</th>\n",
       "      <td>FGM</td>\n",
       "      <td>0.031693</td>\n",
       "    </tr>\n",
       "    <tr>\n",
       "      <th>5</th>\n",
       "      <td>KORetYds</td>\n",
       "      <td>0.030635</td>\n",
       "    </tr>\n",
       "    <tr>\n",
       "      <th>18</th>\n",
       "      <td>KO</td>\n",
       "      <td>0.030223</td>\n",
       "    </tr>\n",
       "    <tr>\n",
       "      <th>19</th>\n",
       "      <td>KOYds</td>\n",
       "      <td>0.029149</td>\n",
       "    </tr>\n",
       "    <tr>\n",
       "      <th>9</th>\n",
       "      <td>Int</td>\n",
       "      <td>0.028784</td>\n",
       "    </tr>\n",
       "    <tr>\n",
       "      <th>6</th>\n",
       "      <td>APY</td>\n",
       "      <td>0.028688</td>\n",
       "    </tr>\n",
       "    <tr>\n",
       "      <th>28</th>\n",
       "      <td>Interceptions</td>\n",
       "      <td>0.023762</td>\n",
       "    </tr>\n",
       "    <tr>\n",
       "      <th>23</th>\n",
       "      <td>PBU</td>\n",
       "      <td>0.022674</td>\n",
       "    </tr>\n",
       "    <tr>\n",
       "      <th>4</th>\n",
       "      <td>FRetYds</td>\n",
       "      <td>0.021008</td>\n",
       "    </tr>\n",
       "    <tr>\n",
       "      <th>27</th>\n",
       "      <td>Completions</td>\n",
       "      <td>0.020311</td>\n",
       "    </tr>\n",
       "    <tr>\n",
       "      <th>16</th>\n",
       "      <td>FGBlocksAllowed</td>\n",
       "      <td>0.018252</td>\n",
       "    </tr>\n",
       "    <tr>\n",
       "      <th>25</th>\n",
       "      <td>PDef</td>\n",
       "      <td>0.017588</td>\n",
       "    </tr>\n",
       "    <tr>\n",
       "      <th>26</th>\n",
       "      <td>PassAttempts</td>\n",
       "      <td>0.017297</td>\n",
       "    </tr>\n",
       "    <tr>\n",
       "      <th>12</th>\n",
       "      <td>FRet</td>\n",
       "      <td>0.016480</td>\n",
       "    </tr>\n",
       "    <tr>\n",
       "      <th>1</th>\n",
       "      <td>ReceivingYards</td>\n",
       "      <td>0.014975</td>\n",
       "    </tr>\n",
       "    <tr>\n",
       "      <th>20</th>\n",
       "      <td>KOTB</td>\n",
       "      <td>0.013117</td>\n",
       "    </tr>\n",
       "    <tr>\n",
       "      <th>22</th>\n",
       "      <td>KickRetTDs</td>\n",
       "      <td>0.012976</td>\n",
       "    </tr>\n",
       "    <tr>\n",
       "      <th>11</th>\n",
       "      <td>FF</td>\n",
       "      <td>0.012602</td>\n",
       "    </tr>\n",
       "    <tr>\n",
       "      <th>8</th>\n",
       "      <td>FumblesRecovered</td>\n",
       "      <td>0.011802</td>\n",
       "    </tr>\n",
       "    <tr>\n",
       "      <th>10</th>\n",
       "      <td>Blkd</td>\n",
       "      <td>0.011258</td>\n",
       "    </tr>\n",
       "    <tr>\n",
       "      <th>13</th>\n",
       "      <td>FRetTD</td>\n",
       "      <td>0.009814</td>\n",
       "    </tr>\n",
       "    <tr>\n",
       "      <th>24</th>\n",
       "      <td>IntRetTDs</td>\n",
       "      <td>0.008879</td>\n",
       "    </tr>\n",
       "    <tr>\n",
       "      <th>3</th>\n",
       "      <td>PuntRetYds</td>\n",
       "      <td>0.007752</td>\n",
       "    </tr>\n",
       "    <tr>\n",
       "      <th>2</th>\n",
       "      <td>IntRYds</td>\n",
       "      <td>0.007729</td>\n",
       "    </tr>\n",
       "    <tr>\n",
       "      <th>17</th>\n",
       "      <td>LongFGM</td>\n",
       "      <td>0.006765</td>\n",
       "    </tr>\n",
       "  </tbody>\n",
       "</table>\n",
       "</div>"
      ],
      "text/plain": [
       "                  var  importance\n",
       "31            PassEff    0.215476\n",
       "29          PassYards    0.087531\n",
       "30            PassTDs    0.077477\n",
       "7   All-PurposeYardsG    0.044549\n",
       "0        RushNetYards    0.041194\n",
       "21              KORet    0.040868\n",
       "15                FGA    0.038691\n",
       "14                FGM    0.031693\n",
       "5            KORetYds    0.030635\n",
       "18                 KO    0.030223\n",
       "19              KOYds    0.029149\n",
       "9                 Int    0.028784\n",
       "6                 APY    0.028688\n",
       "28      Interceptions    0.023762\n",
       "23                PBU    0.022674\n",
       "4             FRetYds    0.021008\n",
       "27        Completions    0.020311\n",
       "16    FGBlocksAllowed    0.018252\n",
       "25               PDef    0.017588\n",
       "26       PassAttempts    0.017297\n",
       "12               FRet    0.016480\n",
       "1      ReceivingYards    0.014975\n",
       "20               KOTB    0.013117\n",
       "22         KickRetTDs    0.012976\n",
       "11                 FF    0.012602\n",
       "8    FumblesRecovered    0.011802\n",
       "10               Blkd    0.011258\n",
       "13             FRetTD    0.009814\n",
       "24          IntRetTDs    0.008879\n",
       "3          PuntRetYds    0.007752\n",
       "2             IntRYds    0.007729\n",
       "17            LongFGM    0.006765"
      ]
     },
     "execution_count": 84,
     "metadata": {},
     "output_type": "execute_result"
    }
   ],
   "source": [
    "# Print the importance values \n",
    "importance.sort_values('importance', ascending = False)"
   ]
  },
  {
   "cell_type": "markdown",
   "metadata": {},
   "source": [
    "# Test score"
   ]
  },
  {
   "cell_type": "code",
   "execution_count": 81,
   "metadata": {},
   "outputs": [
    {
     "name": "stdout",
     "output_type": "stream",
     "text": [
      "Test score: 0.75\n"
     ]
    }
   ],
   "source": [
    "print('Test score: {:0.2f}'.format(grid.score(X_test, y_test)))"
   ]
  },
  {
   "cell_type": "markdown",
   "metadata": {},
   "source": [
    "# Plot the ROC Curve"
   ]
  },
  {
   "cell_type": "code",
   "execution_count": 102,
   "metadata": {
    "scrolled": true
   },
   "outputs": [
    {
     "data": {
      "image/png": "[encoded data removed]",
      "text/plain": [
       "<matplotlib.figure.Figure at 0x7fda35b47080>"
      ]
     },
     "metadata": {},
     "output_type": "display_data"
    }
   ],
   "source": [
    "# Set seaborn style \n",
    "sns.set_style(\"darkgrid\")\n",
    "\n",
    "y_pred_proba = grid.predict_proba(X_test)[::,1]\n",
    "fpr, tpr, _ = roc_curve(y_test,  y_pred_proba)\n",
    "auc = roc_auc_score(y_test, y_pred_proba)\n",
    "plt.plot(fpr,tpr,label=\"AUC\" + \" {:0.2f}\".format(auc))\n",
    "plt.xlabel('False positive rate')\n",
    "plt.ylabel('True positive rate')\n",
    "plt.title(\"ROC Curve\")\n",
    "plt.legend(loc=4);\n"
   ]
  },
  {
   "cell_type": "markdown",
   "metadata": {},
   "source": [
    "# Classification Report"
   ]
  },
  {
   "cell_type": "code",
   "execution_count": 107,
   "metadata": {},
   "outputs": [
    {
     "name": "stdout",
     "output_type": "stream",
     "text": [
      "             precision    recall  f1-score   support\n",
      "\n",
      "          0       0.76      0.75      0.75       790\n",
      "          1       0.74      0.75      0.75       762\n",
      "\n",
      "avg / total       0.75      0.75      0.75      1552\n",
      "\n"
     ]
    }
   ],
   "source": [
    "y_pred = grid.predict(X_test)\n",
    "print(classification_report(y_test, y_pred))\n"
   ]
  },
  {
   "cell_type": "code",
   "execution_count": null,
   "metadata": {},
   "outputs": [],
   "source": []
  }
 ],
 "metadata": {
  "kernelspec": {
   "display_name": "Python 3",
   "language": "python",
   "name": "python3"
  },
  "language_info": {
   "codemirror_mode": {
    "name": "ipython",
    "version": 3
   },
   "file_extension": ".py",
   "mimetype": "text/x-python",
   "name": "python",
   "nbconvert_exporter": "python",
   "pygments_lexer": "ipython3",
   "version": "3.6.1"
  }
 },
 "nbformat": 4,
 "nbformat_minor": 2
}
