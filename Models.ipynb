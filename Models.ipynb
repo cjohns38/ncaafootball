{
 "cells": [
  {
   "cell_type": "code",
   "execution_count": 60,
   "metadata": {
    "collapsed": true
   },
   "outputs": [],
   "source": [
    "import zipfile, os\n",
    "import pandas as pd\n",
    "import sklearn as sk\n",
    "from sklearn.model_selection import train_test_split\n",
    "from sklearn.ensemble import RandomForestClassifier\n",
    "from sklearn.preprocessing import Imputer\n",
    "from sklearn.model_selection import GridSearchCV, cross_val_score\n",
    "from sklearn.pipeline import Pipeline\n",
    "from functions.functions import previous_yrs, opponent_stats"
   ]
  },
  {
   "cell_type": "markdown",
   "metadata": {},
   "source": [
    "# Read in files"
   ]
  },
  {
   "cell_type": "code",
   "execution_count": 61,
   "metadata": {},
   "outputs": [],
   "source": [
    "_file = os.path.join('Data', 'finalgamedata.zip')\n",
    "zf = zipfile.ZipFile(_file)\n",
    "gamestats = pd.read_csv(zf.open('gamestats.csv'))\n",
    "gamelist = pd.read_csv(zf.open('gameslist.csv'))\n",
    "gamelist['opponentName'] = gamelist['opponentName'].str.replace(\"  \", \" \")"
   ]
  },
  {
   "cell_type": "code",
   "execution_count": 62,
   "metadata": {},
   "outputs": [],
   "source": [
    "gamestats.TOP = pd.to_timedelta(gamestats.TOP).astype('timedelta64[s]')"
   ]
  },
  {
   "cell_type": "code",
   "execution_count": 63,
   "metadata": {
    "collapsed": true
   },
   "outputs": [],
   "source": [
    "# Create a list of the teams \n",
    "teamlist = list(gamelist['Team'].unique())"
   ]
  },
  {
   "cell_type": "code",
   "execution_count": 64,
   "metadata": {},
   "outputs": [],
   "source": [
    "# Create the opponent's game list data for use later \n",
    "opponent_game_list_data = gamelist.copy(deep=True)\n",
    "opponent_game_list_data.drop(['Opponent', 'Result', 'year', 'opponentName'], axis = 1, inplace = True)\n",
    "opponent_game_list_data.rename(columns={'Team':'opponentName'}, inplace = True)\n",
    "# Relabel the variables\n",
    "opponent_game_list_columns = ['opp_'+ x if x not in ['Date', 'opponentName']\n",
    "                              else x\n",
    "                              for x in list(opponent_game_list_data.columns) \n",
    "                             ]\n",
    "\n",
    "opponent_game_list_data.columns = opponent_game_list_columns"
   ]
  },
  {
   "cell_type": "code",
   "execution_count": 65,
   "metadata": {},
   "outputs": [],
   "source": [
    "gamelist = gamelist.merge(opponent_game_list_data, \n",
    "                          left_on = ['opponentName', 'Date'],\n",
    "                          right_on = ['opponentName', 'Date'], \n",
    "                          how = 'left'\n",
    "                         );"
   ]
  },
  {
   "cell_type": "markdown",
   "metadata": {},
   "source": [
    "# Target variables"
   ]
  },
  {
   "cell_type": "code",
   "execution_count": 66,
   "metadata": {
    "collapsed": true
   },
   "outputs": [],
   "source": [
    "target_variables = [\"FG\",\"RushNetYards\",\"PassYards\",\"Interceptions\",\"Pct\", \"RZScores\",\n",
    "                    \"Punts\",\"FumblesLost\",\"Penalties\",\"Plays\",\"def_RushNetYards\",\"def_PassYards\",\n",
    "                    \"def_Interceptions\",\"def_Punts\", \"def_FF\",\"def_PenaltyYards\",\"def_PDef\",\"Sacks\",\"Tackles\",\n",
    "                    \"def_Plays\", \"TOP\"\n",
    "                   ]"
   ]
  },
  {
   "cell_type": "markdown",
   "metadata": {},
   "source": [
    "# Create opponent variable names"
   ]
  },
  {
   "cell_type": "code",
   "execution_count": 67,
   "metadata": {
    "collapsed": true
   },
   "outputs": [],
   "source": [
    "# Create the opponent variable names \n",
    "opponent_variables = ['opp_' + x for x in target_variables]"
   ]
  },
  {
   "cell_type": "markdown",
   "metadata": {},
   "source": [
    "# Create dataset"
   ]
  },
  {
   "cell_type": "code",
   "execution_count": 68,
   "metadata": {
    "collapsed": true
   },
   "outputs": [],
   "source": [
    "base_year_mask = ~((gamelist.year == 2013) & (gamelist['gamenumber'] == 1))"
   ]
  },
  {
   "cell_type": "code",
   "execution_count": 69,
   "metadata": {
    "scrolled": false
   },
   "outputs": [],
   "source": [
    "gamelist[target_variables] = gamelist[base_year_mask].apply(lambda x: previous_yrs(team = x['Team'], \n",
    "                                                                                   year = x['year'], \n",
    "                                                                                   game = x['gamenumber'], \n",
    "                                                                                   cols = target_variables, \n",
    "                                                                                   gamestats = gamestats,\n",
    "                                                                                   debug = False\n",
    "                                                                                  ), \n",
    "                                                            axis = 1\n",
    "                                                           )"
   ]
  },
  {
   "cell_type": "code",
   "execution_count": 70,
   "metadata": {
    "collapsed": true
   },
   "outputs": [],
   "source": [
    "# Subset the datset to only the needed games \n",
    "games = gamelist[base_year_mask].copy()\n",
    "\n",
    "# Calculate the opponent game data \n",
    "games[opponent_variables] = gamelist.apply(lambda x: opponent_stats(team = x['Team'],\n",
    "                                           date = x['Date'], \n",
    "                                           year = x['year'], \n",
    "                                           cols = target_variables,\n",
    "                                           gamestats = gamestats,\n",
    "                                           debug = False\n",
    "                                          )\n",
    "                             if x['opponentName'] in teamlist\n",
    "                             else pd.Series([None for x in range(0, len(target_variables))]),\n",
    "                             axis = 1\n",
    "                            )"
   ]
  },
  {
   "cell_type": "markdown",
   "metadata": {},
   "source": [
    "# Game list file variables to include"
   ]
  },
  {
   "cell_type": "code",
   "execution_count": 71,
   "metadata": {
    "collapsed": true
   },
   "outputs": [],
   "source": [
    "game_list_variables = ['gamenumber', 'Coach_years', 'Coach_WL', 'HomeAway', 'history_WL_1yrs']\n",
    "game_list_variables = game_list_variables + ['opp_' + x for x in game_list_variables]"
   ]
  },
  {
   "cell_type": "code",
   "execution_count": 72,
   "metadata": {
    "collapsed": true
   },
   "outputs": [],
   "source": [
    "final_variables = target_variables + opponent_variables + game_list_variables"
   ]
  },
  {
   "cell_type": "code",
   "execution_count": 73,
   "metadata": {},
   "outputs": [],
   "source": [
    "games[final_variables];"
   ]
  },
  {
   "cell_type": "markdown",
   "metadata": {},
   "source": [
    "# Count the number of missing variables"
   ]
  },
  {
   "cell_type": "code",
   "execution_count": 74,
   "metadata": {
    "collapsed": true,
    "scrolled": true
   },
   "outputs": [],
   "source": [
    "games['missing'] = games[final_variables].isnull().sum(axis=1)"
   ]
  },
  {
   "cell_type": "code",
   "execution_count": 75,
   "metadata": {},
   "outputs": [],
   "source": [
    "games[final_variables];"
   ]
  },
  {
   "cell_type": "markdown",
   "metadata": {},
   "source": [
    "# Create variables for analysis "
   ]
  },
  {
   "cell_type": "code",
   "execution_count": 76,
   "metadata": {
    "collapsed": true
   },
   "outputs": [],
   "source": [
    "y = games[games['missing'] == 0]['WinLoss'].values\n",
    "X = games[games['missing'] == 0][final_variables].values"
   ]
  },
  {
   "cell_type": "markdown",
   "metadata": {},
   "source": [
    "# Run single Random Forest Classifier"
   ]
  },
  {
   "cell_type": "code",
   "execution_count": 77,
   "metadata": {
    "collapsed": true
   },
   "outputs": [],
   "source": [
    "# Create the train test split \n",
    "X_train, X_test, y_train, y_test = train_test_split(X, y, test_size=0.33, random_state=42)"
   ]
  },
  {
   "cell_type": "code",
   "execution_count": 78,
   "metadata": {},
   "outputs": [
    {
     "data": {
      "text/plain": [
       "RandomForestClassifier(bootstrap=True, class_weight=None, criterion='gini',\n",
       "            max_depth=None, max_features='auto', max_leaf_nodes=None,\n",
       "            min_impurity_split=1e-07, min_samples_leaf=1,\n",
       "            min_samples_split=2, min_weight_fraction_leaf=0.0,\n",
       "            n_estimators=10, n_jobs=1, oob_score=False, random_state=42,\n",
       "            verbose=0, warm_start=False)"
      ]
     },
     "execution_count": 78,
     "metadata": {},
     "output_type": "execute_result"
    }
   ],
   "source": [
    "# Create and fit the DT Classifier \n",
    "dt = RandomForestClassifier(random_state = 42)\n",
    "dt.fit(X= X_train, y=y_train)"
   ]
  },
  {
   "cell_type": "code",
   "execution_count": 79,
   "metadata": {
    "scrolled": true
   },
   "outputs": [
    {
     "name": "stdout",
     "output_type": "stream",
     "text": [
      "Accuracy:\t 0.989112683723\n",
      "Accuracy:\t 0.716335540839\n"
     ]
    }
   ],
   "source": [
    "print(\"Accuracy:\\t\", (y_train == dt.predict(X_train)).mean())\n",
    "print(\"Accuracy:\\t\", (y_test == dt.predict(X_test)).mean())"
   ]
  },
  {
   "cell_type": "markdown",
   "metadata": {},
   "source": [
    "# Run Grid Search on Random Forest Classifier"
   ]
  },
  {
   "cell_type": "code",
   "execution_count": 80,
   "metadata": {
    "collapsed": true
   },
   "outputs": [],
   "source": [
    "imputer = Imputer()\n",
    "forest = RandomForestClassifier()\n",
    "pipe = Pipeline(steps=[('imputer', imputer), ('forest', forest)])"
   ]
  },
  {
   "cell_type": "code",
   "execution_count": 81,
   "metadata": {},
   "outputs": [],
   "source": [
    "parameters = {'forest__criterion': ['gini', 'entropy'], \n",
    "              'forest__max_depth':[1,2,3,4,5], \n",
    "              'forest__n_estimators':[100, 500, 1000, 1250], \n",
    "              'forest__n_jobs':[-1], \n",
    "              'forest__random_state':[42], \n",
    "              'forest__min_samples_split':[5, 10],\n",
    "              'imputer__missing_values':['NaN'], \n",
    "              'imputer__strategy':['mean'], \n",
    "              'imputer__axis':[0], \n",
    "             }"
   ]
  },
  {
   "cell_type": "code",
   "execution_count": 82,
   "metadata": {},
   "outputs": [
    {
     "data": {
      "text/plain": [
       "GridSearchCV(cv=3, error_score='raise',\n",
       "       estimator=Pipeline(steps=[('imputer', Imputer(axis=0, copy=True, missing_values='NaN', strategy='mean', verbose=0)), ('forest', RandomForestClassifier(bootstrap=True, class_weight=None, criterion='gini',\n",
       "            max_depth=None, max_features='auto', max_leaf_nodes=None,\n",
       "            min_impurity_s...mators=10, n_jobs=1, oob_score=False, random_state=None,\n",
       "            verbose=0, warm_start=False))]),\n",
       "       fit_params={}, iid=True, n_jobs=1,\n",
       "       param_grid={'forest__criterion': ['gini', 'entropy'], 'forest__max_depth': [1, 2, 3, 4, 5], 'forest__n_estimators': [100, 500, 1000, 1250], 'forest__n_jobs': [-1], 'forest__random_state': [42], 'forest__min_samples_split': [5, 10], 'imputer__missing_values': ['NaN'], 'imputer__strategy': ['mean'], 'imputer__axis': [0]},\n",
       "       pre_dispatch='2*n_jobs', refit=True, return_train_score=True,\n",
       "       scoring=None, verbose=0)"
      ]
     },
     "execution_count": 82,
     "metadata": {},
     "output_type": "execute_result"
    }
   ],
   "source": [
    "grid = GridSearchCV(pipe, parameters, cv=3)\n",
    "grid.fit(X, y)"
   ]
  },
  {
   "cell_type": "code",
   "execution_count": 83,
   "metadata": {},
   "outputs": [
    {
     "name": "stdout",
     "output_type": "stream",
     "text": [
      "Accuracy:\t 0.7386073642\n",
      "Best Parameters:\t {'forest__criterion': 'gini', 'forest__max_depth': 5, 'forest__min_samples_split': 10, 'forest__n_estimators': 1250, 'forest__n_jobs': -1, 'forest__random_state': 42, 'imputer__axis': 0, 'imputer__missing_values': 'NaN', 'imputer__strategy': 'mean'}\n"
     ]
    }
   ],
   "source": [
    "tree_model = grid.best_estimator_\n",
    "print(\"Accuracy:\\t\", grid.best_score_) \n",
    "print(\"Best Parameters:\\t\", grid.best_params_) "
   ]
  },
  {
   "cell_type": "code",
   "execution_count": 84,
   "metadata": {
    "collapsed": true
   },
   "outputs": [],
   "source": [
    "feature_importance = grid.best_estimator_.named_steps['forest'].feature_importances_"
   ]
  },
  {
   "cell_type": "code",
   "execution_count": 85,
   "metadata": {
    "collapsed": true
   },
   "outputs": [],
   "source": [
    "x = list(zip(final_variables, feature_importance))"
   ]
  },
  {
   "cell_type": "code",
   "execution_count": 86,
   "metadata": {
    "collapsed": true
   },
   "outputs": [],
   "source": [
    "importance = pd.DataFrame(x, columns=['var', 'importance'])"
   ]
  },
  {
   "cell_type": "code",
   "execution_count": 87,
   "metadata": {},
   "outputs": [
    {
     "data": {
      "text/html": [
       "<div>\n",
       "<style>\n",
       "    .dataframe thead tr:only-child th {\n",
       "        text-align: right;\n",
       "    }\n",
       "\n",
       "    .dataframe thead th {\n",
       "        text-align: left;\n",
       "    }\n",
       "\n",
       "    .dataframe tbody tr th {\n",
       "        vertical-align: top;\n",
       "    }\n",
       "</style>\n",
       "<table border=\"1\" class=\"dataframe\">\n",
       "  <thead>\n",
       "    <tr style=\"text-align: right;\">\n",
       "      <th></th>\n",
       "      <th>var</th>\n",
       "      <th>importance</th>\n",
       "    </tr>\n",
       "  </thead>\n",
       "  <tbody>\n",
       "    <tr>\n",
       "      <th>51</th>\n",
       "      <td>opp_history_WL_1yrs</td>\n",
       "      <td>0.204435</td>\n",
       "    </tr>\n",
       "    <tr>\n",
       "      <th>46</th>\n",
       "      <td>history_WL_1yrs</td>\n",
       "      <td>0.127477</td>\n",
       "    </tr>\n",
       "    <tr>\n",
       "      <th>31</th>\n",
       "      <td>opp_def_RushNetYards</td>\n",
       "      <td>0.069478</td>\n",
       "    </tr>\n",
       "    <tr>\n",
       "      <th>10</th>\n",
       "      <td>def_RushNetYards</td>\n",
       "      <td>0.061863</td>\n",
       "    </tr>\n",
       "    <tr>\n",
       "      <th>5</th>\n",
       "      <td>RZScores</td>\n",
       "      <td>0.048289</td>\n",
       "    </tr>\n",
       "    <tr>\n",
       "      <th>26</th>\n",
       "      <td>opp_RZScores</td>\n",
       "      <td>0.047525</td>\n",
       "    </tr>\n",
       "    <tr>\n",
       "      <th>22</th>\n",
       "      <td>opp_RushNetYards</td>\n",
       "      <td>0.035835</td>\n",
       "    </tr>\n",
       "    <tr>\n",
       "      <th>1</th>\n",
       "      <td>RushNetYards</td>\n",
       "      <td>0.033392</td>\n",
       "    </tr>\n",
       "    <tr>\n",
       "      <th>25</th>\n",
       "      <td>opp_Pct</td>\n",
       "      <td>0.028671</td>\n",
       "    </tr>\n",
       "    <tr>\n",
       "      <th>6</th>\n",
       "      <td>Punts</td>\n",
       "      <td>0.026829</td>\n",
       "    </tr>\n",
       "    <tr>\n",
       "      <th>27</th>\n",
       "      <td>opp_Punts</td>\n",
       "      <td>0.025815</td>\n",
       "    </tr>\n",
       "    <tr>\n",
       "      <th>4</th>\n",
       "      <td>Pct</td>\n",
       "      <td>0.024501</td>\n",
       "    </tr>\n",
       "    <tr>\n",
       "      <th>49</th>\n",
       "      <td>opp_Coach_WL</td>\n",
       "      <td>0.021455</td>\n",
       "    </tr>\n",
       "    <tr>\n",
       "      <th>37</th>\n",
       "      <td>opp_def_PDef</td>\n",
       "      <td>0.017092</td>\n",
       "    </tr>\n",
       "    <tr>\n",
       "      <th>16</th>\n",
       "      <td>def_PDef</td>\n",
       "      <td>0.014645</td>\n",
       "    </tr>\n",
       "    <tr>\n",
       "      <th>34</th>\n",
       "      <td>opp_def_Punts</td>\n",
       "      <td>0.013603</td>\n",
       "    </tr>\n",
       "    <tr>\n",
       "      <th>13</th>\n",
       "      <td>def_Punts</td>\n",
       "      <td>0.012827</td>\n",
       "    </tr>\n",
       "    <tr>\n",
       "      <th>41</th>\n",
       "      <td>opp_TOP</td>\n",
       "      <td>0.011149</td>\n",
       "    </tr>\n",
       "    <tr>\n",
       "      <th>38</th>\n",
       "      <td>opp_Sacks</td>\n",
       "      <td>0.010421</td>\n",
       "    </tr>\n",
       "    <tr>\n",
       "      <th>20</th>\n",
       "      <td>TOP</td>\n",
       "      <td>0.010204</td>\n",
       "    </tr>\n",
       "    <tr>\n",
       "      <th>17</th>\n",
       "      <td>Sacks</td>\n",
       "      <td>0.009069</td>\n",
       "    </tr>\n",
       "    <tr>\n",
       "      <th>39</th>\n",
       "      <td>opp_Tackles</td>\n",
       "      <td>0.008917</td>\n",
       "    </tr>\n",
       "    <tr>\n",
       "      <th>40</th>\n",
       "      <td>opp_def_Plays</td>\n",
       "      <td>0.008190</td>\n",
       "    </tr>\n",
       "    <tr>\n",
       "      <th>18</th>\n",
       "      <td>Tackles</td>\n",
       "      <td>0.008172</td>\n",
       "    </tr>\n",
       "    <tr>\n",
       "      <th>19</th>\n",
       "      <td>def_Plays</td>\n",
       "      <td>0.007595</td>\n",
       "    </tr>\n",
       "    <tr>\n",
       "      <th>44</th>\n",
       "      <td>Coach_WL</td>\n",
       "      <td>0.006968</td>\n",
       "    </tr>\n",
       "    <tr>\n",
       "      <th>2</th>\n",
       "      <td>PassYards</td>\n",
       "      <td>0.006635</td>\n",
       "    </tr>\n",
       "    <tr>\n",
       "      <th>23</th>\n",
       "      <td>opp_PassYards</td>\n",
       "      <td>0.006363</td>\n",
       "    </tr>\n",
       "    <tr>\n",
       "      <th>32</th>\n",
       "      <td>opp_def_PassYards</td>\n",
       "      <td>0.005937</td>\n",
       "    </tr>\n",
       "    <tr>\n",
       "      <th>33</th>\n",
       "      <td>opp_def_Interceptions</td>\n",
       "      <td>0.005618</td>\n",
       "    </tr>\n",
       "    <tr>\n",
       "      <th>11</th>\n",
       "      <td>def_PassYards</td>\n",
       "      <td>0.005119</td>\n",
       "    </tr>\n",
       "    <tr>\n",
       "      <th>9</th>\n",
       "      <td>Plays</td>\n",
       "      <td>0.005016</td>\n",
       "    </tr>\n",
       "    <tr>\n",
       "      <th>12</th>\n",
       "      <td>def_Interceptions</td>\n",
       "      <td>0.004954</td>\n",
       "    </tr>\n",
       "    <tr>\n",
       "      <th>48</th>\n",
       "      <td>opp_Coach_years</td>\n",
       "      <td>0.004849</td>\n",
       "    </tr>\n",
       "    <tr>\n",
       "      <th>29</th>\n",
       "      <td>opp_Penalties</td>\n",
       "      <td>0.004844</td>\n",
       "    </tr>\n",
       "    <tr>\n",
       "      <th>45</th>\n",
       "      <td>HomeAway</td>\n",
       "      <td>0.004702</td>\n",
       "    </tr>\n",
       "    <tr>\n",
       "      <th>30</th>\n",
       "      <td>opp_Plays</td>\n",
       "      <td>0.004562</td>\n",
       "    </tr>\n",
       "    <tr>\n",
       "      <th>8</th>\n",
       "      <td>Penalties</td>\n",
       "      <td>0.004496</td>\n",
       "    </tr>\n",
       "    <tr>\n",
       "      <th>15</th>\n",
       "      <td>def_PenaltyYards</td>\n",
       "      <td>0.004295</td>\n",
       "    </tr>\n",
       "    <tr>\n",
       "      <th>0</th>\n",
       "      <td>FG</td>\n",
       "      <td>0.004067</td>\n",
       "    </tr>\n",
       "    <tr>\n",
       "      <th>36</th>\n",
       "      <td>opp_def_PenaltyYards</td>\n",
       "      <td>0.004061</td>\n",
       "    </tr>\n",
       "    <tr>\n",
       "      <th>21</th>\n",
       "      <td>opp_FG</td>\n",
       "      <td>0.003874</td>\n",
       "    </tr>\n",
       "    <tr>\n",
       "      <th>3</th>\n",
       "      <td>Interceptions</td>\n",
       "      <td>0.003279</td>\n",
       "    </tr>\n",
       "    <tr>\n",
       "      <th>24</th>\n",
       "      <td>opp_Interceptions</td>\n",
       "      <td>0.003234</td>\n",
       "    </tr>\n",
       "    <tr>\n",
       "      <th>14</th>\n",
       "      <td>def_FF</td>\n",
       "      <td>0.003206</td>\n",
       "    </tr>\n",
       "    <tr>\n",
       "      <th>50</th>\n",
       "      <td>opp_HomeAway</td>\n",
       "      <td>0.002966</td>\n",
       "    </tr>\n",
       "    <tr>\n",
       "      <th>35</th>\n",
       "      <td>opp_def_FF</td>\n",
       "      <td>0.002717</td>\n",
       "    </tr>\n",
       "    <tr>\n",
       "      <th>47</th>\n",
       "      <td>opp_gamenumber</td>\n",
       "      <td>0.002415</td>\n",
       "    </tr>\n",
       "    <tr>\n",
       "      <th>42</th>\n",
       "      <td>gamenumber</td>\n",
       "      <td>0.002259</td>\n",
       "    </tr>\n",
       "    <tr>\n",
       "      <th>43</th>\n",
       "      <td>Coach_years</td>\n",
       "      <td>0.002243</td>\n",
       "    </tr>\n",
       "    <tr>\n",
       "      <th>7</th>\n",
       "      <td>FumblesLost</td>\n",
       "      <td>0.001969</td>\n",
       "    </tr>\n",
       "    <tr>\n",
       "      <th>28</th>\n",
       "      <td>opp_FumblesLost</td>\n",
       "      <td>0.001903</td>\n",
       "    </tr>\n",
       "  </tbody>\n",
       "</table>\n",
       "</div>"
      ],
      "text/plain": [
       "                      var  importance\n",
       "51    opp_history_WL_1yrs    0.204435\n",
       "46        history_WL_1yrs    0.127477\n",
       "31   opp_def_RushNetYards    0.069478\n",
       "10       def_RushNetYards    0.061863\n",
       "5                RZScores    0.048289\n",
       "26           opp_RZScores    0.047525\n",
       "22       opp_RushNetYards    0.035835\n",
       "1            RushNetYards    0.033392\n",
       "25                opp_Pct    0.028671\n",
       "6                   Punts    0.026829\n",
       "27              opp_Punts    0.025815\n",
       "4                     Pct    0.024501\n",
       "49           opp_Coach_WL    0.021455\n",
       "37           opp_def_PDef    0.017092\n",
       "16               def_PDef    0.014645\n",
       "34          opp_def_Punts    0.013603\n",
       "13              def_Punts    0.012827\n",
       "41                opp_TOP    0.011149\n",
       "38              opp_Sacks    0.010421\n",
       "20                    TOP    0.010204\n",
       "17                  Sacks    0.009069\n",
       "39            opp_Tackles    0.008917\n",
       "40          opp_def_Plays    0.008190\n",
       "18                Tackles    0.008172\n",
       "19              def_Plays    0.007595\n",
       "44               Coach_WL    0.006968\n",
       "2               PassYards    0.006635\n",
       "23          opp_PassYards    0.006363\n",
       "32      opp_def_PassYards    0.005937\n",
       "33  opp_def_Interceptions    0.005618\n",
       "11          def_PassYards    0.005119\n",
       "9                   Plays    0.005016\n",
       "12      def_Interceptions    0.004954\n",
       "48        opp_Coach_years    0.004849\n",
       "29          opp_Penalties    0.004844\n",
       "45               HomeAway    0.004702\n",
       "30              opp_Plays    0.004562\n",
       "8               Penalties    0.004496\n",
       "15       def_PenaltyYards    0.004295\n",
       "0                      FG    0.004067\n",
       "36   opp_def_PenaltyYards    0.004061\n",
       "21                 opp_FG    0.003874\n",
       "3           Interceptions    0.003279\n",
       "24      opp_Interceptions    0.003234\n",
       "14                 def_FF    0.003206\n",
       "50           opp_HomeAway    0.002966\n",
       "35             opp_def_FF    0.002717\n",
       "47         opp_gamenumber    0.002415\n",
       "42             gamenumber    0.002259\n",
       "43            Coach_years    0.002243\n",
       "7             FumblesLost    0.001969\n",
       "28        opp_FumblesLost    0.001903"
      ]
     },
     "execution_count": 87,
     "metadata": {},
     "output_type": "execute_result"
    }
   ],
   "source": [
    "importance.sort_values('importance', ascending = False)"
   ]
  },
  {
   "cell_type": "code",
   "execution_count": null,
   "metadata": {
    "collapsed": true
   },
   "outputs": [],
   "source": []
  }
 ],
 "metadata": {
  "kernelspec": {
   "display_name": "Python 3",
   "language": "python",
   "name": "python3"
  },
  "language_info": {
   "codemirror_mode": {
    "name": "ipython",
    "version": 3
   },
   "file_extension": ".py",
   "mimetype": "text/x-python",
   "name": "python",
   "nbconvert_exporter": "python",
   "pygments_lexer": "ipython3",
   "version": "3.6.1"
  }
 },
 "nbformat": 4,
 "nbformat_minor": 2
}
