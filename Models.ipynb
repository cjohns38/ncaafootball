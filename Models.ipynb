{
 "cells": [
  {
   "cell_type": "code",
   "execution_count": 38,
   "metadata": {
    "collapsed": true
   },
   "outputs": [],
   "source": [
    "import zipfile, os\n",
    "import pandas as pd\n",
    "import sklearn as sk\n",
    "from sklearn.model_selection import train_test_split\n",
    "from sklearn.ensemble import RandomForestClassifier\n",
    "from sklearn.preprocessing import Imputer\n",
    "from sklearn.model_selection import GridSearchCV, cross_val_score\n",
    "from sklearn.pipeline import Pipeline\n",
    "from functions.functions import previous_yrs, opponent_stats"
   ]
  },
  {
   "cell_type": "markdown",
   "metadata": {},
   "source": [
    "# Read in files"
   ]
  },
  {
   "cell_type": "code",
   "execution_count": 39,
   "metadata": {
    "collapsed": true
   },
   "outputs": [],
   "source": [
    "_file = os.path.join('Data', 'finalgamedata.zip')\n",
    "zf = zipfile.ZipFile(_file)\n",
    "gamestats = pd.read_csv(zf.open('gamestats.csv'))\n",
    "gamelist = pd.read_csv(zf.open('gameslist.csv'))"
   ]
  },
  {
   "cell_type": "code",
   "execution_count": 40,
   "metadata": {
    "collapsed": true
   },
   "outputs": [],
   "source": [
    "# Create a list of the teams \n",
    "teamlist = list(gamelist['Team'].unique())"
   ]
  },
  {
   "cell_type": "markdown",
   "metadata": {},
   "source": [
    "# Target variables"
   ]
  },
  {
   "cell_type": "code",
   "execution_count": 41,
   "metadata": {
    "collapsed": true
   },
   "outputs": [],
   "source": [
    "target_variables = [\"FG\",\"RushNetYards\",\"PassYards\",\"Interceptions\",\"PassAttempts\",\n",
    "                    \"Punts\",\"Points\",\"FumblesLost\",\"Penalties\",\"Plays\",\"def_RushNetYards\",\"def_PassYards\",\n",
    "                    \"def_Interceptions\",\"def_Punts\", \"def_FF\",\"def_PenaltyYards\",\"def_PDef\",\"Sacks\",\"Tackles\",\n",
    "                    \"def_Plays\"\n",
    "                   ]"
   ]
  },
  {
   "cell_type": "markdown",
   "metadata": {},
   "source": [
    "# Create opponent variable names"
   ]
  },
  {
   "cell_type": "code",
   "execution_count": 42,
   "metadata": {
    "collapsed": true
   },
   "outputs": [],
   "source": [
    "# Create the opponent variable names \n",
    "opponent_variables = ['opp_' + x for x in target_variables]"
   ]
  },
  {
   "cell_type": "markdown",
   "metadata": {},
   "source": [
    "# Create dataset"
   ]
  },
  {
   "cell_type": "code",
   "execution_count": 43,
   "metadata": {
    "collapsed": true
   },
   "outputs": [],
   "source": [
    "base_year_mask = ~((gamelist.year == 2013) & (gamelist['gamenumber'] == 1))"
   ]
  },
  {
   "cell_type": "code",
   "execution_count": null,
   "metadata": {
    "collapsed": true,
    "scrolled": false
   },
   "outputs": [],
   "source": [
    "gamelist[target_variables] = gamelist[base_year_mask].apply(lambda x: previous_yrs(team = x['Team'], \n",
    "                                                                                   year = x['year'], \n",
    "                                                                                   game = x['gamenumber'], \n",
    "                                                                                   cols = target_variables, \n",
    "                                                                                   gamestats = gamestats,\n",
    "                                                                                   debug = False\n",
    "                                                                                  ), \n",
    "                                                            axis = 1\n",
    "                                                           )"
   ]
  },
  {
   "cell_type": "code",
   "execution_count": null,
   "metadata": {
    "collapsed": true
   },
   "outputs": [],
   "source": [
    "# Subset the datset to only the needed games \n",
    "games = gamelist[base_year_mask].copy()\n",
    "\n",
    "# Calculate the opponent game data \n",
    "games[opponent_variables] = gamelist.apply(lambda x: opponent_stats(team = x['Team'],\n",
    "                                           date = x['Date'], \n",
    "                                           year = x['year'], \n",
    "                                           cols = target_variables,\n",
    "                                           gamestats = gamestats,\n",
    "                                           debug = False\n",
    "                                          )\n",
    "                             if x['opponentName'] in teamlist\n",
    "                             else pd.Series([None for x in range(0, len(target_variables))]),\n",
    "                             axis = 1\n",
    "                            )"
   ]
  },
  {
   "cell_type": "markdown",
   "metadata": {},
   "source": [
    "# Game list file variables to include"
   ]
  },
  {
   "cell_type": "code",
   "execution_count": 25,
   "metadata": {},
   "outputs": [],
   "source": [
    "list(games.columns);"
   ]
  },
  {
   "cell_type": "code",
   "execution_count": 26,
   "metadata": {},
   "outputs": [],
   "source": [
    "# Create the opponent's game list data for use later \n",
    "opponent_game_list_data = gamelist.copy(deep=True)\n",
    "opponent_game_list_data.drop(['Opponent', 'Result', 'year', 'opponentName'], axis = 1, inplace = True)\n",
    "\n",
    "# Relabel the variables\n",
    "opponent_game_list_columns = ['opp_'+ x if x not in ['Date', 'Team']\n",
    "                              else x\n",
    "                              for x in list(opponent_game_list_data.columns) \n",
    "                             ]\n",
    "\n",
    "opponent_game_list_data.columns = opponent_game_list_columns"
   ]
  },
  {
   "cell_type": "code",
   "execution_count": 29,
   "metadata": {},
   "outputs": [],
   "source": [
    "list(games.columns);"
   ]
  },
  {
   "cell_type": "code",
   "execution_count": 36,
   "metadata": {},
   "outputs": [],
   "source": [
    "games2 = pd.merge(  gamelist,\n",
    "                    opponent_game_list_data, \n",
    "                    left_on = ['Team', 'Date'],\n",
    "                    right_on = ['Team', 'Date'], \n",
    "                    how = 'left'\n",
    "                   )"
   ]
  },
  {
   "cell_type": "code",
   "execution_count": 37,
   "metadata": {},
   "outputs": [
    {
     "data": {
      "text/plain": [
       "['Date',\n",
       " 'Opponent',\n",
       " 'Result',\n",
       " 'Team',\n",
       " 'year',\n",
       " 'gamenumber',\n",
       " 'opponentName',\n",
       " 'history_wins_1yrs',\n",
       " 'history_losses_1yrs',\n",
       " 'history_WL_1yrs',\n",
       " 'history_wins_2yrs',\n",
       " 'history_losses_2yrs',\n",
       " 'history_WL_2yrs',\n",
       " 'history_wins_3yrs',\n",
       " 'history_losses_3yrs',\n",
       " 'history_WL_3yrs',\n",
       " 'history_wins_5yrs',\n",
       " 'history_losses_5yrs',\n",
       " 'history_WL_5yrs',\n",
       " 'history_wins_10yrs',\n",
       " 'history_losses_10yrs',\n",
       " 'history_WL_10yrs',\n",
       " 'history_wins_maxyrs',\n",
       " 'history_losses_maxyrs',\n",
       " 'history_WL_maxyrs',\n",
       " 'coach',\n",
       " 'Coach_wins',\n",
       " 'Coach_losses',\n",
       " 'Coach_WL',\n",
       " 'Coach_years',\n",
       " 'HomeAway',\n",
       " 'WinLoss',\n",
       " 'FG',\n",
       " 'RushNetYards',\n",
       " 'PassYards',\n",
       " 'Interceptions',\n",
       " 'PassAttempts',\n",
       " 'Punts',\n",
       " 'Points',\n",
       " 'FumblesLost',\n",
       " 'Penalties',\n",
       " 'Plays',\n",
       " 'def_RushNetYards',\n",
       " 'def_PassYards',\n",
       " 'def_Interceptions',\n",
       " 'def_Punts',\n",
       " 'def_FF',\n",
       " 'def_PenaltyYards',\n",
       " 'def_PDef',\n",
       " 'Sacks',\n",
       " 'Tackles',\n",
       " 'def_Plays',\n",
       " 'opp_gamenumber',\n",
       " 'opp_history_wins_1yrs',\n",
       " 'opp_history_losses_1yrs',\n",
       " 'opp_history_WL_1yrs',\n",
       " 'opp_history_wins_2yrs',\n",
       " 'opp_history_losses_2yrs',\n",
       " 'opp_history_WL_2yrs',\n",
       " 'opp_history_wins_3yrs',\n",
       " 'opp_history_losses_3yrs',\n",
       " 'opp_history_WL_3yrs',\n",
       " 'opp_history_wins_5yrs',\n",
       " 'opp_history_losses_5yrs',\n",
       " 'opp_history_WL_5yrs',\n",
       " 'opp_history_wins_10yrs',\n",
       " 'opp_history_losses_10yrs',\n",
       " 'opp_history_WL_10yrs',\n",
       " 'opp_history_wins_maxyrs',\n",
       " 'opp_history_losses_maxyrs',\n",
       " 'opp_history_WL_maxyrs',\n",
       " 'opp_coach',\n",
       " 'opp_Coach_wins',\n",
       " 'opp_Coach_losses',\n",
       " 'opp_Coach_WL',\n",
       " 'opp_Coach_years',\n",
       " 'opp_HomeAway',\n",
       " 'opp_WinLoss',\n",
       " 'opp_FG',\n",
       " 'opp_RushNetYards',\n",
       " 'opp_PassYards',\n",
       " 'opp_Interceptions',\n",
       " 'opp_PassAttempts',\n",
       " 'opp_Punts',\n",
       " 'opp_Points',\n",
       " 'opp_FumblesLost',\n",
       " 'opp_Penalties',\n",
       " 'opp_Plays',\n",
       " 'opp_def_RushNetYards',\n",
       " 'opp_def_PassYards',\n",
       " 'opp_def_Interceptions',\n",
       " 'opp_def_Punts',\n",
       " 'opp_def_FF',\n",
       " 'opp_def_PenaltyYards',\n",
       " 'opp_def_PDef',\n",
       " 'opp_Sacks',\n",
       " 'opp_Tackles',\n",
       " 'opp_def_Plays']"
      ]
     },
     "execution_count": 37,
     "metadata": {},
     "output_type": "execute_result"
    }
   ],
   "source": [
    "list(games2.columns)"
   ]
  },
  {
   "cell_type": "code",
   "execution_count": null,
   "metadata": {},
   "outputs": [],
   "source": [
    "game_list_variables = ['gamenumber', 'Coach_years', 'Coach_WL', 'HomeAway', 'history_WL_maxyrs']\n",
    "game_list_variables = game_list_variables + ['opp_' + x for x in game_list_variables]"
   ]
  },
  {
   "cell_type": "code",
   "execution_count": null,
   "metadata": {
    "collapsed": true
   },
   "outputs": [],
   "source": [
    "final_variables = target_variables + opponent_variables + game_list_variables"
   ]
  },
  {
   "cell_type": "code",
   "execution_count": null,
   "metadata": {},
   "outputs": [],
   "source": [
    "list(games.columns)"
   ]
  },
  {
   "cell_type": "code",
   "execution_count": null,
   "metadata": {},
   "outputs": [],
   "source": [
    "final_variables"
   ]
  },
  {
   "cell_type": "code",
   "execution_count": null,
   "metadata": {},
   "outputs": [],
   "source": [
    "games[final_variables]"
   ]
  },
  {
   "cell_type": "markdown",
   "metadata": {},
   "source": [
    "# Count the number of missing variables"
   ]
  },
  {
   "cell_type": "code",
   "execution_count": null,
   "metadata": {
    "scrolled": true
   },
   "outputs": [],
   "source": [
    "games['missing'] = games[final_variables].isnull().sum(axis=1)"
   ]
  },
  {
   "cell_type": "code",
   "execution_count": null,
   "metadata": {},
   "outputs": [],
   "source": [
    "games[final_variables]"
   ]
  },
  {
   "cell_type": "markdown",
   "metadata": {},
   "source": [
    "# Create variables for analysis "
   ]
  },
  {
   "cell_type": "code",
   "execution_count": null,
   "metadata": {
    "collapsed": true
   },
   "outputs": [],
   "source": [
    "y = games[games['missing'] == 0]['WinLoss'].values\n",
    "X = games[games['missing'] == 0][final_variables].values"
   ]
  },
  {
   "cell_type": "markdown",
   "metadata": {},
   "source": [
    "# Run single Random Forest Classifier"
   ]
  },
  {
   "cell_type": "code",
   "execution_count": null,
   "metadata": {
    "collapsed": true
   },
   "outputs": [],
   "source": [
    "# Create the train test split \n",
    "X_train, X_test, y_train, y_test = train_test_split(X, y, test_size=0.33, random_state=42)"
   ]
  },
  {
   "cell_type": "code",
   "execution_count": null,
   "metadata": {},
   "outputs": [],
   "source": [
    "# Create and fit the DT Classifier \n",
    "dt = RandomForestClassifier(random_state = 42)\n",
    "dt.fit(X= X_train, y=y_train)"
   ]
  },
  {
   "cell_type": "code",
   "execution_count": null,
   "metadata": {
    "scrolled": true
   },
   "outputs": [],
   "source": [
    "print(\"Accuracy:\\t\", (y_train == dt.predict(X_train)).mean())\n",
    "print(\"Accuracy:\\t\", (y_test == dt.predict(X_test)).mean())"
   ]
  },
  {
   "cell_type": "markdown",
   "metadata": {},
   "source": [
    "# Run Grid Search on Random Forest Classifier"
   ]
  },
  {
   "cell_type": "code",
   "execution_count": null,
   "metadata": {
    "collapsed": true
   },
   "outputs": [],
   "source": [
    "imputer = Imputer()\n",
    "forest = RandomForestClassifier()\n",
    "pipe = Pipeline(steps=[('imputer', imputer), ('forest', forest)])"
   ]
  },
  {
   "cell_type": "code",
   "execution_count": null,
   "metadata": {
    "collapsed": true
   },
   "outputs": [],
   "source": [
    "parameters = {'forest__criterion': ['gini', 'entropy'], \n",
    "              'forest__max_depth':[1,2,3,4,5], \n",
    "              'forest__n_estimators':[100, 500, 1000, 1250], \n",
    "              'forest__n_jobs':[-1], \n",
    "              'forest__random_state':[42], \n",
    "              'imputer__missing_values':['NaN'], \n",
    "              'imputer__strategy':['mean'], \n",
    "              'imputer__axis':[0], \n",
    "             }"
   ]
  },
  {
   "cell_type": "code",
   "execution_count": null,
   "metadata": {},
   "outputs": [],
   "source": [
    "grid = GridSearchCV(pipe, parameters, cv=3)\n",
    "grid.fit(X, y)"
   ]
  },
  {
   "cell_type": "code",
   "execution_count": null,
   "metadata": {},
   "outputs": [],
   "source": [
    "tree_model = grid.best_estimator_\n",
    "print(\"Accuracy:\\t\", grid.best_score_) \n",
    "print(\"Best Parameters:\\t\", grid.best_params_) "
   ]
  },
  {
   "cell_type": "code",
   "execution_count": null,
   "metadata": {
    "collapsed": true
   },
   "outputs": [],
   "source": [
    "feature_importance = grid.best_estimator_.named_steps['forest'].feature_importances_"
   ]
  },
  {
   "cell_type": "code",
   "execution_count": null,
   "metadata": {
    "collapsed": true
   },
   "outputs": [],
   "source": [
    "x = list(zip(final_variables, feature_importance))"
   ]
  },
  {
   "cell_type": "code",
   "execution_count": null,
   "metadata": {
    "collapsed": true
   },
   "outputs": [],
   "source": [
    "importance = pd.DataFrame(x, columns=['var', 'importance'])"
   ]
  },
  {
   "cell_type": "code",
   "execution_count": null,
   "metadata": {},
   "outputs": [],
   "source": [
    "importance.sort_values('importance', ascending = False)"
   ]
  },
  {
   "cell_type": "code",
   "execution_count": null,
   "metadata": {
    "collapsed": true
   },
   "outputs": [],
   "source": []
  }
 ],
 "metadata": {
  "kernelspec": {
   "display_name": "Python 3",
   "language": "python",
   "name": "python3"
  },
  "language_info": {
   "codemirror_mode": {
    "name": "ipython",
    "version": 3
   },
   "file_extension": ".py",
   "mimetype": "text/x-python",
   "name": "python",
   "nbconvert_exporter": "python",
   "pygments_lexer": "ipython3",
   "version": "3.6.1"
  }
 },
 "nbformat": 4,
 "nbformat_minor": 2
}
