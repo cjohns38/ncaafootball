{
 "cells": [
  {
   "cell_type": "code",
   "execution_count": 1,
   "metadata": {
    "collapsed": true
   },
   "outputs": [],
   "source": [
    "import zipfile, os, re\n",
    "import pandas as pd\n",
    "import numpy as np "
   ]
  },
  {
   "cell_type": "markdown",
   "metadata": {},
   "source": [
    "# Read in the fooball data"
   ]
  },
  {
   "cell_type": "code",
   "execution_count": 2,
   "metadata": {
    "collapsed": true
   },
   "outputs": [],
   "source": [
    "_file = os.path.join('ncaa_football_scrapy','Data', 'Data.zip')\n",
    "zf = zipfile.ZipFile(_file)\n",
    "filenames = zf.namelist()"
   ]
  },
  {
   "cell_type": "markdown",
   "metadata": {},
   "source": [
    "# Create Program History DF"
   ]
  },
  {
   "cell_type": "code",
   "execution_count": 3,
   "metadata": {
    "collapsed": true
   },
   "outputs": [],
   "source": [
    "history = pd.read_csv(zf.open('history.csv'))"
   ]
  },
  {
   "cell_type": "code",
   "execution_count": 4,
   "metadata": {
    "collapsed": true
   },
   "outputs": [],
   "source": [
    "history['year'] = history.apply(lambda x: int(x['Year'][:4]), axis = 1)"
   ]
  },
  {
   "cell_type": "markdown",
   "metadata": {},
   "source": [
    "# Coach links"
   ]
  },
  {
   "cell_type": "code",
   "execution_count": 5,
   "metadata": {
    "collapsed": true
   },
   "outputs": [],
   "source": [
    "coach_links = pd.read_csv(os.path.join(\"ncaa_football_scrapy\", \"Links\", \"links_teaminfo.csv\"))\n",
    "coach_links = coach_links.rename(columns={\"txt\":\"coach\", 'team':\"Team\"})\n",
    "coach_links = coach_links[coach_links.key == 'people'][['Team', 'coach', 'year']]\n",
    "coach_links['Team'] = coach_links.Team.str.replace(\"  \", \" \")"
   ]
  },
  {
   "cell_type": "markdown",
   "metadata": {},
   "source": [
    "# Account for coaches who get fired in the season"
   ]
  },
  {
   "cell_type": "code",
   "execution_count": 6,
   "metadata": {
    "collapsed": true
   },
   "outputs": [],
   "source": [
    "coach_dict = coach_links.to_dict(orient='record')"
   ]
  },
  {
   "cell_type": "code",
   "execution_count": 7,
   "metadata": {
    "collapsed": true
   },
   "outputs": [],
   "source": [
    "coach_fixed = {}\n",
    "for x in coach_dict: \n",
    "    if x['year'] not in coach_fixed: \n",
    "        coach_fixed[x['year']] = {}\n",
    "    if x['Team'] not in coach_fixed[x['year']]: \n",
    "        coach_fixed[x['year']][x['Team']] = []\n",
    "    coach_fixed[x['year']][x['Team']].append(x['coach'])"
   ]
  },
  {
   "cell_type": "code",
   "execution_count": 8,
   "metadata": {
    "collapsed": true
   },
   "outputs": [],
   "source": [
    "coaches_list = []\n",
    "for yr, teams in coach_fixed.items(): \n",
    "    for team, coaches in teams.items(): \n",
    "        tmp = {'year':yr, 'Team':team, 'coach':coaches}\n",
    "        coaches_list.append(tmp)"
   ]
  },
  {
   "cell_type": "code",
   "execution_count": 9,
   "metadata": {
    "collapsed": true
   },
   "outputs": [],
   "source": [
    "coaches_list_fixed = pd.DataFrame(coaches_list)"
   ]
  },
  {
   "cell_type": "markdown",
   "metadata": {},
   "source": [
    "# Create Coach DF "
   ]
  },
  {
   "cell_type": "code",
   "execution_count": 10,
   "metadata": {
    "collapsed": true
   },
   "outputs": [],
   "source": [
    "coaches = pd.read_csv(zf.open('coaches.csv'))"
   ]
  },
  {
   "cell_type": "code",
   "execution_count": 11,
   "metadata": {
    "collapsed": true
   },
   "outputs": [],
   "source": [
    "coaches['year'] = coaches.apply(lambda x: int(x['Year'][:4]), axis = 1)\n",
    "coaches.rename(columns = {'Name':'coach'}, inplace = True)"
   ]
  },
  {
   "cell_type": "markdown",
   "metadata": {},
   "source": [
    "# Create Roster DF"
   ]
  },
  {
   "cell_type": "code",
   "execution_count": 12,
   "metadata": {
    "collapsed": true
   },
   "outputs": [],
   "source": [
    "roster = pd.read_csv(zf.open('roster.csv'))"
   ]
  },
  {
   "cell_type": "code",
   "execution_count": 13,
   "metadata": {
    "collapsed": true
   },
   "outputs": [],
   "source": [
    "roster['year'] = roster.apply(lambda x: int(x['Year'][:4]), axis = 1)"
   ]
  },
  {
   "cell_type": "code",
   "execution_count": 14,
   "metadata": {
    "collapsed": true
   },
   "outputs": [],
   "source": [
    "def yrRecode(data): \n",
    "    yr = {'Fr':0, 'So':1, 'Jr':2, 'Sr':3}\n",
    "    return yr[data]"
   ]
  },
  {
   "cell_type": "code",
   "execution_count": 15,
   "metadata": {
    "collapsed": true
   },
   "outputs": [],
   "source": [
    "roster_by_year = roster[['Team', 'Yr', 'year', 'GS']].groupby(['Team', 'year', 'Yr']).count().reset_index()"
   ]
  },
  {
   "cell_type": "code",
   "execution_count": 16,
   "metadata": {
    "collapsed": true
   },
   "outputs": [],
   "source": [
    "roster_games_started = roster[['Team', 'year', 'Yr', 'GS']].groupby(['Team', 'year', \"Yr\"]).mean().reset_index()"
   ]
  },
  {
   "cell_type": "code",
   "execution_count": 17,
   "metadata": {
    "collapsed": true
   },
   "outputs": [],
   "source": [
    "roster_games_played = roster[['Team', 'year', 'Yr', 'GP']].groupby(['Team', 'year', \"Yr\"]).mean().reset_index()"
   ]
  },
  {
   "cell_type": "code",
   "execution_count": 18,
   "metadata": {
    "collapsed": true
   },
   "outputs": [],
   "source": [
    "roster_final = pd.merge(roster_games_played, \n",
    "                        roster_games_started, \n",
    "                        left_on = ['Team', 'year', 'Yr'], \n",
    "                        right_on = ['Team', 'year', 'Yr'],\n",
    "                        how = 'left'\n",
    "                       )"
   ]
  },
  {
   "cell_type": "code",
   "execution_count": 19,
   "metadata": {
    "collapsed": true
   },
   "outputs": [],
   "source": [
    "roster_final2 = roster_final.set_index(['Team', 'year', 'Yr']).unstack().reset_index()"
   ]
  },
  {
   "cell_type": "code",
   "execution_count": 20,
   "metadata": {
    "collapsed": true
   },
   "outputs": [],
   "source": [
    "columns = [x[0] if x[0] in ['Team', 'year'] else x[0] + \"_\" + x[1] for x in roster_final2.columns.values]\n",
    "roster_final2.columns = columns"
   ]
  },
  {
   "cell_type": "code",
   "execution_count": 21,
   "metadata": {
    "collapsed": true
   },
   "outputs": [],
   "source": [
    "def createvariables(data):\n",
    "    \"\"\"Create Opponent, Home, Win/Loss, Overtime, and Scores\n",
    "    \n",
    "    \"\"\"\n",
    "    regexs = {'WL': \"[WL]\",\n",
    "              'team': [\"\\d+\\s\\-\", \"\\d+\"],\n",
    "              'opponent_score':[\"\\-\\s\\d+\", '\\d+'],\n",
    "              'OT':[\"\\(\\d+OT\\)\", \"\\d+\"], \n",
    "              'opponent':['[\\w\\s]+\\.?\\s\\@\\s\\w+']\n",
    "             }\n",
    "    \n",
    "    # Opponent \n",
    "    if '@' in data['Opponent']: \n",
    "        search = re.search(regexs['opponent'][0], data['Opponent']) \n",
    "        if search: \n",
    "            opponent = data['Opponent'].split(\"@\")[0].strip()\n",
    "            home = 0\n",
    "        else: \n",
    "            opponent = data['Opponent'].replace(\"@\",\"\").strip()\n",
    "            home = 0\n",
    "    else: \n",
    "        opponent = data['Opponent']\n",
    "        home = 1\n",
    "    \n",
    "    \n",
    "    # Win/Loss\n",
    "    WinLoss = re.search(regexs['WL'], data['Result']).group()\n",
    "    \n",
    "    # Overtime \n",
    "    Overtime = 0\n",
    "    re_ot = re.search(regexs['OT'][0], data['Result'])\n",
    "    if re_ot:\n",
    "        Overtime = re.search(regexs['OT'][1], re_ot.group()).group()\n",
    "        \n",
    "    # Team Score\n",
    "    team_score = None\n",
    "    re_team = re.search(regexs['team'][0], data['Result'])\n",
    "    if re_team:\n",
    "        team_score = re.search(regexs['OT'][1], re_team.group()).group()\n",
    "        \n",
    "    # Opponent Score\n",
    "    opponent_score = None\n",
    "    re_opponent = re.search(regexs['opponent_score'][0], data['Result'])\n",
    "    if re_opponent:\n",
    "        opponent_score = re.search(regexs['OT'][1], re_opponent.group()).group()\n",
    "        \n",
    "    return pd.Series([opponent, home, WinLoss, Overtime, team_score, opponent_score])    "
   ]
  },
  {
   "cell_type": "markdown",
   "metadata": {
    "collapsed": true
   },
   "source": [
    "# Start merging"
   ]
  },
  {
   "cell_type": "code",
   "execution_count": 22,
   "metadata": {
    "collapsed": true
   },
   "outputs": [],
   "source": [
    "# Subset the gamebygame files\n",
    "targetfiles = [file for file in filenames if 'gamebygame' in file ]"
   ]
  },
  {
   "cell_type": "code",
   "execution_count": 23,
   "metadata": {
    "collapsed": true
   },
   "outputs": [],
   "source": [
    "# Create a dict of dfs and create a multi-index \n",
    "dfs = {}\n",
    "for f in targetfiles: \n",
    "    filename = f.split(\".\")[0]\n",
    "    dfs[filename] = pd.read_csv(zf.open(f))\n",
    "    dfs[filename]['Date'] = pd.to_datetime(dfs[filename]['Date'])\n",
    "    dfs[filename].set_index(['Team', 'Date', 'OffenseDefense'], inplace = True)"
   ]
  },
  {
   "cell_type": "code",
   "execution_count": 24,
   "metadata": {
    "collapsed": true
   },
   "outputs": [],
   "source": [
    "# Concatenate the data together and drop duplicate column names \n",
    "master = pd.concat([v for k, v in dfs.items()], axis = 1)\n",
    "master = master.loc[:, ~master.columns.duplicated()]"
   ]
  },
  {
   "cell_type": "code",
   "execution_count": 25,
   "metadata": {
    "collapsed": true
   },
   "outputs": [],
   "source": [
    "# Create new variables \n",
    "master[['opponent', 'home', 'WinLoss','Overtime', 'team_score', 'opponent_score']] = master.apply(lambda x: createvariables(x), axis = 1)"
   ]
  },
  {
   "cell_type": "markdown",
   "metadata": {},
   "source": [
    "# Subset Offense Defense"
   ]
  },
  {
   "cell_type": "code",
   "execution_count": 26,
   "metadata": {
    "collapsed": true
   },
   "outputs": [],
   "source": [
    "defense = master[master.index.get_level_values('OffenseDefense') == 'Defense'].copy()"
   ]
  },
  {
   "cell_type": "code",
   "execution_count": 27,
   "metadata": {
    "collapsed": true
   },
   "outputs": [],
   "source": [
    "offense = master[master.index.get_level_values('OffenseDefense') == 'Offense'].copy()"
   ]
  },
  {
   "cell_type": "code",
   "execution_count": 28,
   "metadata": {
    "collapsed": true
   },
   "outputs": [],
   "source": [
    "assert len(defense) == len(offense),  \"Datasets different sizes\""
   ]
  },
  {
   "cell_type": "markdown",
   "metadata": {},
   "source": [
    "# Manipulate"
   ]
  },
  {
   "cell_type": "code",
   "execution_count": 29,
   "metadata": {
    "collapsed": true
   },
   "outputs": [],
   "source": [
    "offense.reset_index(inplace = True)"
   ]
  },
  {
   "cell_type": "code",
   "execution_count": 30,
   "metadata": {
    "collapsed": true
   },
   "outputs": [],
   "source": [
    "offense['year'] = offense['Date'].dt.year"
   ]
  },
  {
   "cell_type": "code",
   "execution_count": 31,
   "metadata": {
    "collapsed": true
   },
   "outputs": [],
   "source": [
    "base = pd.merge(offense,\n",
    "               roster_final2, \n",
    "               left_on = ['Team', 'year'], \n",
    "               right_on = ['Team', 'year'],\n",
    "               how = 'left'\n",
    "              )"
   ]
  },
  {
   "cell_type": "code",
   "execution_count": 32,
   "metadata": {
    "collapsed": true
   },
   "outputs": [],
   "source": [
    "def teamhistory(team, year, duration): \n",
    "    global history\n",
    "    team = team\n",
    "    target_year = year\n",
    "    out = []\n",
    "    # Individual \n",
    "    for yr in duration: \n",
    "        target_year_min = target_year - yr\n",
    "        # Wins/Losses\n",
    "        wins, losses = list(history[(history.Team == team) & \n",
    "                                    (history.year <= target_year) & \n",
    "                                    (history.year >= target_year_min)][['Wins', 'Losses']].sum()\n",
    "                           )\n",
    "        out.extend([wins, losses, wins/(wins+losses)])\n",
    "    # Max \n",
    "    wins, losses = list(history[(history.Team == team)][['Wins', 'Losses']].sum())\n",
    "    out.extend([wins, losses, wins/(wins+losses)])\n",
    "    return pd.Series(out)"
   ]
  },
  {
   "cell_type": "code",
   "execution_count": 33,
   "metadata": {
    "collapsed": true
   },
   "outputs": [],
   "source": [
    "# Add in team historical data \n",
    "yrs = [1, 2, 3, 5, 10]\n",
    "variables = ['history_wins_{yr}yrs', 'history_losses_{yr}yrs', 'history_WL_{yr}yrs']\n",
    "years = [v.format(yr = yr) for yr in yrs for v in variables ]\n",
    "years.extend([v.format(yr = 'max') for v in variables])\n",
    "\n",
    "base[years] = base.apply(lambda x: teamhistory(x['Team'], x['year'], yrs), axis = 1)"
   ]
  },
  {
   "cell_type": "code",
   "execution_count": 34,
   "metadata": {
    "collapsed": true
   },
   "outputs": [],
   "source": [
    "assert len(base) == len(offense), \"Size change during merging\""
   ]
  },
  {
   "cell_type": "code",
   "execution_count": 35,
   "metadata": {
    "collapsed": true
   },
   "outputs": [],
   "source": [
    "coach_teams = coach_links.Team.unique()\n",
    "for team in base.Team.unique(): \n",
    "    if team not in coach_teams: \n",
    "        print(team)"
   ]
  },
  {
   "cell_type": "code",
   "execution_count": 36,
   "metadata": {
    "collapsed": true
   },
   "outputs": [],
   "source": [
    "tmp = pd.merge(base, \n",
    "               coaches_list_fixed, \n",
    "               left_on = ['Team', 'year'], \n",
    "               right_on = ['Team', 'year'], \n",
    "               how = 'left'\n",
    "              )"
   ]
  },
  {
   "cell_type": "code",
   "execution_count": 37,
   "metadata": {
    "collapsed": true
   },
   "outputs": [],
   "source": [
    "assert len(base) == len(tmp), \"Dataset size changed\""
   ]
  },
  {
   "cell_type": "markdown",
   "metadata": {},
   "source": [
    "# Fix the coach history to get the average of coaches"
   ]
  },
  {
   "cell_type": "code",
   "execution_count": 38,
   "metadata": {
    "collapsed": true
   },
   "outputs": [],
   "source": [
    "def coach_history(data, year): \n",
    "    global coaches\n",
    "    t = []\n",
    "    if isinstance(data, list) and len(data) >=1 :\n",
    "        for coach in data: \n",
    "            coach_record = coaches[(coaches.coach == coach) & \n",
    "                                   (coaches.year < year)\n",
    "                                  ][[\"coach\",\"Wins\",\"Losses\",\"WL\",\"year\"]].groupby(\"coach\").agg(['sum', 'count', 'mean'])\n",
    "            coach_record.columns = [x[0] + \"_\" + x[1]  for x in coach_record.columns.values]\n",
    "            coach_record.drop(['Wins_count', 'Wins_mean', 'Losses_count', 'Losses_mean', 'WL_sum', 'WL_count', \n",
    "                                     'year_sum', 'year_mean'], axis=1, inplace = True)\n",
    "            coach_record.rename(columns = {'Wins_sum':\"Coach_wins\", \n",
    "                                           \"Losses_sum\":\"Coach_losses\", \n",
    "                                           \"WL_mean\":\"Coach_WL\", \n",
    "                                           \"year_count\":\"Coach_years\"\n",
    "                                          },\n",
    "                                inplace = True\n",
    "                               )\n",
    "            t.append(coach_record.to_dict(orient='record')[0])\n",
    "    \n",
    "        out = pd.Series(pd.DataFrame(t).mean().to_dict())\n",
    "    else: \n",
    "        out = pd.Series({'Coach_wins':None, \n",
    "                         \"Coach_losses\":None, \n",
    "                         \"Coach_WL\":None, \n",
    "                         \"Coach_years\":None\n",
    "                        })\n",
    "    return out"
   ]
  },
  {
   "cell_type": "code",
   "execution_count": 39,
   "metadata": {
    "collapsed": true
   },
   "outputs": [],
   "source": [
    "coach_variables = ['Coach_wins', 'Coach_losses', 'Coach_WL', 'Coach_years']\n",
    "tmp = tmp.copy()\n",
    "tmp[coach_variables] = tmp.apply(lambda x: coach_history(x['coach'], x['year']), axis = 1)"
   ]
  },
  {
   "cell_type": "markdown",
   "metadata": {},
   "source": [
    "# Edit Defense"
   ]
  },
  {
   "cell_type": "code",
   "execution_count": 40,
   "metadata": {
    "collapsed": true
   },
   "outputs": [],
   "source": [
    "defense.columns = ['def_' + x for x in defense.columns]\n",
    "defense.reset_index(inplace = True)"
   ]
  },
  {
   "cell_type": "code",
   "execution_count": 41,
   "metadata": {
    "collapsed": true
   },
   "outputs": [],
   "source": [
    "defense['year'] = defense['Date'].dt.year"
   ]
  },
  {
   "cell_type": "markdown",
   "metadata": {},
   "source": [
    "# Merge offense defense"
   ]
  },
  {
   "cell_type": "code",
   "execution_count": 42,
   "metadata": {
    "collapsed": true
   },
   "outputs": [],
   "source": [
    "assert len(tmp) == len(defense), \"Dataset file difference\""
   ]
  },
  {
   "cell_type": "code",
   "execution_count": 43,
   "metadata": {
    "collapsed": true
   },
   "outputs": [],
   "source": [
    "final = pd.merge(tmp, \n",
    "                 defense, \n",
    "                 left_on = ['Team', 'Date'],\n",
    "                 right_on = ['Team', 'Date'],\n",
    "                 how = 'left'\n",
    "                )"
   ]
  },
  {
   "cell_type": "code",
   "execution_count": 63,
   "metadata": {},
   "outputs": [],
   "source": [
    "final['count'] = final.groupby(['Team', 'year_x']).cumcount()+1"
   ]
  },
  {
   "cell_type": "markdown",
   "metadata": {
    "collapsed": true
   },
   "source": [
    "# Game by game participation - Starting point\n"
   ]
  },
  {
   "cell_type": "code",
   "execution_count": 44,
   "metadata": {
    "collapsed": true
   },
   "outputs": [],
   "source": [
    "gamebygame_part = pd.read_csv(zf.open('gamebygame_participation.csv'))"
   ]
  },
  {
   "cell_type": "code",
   "execution_count": 45,
   "metadata": {
    "collapsed": true
   },
   "outputs": [],
   "source": [
    "gamebygame_part['Date'] = pd.to_datetime(gamebygame_part['Date'])\n",
    "gamebygame_part['year'] = gamebygame_part['Date'].dt.year\n",
    "gamebygame_part = gamebygame_part[gamebygame_part.OffenseDefense == 'Offense']"
   ]
  },
  {
   "cell_type": "code",
   "execution_count": 55,
   "metadata": {},
   "outputs": [],
   "source": [
    "gamebygame_part['count'] = gamebygame_part.groupby(['Team', 'year']).cumcount() +1"
   ]
  },
  {
   "cell_type": "markdown",
   "metadata": {},
   "source": [
    "# Lag"
   ]
  },
  {
   "cell_type": "code",
   "execution_count": 80,
   "metadata": {},
   "outputs": [
    {
     "data": {
      "text/html": [
       "<div>\n",
       "<style>\n",
       "    .dataframe thead tr:only-child th {\n",
       "        text-align: right;\n",
       "    }\n",
       "\n",
       "    .dataframe thead th {\n",
       "        text-align: left;\n",
       "    }\n",
       "\n",
       "    .dataframe tbody tr th {\n",
       "        vertical-align: top;\n",
       "    }\n",
       "</style>\n",
       "<table border=\"1\" class=\"dataframe\">\n",
       "  <thead>\n",
       "    <tr style=\"text-align: right;\">\n",
       "      <th></th>\n",
       "      <th>All-PurposeYardsG</th>\n",
       "      <th>CompletionsPerGame</th>\n",
       "      <th>YdsPerCompletion</th>\n",
       "      <th>Pct</th>\n",
       "      <th>PassYardsG</th>\n",
       "      <th>PuntAvg</th>\n",
       "      <th>ReceptionsPerGame</th>\n",
       "      <th>YardsPerReception</th>\n",
       "      <th>RecYdsG</th>\n",
       "      <th>RZScores</th>\n",
       "      <th>...</th>\n",
       "      <th>def_SackA</th>\n",
       "      <th>def_Pass2PtConv</th>\n",
       "      <th>def_Plays</th>\n",
       "      <th>def_YdsPlay</th>\n",
       "      <th>def_PenaltiesPerGame</th>\n",
       "      <th>def_PenaltyYdsPerGame</th>\n",
       "      <th>def_TotalOffYardsG</th>\n",
       "      <th>def_home</th>\n",
       "      <th>year_y</th>\n",
       "      <th>count</th>\n",
       "    </tr>\n",
       "  </thead>\n",
       "  <tbody>\n",
       "    <tr>\n",
       "      <th>0</th>\n",
       "      <td>NaN</td>\n",
       "      <td>9.333333</td>\n",
       "      <td>16.8385</td>\n",
       "      <td>NaN</td>\n",
       "      <td>151.333333</td>\n",
       "      <td>42.741667</td>\n",
       "      <td>9.333333</td>\n",
       "      <td>16.8375</td>\n",
       "      <td>151.333333</td>\n",
       "      <td>4.166667</td>\n",
       "      <td>...</td>\n",
       "      <td>NaN</td>\n",
       "      <td>NaN</td>\n",
       "      <td>69.25</td>\n",
       "      <td>NaN</td>\n",
       "      <td>4.166667</td>\n",
       "      <td>38.75</td>\n",
       "      <td>396.333333</td>\n",
       "      <td>0.5</td>\n",
       "      <td>2014.0</td>\n",
       "      <td>6.5</td>\n",
       "    </tr>\n",
       "  </tbody>\n",
       "</table>\n",
       "<p>1 rows × 75 columns</p>\n",
       "</div>"
      ],
      "text/plain": [
       "   All-PurposeYardsG  CompletionsPerGame  YdsPerCompletion  Pct  PassYardsG  \\\n",
       "0                NaN            9.333333           16.8385  NaN  151.333333   \n",
       "\n",
       "     PuntAvg  ReceptionsPerGame  YardsPerReception     RecYdsG  RZScores  \\\n",
       "0  42.741667           9.333333            16.8375  151.333333  4.166667   \n",
       "\n",
       "   ...    def_SackA  def_Pass2PtConv  def_Plays  def_YdsPlay  \\\n",
       "0  ...          NaN              NaN      69.25          NaN   \n",
       "\n",
       "   def_PenaltiesPerGame  def_PenaltyYdsPerGame  def_TotalOffYardsG  def_home  \\\n",
       "0              4.166667                  38.75          396.333333       0.5   \n",
       "\n",
       "   year_y  count  \n",
       "0  2014.0    6.5  \n",
       "\n",
       "[1 rows x 75 columns]"
      ]
     },
     "execution_count": 80,
     "metadata": {},
     "output_type": "execute_result"
    }
   ],
   "source": [
    "final[(final['Team'] == 'Air Force Falcons') & \n",
    "      (final['year_y'] == 2014) & \n",
    "      (final['count'] <= 12)\n",
    "     ].mean().to_frame().T"
   ]
  },
  {
   "cell_type": "code",
   "execution_count": 85,
   "metadata": {},
   "outputs": [],
   "source": [
    "game =  3 \n",
    "year = 2014\n",
    "if game <=3: \n",
    "    out = final[(final['Team'] == 'Air Force Falcons') & \n",
    "                (final['year_y'] == year) & \n",
    "                (final['count'] <= game)\n",
    "               ].mean()    \n",
    "\n",
    "\n"
   ]
  },
  {
   "cell_type": "code",
   "execution_count": 89,
   "metadata": {},
   "outputs": [],
   "source": [
    "\n",
    "\n"
   ]
  },
  {
   "cell_type": "code",
   "execution_count": 159,
   "metadata": {
    "collapsed": true
   },
   "outputs": [],
   "source": [
    "def previous_yrs(team, year, game, cols, debug = False): \n",
    "    global final\n",
    "    cols = ['Team', 'year_y', 'count'] + cols\n",
    "    out = []\n",
    "    y = final[cols][(final['Team'] == 'Air Force Falcons') & \n",
    "                    (final['year_y'] == year) & \n",
    "                    (final['count'] <= game)\n",
    "                   ]\n",
    "    \n",
    "    out.append(y)\n",
    "    if game <= 3:\n",
    "        x = final[cols][(final['Team'] == 'Air Force Falcons') & \n",
    "                        (final['year_y'] == year - 1)\n",
    "                       ]\n",
    "        \n",
    "        out.append(x)\n",
    "\n",
    "    if debug == False: \n",
    "        mean = pd.concat(out)\n",
    "    elif debug == True: \n",
    "        mean = pd.concat(out)\n",
    "    return mean\n"
   ]
  },
  {
   "cell_type": "code",
   "execution_count": 168,
   "metadata": {},
   "outputs": [],
   "source": [
    "z = previous_yrs('Air Force Falcons', 2015, 3, cols2, True)"
   ]
  },
  {
   "cell_type": "code",
   "execution_count": 181,
   "metadata": {},
   "outputs": [
    {
     "data": {
      "text/html": [
       "<div>\n",
       "<style>\n",
       "    .dataframe thead tr:only-child th {\n",
       "        text-align: right;\n",
       "    }\n",
       "\n",
       "    .dataframe thead th {\n",
       "        text-align: left;\n",
       "    }\n",
       "\n",
       "    .dataframe tbody tr th {\n",
       "        vertical-align: top;\n",
       "    }\n",
       "</style>\n",
       "<table border=\"1\" class=\"dataframe\">\n",
       "  <thead>\n",
       "    <tr style=\"text-align: right;\">\n",
       "      <th></th>\n",
       "      <th>Team</th>\n",
       "      <th>year_y</th>\n",
       "      <th>count</th>\n",
       "      <th>RushNetYards</th>\n",
       "      <th>PassYards</th>\n",
       "      <th>Int</th>\n",
       "      <th>Interceptions</th>\n",
       "      <th>PassAttempts</th>\n",
       "      <th>Punts</th>\n",
       "    </tr>\n",
       "  </thead>\n",
       "  <tbody>\n",
       "    <tr>\n",
       "      <th>25</th>\n",
       "      <td>Air Force Falcons</td>\n",
       "      <td>2015</td>\n",
       "      <td>1</td>\n",
       "      <td>394</td>\n",
       "      <td>119</td>\n",
       "      <td>1</td>\n",
       "      <td>NaN</td>\n",
       "      <td>7</td>\n",
       "      <td>2</td>\n",
       "    </tr>\n",
       "    <tr>\n",
       "      <th>26</th>\n",
       "      <td>Air Force Falcons</td>\n",
       "      <td>2015</td>\n",
       "      <td>2</td>\n",
       "      <td>428</td>\n",
       "      <td>24</td>\n",
       "      <td>2</td>\n",
       "      <td>1</td>\n",
       "      <td>11</td>\n",
       "      <td>6</td>\n",
       "    </tr>\n",
       "    <tr>\n",
       "      <th>27</th>\n",
       "      <td>Air Force Falcons</td>\n",
       "      <td>2015</td>\n",
       "      <td>3</td>\n",
       "      <td>279</td>\n",
       "      <td>149</td>\n",
       "      <td>NaN</td>\n",
       "      <td>1</td>\n",
       "      <td>9</td>\n",
       "      <td>3</td>\n",
       "    </tr>\n",
       "    <tr>\n",
       "      <th>12</th>\n",
       "      <td>Air Force Falcons</td>\n",
       "      <td>2014</td>\n",
       "      <td>1</td>\n",
       "      <td>539/</td>\n",
       "      <td>19</td>\n",
       "      <td>NaN</td>\n",
       "      <td>NaN</td>\n",
       "      <td>6</td>\n",
       "      <td>2</td>\n",
       "    </tr>\n",
       "    <tr>\n",
       "      <th>13</th>\n",
       "      <td>Air Force Falcons</td>\n",
       "      <td>2014</td>\n",
       "      <td>2</td>\n",
       "      <td>151</td>\n",
       "      <td>226</td>\n",
       "      <td>NaN</td>\n",
       "      <td>NaN</td>\n",
       "      <td>32</td>\n",
       "      <td>6</td>\n",
       "    </tr>\n",
       "    <tr>\n",
       "      <th>14</th>\n",
       "      <td>Air Force Falcons</td>\n",
       "      <td>2014</td>\n",
       "      <td>3</td>\n",
       "      <td>315</td>\n",
       "      <td>224</td>\n",
       "      <td>1</td>\n",
       "      <td>NaN</td>\n",
       "      <td>15</td>\n",
       "      <td>3</td>\n",
       "    </tr>\n",
       "    <tr>\n",
       "      <th>15</th>\n",
       "      <td>Air Force Falcons</td>\n",
       "      <td>2014</td>\n",
       "      <td>4</td>\n",
       "      <td>287</td>\n",
       "      <td>48</td>\n",
       "      <td>5/</td>\n",
       "      <td>NaN</td>\n",
       "      <td>12</td>\n",
       "      <td>9</td>\n",
       "    </tr>\n",
       "    <tr>\n",
       "      <th>16</th>\n",
       "      <td>Air Force Falcons</td>\n",
       "      <td>2014</td>\n",
       "      <td>5</td>\n",
       "      <td>198</td>\n",
       "      <td>166</td>\n",
       "      <td>1</td>\n",
       "      <td>NaN</td>\n",
       "      <td>17</td>\n",
       "      <td>6</td>\n",
       "    </tr>\n",
       "    <tr>\n",
       "      <th>17</th>\n",
       "      <td>Air Force Falcons</td>\n",
       "      <td>2014</td>\n",
       "      <td>6</td>\n",
       "      <td>155</td>\n",
       "      <td>224</td>\n",
       "      <td>NaN</td>\n",
       "      <td>2</td>\n",
       "      <td>29</td>\n",
       "      <td>5</td>\n",
       "    </tr>\n",
       "    <tr>\n",
       "      <th>18</th>\n",
       "      <td>Air Force Falcons</td>\n",
       "      <td>2014</td>\n",
       "      <td>7</td>\n",
       "      <td>269</td>\n",
       "      <td>159</td>\n",
       "      <td>NaN</td>\n",
       "      <td>NaN</td>\n",
       "      <td>9</td>\n",
       "      <td>5</td>\n",
       "    </tr>\n",
       "    <tr>\n",
       "      <th>19</th>\n",
       "      <td>Air Force Falcons</td>\n",
       "      <td>2014</td>\n",
       "      <td>8</td>\n",
       "      <td>242</td>\n",
       "      <td>141</td>\n",
       "      <td>NaN</td>\n",
       "      <td>1</td>\n",
       "      <td>12</td>\n",
       "      <td>3</td>\n",
       "    </tr>\n",
       "    <tr>\n",
       "      <th>20</th>\n",
       "      <td>Air Force Falcons</td>\n",
       "      <td>2014</td>\n",
       "      <td>9</td>\n",
       "      <td>386</td>\n",
       "      <td>156</td>\n",
       "      <td>NaN</td>\n",
       "      <td>NaN</td>\n",
       "      <td>7</td>\n",
       "      <td>2</td>\n",
       "    </tr>\n",
       "    <tr>\n",
       "      <th>21</th>\n",
       "      <td>Air Force Falcons</td>\n",
       "      <td>2014</td>\n",
       "      <td>10</td>\n",
       "      <td>342</td>\n",
       "      <td>129</td>\n",
       "      <td>1</td>\n",
       "      <td>NaN</td>\n",
       "      <td>15</td>\n",
       "      <td>3</td>\n",
       "    </tr>\n",
       "    <tr>\n",
       "      <th>22</th>\n",
       "      <td>Air Force Falcons</td>\n",
       "      <td>2014</td>\n",
       "      <td>11</td>\n",
       "      <td>140</td>\n",
       "      <td>189</td>\n",
       "      <td>1</td>\n",
       "      <td>1</td>\n",
       "      <td>27</td>\n",
       "      <td>5</td>\n",
       "    </tr>\n",
       "    <tr>\n",
       "      <th>23</th>\n",
       "      <td>Air Force Falcons</td>\n",
       "      <td>2014</td>\n",
       "      <td>12</td>\n",
       "      <td>242</td>\n",
       "      <td>135</td>\n",
       "      <td>1</td>\n",
       "      <td>NaN</td>\n",
       "      <td>15</td>\n",
       "      <td>7</td>\n",
       "    </tr>\n",
       "    <tr>\n",
       "      <th>24</th>\n",
       "      <td>Air Force Falcons</td>\n",
       "      <td>2014</td>\n",
       "      <td>13</td>\n",
       "      <td>284</td>\n",
       "      <td>77</td>\n",
       "      <td>NaN</td>\n",
       "      <td>NaN</td>\n",
       "      <td>10</td>\n",
       "      <td>5</td>\n",
       "    </tr>\n",
       "  </tbody>\n",
       "</table>\n",
       "</div>"
      ],
      "text/plain": [
       "                 Team  year_y  count RushNetYards PassYards  Int  \\\n",
       "25  Air Force Falcons    2015      1          394       119    1   \n",
       "26  Air Force Falcons    2015      2          428        24    2   \n",
       "27  Air Force Falcons    2015      3          279       149  NaN   \n",
       "12  Air Force Falcons    2014      1         539/        19  NaN   \n",
       "13  Air Force Falcons    2014      2          151       226  NaN   \n",
       "14  Air Force Falcons    2014      3          315       224    1   \n",
       "15  Air Force Falcons    2014      4          287        48   5/   \n",
       "16  Air Force Falcons    2014      5          198       166    1   \n",
       "17  Air Force Falcons    2014      6          155       224  NaN   \n",
       "18  Air Force Falcons    2014      7          269       159  NaN   \n",
       "19  Air Force Falcons    2014      8          242       141  NaN   \n",
       "20  Air Force Falcons    2014      9          386       156  NaN   \n",
       "21  Air Force Falcons    2014     10          342       129    1   \n",
       "22  Air Force Falcons    2014     11          140       189    1   \n",
       "23  Air Force Falcons    2014     12          242       135    1   \n",
       "24  Air Force Falcons    2014     13          284        77  NaN   \n",
       "\n",
       "   Interceptions PassAttempts Punts  \n",
       "25           NaN            7     2  \n",
       "26             1           11     6  \n",
       "27             1            9     3  \n",
       "12           NaN            6     2  \n",
       "13           NaN           32     6  \n",
       "14           NaN           15     3  \n",
       "15           NaN           12     9  \n",
       "16           NaN           17     6  \n",
       "17             2           29     5  \n",
       "18           NaN            9     5  \n",
       "19             1           12     3  \n",
       "20           NaN            7     2  \n",
       "21           NaN           15     3  \n",
       "22             1           27     5  \n",
       "23           NaN           15     7  \n",
       "24           NaN           10     5  "
      ]
     },
     "execution_count": 181,
     "metadata": {},
     "output_type": "execute_result"
    }
   ],
   "source": [
    "z"
   ]
  },
  {
   "cell_type": "code",
   "execution_count": 121,
   "metadata": {},
   "outputs": [
    {
     "name": "stdout",
     "output_type": "stream",
     "text": [
      "Team\n",
      "Date\n",
      "OffenseDefense_x\n",
      "Opponent\n",
      "Result\n",
      "G\n",
      "RushNetYards\n",
      "ReceivingYards\n",
      "IntRYds\n",
      "PuntRetYds\n",
      "FRetYds\n",
      "KORetYds\n",
      "APY\n",
      "All-PurposeYardsG\n",
      "FumblesRecovered\n",
      "Int\n",
      "Blkd\n",
      "FF\n",
      "FRet\n",
      "FRetTD\n",
      "FGM\n",
      "FGA\n",
      "FGBlocksAllowed\n",
      "LongFGM\n",
      "KO\n",
      "KOYds\n",
      "KOTB\n",
      "KORet\n",
      "KickRetTDs\n",
      "PBU\n",
      "IntRetTDs\n",
      "PDef\n",
      "PassAttempts\n",
      "Completions\n",
      "Interceptions\n",
      "PassYards\n",
      "PassTDs\n",
      "PassEff\n",
      "CompletionsPerGame\n",
      "YdsPerCompletion\n",
      "Pct\n",
      "PassYardsG\n",
      "Punts\n",
      "PuntYds\n",
      "PuntAvg\n",
      "PuntTBs\n",
      "LongPunt\n",
      "PuntRet\n",
      "PuntRetTDs\n",
      "Rec\n",
      "ReceptionsPerGame\n",
      "YardsPerReception\n",
      "RecTD\n",
      "RecYdsG\n",
      "RZScores\n",
      "RZPts\n",
      "RZRushTD\n",
      "RZPassTD\n",
      "RZFGMade\n",
      "RZEndFGA\n",
      "RZEndFumble\n",
      "RZEndINT\n",
      "RZEndDowns\n",
      "RZEndHalf\n",
      "RZEndGame\n",
      "SackUA\n",
      "SackA\n",
      "SackYds\n",
      "Sacks\n",
      "TDs\n",
      "KickPAT\n",
      "PATAtt\n",
      "RushPAT\n",
      "Ru2PTAtt\n",
      "ReceivingPAT\n",
      "Pass2PtConv\n",
      "Pass2PTAtt\n",
      "KickReturnPAT\n",
      "FumbRetPAT\n",
      "FG\n",
      "Safeties\n",
      "Points\n",
      "SoloTack\n",
      "AsstTack\n",
      "STFL\n",
      "ATFL\n",
      "TackleYds\n",
      "Tackles\n",
      "TOP\n",
      "Plays\n",
      "TotOff\n",
      "YdsPlay\n",
      "RushingFirstDowns\n",
      "PassingFirstDowns\n",
      "FirstDownsbyPenalty\n",
      "Penalties\n",
      "PenaltiesPerGame\n",
      "PenaltyYards\n",
      "PenaltyYdsPerGame\n",
      "TotalOffYardsG\n",
      "FumblesLost\n",
      "opponent\n",
      "home\n",
      "WinLoss\n",
      "Overtime\n",
      "team_score\n",
      "opponent_score\n",
      "year_x\n",
      "GP_Fr\n",
      "GP_Jr\n",
      "GP_So\n",
      "GP_Sr\n",
      "GS_Fr\n",
      "GS_Jr\n",
      "GS_So\n",
      "GS_Sr\n",
      "history_wins_1yrs\n",
      "history_losses_1yrs\n",
      "history_WL_1yrs\n",
      "history_wins_2yrs\n",
      "history_losses_2yrs\n",
      "history_WL_2yrs\n",
      "history_wins_3yrs\n",
      "history_losses_3yrs\n",
      "history_WL_3yrs\n",
      "history_wins_5yrs\n",
      "history_losses_5yrs\n",
      "history_WL_5yrs\n",
      "history_wins_10yrs\n",
      "history_losses_10yrs\n",
      "history_WL_10yrs\n",
      "history_wins_maxyrs\n",
      "history_losses_maxyrs\n",
      "history_WL_maxyrs\n",
      "coach\n",
      "Coach_wins\n",
      "Coach_losses\n",
      "Coach_WL\n",
      "Coach_years\n",
      "OffenseDefense_y\n",
      "def_Opponent\n",
      "def_Result\n",
      "def_G\n",
      "def_RushNetYards\n",
      "def_ReceivingYards\n",
      "def_IntRYds\n",
      "def_PuntRetYds\n",
      "def_FRetYds\n",
      "def_KORetYds\n",
      "def_APY\n",
      "def_All-PurposeYardsG\n",
      "def_FumblesRecovered\n",
      "def_Int\n",
      "def_Blkd\n",
      "def_FF\n",
      "def_FRet\n",
      "def_FRetTD\n",
      "def_FGM\n",
      "def_FGA\n",
      "def_FGBlocksAllowed\n",
      "def_LongFGM\n",
      "def_KO\n",
      "def_KOYds\n",
      "def_KOTB\n",
      "def_KORet\n",
      "def_KickRetTDs\n",
      "def_PBU\n",
      "def_IntRetTDs\n",
      "def_PDef\n",
      "def_PassAttempts\n",
      "def_Completions\n",
      "def_Interceptions\n",
      "def_PassYards\n",
      "def_PassTDs\n",
      "def_PassEff\n",
      "def_CompletionsPerGame\n",
      "def_YdsPerCompletion\n",
      "def_Pct\n",
      "def_PassYardsG\n",
      "def_Punts\n",
      "def_PuntYds\n",
      "def_PuntAvg\n",
      "def_PuntTBs\n",
      "def_LongPunt\n",
      "def_PuntRet\n",
      "def_PuntRetTDs\n",
      "def_Rec\n",
      "def_ReceptionsPerGame\n",
      "def_YardsPerReception\n",
      "def_RecTD\n",
      "def_RecYdsG\n",
      "def_RZScores\n",
      "def_RZPts\n",
      "def_RZRushTD\n",
      "def_RZPassTD\n",
      "def_RZFGMade\n",
      "def_RZEndFGA\n",
      "def_RZEndFumble\n",
      "def_RZEndINT\n",
      "def_RZEndDowns\n",
      "def_RZEndHalf\n",
      "def_RZEndGame\n",
      "def_SackUA\n",
      "def_SackA\n",
      "def_SackYds\n",
      "def_Sacks\n",
      "def_TDs\n",
      "def_KickPAT\n",
      "def_PATAtt\n",
      "def_RushPAT\n",
      "def_Ru2PTAtt\n",
      "def_ReceivingPAT\n",
      "def_Pass2PtConv\n",
      "def_Pass2PTAtt\n",
      "def_KickReturnPAT\n",
      "def_FumbRetPAT\n",
      "def_FG\n",
      "def_Safeties\n",
      "def_Points\n",
      "def_SoloTack\n",
      "def_AsstTack\n",
      "def_STFL\n",
      "def_ATFL\n",
      "def_TackleYds\n",
      "def_Tackles\n",
      "def_TOP\n",
      "def_Plays\n",
      "def_TotOff\n",
      "def_YdsPlay\n",
      "def_RushingFirstDowns\n",
      "def_PassingFirstDowns\n",
      "def_FirstDownsbyPenalty\n",
      "def_Penalties\n",
      "def_PenaltiesPerGame\n",
      "def_PenaltyYards\n",
      "def_PenaltyYdsPerGame\n",
      "def_TotalOffYardsG\n",
      "def_FumblesLost\n",
      "def_opponent\n",
      "def_home\n",
      "def_WinLoss\n",
      "def_Overtime\n",
      "def_team_score\n",
      "def_opponent_score\n",
      "year_y\n",
      "count\n"
     ]
    }
   ],
   "source": [
    "for col in cols: \n",
    "    print(col)"
   ]
  },
  {
   "cell_type": "code",
   "execution_count": 145,
   "metadata": {},
   "outputs": [],
   "source": [
    "cols2 = ['RushNetYards', 'PassYards', 'Int', 'Interceptions', 'PassAttempts', 'Punts']"
   ]
  },
  {
   "cell_type": "code",
   "execution_count": null,
   "metadata": {
    "collapsed": true
   },
   "outputs": [],
   "source": []
  }
 ],
 "metadata": {
  "kernelspec": {
   "display_name": "Python 3",
   "language": "python",
   "name": "python3"
  },
  "language_info": {
   "codemirror_mode": {
    "name": "ipython",
    "version": 3
   },
   "file_extension": ".py",
   "mimetype": "text/x-python",
   "name": "python",
   "nbconvert_exporter": "python",
   "pygments_lexer": "ipython3",
   "version": "3.6.1"
  }
 },
 "nbformat": 4,
 "nbformat_minor": 2
}
