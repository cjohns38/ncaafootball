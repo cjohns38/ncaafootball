{
 "cells": [
  {
   "cell_type": "code",
   "execution_count": 1,
   "metadata": {
    "collapsed": true
   },
   "outputs": [],
   "source": [
    "import zipfile, os, re\n",
    "import pandas as pd\n",
    "import numpy as np "
   ]
  },
  {
   "cell_type": "markdown",
   "metadata": {},
   "source": [
    "# Read in the fooball data"
   ]
  },
  {
   "cell_type": "code",
   "execution_count": 2,
   "metadata": {
    "collapsed": true
   },
   "outputs": [],
   "source": [
    "_file = os.path.join('ncaa_football_scrapy','Data', 'Data.zip')\n",
    "zf = zipfile.ZipFile(_file)\n",
    "filenames = zf.namelist()"
   ]
  },
  {
   "cell_type": "markdown",
   "metadata": {},
   "source": [
    "# Create Program History DF"
   ]
  },
  {
   "cell_type": "code",
   "execution_count": 3,
   "metadata": {
    "collapsed": true
   },
   "outputs": [],
   "source": [
    "history = pd.read_csv(zf.open('history.csv'))"
   ]
  },
  {
   "cell_type": "code",
   "execution_count": 4,
   "metadata": {
    "collapsed": true
   },
   "outputs": [],
   "source": [
    "history['year'] = history.apply(lambda x: int(x['Year'][:4]), axis = 1)"
   ]
  },
  {
   "cell_type": "markdown",
   "metadata": {},
   "source": [
    "# Coach links"
   ]
  },
  {
   "cell_type": "code",
   "execution_count": 5,
   "metadata": {
    "collapsed": true
   },
   "outputs": [],
   "source": [
    "coach_links = pd.read_csv(os.path.join(\"ncaa_football_scrapy\", \"Links\", \"links_teaminfo.csv\"))\n",
    "coach_links = coach_links.rename(columns={\"txt\":\"coach\", 'team':\"Team\"})\n",
    "coach_links = coach_links[coach_links.key == 'people'][['Team', 'coach', 'year']]\n",
    "coach_links['Team'] = coach_links.Team.str.replace(\"  \", \" \")"
   ]
  },
  {
   "cell_type": "markdown",
   "metadata": {},
   "source": [
    "# Account for coaches who get fired in the season"
   ]
  },
  {
   "cell_type": "code",
   "execution_count": 6,
   "metadata": {
    "collapsed": true
   },
   "outputs": [],
   "source": [
    "coach_dict = coach_links.to_dict(orient='record')"
   ]
  },
  {
   "cell_type": "code",
   "execution_count": 7,
   "metadata": {
    "collapsed": true
   },
   "outputs": [],
   "source": [
    "coach_fixed = {}\n",
    "for x in coach_dict: \n",
    "    if x['year'] not in coach_fixed: \n",
    "        coach_fixed[x['year']] = {}\n",
    "    if x['Team'] not in coach_fixed[x['year']]: \n",
    "        coach_fixed[x['year']][x['Team']] = []\n",
    "    coach_fixed[x['year']][x['Team']].append(x['coach'])"
   ]
  },
  {
   "cell_type": "code",
   "execution_count": 8,
   "metadata": {
    "collapsed": true
   },
   "outputs": [],
   "source": [
    "coaches_list = []\n",
    "for yr, teams in coach_fixed.items(): \n",
    "    for team, coaches in teams.items(): \n",
    "        tmp = {'year':yr, 'Team':team, 'coach':coaches}\n",
    "        coaches_list.append(tmp)"
   ]
  },
  {
   "cell_type": "code",
   "execution_count": 9,
   "metadata": {
    "collapsed": true
   },
   "outputs": [],
   "source": [
    "coaches_list_fixed = pd.DataFrame(coaches_list)"
   ]
  },
  {
   "cell_type": "markdown",
   "metadata": {},
   "source": [
    "# Create Coach DF "
   ]
  },
  {
   "cell_type": "code",
   "execution_count": 10,
   "metadata": {
    "collapsed": true
   },
   "outputs": [],
   "source": [
    "coaches = pd.read_csv(zf.open('coaches.csv'))"
   ]
  },
  {
   "cell_type": "code",
   "execution_count": 11,
   "metadata": {
    "collapsed": true
   },
   "outputs": [],
   "source": [
    "coaches['year'] = coaches.apply(lambda x: int(x['Year'][:4]), axis = 1)\n",
    "coaches.rename(columns = {'Name':'coach'}, inplace = True)"
   ]
  },
  {
   "cell_type": "markdown",
   "metadata": {},
   "source": [
    "# Create Roster DF"
   ]
  },
  {
   "cell_type": "code",
   "execution_count": 12,
   "metadata": {
    "collapsed": true
   },
   "outputs": [],
   "source": [
    "roster = pd.read_csv(zf.open('roster.csv'))"
   ]
  },
  {
   "cell_type": "code",
   "execution_count": 13,
   "metadata": {
    "collapsed": true
   },
   "outputs": [],
   "source": [
    "roster['year'] = roster.apply(lambda x: int(x['Year'][:4]), axis = 1)"
   ]
  },
  {
   "cell_type": "code",
   "execution_count": 14,
   "metadata": {
    "collapsed": true
   },
   "outputs": [],
   "source": [
    "def yrRecode(data): \n",
    "    yr = {'Fr':0, 'So':1, 'Jr':2, 'Sr':3}\n",
    "    return yr[data]"
   ]
  },
  {
   "cell_type": "code",
   "execution_count": 15,
   "metadata": {
    "collapsed": true
   },
   "outputs": [],
   "source": [
    "roster_by_year = roster[['Team', 'Yr', 'year', 'GS']].groupby(['Team', 'year', 'Yr']).count().reset_index()"
   ]
  },
  {
   "cell_type": "code",
   "execution_count": 16,
   "metadata": {
    "collapsed": true
   },
   "outputs": [],
   "source": [
    "roster_games_started = roster[['Team', 'year', 'Yr', 'GS']].groupby(['Team', 'year', \"Yr\"]).mean().reset_index()"
   ]
  },
  {
   "cell_type": "code",
   "execution_count": 17,
   "metadata": {
    "collapsed": true
   },
   "outputs": [],
   "source": [
    "roster_games_played = roster[['Team', 'year', 'Yr', 'GP']].groupby(['Team', 'year', \"Yr\"]).mean().reset_index()"
   ]
  },
  {
   "cell_type": "code",
   "execution_count": 18,
   "metadata": {
    "collapsed": true
   },
   "outputs": [],
   "source": [
    "roster_final = pd.merge(roster_games_played, \n",
    "                        roster_games_started, \n",
    "                        left_on = ['Team', 'year', 'Yr'], \n",
    "                        right_on = ['Team', 'year', 'Yr'],\n",
    "                        how = 'left'\n",
    "                       )"
   ]
  },
  {
   "cell_type": "code",
   "execution_count": 19,
   "metadata": {
    "collapsed": true
   },
   "outputs": [],
   "source": [
    "roster_final2 = roster_final.set_index(['Team', 'year', 'Yr']).unstack().reset_index()"
   ]
  },
  {
   "cell_type": "code",
   "execution_count": 20,
   "metadata": {
    "collapsed": true
   },
   "outputs": [],
   "source": [
    "columns = [x[0] if x[0] in ['Team', 'year'] else x[0] + \"_\" + x[1] for x in roster_final2.columns.values]\n",
    "roster_final2.columns = columns"
   ]
  },
  {
   "cell_type": "code",
   "execution_count": 21,
   "metadata": {
    "collapsed": true
   },
   "outputs": [],
   "source": [
    "def createvariables(data):\n",
    "    \"\"\"Create Opponent, Home, Win/Loss, Overtime, and Scores\n",
    "    \n",
    "    \"\"\"\n",
    "    regexs = {'WL': \"[WL]\",\n",
    "              'team': [\"\\d+\\s\\-\", \"\\d+\"],\n",
    "              'opponent_score':[\"\\-\\s\\d+\", '\\d+'],\n",
    "              'OT':[\"\\(\\d+OT\\)\", \"\\d+\"], \n",
    "              'opponent':['[\\w\\s]+\\.?\\s\\@\\s\\w+']\n",
    "             }\n",
    "    \n",
    "    # Opponent \n",
    "    if '@' in data['Opponent']: \n",
    "        search = re.search(regexs['opponent'][0], data['Opponent']) \n",
    "        if search: \n",
    "            opponent = data['Opponent'].split(\"@\")[0].strip()\n",
    "            home = 0\n",
    "        else: \n",
    "            opponent = data['Opponent'].replace(\"@\",\"\").strip()\n",
    "            home = 0\n",
    "    else: \n",
    "        opponent = data['Opponent']\n",
    "        home = 1\n",
    "    \n",
    "    \n",
    "    # Win/Loss\n",
    "    WinLoss = re.search(regexs['WL'], data['Result']).group()\n",
    "    \n",
    "    # Overtime \n",
    "    Overtime = 0\n",
    "    re_ot = re.search(regexs['OT'][0], data['Result'])\n",
    "    if re_ot:\n",
    "        Overtime = re.search(regexs['OT'][1], re_ot.group()).group()\n",
    "        \n",
    "    # Team Score\n",
    "    team_score = None\n",
    "    re_team = re.search(regexs['team'][0], data['Result'])\n",
    "    if re_team:\n",
    "        team_score = re.search(regexs['OT'][1], re_team.group()).group()\n",
    "        \n",
    "    # Opponent Score\n",
    "    opponent_score = None\n",
    "    re_opponent = re.search(regexs['opponent_score'][0], data['Result'])\n",
    "    if re_opponent:\n",
    "        opponent_score = re.search(regexs['OT'][1], re_opponent.group()).group()\n",
    "        \n",
    "    return pd.Series([opponent, home, WinLoss, Overtime, team_score, opponent_score])    "
   ]
  },
  {
   "cell_type": "markdown",
   "metadata": {
    "collapsed": true
   },
   "source": [
    "# Start merging"
   ]
  },
  {
   "cell_type": "code",
   "execution_count": 22,
   "metadata": {
    "collapsed": true
   },
   "outputs": [],
   "source": [
    "# Subset the gamebygame files\n",
    "targetfiles = [file for file in filenames if 'gamebygame' in file ]"
   ]
  },
  {
   "cell_type": "code",
   "execution_count": 23,
   "metadata": {
    "collapsed": true
   },
   "outputs": [],
   "source": [
    "# Create a dict of dfs and create a multi-index \n",
    "dfs = {}\n",
    "for f in targetfiles: \n",
    "    filename = f.split(\".\")[0]\n",
    "    dfs[filename] = pd.read_csv(zf.open(f))\n",
    "    dfs[filename]['Date'] = pd.to_datetime(dfs[filename]['Date'])\n",
    "    dfs[filename].set_index(['Team', 'Date', 'OffenseDefense'], inplace = True)"
   ]
  },
  {
   "cell_type": "code",
   "execution_count": 24,
   "metadata": {
    "collapsed": true
   },
   "outputs": [],
   "source": [
    "# Concatenate the data together and drop duplicate column names \n",
    "master = pd.concat([v for k, v in dfs.items()], axis = 1)\n",
    "master = master.loc[:, ~master.columns.duplicated()]"
   ]
  },
  {
   "cell_type": "code",
   "execution_count": 25,
   "metadata": {
    "collapsed": true
   },
   "outputs": [],
   "source": [
    "# Create new variables \n",
    "master[['opponent', 'home', 'WinLoss','Overtime', 'team_score', 'opponent_score']] = master.apply(lambda x: createvariables(x), axis = 1)"
   ]
  },
  {
   "cell_type": "markdown",
   "metadata": {},
   "source": [
    "# Subset Offense Defense"
   ]
  },
  {
   "cell_type": "code",
   "execution_count": 87,
   "metadata": {
    "collapsed": true
   },
   "outputs": [],
   "source": [
    "defense = master[master.index.get_level_values('OffenseDefense') == 'Defense'].copy()"
   ]
  },
  {
   "cell_type": "code",
   "execution_count": 88,
   "metadata": {
    "collapsed": true
   },
   "outputs": [],
   "source": [
    "offense = master[master.index.get_level_values('OffenseDefense') == 'Offense'].copy()"
   ]
  },
  {
   "cell_type": "code",
   "execution_count": 89,
   "metadata": {
    "collapsed": true
   },
   "outputs": [],
   "source": [
    "assert len(defense) == len(offense),  \"Datasets different sizes\""
   ]
  },
  {
   "cell_type": "markdown",
   "metadata": {},
   "source": [
    "# Manipulate"
   ]
  },
  {
   "cell_type": "code",
   "execution_count": 90,
   "metadata": {
    "collapsed": true
   },
   "outputs": [],
   "source": [
    "offense.reset_index(inplace = True)"
   ]
  },
  {
   "cell_type": "code",
   "execution_count": 91,
   "metadata": {
    "collapsed": true
   },
   "outputs": [],
   "source": [
    "offense['year'] = offense['Date'].dt.year"
   ]
  },
  {
   "cell_type": "code",
   "execution_count": 31,
   "metadata": {
    "collapsed": true
   },
   "outputs": [],
   "source": [
    "base = pd.merge(offense,\n",
    "               roster_final2, \n",
    "               left_on = ['Team', 'year'], \n",
    "               right_on = ['Team', 'year'],\n",
    "               how = 'left'\n",
    "              )"
   ]
  },
  {
   "cell_type": "code",
   "execution_count": 32,
   "metadata": {
    "collapsed": true
   },
   "outputs": [],
   "source": [
    "def teamhistory(team, year, duration): \n",
    "    global history\n",
    "    team = team\n",
    "    target_year = year\n",
    "    out = []\n",
    "    # Individual \n",
    "    for yr in duration: \n",
    "        target_year_min = target_year - yr\n",
    "        # Wins/Losses\n",
    "        wins, losses = list(history[(history.Team == team) & \n",
    "                                    (history.year <= target_year) & \n",
    "                                    (history.year >= target_year_min)][['Wins', 'Losses']].sum()\n",
    "                           )\n",
    "        out.extend([wins, losses, wins/(wins+losses)])\n",
    "    # Max \n",
    "    wins, losses = list(history[(history.Team == team)][['Wins', 'Losses']].sum())\n",
    "    out.extend([wins, losses, wins/(wins+losses)])\n",
    "    return pd.Series(out)"
   ]
  },
  {
   "cell_type": "code",
   "execution_count": 33,
   "metadata": {
    "collapsed": true
   },
   "outputs": [],
   "source": [
    "# Add in team historical data \n",
    "yrs = [1, 2, 3, 5, 10]\n",
    "variables = ['history_wins_{yr}yrs', 'history_losses_{yr}yrs', 'history_WL_{yr}yrs']\n",
    "years = [v.format(yr = yr) for yr in yrs for v in variables ]\n",
    "years.extend([v.format(yr = 'max') for v in variables])\n",
    "\n",
    "base[years] = base.apply(lambda x: teamhistory(x['Team'], x['year'], yrs), axis = 1)"
   ]
  },
  {
   "cell_type": "code",
   "execution_count": 34,
   "metadata": {
    "collapsed": true
   },
   "outputs": [],
   "source": [
    "assert len(base) == len(offense), \"Size change during merging\""
   ]
  },
  {
   "cell_type": "code",
   "execution_count": 35,
   "metadata": {
    "collapsed": true
   },
   "outputs": [],
   "source": [
    "coach_teams = coach_links.Team.unique()\n",
    "for team in base.Team.unique(): \n",
    "    if team not in coach_teams: \n",
    "        print(team)"
   ]
  },
  {
   "cell_type": "code",
   "execution_count": 36,
   "metadata": {
    "collapsed": true
   },
   "outputs": [],
   "source": [
    "tmp = pd.merge(base, \n",
    "               coaches_list_fixed, \n",
    "               left_on = ['Team', 'year'], \n",
    "               right_on = ['Team', 'year'], \n",
    "               how = 'left'\n",
    "              )"
   ]
  },
  {
   "cell_type": "code",
   "execution_count": 37,
   "metadata": {
    "collapsed": true
   },
   "outputs": [],
   "source": [
    "assert len(base) == len(tmp), \"Dataset size changed\""
   ]
  },
  {
   "cell_type": "markdown",
   "metadata": {},
   "source": [
    "# Fix the coach history to get the average of coaches"
   ]
  },
  {
   "cell_type": "code",
   "execution_count": 38,
   "metadata": {
    "collapsed": true
   },
   "outputs": [],
   "source": [
    "def coach_history(data, year): \n",
    "    global coaches\n",
    "    t = []\n",
    "    if isinstance(data, list) and len(data) >=1 :\n",
    "        for coach in data: \n",
    "            coach_record = coaches[(coaches.coach == coach) & \n",
    "                                   (coaches.year < year)\n",
    "                                  ][[\"coach\",\"Wins\",\"Losses\",\"WL\",\"year\"]].groupby(\"coach\").agg(['sum', 'count', 'mean'])\n",
    "            coach_record.columns = [x[0] + \"_\" + x[1]  for x in coach_record.columns.values]\n",
    "            coach_record.drop(['Wins_count', 'Wins_mean', 'Losses_count', 'Losses_mean', 'WL_sum', 'WL_count', \n",
    "                                     'year_sum', 'year_mean'], axis=1, inplace = True)\n",
    "            coach_record.rename(columns = {'Wins_sum':\"Coach_wins\", \n",
    "                                           \"Losses_sum\":\"Coach_losses\", \n",
    "                                           \"WL_mean\":\"Coach_WL\", \n",
    "                                           \"year_count\":\"Coach_years\"\n",
    "                                          },\n",
    "                                inplace = True\n",
    "                               )\n",
    "            t.append(coach_record.to_dict(orient='record')[0])\n",
    "    \n",
    "        out = pd.Series(pd.DataFrame(t).mean().to_dict())\n",
    "    else: \n",
    "        out = pd.Series({'Coach_wins':None, \n",
    "                         \"Coach_losses\":None, \n",
    "                         \"Coach_WL\":None, \n",
    "                         \"Coach_years\":None\n",
    "                        })\n",
    "    return out"
   ]
  },
  {
   "cell_type": "code",
   "execution_count": 39,
   "metadata": {},
   "outputs": [],
   "source": [
    "coach_variables = ['Coach_wins', 'Coach_losses', 'Coach_WL', 'Coach_years']\n",
    "tmp = tmp.copy()\n",
    "tmp[coach_variables] = tmp.apply(lambda x: coach_history(x['coach'], x['year']), axis = 1)"
   ]
  },
  {
   "cell_type": "markdown",
   "metadata": {},
   "source": [
    "# Edit Defense"
   ]
  },
  {
   "cell_type": "code",
   "execution_count": 92,
   "metadata": {},
   "outputs": [],
   "source": [
    "defense.columns = ['def_' + x for x in defense.columns]\n",
    "defense.reset_index(inplace = True)"
   ]
  },
  {
   "cell_type": "code",
   "execution_count": 93,
   "metadata": {},
   "outputs": [],
   "source": [
    "defense['year'] = defense['Date'].dt.year"
   ]
  },
  {
   "cell_type": "markdown",
   "metadata": {},
   "source": [
    "# Merge offense defense"
   ]
  },
  {
   "cell_type": "code",
   "execution_count": 95,
   "metadata": {
    "collapsed": true
   },
   "outputs": [],
   "source": [
    "assert len(tmp) == len(defense), \"Dataset file difference\""
   ]
  },
  {
   "cell_type": "code",
   "execution_count": 101,
   "metadata": {},
   "outputs": [],
   "source": [
    "final = pd.merge(tmp, \n",
    "                 defense, \n",
    "                 left_on = ['Team', 'Date'],\n",
    "                 right_on = ['Team', 'Date'],\n",
    "                 how = 'left'\n",
    "                )"
   ]
  },
  {
   "cell_type": "code",
   "execution_count": null,
   "metadata": {
    "collapsed": true
   },
   "outputs": [],
   "source": []
  }
 ],
 "metadata": {
  "kernelspec": {
   "display_name": "Python 3",
   "language": "python",
   "name": "python3"
  },
  "language_info": {
   "codemirror_mode": {
    "name": "ipython",
    "version": 3
   },
   "file_extension": ".py",
   "mimetype": "text/x-python",
   "name": "python",
   "nbconvert_exporter": "python",
   "pygments_lexer": "ipython3",
   "version": "3.6.1"
  }
 },
 "nbformat": 4,
 "nbformat_minor": 2
}
