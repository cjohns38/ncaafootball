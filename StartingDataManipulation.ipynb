{
 "cells": [
  {
   "cell_type": "code",
   "execution_count": 1,
   "metadata": {
    "collapsed": true
   },
   "outputs": [],
   "source": [
    "import zipfile, os, re\n",
    "import pandas as pd\n",
    "import numpy as np "
   ]
  },
  {
   "cell_type": "code",
   "execution_count": 4,
   "metadata": {},
   "outputs": [],
   "source": [
    "_file = os.path.join('ncaa_football_scrapy','Data', 'Data.zip')\n",
    "zf = zipfile.ZipFile(_file)\n",
    "filenames = zf.namelist()"
   ]
  },
  {
   "cell_type": "code",
   "execution_count": 5,
   "metadata": {},
   "outputs": [
    {
     "data": {
      "text/plain": [
       "['all-purposeyards.csv',\n",
       " 'coaches.csv',\n",
       " 'defense.csv',\n",
       " 'fumbles.csv',\n",
       " 'gamebygame_allpurposeyards.csv',\n",
       " 'gamebygame_defense.csv',\n",
       " 'gamebygame_fumbles.csv',\n",
       " 'gamebygame_kicking.csv',\n",
       " 'gamebygame_kickoffsandkoreturns.csv',\n",
       " 'gamebygame_participation.csv',\n",
       " 'gamebygame_passesdefended.csv',\n",
       " 'gamebygame_passing.csv',\n",
       " 'gamebygame_punting.csv',\n",
       " 'gamebygame_puntreturns.csv',\n",
       " 'gamebygame_receiving.csv',\n",
       " 'gamebygame_redzone.csv',\n",
       " 'gamebygame_sacks.csv',\n",
       " 'gamebygame_scoring.csv',\n",
       " 'gamebygame_tackles.csv',\n",
       " 'gamebygame_totaloffense.csv',\n",
       " 'gamebygame_turnovermargin.csv',\n",
       " 'history.csv',\n",
       " 'individualleaders.csv',\n",
       " 'kicking.csv',\n",
       " 'kickoffsandkoreturns.csv',\n",
       " 'participation.csv',\n",
       " 'passesdefended.csv',\n",
       " 'passing.csv',\n",
       " 'punting.csv',\n",
       " 'puntreturns.csv',\n",
       " 'receiving.csv',\n",
       " 'redzone.csv',\n",
       " 'results.csv',\n",
       " 'roster.csv',\n",
       " 'rushing.csv',\n",
       " 'sacks.csv',\n",
       " 'scoring.csv',\n",
       " 'tackles.csv',\n",
       " 'teamstats.csv',\n",
       " 'totaloffense.csv',\n",
       " 'turnovermargin.csv',\n",
       " 'yearly_allpurposeyards.csv',\n",
       " 'yearly_defense.csv',\n",
       " 'yearly_fumbles.csv',\n",
       " 'yearly_kicking.csv',\n",
       " 'yearly_kickoffsandkoreturns.csv',\n",
       " 'yearly_participation.csv',\n",
       " 'yearly_passesdefended.csv',\n",
       " 'yearly_passing.csv',\n",
       " 'yearly_punting.csv',\n",
       " 'yearly_puntreturns.csv',\n",
       " 'yearly_receiving.csv',\n",
       " 'yearly_redzone.csv',\n",
       " 'yearly_sacks.csv',\n",
       " 'yearly_scoring.csv',\n",
       " 'yearly_tackles.csv',\n",
       " 'yearly_totaloffense.csv',\n",
       " 'yearly_turnovermargin.csv']"
      ]
     },
     "execution_count": 5,
     "metadata": {},
     "output_type": "execute_result"
    }
   ],
   "source": [
    "filenames"
   ]
  },
  {
   "cell_type": "markdown",
   "metadata": {},
   "source": [
    "# History"
   ]
  },
  {
   "cell_type": "code",
   "execution_count": 7,
   "metadata": {},
   "outputs": [],
   "source": [
    "history = pd.read_csv(zf.open('history.csv'))"
   ]
  },
  {
   "cell_type": "code",
   "execution_count": 8,
   "metadata": {
    "collapsed": true
   },
   "outputs": [],
   "source": [
    "history['year_new'] = history.apply(lambda x: int(x['Year'][:4]), axis = 1)"
   ]
  },
  {
   "cell_type": "code",
   "execution_count": 9,
   "metadata": {
    "collapsed": true
   },
   "outputs": [],
   "source": [
    "history_trimmed = history[['Team', \"Wins\", \"Losses\", \"year_new\", \"WL\"]]"
   ]
  },
  {
   "cell_type": "code",
   "execution_count": 10,
   "metadata": {
    "collapsed": true
   },
   "outputs": [],
   "source": [
    "team = 'Nebraska Cornhuskers, Huskers'\n",
    "target_year = 2016\n",
    "target_year_min = target_year - 3"
   ]
  },
  {
   "cell_type": "code",
   "execution_count": 11,
   "metadata": {},
   "outputs": [
    {
     "data": {
      "text/plain": [
       "WL    0.6345\n",
       "dtype: float64"
      ]
     },
     "execution_count": 11,
     "metadata": {},
     "output_type": "execute_result"
    }
   ],
   "source": [
    "history[(history.Team == team) & (history.year_new <= target_year) & (history.year_new >= target_year_min)\n",
    "       ][['WL']].mean()"
   ]
  },
  {
   "cell_type": "markdown",
   "metadata": {},
   "source": [
    "# Coach"
   ]
  },
  {
   "cell_type": "code",
   "execution_count": 12,
   "metadata": {
    "collapsed": true
   },
   "outputs": [],
   "source": [
    "coaches = pd.read_csv(zf.open('coaches.csv'))"
   ]
  },
  {
   "cell_type": "code",
   "execution_count": 13,
   "metadata": {
    "collapsed": true
   },
   "outputs": [],
   "source": [
    "coaches['year_new'] = coaches.apply(lambda x: int(x['Year'][:4]), axis = 1)"
   ]
  },
  {
   "cell_type": "code",
   "execution_count": 14,
   "metadata": {
    "collapsed": true
   },
   "outputs": [],
   "source": [
    "coach = 'Bob Diaco'\n",
    "target_year = 2016"
   ]
  },
  {
   "cell_type": "code",
   "execution_count": 15,
   "metadata": {
    "collapsed": true
   },
   "outputs": [],
   "source": [
    "coach_record = coaches[(coaches.Name == coach) & (coaches.year_new <= target_year)][[\"Name\",\"Wins\",\"Losses\",\"WL\",\"year_new\"]].groupby(\"Name\").agg(['sum', 'count', 'mean'])"
   ]
  },
  {
   "cell_type": "code",
   "execution_count": 16,
   "metadata": {
    "collapsed": true
   },
   "outputs": [],
   "source": [
    "coach_record.columns = [x[0] + \"_\" + x[1]  for x in coach_record.columns.values]"
   ]
  },
  {
   "cell_type": "code",
   "execution_count": 17,
   "metadata": {
    "collapsed": true
   },
   "outputs": [],
   "source": [
    "coach_record.drop(['Wins_count', 'Wins_mean', 'Losses_count', 'Losses_mean', 'WL_sum', 'WL_count', \n",
    "                             'year_new_sum', 'year_new_mean'], axis=1, inplace = True)"
   ]
  },
  {
   "cell_type": "code",
   "execution_count": 18,
   "metadata": {
    "collapsed": true
   },
   "outputs": [],
   "source": [
    "coach_record['total_games'] = coach_record.Wins_sum + coach_record.Losses_sum\n",
    "coach_record.reset_index(inplace = True)"
   ]
  },
  {
   "cell_type": "code",
   "execution_count": 19,
   "metadata": {},
   "outputs": [
    {
     "data": {
      "text/html": [
       "<div>\n",
       "<style>\n",
       "    .dataframe thead tr:only-child th {\n",
       "        text-align: right;\n",
       "    }\n",
       "\n",
       "    .dataframe thead th {\n",
       "        text-align: left;\n",
       "    }\n",
       "\n",
       "    .dataframe tbody tr th {\n",
       "        vertical-align: top;\n",
       "    }\n",
       "</style>\n",
       "<table border=\"1\" class=\"dataframe\">\n",
       "  <thead>\n",
       "    <tr style=\"text-align: right;\">\n",
       "      <th></th>\n",
       "      <th>Name</th>\n",
       "      <th>Wins_sum</th>\n",
       "      <th>Losses_sum</th>\n",
       "      <th>WL_mean</th>\n",
       "      <th>year_new_count</th>\n",
       "      <th>total_games</th>\n",
       "    </tr>\n",
       "  </thead>\n",
       "  <tbody>\n",
       "    <tr>\n",
       "      <th>0</th>\n",
       "      <td>Bob Diaco</td>\n",
       "      <td>11.0</td>\n",
       "      <td>26.0</td>\n",
       "      <td>0.293</td>\n",
       "      <td>3</td>\n",
       "      <td>37.0</td>\n",
       "    </tr>\n",
       "  </tbody>\n",
       "</table>\n",
       "</div>"
      ],
      "text/plain": [
       "        Name  Wins_sum  Losses_sum  WL_mean  year_new_count  total_games\n",
       "0  Bob Diaco      11.0        26.0    0.293               3         37.0"
      ]
     },
     "execution_count": 19,
     "metadata": {},
     "output_type": "execute_result"
    }
   ],
   "source": [
    "coach_record.head()"
   ]
  },
  {
   "cell_type": "markdown",
   "metadata": {},
   "source": [
    "# Roster"
   ]
  },
  {
   "cell_type": "code",
   "execution_count": 20,
   "metadata": {
    "collapsed": true
   },
   "outputs": [],
   "source": [
    "roster = pd.read_csv(zf.open('roster.csv'))"
   ]
  },
  {
   "cell_type": "code",
   "execution_count": 21,
   "metadata": {
    "collapsed": true
   },
   "outputs": [],
   "source": [
    "roster['year_new'] = roster.apply(lambda x: int(x['Year'][:4]), axis = 1)"
   ]
  },
  {
   "cell_type": "code",
   "execution_count": 22,
   "metadata": {
    "collapsed": true
   },
   "outputs": [],
   "source": [
    "def yrRecode(data): \n",
    "    yr = {'Fr':0, 'So':1, 'Jr':2, 'Sr':3}\n",
    "    return yr[data]"
   ]
  },
  {
   "cell_type": "code",
   "execution_count": 23,
   "metadata": {
    "collapsed": true
   },
   "outputs": [],
   "source": [
    "roster['Yr_N'] = roster.apply(lambda x: yrRecode(x['Yr']) if pd.notnull(x['Yr']) else None, axis = 1)"
   ]
  },
  {
   "cell_type": "code",
   "execution_count": 24,
   "metadata": {
    "collapsed": true
   },
   "outputs": [],
   "source": [
    "roster_by_year = roster[['Team', 'Yr', 'year_new', 'GS']].groupby(['Team', 'year_new', 'Yr']).count().reset_index()"
   ]
  },
  {
   "cell_type": "code",
   "execution_count": 25,
   "metadata": {
    "collapsed": true
   },
   "outputs": [],
   "source": [
    "roster_games_started = roster[['Team', 'year_new', 'Yr', 'GS']].groupby(['Team', 'year_new', \"Yr\"]).mean().reset_index()"
   ]
  },
  {
   "cell_type": "code",
   "execution_count": 26,
   "metadata": {
    "collapsed": true
   },
   "outputs": [],
   "source": [
    "roster_games_played = roster[['Team', 'year_new', 'Yr', 'GP']].groupby(['Team', 'year_new', \"Yr\"]).mean().reset_index()"
   ]
  },
  {
   "cell_type": "code",
   "execution_count": 27,
   "metadata": {
    "collapsed": true
   },
   "outputs": [],
   "source": [
    "roster_final = pd.merge(roster_games_played, \n",
    "                        roster_games_started, \n",
    "                        left_on = ['Team', 'year_new', 'Yr'], \n",
    "                        right_on = ['Team', 'year_new', 'Yr'],\n",
    "                        how = 'left'\n",
    "                       )"
   ]
  },
  {
   "cell_type": "code",
   "execution_count": 28,
   "metadata": {
    "collapsed": true
   },
   "outputs": [],
   "source": [
    "roster_final2 = roster_final.set_index(['Team', 'year_new', 'Yr']).unstack().reset_index()"
   ]
  },
  {
   "cell_type": "code",
   "execution_count": 29,
   "metadata": {
    "collapsed": true
   },
   "outputs": [],
   "source": [
    "columns = [x[0] if x[0] in ['Team', 'year_new'] else x[0] + \"_\" + x[1] for x in roster_final2.columns.values]\n",
    "roster_final2.columns = columns"
   ]
  },
  {
   "cell_type": "markdown",
   "metadata": {},
   "source": [
    "# Results"
   ]
  },
  {
   "cell_type": "code",
   "execution_count": 30,
   "metadata": {
    "collapsed": true
   },
   "outputs": [],
   "source": [
    "game_by_game_results = pd.read_csv(zf.open('results.csv'))"
   ]
  },
  {
   "cell_type": "code",
   "execution_count": 31,
   "metadata": {
    "collapsed": true
   },
   "outputs": [],
   "source": [
    "game_by_game_results['homeaway'] = game_by_game_results.apply(lambda x: 'Away' if '@' in x['Opponent'] else 'Home', axis = 1 )"
   ]
  },
  {
   "cell_type": "code",
   "execution_count": 32,
   "metadata": {
    "collapsed": true
   },
   "outputs": [],
   "source": [
    "def extractData(data): \n",
    "    regexs = {'WL': \"[WL]\",\n",
    "              'team': [\"\\d+\\s\\-\", \"\\d+\"],\n",
    "              'opponent':[\"\\-\\s\\d+\", '\\d+'],\n",
    "              'OT':[\"\\(\\d+OT\\)\", \"\\d+\"], \n",
    "             }\n",
    "    \n",
    "    # Win/Loss\n",
    "    WinLoss = re.search(regexs['WL'], data).group()\n",
    "    \n",
    "    # Overtime \n",
    "    Overtime = 0\n",
    "    re_ot = re.search(regexs['OT'][0], data)\n",
    "    if re_ot:\n",
    "        Overtime = re.search(regexs['OT'][1], re_ot.group()).group()\n",
    "        \n",
    "    # Team\n",
    "    team_score = None\n",
    "    re_team = re.search(regexs['team'][0], data)\n",
    "    if re_team:\n",
    "        team_score = re.search(regexs['OT'][1], re_team.group()).group()\n",
    "        \n",
    "    # Opponent \n",
    "    opponent_score = None\n",
    "    re_opponent = re.search(regexs['opponent'][0], data)\n",
    "    if re_opponent:\n",
    "        opponent_score = re.search(regexs['OT'][1], re_opponent.group()).group()\n",
    "        \n",
    "    return pd.Series([WinLoss, Overtime, team_score, opponent_score])    "
   ]
  },
  {
   "cell_type": "code",
   "execution_count": 33,
   "metadata": {
    "collapsed": true
   },
   "outputs": [],
   "source": [
    "game_by_game_results[['WinLoss','Overtime', 'team_score', 'opponent_score']]=game_by_game_results.apply(lambda x: extractData(x['Result']), axis = 1)"
   ]
  },
  {
   "cell_type": "code",
   "execution_count": 46,
   "metadata": {
    "collapsed": true
   },
   "outputs": [],
   "source": [
    "def opponent(data): \n",
    "    regex = '[\\w\\s]+\\.?\\s\\@\\s\\w+'\n",
    "    if '@' in data: \n",
    "        search = re.search(regex, data) \n",
    "        if search: \n",
    "            return data.split(\"@\")[0].strip()\n",
    "        else: \n",
    "            return data.replace(\"@\",\"\").strip()\n",
    "    else: \n",
    "        return data"
   ]
  },
  {
   "cell_type": "code",
   "execution_count": 47,
   "metadata": {},
   "outputs": [],
   "source": [
    "game_by_game_results['opp2'] = game_by_game_results.apply(lambda x: opponent(x['Opponent']), axis = 1)"
   ]
  },
  {
   "cell_type": "code",
   "execution_count": 49,
   "metadata": {},
   "outputs": [
    {
     "data": {
      "text/html": [
       "<div>\n",
       "<style>\n",
       "    .dataframe thead tr:only-child th {\n",
       "        text-align: right;\n",
       "    }\n",
       "\n",
       "    .dataframe thead th {\n",
       "        text-align: left;\n",
       "    }\n",
       "\n",
       "    .dataframe tbody tr th {\n",
       "        vertical-align: top;\n",
       "    }\n",
       "</style>\n",
       "<table border=\"1\" class=\"dataframe\">\n",
       "  <thead>\n",
       "    <tr style=\"text-align: right;\">\n",
       "      <th></th>\n",
       "      <th>Date</th>\n",
       "      <th>Opponent</th>\n",
       "      <th>Result</th>\n",
       "      <th>Team</th>\n",
       "      <th>homeaway</th>\n",
       "      <th>WinLoss</th>\n",
       "      <th>Overtime</th>\n",
       "      <th>team_score</th>\n",
       "      <th>opponent_score</th>\n",
       "      <th>opp2</th>\n",
       "    </tr>\n",
       "  </thead>\n",
       "  <tbody>\n",
       "    <tr>\n",
       "      <th>0</th>\n",
       "      <td>08/29/2013</td>\n",
       "      <td>@ UCF</td>\n",
       "      <td>L 7 - 38</td>\n",
       "      <td>Akron  Zips</td>\n",
       "      <td>Away</td>\n",
       "      <td>L</td>\n",
       "      <td>0</td>\n",
       "      <td>7</td>\n",
       "      <td>38</td>\n",
       "      <td>UCF</td>\n",
       "    </tr>\n",
       "    <tr>\n",
       "      <th>1</th>\n",
       "      <td>09/07/2013</td>\n",
       "      <td>James Madison</td>\n",
       "      <td>W 35 - 33</td>\n",
       "      <td>Akron  Zips</td>\n",
       "      <td>Home</td>\n",
       "      <td>W</td>\n",
       "      <td>0</td>\n",
       "      <td>35</td>\n",
       "      <td>33</td>\n",
       "      <td>James Madison</td>\n",
       "    </tr>\n",
       "    <tr>\n",
       "      <th>2</th>\n",
       "      <td>09/14/2013</td>\n",
       "      <td>@ Michigan</td>\n",
       "      <td>L 24 - 28</td>\n",
       "      <td>Akron  Zips</td>\n",
       "      <td>Away</td>\n",
       "      <td>L</td>\n",
       "      <td>0</td>\n",
       "      <td>24</td>\n",
       "      <td>28</td>\n",
       "      <td>Michigan</td>\n",
       "    </tr>\n",
       "    <tr>\n",
       "      <th>3</th>\n",
       "      <td>09/21/2013</td>\n",
       "      <td>Louisiana</td>\n",
       "      <td>L 30 - 35</td>\n",
       "      <td>Akron  Zips</td>\n",
       "      <td>Home</td>\n",
       "      <td>L</td>\n",
       "      <td>0</td>\n",
       "      <td>30</td>\n",
       "      <td>35</td>\n",
       "      <td>Louisiana</td>\n",
       "    </tr>\n",
       "    <tr>\n",
       "      <th>4</th>\n",
       "      <td>09/28/2013</td>\n",
       "      <td>@ Bowling Green</td>\n",
       "      <td>L 14 - 31</td>\n",
       "      <td>Akron  Zips</td>\n",
       "      <td>Away</td>\n",
       "      <td>L</td>\n",
       "      <td>0</td>\n",
       "      <td>14</td>\n",
       "      <td>31</td>\n",
       "      <td>Bowling Green</td>\n",
       "    </tr>\n",
       "  </tbody>\n",
       "</table>\n",
       "</div>"
      ],
      "text/plain": [
       "         Date         Opponent     Result         Team homeaway WinLoss  \\\n",
       "0  08/29/2013            @ UCF   L 7 - 38  Akron  Zips     Away       L   \n",
       "1  09/07/2013    James Madison  W 35 - 33  Akron  Zips     Home       W   \n",
       "2  09/14/2013       @ Michigan  L 24 - 28  Akron  Zips     Away       L   \n",
       "3  09/21/2013        Louisiana  L 30 - 35  Akron  Zips     Home       L   \n",
       "4  09/28/2013  @ Bowling Green  L 14 - 31  Akron  Zips     Away       L   \n",
       "\n",
       "  Overtime team_score opponent_score           opp2  \n",
       "0        0          7             38            UCF  \n",
       "1        0         35             33  James Madison  \n",
       "2        0         24             28       Michigan  \n",
       "3        0         30             35      Louisiana  \n",
       "4        0         14             31  Bowling Green  "
      ]
     },
     "execution_count": 49,
     "metadata": {},
     "output_type": "execute_result"
    }
   ],
   "source": [
    "game_by_game_results.head()"
   ]
  },
  {
   "cell_type": "code",
   "execution_count": null,
   "metadata": {
    "collapsed": true
   },
   "outputs": [],
   "source": []
  }
 ],
 "metadata": {
  "kernelspec": {
   "display_name": "Python 3",
   "language": "python",
   "name": "python3"
  },
  "language_info": {
   "codemirror_mode": {
    "name": "ipython",
    "version": 3
   },
   "file_extension": ".py",
   "mimetype": "text/x-python",
   "name": "python",
   "nbconvert_exporter": "python",
   "pygments_lexer": "ipython3",
   "version": "3.6.1"
  }
 },
 "nbformat": 4,
 "nbformat_minor": 2
}
