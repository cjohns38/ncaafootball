{
 "cells": [
  {
   "cell_type": "code",
   "execution_count": 1,
   "metadata": {
    "collapsed": true
   },
   "outputs": [],
   "source": [
    "import zipfile, os, re, datetime\n",
    "import pandas as pd\n",
    "import numpy as np "
   ]
  },
  {
   "cell_type": "markdown",
   "metadata": {},
   "source": [
    "# Read in the fooball data"
   ]
  },
  {
   "cell_type": "code",
   "execution_count": 2,
   "metadata": {
    "collapsed": true
   },
   "outputs": [],
   "source": [
    "_file = os.path.join('ncaa_football_scrapy','Data', 'Data.zip')\n",
    "zf = zipfile.ZipFile(_file)\n",
    "filenames = zf.namelist()"
   ]
  },
  {
   "cell_type": "markdown",
   "metadata": {},
   "source": [
    "# Create Program History DF"
   ]
  },
  {
   "cell_type": "code",
   "execution_count": 3,
   "metadata": {
    "collapsed": true
   },
   "outputs": [],
   "source": [
    "history = pd.read_csv(zf.open('history.csv'))"
   ]
  },
  {
   "cell_type": "code",
   "execution_count": 4,
   "metadata": {
    "collapsed": true
   },
   "outputs": [],
   "source": [
    "history['year'] = history.apply(lambda x: int(x['Year'][:4]), axis = 1)"
   ]
  },
  {
   "cell_type": "markdown",
   "metadata": {},
   "source": [
    "# Coach links"
   ]
  },
  {
   "cell_type": "code",
   "execution_count": 5,
   "metadata": {
    "collapsed": true
   },
   "outputs": [],
   "source": [
    "coach_links = pd.read_csv(os.path.join(\"ncaa_football_scrapy\", \"Links\", \"links_teaminfo.csv\"))\n",
    "coach_links = coach_links.rename(columns={\"txt\":\"coach\", 'team':\"Team\"})\n",
    "coach_links = coach_links[coach_links.key == 'people'][['Team', 'coach', 'year']]\n",
    "coach_links['Team'] = coach_links.Team.str.replace(\"  \", \" \")"
   ]
  },
  {
   "cell_type": "markdown",
   "metadata": {},
   "source": [
    "# Account for coaches who get fired in the season"
   ]
  },
  {
   "cell_type": "code",
   "execution_count": 6,
   "metadata": {
    "collapsed": true
   },
   "outputs": [],
   "source": [
    "coach_dict = coach_links.to_dict(orient='record')"
   ]
  },
  {
   "cell_type": "code",
   "execution_count": 7,
   "metadata": {
    "collapsed": true
   },
   "outputs": [],
   "source": [
    "coach_fixed = {}\n",
    "for x in coach_dict: \n",
    "    if x['year'] not in coach_fixed: \n",
    "        coach_fixed[x['year']] = {}\n",
    "    if x['Team'] not in coach_fixed[x['year']]: \n",
    "        coach_fixed[x['year']][x['Team']] = []\n",
    "    coach_fixed[x['year']][x['Team']].append(x['coach'])"
   ]
  },
  {
   "cell_type": "code",
   "execution_count": 8,
   "metadata": {
    "collapsed": true
   },
   "outputs": [],
   "source": [
    "coaches_list = []\n",
    "for yr, teams in coach_fixed.items(): \n",
    "    for team, coaches in teams.items(): \n",
    "        tmp = {'year':yr, 'Team':team, 'coach':coaches}\n",
    "        coaches_list.append(tmp)"
   ]
  },
  {
   "cell_type": "code",
   "execution_count": 9,
   "metadata": {
    "collapsed": true
   },
   "outputs": [],
   "source": [
    "coaches_list_fixed = pd.DataFrame(coaches_list)"
   ]
  },
  {
   "cell_type": "markdown",
   "metadata": {},
   "source": [
    "# Create Coach DF "
   ]
  },
  {
   "cell_type": "code",
   "execution_count": 10,
   "metadata": {
    "collapsed": true
   },
   "outputs": [],
   "source": [
    "coaches = pd.read_csv(zf.open('coaches.csv'))"
   ]
  },
  {
   "cell_type": "code",
   "execution_count": 11,
   "metadata": {
    "collapsed": true
   },
   "outputs": [],
   "source": [
    "coaches['year'] = coaches.apply(lambda x: int(x['Year'][:4]), axis = 1)\n",
    "coaches.rename(columns = {'Name':'coach'}, inplace = True)"
   ]
  },
  {
   "cell_type": "markdown",
   "metadata": {},
   "source": [
    "# Create Roster DF"
   ]
  },
  {
   "cell_type": "code",
   "execution_count": 12,
   "metadata": {
    "collapsed": true
   },
   "outputs": [],
   "source": [
    "roster = pd.read_csv(zf.open('roster.csv'))"
   ]
  },
  {
   "cell_type": "code",
   "execution_count": 13,
   "metadata": {
    "collapsed": true
   },
   "outputs": [],
   "source": [
    "roster['year'] = roster.apply(lambda x: int(x['Year'][:4]), axis = 1)"
   ]
  },
  {
   "cell_type": "code",
   "execution_count": 14,
   "metadata": {
    "collapsed": true
   },
   "outputs": [],
   "source": [
    "def yrRecode(data): \n",
    "    yr = {'Fr':0, 'So':1, 'Jr':2, 'Sr':3}\n",
    "    return yr[data]"
   ]
  },
  {
   "cell_type": "code",
   "execution_count": 15,
   "metadata": {
    "collapsed": true
   },
   "outputs": [],
   "source": [
    "roster_by_year = roster[['Team', 'Yr', 'year', 'GS']].groupby(['Team', 'year', 'Yr']).count().reset_index()"
   ]
  },
  {
   "cell_type": "code",
   "execution_count": 16,
   "metadata": {
    "collapsed": true
   },
   "outputs": [],
   "source": [
    "roster_games_started = roster[['Team', 'year', 'Yr', 'GS']].groupby(['Team', 'year', \"Yr\"]).mean().reset_index()"
   ]
  },
  {
   "cell_type": "code",
   "execution_count": 17,
   "metadata": {
    "collapsed": true
   },
   "outputs": [],
   "source": [
    "roster_games_played = roster[['Team', 'year', 'Yr', 'GP']].groupby(['Team', 'year', \"Yr\"]).mean().reset_index()"
   ]
  },
  {
   "cell_type": "code",
   "execution_count": 18,
   "metadata": {
    "collapsed": true
   },
   "outputs": [],
   "source": [
    "roster_final = pd.merge(roster_games_played, \n",
    "                        roster_games_started, \n",
    "                        left_on = ['Team', 'year', 'Yr'], \n",
    "                        right_on = ['Team', 'year', 'Yr'],\n",
    "                        how = 'left'\n",
    "                       )"
   ]
  },
  {
   "cell_type": "code",
   "execution_count": 19,
   "metadata": {
    "collapsed": true
   },
   "outputs": [],
   "source": [
    "roster_final2 = roster_final.set_index(['Team', 'year', 'Yr']).unstack().reset_index()"
   ]
  },
  {
   "cell_type": "code",
   "execution_count": 20,
   "metadata": {
    "collapsed": true
   },
   "outputs": [],
   "source": [
    "columns = [x[0] if x[0] in ['Team', 'year'] else x[0] + \"_\" + x[1] for x in roster_final2.columns.values]\n",
    "roster_final2.columns = columns"
   ]
  },
  {
   "cell_type": "code",
   "execution_count": 21,
   "metadata": {
    "collapsed": true
   },
   "outputs": [],
   "source": [
    "def createvariables(data):\n",
    "    \"\"\"Create Opponent, Home, Win/Loss, Overtime, and Scores\n",
    "    \n",
    "    \"\"\"\n",
    "    regexs = {'WL': \"[WL]\",\n",
    "              'team': [\"\\d+\\s\\-\", \"\\d+\"],\n",
    "              'opponent_score':[\"\\-\\s\\d+\", '\\d+'],\n",
    "              'OT':[\"\\(\\d+OT\\)\", \"\\d+\"], \n",
    "              'opponent':['[\\w\\s]+\\.?\\s\\@\\s\\w+']\n",
    "             }\n",
    "    \n",
    "    # Opponent \n",
    "    if '@' in data['Opponent']: \n",
    "        search = re.search(regexs['opponent'][0], data['Opponent']) \n",
    "        if search: \n",
    "            opponent = data['Opponent'].split(\"@\")[0].strip()\n",
    "            home = 0\n",
    "        else: \n",
    "            opponent = data['Opponent'].replace(\"@\",\"\").strip()\n",
    "            home = 0\n",
    "    else: \n",
    "        opponent = data['Opponent']\n",
    "        home = 1\n",
    "    \n",
    "    \n",
    "    # Win/Loss\n",
    "    WinLoss = re.search(regexs['WL'], data['Result']).group()\n",
    "    \n",
    "    # Overtime \n",
    "    Overtime = 0\n",
    "    re_ot = re.search(regexs['OT'][0], data['Result'])\n",
    "    if re_ot:\n",
    "        Overtime = re.search(regexs['OT'][1], re_ot.group()).group()\n",
    "        \n",
    "    # Team Score\n",
    "    team_score = None\n",
    "    re_team = re.search(regexs['team'][0], data['Result'])\n",
    "    if re_team:\n",
    "        team_score = re.search(regexs['OT'][1], re_team.group()).group()\n",
    "        \n",
    "    # Opponent Score\n",
    "    opponent_score = None\n",
    "    re_opponent = re.search(regexs['opponent_score'][0], data['Result'])\n",
    "    if re_opponent:\n",
    "        opponent_score = re.search(regexs['OT'][1], re_opponent.group()).group()\n",
    "        \n",
    "    return pd.Series([opponent, home, WinLoss, Overtime, team_score, opponent_score])    "
   ]
  },
  {
   "cell_type": "markdown",
   "metadata": {
    "collapsed": true
   },
   "source": [
    "# Start merging"
   ]
  },
  {
   "cell_type": "code",
   "execution_count": 22,
   "metadata": {
    "collapsed": true
   },
   "outputs": [],
   "source": [
    "# Subset the gamebygame files\n",
    "targetfiles = [file for file in filenames if 'gamebygame' in file ]"
   ]
  },
  {
   "cell_type": "code",
   "execution_count": 23,
   "metadata": {
    "collapsed": true
   },
   "outputs": [],
   "source": [
    "idx = targetfiles.index('gamebygame_teamnames.csv')\n",
    "targetfiles.pop(idx);"
   ]
  },
  {
   "cell_type": "code",
   "execution_count": 24,
   "metadata": {
    "collapsed": true
   },
   "outputs": [],
   "source": [
    "# Create a dict of dfs and create a multi-index \n",
    "dfs = {}\n",
    "for f in targetfiles: \n",
    "    filename = f.split(\".\")[0]\n",
    "    dfs[filename] = pd.read_csv(zf.open(f))\n",
    "    dfs[filename]['Date'] = pd.to_datetime(dfs[filename]['Date'])\n",
    "    dfs[filename].set_index(['Team', 'Date', 'OffenseDefense'], inplace = True)"
   ]
  },
  {
   "cell_type": "code",
   "execution_count": 25,
   "metadata": {
    "collapsed": true
   },
   "outputs": [],
   "source": [
    "# Concatenate the data together and drop duplicate column names \n",
    "master = pd.concat([v for k, v in dfs.items()], axis = 1)\n",
    "master = master.loc[:, ~master.columns.duplicated()]"
   ]
  },
  {
   "cell_type": "code",
   "execution_count": 26,
   "metadata": {
    "collapsed": true
   },
   "outputs": [],
   "source": [
    "def fixTOP(row):\n",
    "    \"\"\" Fix time of possession\"\"\"\n",
    "    if isinstance(row, str) == True and \":\" in row: \n",
    "        _all = row.split(\":\")\n",
    "        _min = int(_all[0]) * 60 \n",
    "        _sec = int(_all[1]) \n",
    "        total_seconds = _min + _sec\n",
    "    else: \n",
    "        total_seconds = int(row)\n",
    "    val = \"{}\".format(datetime.timedelta(seconds=total_seconds))\n",
    "    return pd.Series([val])"
   ]
  },
  {
   "cell_type": "code",
   "execution_count": 27,
   "metadata": {
    "collapsed": true
   },
   "outputs": [],
   "source": [
    "def removeSlashes(row):\n",
    "    \"\"\" Remove slashes from some of the variables\"\"\"\n",
    "    global cols\n",
    "    out = []\n",
    "    for cell in cols[3:]:\n",
    "        if cell == 'TOP': \n",
    "            out.append(row[cell])\n",
    "        elif isinstance(row[cell], str) and '/' in row[cell]:\n",
    "            tmp = row[cell].replace(\"/\", \"\")\n",
    "            out.append(float(tmp))\n",
    "        else: \n",
    "            out.append(row[cell])\n",
    "    return pd.Series(out)"
   ]
  },
  {
   "cell_type": "code",
   "execution_count": 28,
   "metadata": {
    "collapsed": true
   },
   "outputs": [],
   "source": [
    "# Fix Time of Possession\n",
    "master['TOP'] = master.apply(lambda x: fixTOP(x['TOP']) if pd.isnull(x['TOP']) == False else x['TOP'], axis =1)\n",
    "master['TOP'] = pd.to_timedelta(master['TOP'])"
   ]
  },
  {
   "cell_type": "code",
   "execution_count": 29,
   "metadata": {},
   "outputs": [
    {
     "data": {
      "text/plain": [
       "'TOP'"
      ]
     },
     "execution_count": 29,
     "metadata": {},
     "output_type": "execute_result"
    }
   ],
   "source": [
    "# Remove slashes and convert to numeric \n",
    "cols = list(master.columns)\n",
    "TOP_index = list(cols).index('TOP')\n",
    "cols.pop(TOP_index)"
   ]
  },
  {
   "cell_type": "code",
   "execution_count": 30,
   "metadata": {
    "collapsed": true
   },
   "outputs": [],
   "source": [
    "master[cols[3:]] = master.apply(lambda x: removeSlashes(x), axis =1)"
   ]
  },
  {
   "cell_type": "code",
   "execution_count": 31,
   "metadata": {
    "collapsed": true
   },
   "outputs": [],
   "source": [
    "master[cols[3:]] = master[cols[3:]].apply(pd.to_numeric)"
   ]
  },
  {
   "cell_type": "code",
   "execution_count": 32,
   "metadata": {},
   "outputs": [
    {
     "data": {
      "text/plain": [
       "Team               Date        OffenseDefense\n",
       "Air Force Falcons  2016-10-01  Defense          00:28:00\n",
       "Name: TOP, dtype: timedelta64[ns]"
      ]
     },
     "execution_count": 32,
     "metadata": {},
     "output_type": "execute_result"
    }
   ],
   "source": [
    "#df.iloc[df.index.get_level_values('A') == 1]\n",
    "\n",
    "master.iloc[(master.index.get_level_values('Team') == 'Air Force Falcons') & \n",
    "            (master.index.get_level_values('OffenseDefense') == 'Defense') & \n",
    "            (master.index.get_level_values('Date') == '2016-10-01 00:00:00' )\n",
    "           ]['TOP']"
   ]
  },
  {
   "cell_type": "code",
   "execution_count": 33,
   "metadata": {
    "collapsed": true
   },
   "outputs": [],
   "source": [
    "# Create new variables \n",
    "master[['opponent', 'home', 'WinLoss','Overtime', 'team_score', 'opponent_score']] = master.apply(lambda x: createvariables(x), axis = 1)"
   ]
  },
  {
   "cell_type": "markdown",
   "metadata": {},
   "source": [
    "# Subset Offense Defense"
   ]
  },
  {
   "cell_type": "code",
   "execution_count": 34,
   "metadata": {
    "collapsed": true
   },
   "outputs": [],
   "source": [
    "defense = master[master.index.get_level_values('OffenseDefense') == 'Defense'].copy()"
   ]
  },
  {
   "cell_type": "code",
   "execution_count": 35,
   "metadata": {
    "collapsed": true
   },
   "outputs": [],
   "source": [
    "offense = master[master.index.get_level_values('OffenseDefense') == 'Offense'].copy()"
   ]
  },
  {
   "cell_type": "code",
   "execution_count": 36,
   "metadata": {
    "collapsed": true
   },
   "outputs": [],
   "source": [
    "assert len(defense) == len(offense),  \"Datasets different sizes\""
   ]
  },
  {
   "cell_type": "markdown",
   "metadata": {},
   "source": [
    "# Manipulate"
   ]
  },
  {
   "cell_type": "code",
   "execution_count": 37,
   "metadata": {
    "collapsed": true
   },
   "outputs": [],
   "source": [
    "offense.reset_index(inplace = True)"
   ]
  },
  {
   "cell_type": "code",
   "execution_count": 38,
   "metadata": {
    "collapsed": true
   },
   "outputs": [],
   "source": [
    "offense['year'] = offense['Date'].dt.year"
   ]
  },
  {
   "cell_type": "code",
   "execution_count": 39,
   "metadata": {
    "collapsed": true
   },
   "outputs": [],
   "source": [
    "base = pd.merge(offense,\n",
    "               roster_final2, \n",
    "               left_on = ['Team', 'year'], \n",
    "               right_on = ['Team', 'year'],\n",
    "               how = 'left'\n",
    "              )"
   ]
  },
  {
   "cell_type": "code",
   "execution_count": 40,
   "metadata": {
    "collapsed": true
   },
   "outputs": [],
   "source": [
    "def teamhistory(team, year, duration): \n",
    "    global history\n",
    "    team = team\n",
    "    target_year = year\n",
    "    out = []\n",
    "    # Individual \n",
    "    for yr in duration: \n",
    "        target_year_min = target_year - yr\n",
    "        # Wins/Losses\n",
    "        wins, losses = list(history[(history.Team == team) & \n",
    "                                    (history.year <= target_year) & \n",
    "                                    (history.year >= target_year_min)][['Wins', 'Losses']].sum()\n",
    "                           )\n",
    "        out.extend([wins, losses, wins/(wins+losses)])\n",
    "    # Max \n",
    "    wins, losses = list(history[(history.Team == team)][['Wins', 'Losses']].sum())\n",
    "    out.extend([wins, losses, wins/(wins+losses)])\n",
    "    return pd.Series(out)"
   ]
  },
  {
   "cell_type": "code",
   "execution_count": 41,
   "metadata": {
    "collapsed": true
   },
   "outputs": [],
   "source": [
    "# Add in team historical data \n",
    "yrs = [1, 2, 3, 5, 10]\n",
    "variables = ['history_wins_{yr}yrs', 'history_losses_{yr}yrs', 'history_WL_{yr}yrs']\n",
    "years = [v.format(yr = yr) for yr in yrs for v in variables ]\n",
    "years.extend([v.format(yr = 'max') for v in variables])\n",
    "\n",
    "base[years] = base.apply(lambda x: teamhistory(x['Team'], x['year'], yrs), axis = 1)"
   ]
  },
  {
   "cell_type": "code",
   "execution_count": 42,
   "metadata": {
    "collapsed": true
   },
   "outputs": [],
   "source": [
    "assert len(base) == len(offense), \"Size change during merging\""
   ]
  },
  {
   "cell_type": "code",
   "execution_count": 43,
   "metadata": {
    "collapsed": true
   },
   "outputs": [],
   "source": [
    "coach_teams = coach_links.Team.unique()\n",
    "for team in base.Team.unique(): \n",
    "    if team not in coach_teams: \n",
    "        print(team)"
   ]
  },
  {
   "cell_type": "code",
   "execution_count": 44,
   "metadata": {
    "collapsed": true
   },
   "outputs": [],
   "source": [
    "tmp = pd.merge(base, \n",
    "               coaches_list_fixed, \n",
    "               left_on = ['Team', 'year'], \n",
    "               right_on = ['Team', 'year'], \n",
    "               how = 'left'\n",
    "              )"
   ]
  },
  {
   "cell_type": "code",
   "execution_count": 45,
   "metadata": {
    "collapsed": true
   },
   "outputs": [],
   "source": [
    "assert len(base) == len(tmp), \"Dataset size changed\""
   ]
  },
  {
   "cell_type": "markdown",
   "metadata": {},
   "source": [
    "# Fix the coach history to get the average of coaches"
   ]
  },
  {
   "cell_type": "code",
   "execution_count": 46,
   "metadata": {
    "collapsed": true
   },
   "outputs": [],
   "source": [
    "def coach_history(data, year): \n",
    "    global coaches\n",
    "    t = []\n",
    "    if isinstance(data, list) and len(data) >=1 :\n",
    "        for coach in data: \n",
    "            coach_record = coaches[(coaches.coach == coach) & \n",
    "                                   (coaches.year < year)\n",
    "                                  ][[\"coach\",\"Wins\",\"Losses\",\"WL\",\"year\"]].groupby(\"coach\").agg(['sum', 'count', 'mean'])\n",
    "            coach_record.columns = [x[0] + \"_\" + x[1]  for x in coach_record.columns.values]\n",
    "            coach_record.drop(['Wins_count', 'Wins_mean', 'Losses_count', 'Losses_mean', 'WL_sum', 'WL_count', \n",
    "                                     'year_sum', 'year_mean'], axis=1, inplace = True)\n",
    "            coach_record.rename(columns = {'Wins_sum':\"Coach_wins\", \n",
    "                                           \"Losses_sum\":\"Coach_losses\", \n",
    "                                           \"WL_mean\":\"Coach_WL\", \n",
    "                                           \"year_count\":\"Coach_years\"\n",
    "                                          },\n",
    "                                inplace = True\n",
    "                               )\n",
    "            t.append(coach_record.to_dict(orient='record')[0])\n",
    "    \n",
    "        out = pd.Series(pd.DataFrame(t).mean().to_dict())\n",
    "    else: \n",
    "        out = pd.Series({'Coach_wins':None, \n",
    "                         \"Coach_losses\":None, \n",
    "                         \"Coach_WL\":None, \n",
    "                         \"Coach_years\":None\n",
    "                        })\n",
    "    return out"
   ]
  },
  {
   "cell_type": "code",
   "execution_count": 47,
   "metadata": {
    "collapsed": true
   },
   "outputs": [],
   "source": [
    "coach_variables = ['Coach_wins', 'Coach_losses', 'Coach_WL', 'Coach_years']\n",
    "tmp = tmp.copy()\n",
    "tmp[coach_variables] = tmp.apply(lambda x: coach_history(x['coach'], x['year']), axis = 1)"
   ]
  },
  {
   "cell_type": "markdown",
   "metadata": {},
   "source": [
    "# Edit Defense"
   ]
  },
  {
   "cell_type": "code",
   "execution_count": 48,
   "metadata": {
    "collapsed": true
   },
   "outputs": [],
   "source": [
    "defense.columns = ['def_' + x for x in defense.columns]\n",
    "defense.reset_index(inplace = True)"
   ]
  },
  {
   "cell_type": "code",
   "execution_count": 49,
   "metadata": {
    "collapsed": true
   },
   "outputs": [],
   "source": [
    "defense['year'] = defense['Date'].dt.year"
   ]
  },
  {
   "cell_type": "markdown",
   "metadata": {},
   "source": [
    "# Merge offense defense"
   ]
  },
  {
   "cell_type": "code",
   "execution_count": 50,
   "metadata": {
    "collapsed": true
   },
   "outputs": [],
   "source": [
    "assert len(tmp) == len(defense), \"Dataset file difference\""
   ]
  },
  {
   "cell_type": "code",
   "execution_count": 51,
   "metadata": {
    "collapsed": true
   },
   "outputs": [],
   "source": [
    "final = pd.merge(tmp, \n",
    "                 defense, \n",
    "                 left_on = ['Team', 'Date'],\n",
    "                 right_on = ['Team', 'Date'],\n",
    "                 how = 'left'\n",
    "                )"
   ]
  },
  {
   "cell_type": "code",
   "execution_count": 52,
   "metadata": {
    "collapsed": true
   },
   "outputs": [],
   "source": [
    "final['count'] = final.groupby(['Team', 'year_x']).cumcount()+1"
   ]
  },
  {
   "cell_type": "markdown",
   "metadata": {
    "collapsed": true
   },
   "source": [
    "# Game by game participation - Starting point\n"
   ]
  },
  {
   "cell_type": "code",
   "execution_count": 53,
   "metadata": {
    "collapsed": true
   },
   "outputs": [],
   "source": [
    "gamebygame_part = pd.read_csv(zf.open('gamebygame_participation.csv'))"
   ]
  },
  {
   "cell_type": "code",
   "execution_count": 54,
   "metadata": {
    "collapsed": true
   },
   "outputs": [],
   "source": [
    "gamebygame_part['Date'] = pd.to_datetime(gamebygame_part['Date'])\n",
    "gamebygame_part['year'] = gamebygame_part['Date'].dt.year\n",
    "gamebygame_part = gamebygame_part[gamebygame_part.OffenseDefense == 'Offense']"
   ]
  },
  {
   "cell_type": "code",
   "execution_count": 55,
   "metadata": {
    "collapsed": true
   },
   "outputs": [],
   "source": [
    "gamebygame_part['count'] = gamebygame_part.groupby(['Team', 'year']).cumcount() +1"
   ]
  },
  {
   "cell_type": "markdown",
   "metadata": {},
   "source": [
    "# Previous Years"
   ]
  },
  {
   "cell_type": "code",
   "execution_count": 56,
   "metadata": {
    "collapsed": true
   },
   "outputs": [],
   "source": [
    "def previous_yrs(team, year, game, cols, debug = False): \n",
    "    global final\n",
    "    cols = ['Team', 'year_y', 'count'] + cols\n",
    "    out = []\n",
    "    if game != 1: \n",
    "        y = final[cols][(final['Team'] == team) & \n",
    "                        (final['year_y'] == year) & \n",
    "                        (final['count'] <= game)\n",
    "                       ]\n",
    "\n",
    "        out.append(y)\n",
    "    if game <= 3:\n",
    "        x = final[cols][(final['Team'] == team) & \n",
    "                        (final['year_y'] == year - 1)\n",
    "                       ]\n",
    "        \n",
    "        out.append(x)\n",
    "\n",
    "    if debug == False: \n",
    "        mean = pd.concat(out).mean().to_frame().T.to_dict(orient='record')[0]\n",
    "        mean2 = [mean[var]  for var in cols[3:]]\n",
    "        return pd.Series(mean2)\n",
    "    elif debug == True: \n",
    "        mean = pd.concat(out)\n",
    "        return mean\n"
   ]
  },
  {
   "cell_type": "code",
   "execution_count": 82,
   "metadata": {
    "collapsed": true
   },
   "outputs": [],
   "source": [
    "stats = list(final.columns)"
   ]
  },
  {
   "cell_type": "code",
   "execution_count": 183,
   "metadata": {},
   "outputs": [
    {
     "name": "stdout",
     "output_type": "stream",
     "text": [
      "Team\n",
      "Date\n",
      "OffenseDefense_x\n",
      "Opponent\n",
      "Result\n",
      "G\n",
      "RushNetYards\n",
      "ReceivingYards\n",
      "IntRYds\n",
      "PuntRetYds\n",
      "FRetYds\n",
      "KORetYds\n",
      "APY\n",
      "All-PurposeYardsG\n",
      "FumblesRecovered\n",
      "Int\n",
      "Blkd\n",
      "FF\n",
      "FRet\n",
      "FRetTD\n",
      "FGM\n",
      "FGA\n",
      "FGBlocksAllowed\n",
      "LongFGM\n",
      "KO\n",
      "KOYds\n",
      "KOTB\n",
      "KORet\n",
      "KickRetTDs\n",
      "PBU\n",
      "IntRetTDs\n",
      "PDef\n",
      "PassAttempts\n",
      "Completions\n",
      "Interceptions\n",
      "PassYards\n",
      "PassTDs\n",
      "PassEff\n",
      "CompletionsPerGame\n",
      "YdsPerCompletion\n",
      "Pct\n",
      "PassYardsG\n",
      "Punts\n",
      "PuntYds\n",
      "PuntAvg\n",
      "PuntTBs\n",
      "LongPunt\n",
      "PuntRet\n",
      "PuntRetTDs\n",
      "Rec\n",
      "ReceptionsPerGame\n",
      "YardsPerReception\n",
      "RecTD\n",
      "RecYdsG\n",
      "RZScores\n",
      "RZPts\n",
      "RZRushTD\n",
      "RZPassTD\n",
      "RZFGMade\n",
      "RZEndFGA\n",
      "RZEndFumble\n",
      "RZEndINT\n",
      "RZEndDowns\n",
      "RZEndHalf\n",
      "RZEndGame\n",
      "SackUA\n",
      "SackA\n",
      "SackYds\n",
      "Sacks\n",
      "TDs\n",
      "KickPAT\n",
      "PATAtt\n",
      "RushPAT\n",
      "Ru2PTAtt\n",
      "ReceivingPAT\n",
      "Pass2PtConv\n",
      "Pass2PTAtt\n",
      "KickReturnPAT\n",
      "FumbRetPAT\n",
      "FG\n",
      "Safeties\n",
      "Points\n",
      "SoloTack\n",
      "AsstTack\n",
      "STFL\n",
      "ATFL\n",
      "TackleYds\n",
      "Tackles\n",
      "TOP\n",
      "Plays\n",
      "TotOff\n",
      "YdsPlay\n",
      "RushingFirstDowns\n",
      "PassingFirstDowns\n",
      "FirstDownsbyPenalty\n",
      "Penalties\n",
      "PenaltiesPerGame\n",
      "PenaltyYards\n",
      "PenaltyYdsPerGame\n",
      "TotalOffYardsG\n",
      "FumblesLost\n",
      "opponent\n",
      "home\n",
      "WinLoss\n",
      "Overtime\n",
      "team_score\n",
      "opponent_score\n",
      "year_x\n",
      "GP_Fr\n",
      "GP_Jr\n",
      "GP_So\n",
      "GP_Sr\n",
      "GS_Fr\n",
      "GS_Jr\n",
      "GS_So\n",
      "GS_Sr\n",
      "history_wins_1yrs\n",
      "history_losses_1yrs\n",
      "history_WL_1yrs\n",
      "history_wins_2yrs\n",
      "history_losses_2yrs\n",
      "history_WL_2yrs\n",
      "history_wins_3yrs\n",
      "history_losses_3yrs\n",
      "history_WL_3yrs\n",
      "history_wins_5yrs\n",
      "history_losses_5yrs\n",
      "history_WL_5yrs\n",
      "history_wins_10yrs\n",
      "history_losses_10yrs\n",
      "history_WL_10yrs\n",
      "history_wins_maxyrs\n",
      "history_losses_maxyrs\n",
      "history_WL_maxyrs\n",
      "coach\n",
      "Coach_wins\n",
      "Coach_losses\n",
      "Coach_WL\n",
      "Coach_years\n",
      "OffenseDefense_y\n",
      "def_Opponent\n",
      "def_Result\n",
      "def_G\n",
      "def_RushNetYards\n",
      "def_ReceivingYards\n",
      "def_IntRYds\n",
      "def_PuntRetYds\n",
      "def_FRetYds\n",
      "def_KORetYds\n",
      "def_APY\n",
      "def_All-PurposeYardsG\n",
      "def_FumblesRecovered\n",
      "def_Int\n",
      "def_Blkd\n",
      "def_FF\n",
      "def_FRet\n",
      "def_FRetTD\n",
      "def_FGM\n",
      "def_FGA\n",
      "def_FGBlocksAllowed\n",
      "def_LongFGM\n",
      "def_KO\n",
      "def_KOYds\n",
      "def_KOTB\n",
      "def_KORet\n",
      "def_KickRetTDs\n",
      "def_PBU\n",
      "def_IntRetTDs\n",
      "def_PDef\n",
      "def_PassAttempts\n",
      "def_Completions\n",
      "def_Interceptions\n",
      "def_PassYards\n",
      "def_PassTDs\n",
      "def_PassEff\n",
      "def_CompletionsPerGame\n",
      "def_YdsPerCompletion\n",
      "def_Pct\n",
      "def_PassYardsG\n",
      "def_Punts\n",
      "def_PuntYds\n",
      "def_PuntAvg\n",
      "def_PuntTBs\n",
      "def_LongPunt\n",
      "def_PuntRet\n",
      "def_PuntRetTDs\n",
      "def_Rec\n",
      "def_ReceptionsPerGame\n",
      "def_YardsPerReception\n",
      "def_RecTD\n",
      "def_RecYdsG\n",
      "def_RZScores\n",
      "def_RZPts\n",
      "def_RZRushTD\n",
      "def_RZPassTD\n",
      "def_RZFGMade\n",
      "def_RZEndFGA\n",
      "def_RZEndFumble\n",
      "def_RZEndINT\n",
      "def_RZEndDowns\n",
      "def_RZEndHalf\n",
      "def_RZEndGame\n",
      "def_SackUA\n",
      "def_SackA\n",
      "def_SackYds\n",
      "def_Sacks\n",
      "def_TDs\n",
      "def_KickPAT\n",
      "def_PATAtt\n",
      "def_RushPAT\n",
      "def_Ru2PTAtt\n",
      "def_ReceivingPAT\n",
      "def_Pass2PtConv\n",
      "def_Pass2PTAtt\n",
      "def_KickReturnPAT\n",
      "def_FumbRetPAT\n",
      "def_FG\n",
      "def_Safeties\n",
      "def_Points\n",
      "def_SoloTack\n",
      "def_AsstTack\n",
      "def_STFL\n",
      "def_ATFL\n",
      "def_TackleYds\n",
      "def_Tackles\n",
      "def_TOP\n",
      "def_Plays\n",
      "def_TotOff\n",
      "def_YdsPlay\n",
      "def_RushingFirstDowns\n",
      "def_PassingFirstDowns\n",
      "def_FirstDownsbyPenalty\n",
      "def_Penalties\n",
      "def_PenaltiesPerGame\n",
      "def_PenaltyYards\n",
      "def_PenaltyYdsPerGame\n",
      "def_TotalOffYardsG\n",
      "def_FumblesLost\n",
      "def_opponent\n",
      "def_home\n",
      "def_WinLoss\n",
      "def_Overtime\n",
      "def_team_score\n",
      "def_opponent_score\n",
      "year_y\n",
      "count\n"
     ]
    }
   ],
   "source": [
    "for stat in stats: \n",
    "    print(stat)"
   ]
  },
  {
   "cell_type": "code",
   "execution_count": 278,
   "metadata": {
    "collapsed": true
   },
   "outputs": [],
   "source": [
    "cols2 = [\"Coach_WL\", \"Coach_years\", \"FG\",\n",
    "         \"RushNetYards\",\"PassYards\",\"Interceptions\",\"PassAttempts\",\"Punts\",\"Points\",\"FumblesLost\",\n",
    "         \"Penalties\",\"Plays\",\"def_RushNetYards\",\"def_PassYards\",\"def_Interceptions\",\"def_Punts\", \n",
    "         \"def_FF\",\"def_PenaltyYards\",\"def_PDef\",\"Sacks\",\"Tackles\",\"def_Plays\",\n",
    "        ]"
   ]
  },
  {
   "cell_type": "code",
   "execution_count": 279,
   "metadata": {
    "collapsed": true
   },
   "outputs": [],
   "source": [
    "# Filter out game 1 of season 2013\n",
    "\n",
    "gamebygame_part[cols2] = gamebygame_part[~((gamebygame_part.year == 2013) & (gamebygame_part['count'] == 1))].apply(lambda x: previous_yrs(team = x['Team'], \n",
    "                                                     year = x['year'], \n",
    "                                                     game = x['count'], \n",
    "                                                     cols = cols2, \n",
    "                                                     debug = False\n",
    "                                                     ), axis = 1\n",
    "                                                   )"
   ]
  },
  {
   "cell_type": "markdown",
   "metadata": {
    "collapsed": true
   },
   "source": [
    "# Read in team names"
   ]
  },
  {
   "cell_type": "code",
   "execution_count": 280,
   "metadata": {
    "collapsed": true
   },
   "outputs": [],
   "source": [
    "teamnames = pd.read_csv(zf.open('gamebygame_teamnames.csv'))"
   ]
  },
  {
   "cell_type": "code",
   "execution_count": 281,
   "metadata": {
    "collapsed": true
   },
   "outputs": [],
   "source": [
    "regex = '[\\w\\s]+\\.?\\s\\@\\s\\w+'\n",
    "\n",
    "def opponent(data, opponentNameVar):\n",
    "    # Opponent \n",
    "    if '@' in data[opponentNameVar]: \n",
    "        search = re.search(regex, data[opponentNameVar]) \n",
    "        if search: \n",
    "            opponent = data[opponentNameVar].split(\"@\")[0].strip()\n",
    "        else: \n",
    "            opponent = data[opponentNameVar].replace(\"@\",\"\").strip()\n",
    "    else: \n",
    "        opponent = data[opponentNameVar]\n",
    "    return opponent.strip()\n"
   ]
  },
  {
   "cell_type": "code",
   "execution_count": 282,
   "metadata": {
    "collapsed": true
   },
   "outputs": [],
   "source": [
    "teamnames['shortName'] = teamnames.apply(lambda x: opponent(x, 'shortName'), axis=1)\n",
    "teamnames.drop_duplicates(inplace = True)\n",
    "teamnames = {x[\"shortName\"]:x[\"longName\"] for x in teamnames.to_dict(orient='record')}"
   ]
  },
  {
   "cell_type": "markdown",
   "metadata": {},
   "source": [
    "# Convert opponent names"
   ]
  },
  {
   "cell_type": "code",
   "execution_count": 283,
   "metadata": {
    "collapsed": true
   },
   "outputs": [],
   "source": [
    "gamebygame_part['Opponent2'] = gamebygame_part.apply(lambda x: opponent(x, 'Opponent'), axis = 1)"
   ]
  },
  {
   "cell_type": "code",
   "execution_count": 284,
   "metadata": {
    "collapsed": true
   },
   "outputs": [],
   "source": [
    "gamebygame_part['opponentName'] = gamebygame_part.apply(lambda x:teamnames[x['Opponent2']]\n",
    "                                                                 if x['Opponent2'] in teamnames.keys()\n",
    "                                                                 else 'Missing'\n",
    "                                                                 , \n",
    "                                                        axis = 1 )"
   ]
  },
  {
   "cell_type": "markdown",
   "metadata": {},
   "source": [
    "# Merge in the data for the opponents"
   ]
  },
  {
   "cell_type": "code",
   "execution_count": 285,
   "metadata": {
    "collapsed": true
   },
   "outputs": [],
   "source": [
    "gamedata = list(final['Team'].unique())"
   ]
  },
  {
   "cell_type": "code",
   "execution_count": 286,
   "metadata": {
    "collapsed": true
   },
   "outputs": [],
   "source": [
    "def opp(team, date, year, cols, debug = False):\n",
    "    \"\"\" Calculate the game-by-game stats for the opponents\"\"\"\n",
    "    game = final[(final['Team'] == team) &  (final['Date'] == date) ]['count'].values[0]\n",
    "    return previous_yrs(team = team, \n",
    "                        year = year, \n",
    "                        game = game, \n",
    "                        cols = cols2, \n",
    "                        debug = False\n",
    "                       )"
   ]
  },
  {
   "cell_type": "code",
   "execution_count": 287,
   "metadata": {
    "collapsed": true
   },
   "outputs": [],
   "source": [
    "# Create the oppoent variable names \n",
    "opps = ['opp_' + x for x in cols2]\n",
    "\n",
    "# Subset the datset to games to keep it short\n",
    "games = gamebygame_part[~((gamebygame_part.year == 2013) & (gamebygame_part['count'] == 1))].copy()\n",
    "\n",
    "# Calculate the opponent data \n",
    "games[opps] = games.apply(lambda x: opp(team = x['Team'],\n",
    "                                        date = x['Date'], \n",
    "                                        year = x['year'], \n",
    "                                        cols = cols2,\n",
    "                                        debug = False\n",
    "                                       )\n",
    "                          if x['opponentName'] in gamedata\n",
    "                          else pd.Series([None for x in range(0, len(cols2))]),\n",
    "                          axis = 1\n",
    "                         )"
   ]
  },
  {
   "cell_type": "code",
   "execution_count": 288,
   "metadata": {
    "collapsed": true
   },
   "outputs": [],
   "source": [
    "# Select all the games where they don't have missing data for rush data for home team and opponent team\n",
    "finalgames = games[(pd.notnull(games['opp_def_RushNetYards'])) & (pd.notnull(games['RushNetYards']))]"
   ]
  },
  {
   "cell_type": "code",
   "execution_count": 289,
   "metadata": {
    "collapsed": true
   },
   "outputs": [],
   "source": [
    "def create_variables(data):\n",
    "    \"\"\"Create Opponent, Home, Win/Loss, Overtime, and Scores\n",
    "    \n",
    "    \"\"\"\n",
    "    regexs = {'WL': \"[WL]\",\n",
    "              'team': [\"\\d+\\s\\-\", \"\\d+\"],\n",
    "              'opponent_score':[\"\\-\\s\\d+\", '\\d+'],\n",
    "              'OT':[\"\\(\\d+OT\\)\", \"\\d+\"], \n",
    "              'opponent':['[\\w\\s]+\\.?\\s\\@\\s\\w+']\n",
    "             }\n",
    "    \n",
    "    # Opponent \n",
    "    if '@' in data['Opponent']: \n",
    "        search = re.search(regexs['opponent'][0], data['Opponent']) \n",
    "        if search: \n",
    "            home = 0\n",
    "        else: \n",
    "            home = 0\n",
    "    else: \n",
    "        home = 1\n",
    "    \n",
    "    \n",
    "    # Win/Loss\n",
    "    WinLoss = re.search(regexs['WL'], data['Result']).group()\n",
    "    if WinLoss == 'W': \n",
    "        WinLoss = 1\n",
    "    else: \n",
    "        WinLoss = 0\n",
    "        \n",
    "    return pd.Series([home, WinLoss])    "
   ]
  },
  {
   "cell_type": "code",
   "execution_count": 290,
   "metadata": {},
   "outputs": [
    {
     "name": "stderr",
     "output_type": "stream",
     "text": [
      "/home/craig/anaconda3/lib/python3.6/site-packages/pandas/core/frame.py:2450: SettingWithCopyWarning: \n",
      "A value is trying to be set on a copy of a slice from a DataFrame.\n",
      "Try using .loc[row_indexer,col_indexer] = value instead\n",
      "\n",
      "See the caveats in the documentation: http://pandas.pydata.org/pandas-docs/stable/indexing.html#indexing-view-versus-copy\n",
      "  self[k1] = value[k2]\n"
     ]
    }
   ],
   "source": [
    "finalgames[['HomeAway', 'WinLoss']] = finalgames.apply(lambda x: create_variables(x), axis = 1).copy()"
   ]
  },
  {
   "cell_type": "code",
   "execution_count": 291,
   "metadata": {
    "collapsed": true
   },
   "outputs": [],
   "source": [
    "# Variables to drop out for analysis\n",
    "drop_variables = ['Date', 'Opponent', 'Result', 'G', 'Team', 'OffenseDefense', \n",
    "                  'year', 'Opponent2', 'opponentName', 'WinLoss']"
   ]
  },
  {
   "cell_type": "code",
   "execution_count": 292,
   "metadata": {
    "collapsed": true
   },
   "outputs": [],
   "source": [
    "y = finalgames['WinLoss'].values\n",
    "X = finalgames.drop(drop_variables, axis = 1).values"
   ]
  },
  {
   "cell_type": "markdown",
   "metadata": {},
   "source": [
    "# Run Models"
   ]
  },
  {
   "cell_type": "code",
   "execution_count": 293,
   "metadata": {
    "collapsed": true
   },
   "outputs": [],
   "source": [
    "import sklearn as sk\n",
    "from sklearn.model_selection import train_test_split\n",
    "from sklearn.ensemble import RandomForestClassifier\n",
    "from sklearn.preprocessing import Imputer\n",
    "from sklearn.grid_search import GridSearchCV\n",
    "from sklearn.model_selection import  cross_val_score"
   ]
  },
  {
   "cell_type": "code",
   "execution_count": 294,
   "metadata": {
    "collapsed": true
   },
   "outputs": [],
   "source": [
    "# Create and fit an imputer for missing data \n",
    "imr = Imputer(missing_values = 'NaN', strategy='mean', axis = 0)\n",
    "imr = imr.fit(X)"
   ]
  },
  {
   "cell_type": "code",
   "execution_count": 295,
   "metadata": {
    "collapsed": true
   },
   "outputs": [],
   "source": [
    "X_imp = imr.fit_transform(X)"
   ]
  },
  {
   "cell_type": "code",
   "execution_count": 296,
   "metadata": {
    "collapsed": true
   },
   "outputs": [],
   "source": [
    "# Create the train test split \n",
    "X_train, X_test, y_train, y_test = train_test_split(X_imp, y, test_size=0.33, random_state=42)"
   ]
  },
  {
   "cell_type": "code",
   "execution_count": 297,
   "metadata": {},
   "outputs": [
    {
     "data": {
      "text/plain": [
       "RandomForestClassifier(bootstrap=True, class_weight=None, criterion='gini',\n",
       "            max_depth=None, max_features='auto', max_leaf_nodes=None,\n",
       "            min_impurity_split=1e-07, min_samples_leaf=1,\n",
       "            min_samples_split=2, min_weight_fraction_leaf=0.0,\n",
       "            n_estimators=10, n_jobs=1, oob_score=False, random_state=None,\n",
       "            verbose=0, warm_start=False)"
      ]
     },
     "execution_count": 297,
     "metadata": {},
     "output_type": "execute_result"
    }
   ],
   "source": [
    "# Create and fit the DT Classifier \n",
    "dt = RandomForestClassifier()\n",
    "dt.fit(X= X_train, y=y_train)"
   ]
  },
  {
   "cell_type": "code",
   "execution_count": 298,
   "metadata": {},
   "outputs": [
    {
     "name": "stdout",
     "output_type": "stream",
     "text": [
      "Accuracy:\t 0.978598405371\n",
      "Accuracy:\t 0.634893617021\n"
     ]
    }
   ],
   "source": [
    "print(\"Accuracy:\\t\", (y_train == dt.predict(X_train)).mean())\n",
    "print(\"Accuracy:\\t\", (y_test == dt.predict(X_test)).mean())"
   ]
  },
  {
   "cell_type": "code",
   "execution_count": 299,
   "metadata": {},
   "outputs": [
    {
     "data": {
      "text/plain": [
       "GridSearchCV(cv=5, error_score='raise',\n",
       "       estimator=RandomForestClassifier(bootstrap=True, class_weight=None, criterion='gini',\n",
       "            max_depth=None, max_features='auto', max_leaf_nodes=None,\n",
       "            min_impurity_split=1e-07, min_samples_leaf=1,\n",
       "            min_samples_split=2, min_weight_fraction_leaf=0.0,\n",
       "            n_estimators=10, n_jobs=1, oob_score=False, random_state=None,\n",
       "            verbose=0, warm_start=False),\n",
       "       fit_params={}, iid=True, n_jobs=1,\n",
       "       param_grid={'criterion': ['gini', 'entropy'], 'max_depth': [1, 2, 3, 4, 5, 6, 7, 8, 9, 10], 'n_estimators': [10, 20, 30, 40, 50, 75, 80, 85, 90, 100], 'n_jobs': [-1]},\n",
       "       pre_dispatch='2*n_jobs', refit=True, scoring=None, verbose=0)"
      ]
     },
     "execution_count": 299,
     "metadata": {},
     "output_type": "execute_result"
    }
   ],
   "source": [
    "tree_parameters = {'criterion':['gini','entropy'],\n",
    "             'max_depth':[1,2,3,4,5,6,7,8,9,10],\n",
    "             'n_estimators':[10,20,30,40,50,75,80,85,90, 100], \n",
    "             'n_jobs': [-1]\n",
    "            }\n",
    "clf = GridSearchCV(RandomForestClassifier(), tree_parameters, cv=5)\n",
    "clf.fit(X_imp, y)"
   ]
  },
  {
   "cell_type": "code",
   "execution_count": 300,
   "metadata": {},
   "outputs": [
    {
     "name": "stdout",
     "output_type": "stream",
     "text": [
      "0.6742551995503092 {'criterion': 'entropy', 'max_depth': 5, 'n_estimators': 80, 'n_jobs': -1}\n"
     ]
    }
   ],
   "source": [
    "tree_model = clf.best_estimator_\n",
    "print (clf.best_score_, clf.best_params_) "
   ]
  },
  {
   "cell_type": "code",
   "execution_count": null,
   "metadata": {
    "collapsed": true
   },
   "outputs": [],
   "source": []
  }
 ],
 "metadata": {
  "kernelspec": {
   "display_name": "Python 3",
   "language": "python",
   "name": "python3"
  },
  "language_info": {
   "codemirror_mode": {
    "name": "ipython",
    "version": 3
   },
   "file_extension": ".py",
   "mimetype": "text/x-python",
   "name": "python",
   "nbconvert_exporter": "python",
   "pygments_lexer": "ipython3",
   "version": "3.6.1"
  }
 },
 "nbformat": 4,
 "nbformat_minor": 2
}
