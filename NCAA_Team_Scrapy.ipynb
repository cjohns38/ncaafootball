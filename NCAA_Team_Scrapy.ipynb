{
 "cells": [
  {
   "cell_type": "code",
   "execution_count": 1,
   "metadata": {
    "collapsed": true
   },
   "outputs": [],
   "source": [
    "import scrapy, re, urllib, datetime, io\n",
    "import pandas as pd\n",
    "from scrapy.crawler import CrawlerProcess\n",
    "from scrapy.linkextractors import LinkExtractor\n",
    "from bs4 import BeautifulSoup as bs"
   ]
  },
  {
   "cell_type": "code",
   "execution_count": 2,
   "metadata": {
    "collapsed": true
   },
   "outputs": [],
   "source": [
    "class TeamSpider(scrapy.Spider): \n",
    "    name = \"Team\"\n",
    "    \n",
    "    # Create file to append to \n",
    "    fileName = \"Teams_{0}.csv\".format(datetime.datetime.now())\n",
    "    header = \"link,team,year,\\n\"\n",
    "    \n",
    "    with open(fileName, 'w') as f: \n",
    "        f.write(header)\n",
    "    \n",
    "    def start_requests(self): \n",
    "        years = [2014, 2015, 2016, 2017] # Available years\n",
    "        baseURL = \"http://stats.ncaa.org/team/inst_team_list?academic_year={year}&conf_id=-1&division=11&sport_code=MFB\"\n",
    "        \n",
    "        for year in years: \n",
    "            url = baseURL.format(year=year)\n",
    "            yield scrapy.Request(url=url, callback=self.parse)\n",
    "    \n",
    "    def parse(self, response): \n",
    "        \n",
    "        # Extract current year from the returned object\n",
    "        curr_year = urllib.parse.parse_qs(urllib.parse.urlparse(response.url).query)['academic_year'][0]\n",
    "        \n",
    "        # Get all the links on the page\n",
    "        le = LinkExtractor() \n",
    "        links = le.extract_links(response)\n",
    "        \n",
    "        # Regex pattern to find just the team links \n",
    "        team_url_pattern = \"http\\:\\/\\/stats\\.ncaa\\.org\\/team\\/\\d+\\/\\d+\"\n",
    "        \n",
    "        # Extract the links and save to a list\n",
    "        data = []\n",
    "        for link in links: \n",
    "            match = re.search(team_url_pattern, link.url)\n",
    "            if match != None: \n",
    "                data.append({'link':link.url, 'team':link.text, 'year':curr_year })\n",
    "        \n",
    "        # Create a pandas df and append to csv \n",
    "        c = io.StringIO()\n",
    "        df = pd.DataFrame(data)\n",
    "        df[['link', 'team', 'year']].to_csv(c, index=False, header=False)\n",
    "        \n",
    "        # Append links to CSV \n",
    "        with open(self.fileName, 'a') as f:\n",
    "            f.write(c.getvalue())\n",
    "        "
   ]
  },
  {
   "cell_type": "code",
   "execution_count": 3,
   "metadata": {},
   "outputs": [
    {
     "name": "stderr",
     "output_type": "stream",
     "text": [
      "2017-12-02 14:55:51 [scrapy.utils.log] INFO: Scrapy 1.4.0 started (bot: scrapybot)\n",
      "2017-12-02 14:55:51 [scrapy.utils.log] INFO: Overridden settings: {'USER_AGENT': 'Mozilla/4.0 (compatible; MSIE 7.0; Windows NT 5.1)'}\n",
      "2017-12-02 14:55:51 [scrapy.middleware] INFO: Enabled extensions:\n",
      "['scrapy.extensions.corestats.CoreStats',\n",
      " 'scrapy.extensions.telnet.TelnetConsole',\n",
      " 'scrapy.extensions.memusage.MemoryUsage',\n",
      " 'scrapy.extensions.logstats.LogStats']\n",
      "2017-12-02 14:55:51 [scrapy.middleware] INFO: Enabled downloader middlewares:\n",
      "['scrapy.downloadermiddlewares.httpauth.HttpAuthMiddleware',\n",
      " 'scrapy.downloadermiddlewares.downloadtimeout.DownloadTimeoutMiddleware',\n",
      " 'scrapy.downloadermiddlewares.defaultheaders.DefaultHeadersMiddleware',\n",
      " 'scrapy.downloadermiddlewares.useragent.UserAgentMiddleware',\n",
      " 'scrapy.downloadermiddlewares.retry.RetryMiddleware',\n",
      " 'scrapy.downloadermiddlewares.redirect.MetaRefreshMiddleware',\n",
      " 'scrapy.downloadermiddlewares.httpcompression.HttpCompressionMiddleware',\n",
      " 'scrapy.downloadermiddlewares.redirect.RedirectMiddleware',\n",
      " 'scrapy.downloadermiddlewares.cookies.CookiesMiddleware',\n",
      " 'scrapy.downloadermiddlewares.httpproxy.HttpProxyMiddleware',\n",
      " 'scrapy.downloadermiddlewares.stats.DownloaderStats']\n",
      "2017-12-02 14:55:51 [scrapy.middleware] INFO: Enabled spider middlewares:\n",
      "['scrapy.spidermiddlewares.httperror.HttpErrorMiddleware',\n",
      " 'scrapy.spidermiddlewares.offsite.OffsiteMiddleware',\n",
      " 'scrapy.spidermiddlewares.referer.RefererMiddleware',\n",
      " 'scrapy.spidermiddlewares.urllength.UrlLengthMiddleware',\n",
      " 'scrapy.spidermiddlewares.depth.DepthMiddleware']\n",
      "2017-12-02 14:55:51 [scrapy.middleware] INFO: Enabled item pipelines:\n",
      "[]\n",
      "2017-12-02 14:55:51 [scrapy.core.engine] INFO: Spider opened\n",
      "2017-12-02 14:55:51 [scrapy.extensions.logstats] INFO: Crawled 0 pages (at 0 pages/min), scraped 0 items (at 0 items/min)\n",
      "2017-12-02 14:55:51 [scrapy.extensions.telnet] DEBUG: Telnet console listening on 127.0.0.1:6024\n",
      "2017-12-02 14:55:55 [scrapy.core.engine] DEBUG: Crawled (200) <GET http://stats.ncaa.org/team/inst_team_list?academic_year=2014&conf_id=-1&division=11&sport_code=MFB> (referer: None)\n",
      "2017-12-02 14:55:55 [scrapy.core.engine] DEBUG: Crawled (200) <GET http://stats.ncaa.org/team/inst_team_list?academic_year=2017&conf_id=-1&division=11&sport_code=MFB> (referer: None)\n",
      "2017-12-02 14:55:55 [scrapy.core.engine] DEBUG: Crawled (200) <GET http://stats.ncaa.org/team/inst_team_list?academic_year=2016&conf_id=-1&division=11&sport_code=MFB> (referer: None)\n",
      "2017-12-02 14:55:55 [scrapy.core.engine] DEBUG: Crawled (200) <GET http://stats.ncaa.org/team/inst_team_list?academic_year=2015&conf_id=-1&division=11&sport_code=MFB> (referer: None)\n",
      "2017-12-02 14:55:55 [scrapy.core.engine] INFO: Closing spider (finished)\n",
      "2017-12-02 14:55:55 [scrapy.statscollectors] INFO: Dumping Scrapy stats:\n",
      "{'downloader/request_bytes': 1220,\n",
      " 'downloader/request_count': 4,\n",
      " 'downloader/request_method_count/GET': 4,\n",
      " 'downloader/response_bytes': 28223,\n",
      " 'downloader/response_count': 4,\n",
      " 'downloader/response_status_count/200': 4,\n",
      " 'finish_reason': 'finished',\n",
      " 'finish_time': datetime.datetime(2017, 12, 2, 20, 55, 55, 811741),\n",
      " 'log_count/DEBUG': 5,\n",
      " 'log_count/INFO': 7,\n",
      " 'memusage/max': 119332864,\n",
      " 'memusage/startup': 119332864,\n",
      " 'response_received_count': 4,\n",
      " 'scheduler/dequeued': 4,\n",
      " 'scheduler/dequeued/memory': 4,\n",
      " 'scheduler/enqueued': 4,\n",
      " 'scheduler/enqueued/memory': 4,\n",
      " 'start_time': datetime.datetime(2017, 12, 2, 20, 55, 51, 156128)}\n",
      "2017-12-02 14:55:55 [scrapy.core.engine] INFO: Spider closed (finished)\n"
     ]
    }
   ],
   "source": [
    "process = CrawlerProcess({\n",
    "    'USER_AGENT': 'Mozilla/4.0 (compatible; MSIE 7.0; Windows NT 5.1)'\n",
    "})\n",
    "\n",
    "process.crawl(TeamSpider)\n",
    "process.start() "
   ]
  }
 ],
 "metadata": {
  "kernelspec": {
   "display_name": "Python 3",
   "language": "python",
   "name": "python3"
  },
  "language_info": {
   "codemirror_mode": {
    "name": "ipython",
    "version": 3
   },
   "file_extension": ".py",
   "mimetype": "text/x-python",
   "name": "python",
   "nbconvert_exporter": "python",
   "pygments_lexer": "ipython3",
   "version": "3.6.1"
  }
 },
 "nbformat": 4,
 "nbformat_minor": 2
}
