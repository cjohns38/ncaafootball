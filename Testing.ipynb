{
 "cells": [
  {
   "cell_type": "code",
   "execution_count": 17,
   "metadata": {
    "collapsed": true
   },
   "outputs": [],
   "source": [
    "import os\n",
    "import pandas as pd\n",
    "import requests, scrapy"
   ]
  },
  {
   "cell_type": "code",
   "execution_count": 18,
   "metadata": {
    "collapsed": true
   },
   "outputs": [],
   "source": [
    "data = pd.read_csv(os.path.join(\"Links\", 'gamebygamelinks.csv'))"
   ]
  },
  {
   "cell_type": "code",
   "execution_count": 20,
   "metadata": {
    "collapsed": true
   },
   "outputs": [],
   "source": [
    "data = data.to_dict(orient='record')"
   ]
  },
  {
   "cell_type": "code",
   "execution_count": 21,
   "metadata": {},
   "outputs": [
    {
     "data": {
      "text/plain": [
       "[{'link': 'http://stats.ncaa.org/player/game_by_game?game_sport_year_ctl_id=11520&org_id=721&stats_player_seq=-100',\n",
       "  'team': 'Air Force Falcons',\n",
       "  'year': '2013-14'}]"
      ]
     },
     "execution_count": 21,
     "metadata": {},
     "output_type": "execute_result"
    }
   ],
   "source": [
    "data"
   ]
  },
  {
   "cell_type": "code",
   "execution_count": 64,
   "metadata": {
    "collapsed": true
   },
   "outputs": [],
   "source": [
    "test = {}\n",
    "for x in data: \n",
    "    r = requests.get(x['Link'])\n",
    "    tables = pd.read_html(r.content)\n",
    "    table = tables[2]\n",
    "    stop_index = [1 if 'Unnamed: ' in column  else 0 for idx, column in enumerate(table.columns)].index(1)\n",
    "    columnNamesFixed = {col:col.replace(\" \",\"\").replace(\"/\",\"\").replace(\".\",\"\") for col in table.iloc[:,:stop_index].columns}\n",
    "    table.rename(columns = columnNamesFixed, inplace = True)\n",
    "    final_table = table[:-3].iloc[:,:stop_index]\n",
    "    test[x['Stat']] = final_table"
   ]
  },
  {
   "cell_type": "code",
   "execution_count": 19,
   "metadata": {
    "collapsed": true
   },
   "outputs": [],
   "source": [
    "def table_cleaner(html, target_table, trim_n_rows = 0):\n",
    "    \"\"\"Read HTML string and return a table\n",
    "       html : HTML string\n",
    "       target_table : Target table number\n",
    "       trim_n_rows : Trim X number of rows from the end of the table (enter as positive number)\n",
    "    \"\"\"\n",
    "    tables = pd.read_html(html)\n",
    "    table = tables[target_table]\n",
    "    stop_index = [1 if 'Unnamed: ' in column  else 0 for idx, column in enumerate(table.columns)].index(1)\n",
    "    columnNamesFixed = {col:col.replace(\" \",\"\").replace(\"/\",\"\").replace(\".\",\"\") for col in table.iloc[:,:stop_index].columns}\n",
    "    table.rename(columns = columnNamesFixed, inplace = True)\n",
    "    return table[:-trim_n_rows].iloc[:,:stop_index]\n",
    "    "
   ]
  },
  {
   "cell_type": "code",
   "execution_count": 22,
   "metadata": {},
   "outputs": [
    {
     "data": {
      "text/plain": [
       "{'link': 'http://stats.ncaa.org/player/game_by_game?game_sport_year_ctl_id=11520&org_id=721&stats_player_seq=-100',\n",
       " 'team': 'Air Force Falcons',\n",
       " 'year': '2013-14'}"
      ]
     },
     "execution_count": 22,
     "metadata": {},
     "output_type": "execute_result"
    }
   ],
   "source": [
    "data[0]"
   ]
  },
  {
   "cell_type": "code",
   "execution_count": 24,
   "metadata": {
    "collapsed": true
   },
   "outputs": [],
   "source": [
    "url = \"http://stats.ncaa.org/player/index?id=11520&org_id=721&stats_player_seq=-100&year_stat_category_id=10392\"\n",
    "r = requests.get(url)"
   ]
  },
  {
   "cell_type": "code",
   "execution_count": 25,
   "metadata": {
    "collapsed": true
   },
   "outputs": [],
   "source": [
    "tables = pd.read_html(r.content)"
   ]
  },
  {
   "cell_type": "code",
   "execution_count": 198,
   "metadata": {
    "collapsed": true
   },
   "outputs": [],
   "source": [
    "def yearlystats(table):\n",
    "    \"\"\"Clean up the yearly game-to-game stats table\n",
    "        table : pandas DF you want to clean \n",
    "    \"\"\"\n",
    "    # Drop unneeded header row\n",
    "    tmp = table.iloc[1:,]\n",
    "    # Create a header row removing spaces, /'s, and x's\n",
    "    tmp.columns = [x.replace(\" \", \"\").replace(\"/\",\"\").replace(\".\",\"\") for x in tmp.iloc[0]]\n",
    "    # Drop the row used to create header row\n",
    "    tmp = tmp.drop(tmp.index[0])\n",
    "    # Forward fill the year for analysis later \n",
    "    tmp['Year'].fillna(method='ffill', inplace = True)\n",
    "    # Create a new offense/defense variable \n",
    "    tmp['OffenseDefense'] = tmp['Team']\n",
    "    # Figure out which team we are working with \n",
    "    curr_team = tmp.iloc[:1,1:3].values[0][0]\n",
    "    # Create a new team variable\n",
    "    tmp['Team'] = curr_team\n",
    "    # In the offense defense variable, fill in the offense defense variable \n",
    "    tmp['OffenseDefense'] = tmp['OffenseDefense'].apply(lambda x: 'Offense' if x == curr_team else x)\n",
    "    return tmp "
   ]
  },
  {
   "cell_type": "code",
   "execution_count": 199,
   "metadata": {},
   "outputs": [
    {
     "data": {
      "text/html": [
       "<div>\n",
       "<style>\n",
       "    .dataframe thead tr:only-child th {\n",
       "        text-align: right;\n",
       "    }\n",
       "\n",
       "    .dataframe thead th {\n",
       "        text-align: left;\n",
       "    }\n",
       "\n",
       "    .dataframe tbody tr th {\n",
       "        vertical-align: top;\n",
       "    }\n",
       "</style>\n",
       "<table border=\"1\" class=\"dataframe\">\n",
       "  <thead>\n",
       "    <tr style=\"text-align: right;\">\n",
       "      <th></th>\n",
       "      <th>Year</th>\n",
       "      <th>Team</th>\n",
       "      <th>GP</th>\n",
       "      <th>G</th>\n",
       "      <th>PassAttempts</th>\n",
       "      <th>Completions</th>\n",
       "      <th>Interceptions</th>\n",
       "      <th>PassYards</th>\n",
       "      <th>PassTDs</th>\n",
       "      <th>PassEff</th>\n",
       "      <th>CompletionsPerGame</th>\n",
       "      <th>YdsPerCompletion</th>\n",
       "      <th>CompletionPct</th>\n",
       "      <th>PassYardsG</th>\n",
       "      <th>OffenseDefense</th>\n",
       "    </tr>\n",
       "  </thead>\n",
       "  <tbody>\n",
       "    <tr>\n",
       "      <th>2</th>\n",
       "      <td>2013-14</td>\n",
       "      <td>Air Force</td>\n",
       "      <td>12</td>\n",
       "      <td>12</td>\n",
       "      <td>174</td>\n",
       "      <td>93</td>\n",
       "      <td>4</td>\n",
       "      <td>1259</td>\n",
       "      <td>8</td>\n",
       "      <td>124.80</td>\n",
       "      <td>7.75</td>\n",
       "      <td>13.538</td>\n",
       "      <td>0.534</td>\n",
       "      <td>104.92</td>\n",
       "      <td>Offense</td>\n",
       "    </tr>\n",
       "    <tr>\n",
       "      <th>3</th>\n",
       "      <td>2013-14</td>\n",
       "      <td>Air Force</td>\n",
       "      <td>0</td>\n",
       "      <td>12</td>\n",
       "      <td>326</td>\n",
       "      <td>237</td>\n",
       "      <td>4</td>\n",
       "      <td>2876</td>\n",
       "      <td>26</td>\n",
       "      <td>170.67</td>\n",
       "      <td>19.75</td>\n",
       "      <td>12.135</td>\n",
       "      <td>0.727</td>\n",
       "      <td>239.67</td>\n",
       "      <td>Defensive</td>\n",
       "    </tr>\n",
       "    <tr>\n",
       "      <th>4</th>\n",
       "      <td>2014-15</td>\n",
       "      <td>Air Force</td>\n",
       "      <td>13</td>\n",
       "      <td>13</td>\n",
       "      <td>206</td>\n",
       "      <td>117</td>\n",
       "      <td>4</td>\n",
       "      <td>1893</td>\n",
       "      <td>15</td>\n",
       "      <td>154.13</td>\n",
       "      <td>9.00</td>\n",
       "      <td>16.179</td>\n",
       "      <td>0.568</td>\n",
       "      <td>145.62</td>\n",
       "      <td>Offense</td>\n",
       "    </tr>\n",
       "    <tr>\n",
       "      <th>5</th>\n",
       "      <td>2014-15</td>\n",
       "      <td>Air Force</td>\n",
       "      <td>0</td>\n",
       "      <td>13</td>\n",
       "      <td>434</td>\n",
       "      <td>239</td>\n",
       "      <td>10</td>\n",
       "      <td>3369</td>\n",
       "      <td>20</td>\n",
       "      <td>130.87</td>\n",
       "      <td>18.38</td>\n",
       "      <td>14.096</td>\n",
       "      <td>0.551</td>\n",
       "      <td>259.15</td>\n",
       "      <td>Defensive</td>\n",
       "    </tr>\n",
       "    <tr>\n",
       "      <th>6</th>\n",
       "      <td>2015-16</td>\n",
       "      <td>Air Force</td>\n",
       "      <td>14</td>\n",
       "      <td>14</td>\n",
       "      <td>170</td>\n",
       "      <td>87</td>\n",
       "      <td>12</td>\n",
       "      <td>1847</td>\n",
       "      <td>15</td>\n",
       "      <td>157.44</td>\n",
       "      <td>6.21</td>\n",
       "      <td>21.230</td>\n",
       "      <td>0.512</td>\n",
       "      <td>131.93</td>\n",
       "      <td>Offense</td>\n",
       "    </tr>\n",
       "    <tr>\n",
       "      <th>7</th>\n",
       "      <td>2015-16</td>\n",
       "      <td>Air Force</td>\n",
       "      <td>0</td>\n",
       "      <td>14</td>\n",
       "      <td>387</td>\n",
       "      <td>205</td>\n",
       "      <td>11</td>\n",
       "      <td>2942</td>\n",
       "      <td>23</td>\n",
       "      <td>130.76</td>\n",
       "      <td>14.64</td>\n",
       "      <td>14.351</td>\n",
       "      <td>0.530</td>\n",
       "      <td>210.14</td>\n",
       "      <td>Defensive</td>\n",
       "    </tr>\n",
       "    <tr>\n",
       "      <th>8</th>\n",
       "      <td>2016-17</td>\n",
       "      <td>Air Force</td>\n",
       "      <td>13</td>\n",
       "      <td>13</td>\n",
       "      <td>150</td>\n",
       "      <td>68</td>\n",
       "      <td>8</td>\n",
       "      <td>1752</td>\n",
       "      <td>14</td>\n",
       "      <td>163.58</td>\n",
       "      <td>5.23</td>\n",
       "      <td>25.765</td>\n",
       "      <td>0.453</td>\n",
       "      <td>134.77</td>\n",
       "      <td>Offense</td>\n",
       "    </tr>\n",
       "    <tr>\n",
       "      <th>9</th>\n",
       "      <td>2016-17</td>\n",
       "      <td>Air Force</td>\n",
       "      <td>0</td>\n",
       "      <td>13</td>\n",
       "      <td>383</td>\n",
       "      <td>201</td>\n",
       "      <td>15</td>\n",
       "      <td>3259</td>\n",
       "      <td>23</td>\n",
       "      <td>1778.72</td>\n",
       "      <td>201.00</td>\n",
       "      <td>232.815</td>\n",
       "      <td>6.467</td>\n",
       "      <td>3259.00</td>\n",
       "      <td>Defensive</td>\n",
       "    </tr>\n",
       "    <tr>\n",
       "      <th>10</th>\n",
       "      <td>2017-18</td>\n",
       "      <td>Air Force</td>\n",
       "      <td>12</td>\n",
       "      <td>12</td>\n",
       "      <td>143</td>\n",
       "      <td>69</td>\n",
       "      <td>6</td>\n",
       "      <td>1321</td>\n",
       "      <td>10</td>\n",
       "      <td>140.53</td>\n",
       "      <td>5.75</td>\n",
       "      <td>19.145</td>\n",
       "      <td>0.483</td>\n",
       "      <td>110.08</td>\n",
       "      <td>Offense</td>\n",
       "    </tr>\n",
       "    <tr>\n",
       "      <th>11</th>\n",
       "      <td>2017-18</td>\n",
       "      <td>Air Force</td>\n",
       "      <td>0</td>\n",
       "      <td>12</td>\n",
       "      <td>243</td>\n",
       "      <td>135</td>\n",
       "      <td>5</td>\n",
       "      <td>2053</td>\n",
       "      <td>16</td>\n",
       "      <td>144.14</td>\n",
       "      <td>11.25</td>\n",
       "      <td>15.207</td>\n",
       "      <td>0.556</td>\n",
       "      <td>171.08</td>\n",
       "      <td>Defensive</td>\n",
       "    </tr>\n",
       "  </tbody>\n",
       "</table>\n",
       "</div>"
      ],
      "text/plain": [
       "       Year       Team  GP   G PassAttempts Completions Interceptions  \\\n",
       "2   2013-14  Air Force  12  12          174          93             4   \n",
       "3   2013-14  Air Force   0  12          326         237             4   \n",
       "4   2014-15  Air Force  13  13          206         117             4   \n",
       "5   2014-15  Air Force   0  13          434         239            10   \n",
       "6   2015-16  Air Force  14  14          170          87            12   \n",
       "7   2015-16  Air Force   0  14          387         205            11   \n",
       "8   2016-17  Air Force  13  13          150          68             8   \n",
       "9   2016-17  Air Force   0  13          383         201            15   \n",
       "10  2017-18  Air Force  12  12          143          69             6   \n",
       "11  2017-18  Air Force   0  12          243         135             5   \n",
       "\n",
       "   PassYards PassTDs  PassEff CompletionsPerGame YdsPerCompletion  \\\n",
       "2       1259       8   124.80               7.75           13.538   \n",
       "3       2876      26   170.67              19.75           12.135   \n",
       "4       1893      15   154.13               9.00           16.179   \n",
       "5       3369      20   130.87              18.38           14.096   \n",
       "6       1847      15   157.44               6.21           21.230   \n",
       "7       2942      23   130.76              14.64           14.351   \n",
       "8       1752      14   163.58               5.23           25.765   \n",
       "9       3259      23  1778.72             201.00          232.815   \n",
       "10      1321      10   140.53               5.75           19.145   \n",
       "11      2053      16   144.14              11.25           15.207   \n",
       "\n",
       "   CompletionPct PassYardsG OffenseDefense  \n",
       "2          0.534     104.92        Offense  \n",
       "3          0.727     239.67      Defensive  \n",
       "4          0.568     145.62        Offense  \n",
       "5          0.551     259.15      Defensive  \n",
       "6          0.512     131.93        Offense  \n",
       "7          0.530     210.14      Defensive  \n",
       "8          0.453     134.77        Offense  \n",
       "9          6.467    3259.00      Defensive  \n",
       "10         0.483     110.08        Offense  \n",
       "11         0.556     171.08      Defensive  "
      ]
     },
     "execution_count": 199,
     "metadata": {},
     "output_type": "execute_result"
    }
   ],
   "source": [
    "yearlystats(tables[2])"
   ]
  },
  {
   "cell_type": "code",
   "execution_count": 196,
   "metadata": {
    "collapsed": true
   },
   "outputs": [],
   "source": [
    "def gamestats(table, curr_team):\n",
    "    \"\"\" Clean up game stats table\n",
    "        table : pandas DF you want to clean \n",
    "        curr_team : team name you want to add \n",
    "    \"\"\"\n",
    "    \n",
    "    # Drop unneeded header \n",
    "    tmp = table.iloc[1:,]\n",
    "    # Fix the column names by reading line 0\n",
    "    tmp.columns = [x.replace(\" \", \"\").replace(\"/\",\"\").replace(\".\",\"\") for x in tmp.iloc[0]]\n",
    "    # Drop row zero which held the header row\n",
    "    tmp = tmp.drop(tmp.index[0])\n",
    "    # Forward fill the dates for defensive split later \n",
    "    tmp['Date'].fillna(method='ffill', inplace = True)\n",
    "    # Add in the team \n",
    "    tmp['Team'] = curr_team\n",
    "    # Create an offense/defense variable\n",
    "    tmp['OffenseDefense'] = tmp['Opponent']\n",
    "    # If it's not a defensive total then it's offense - set that in the offensedefense variable\n",
    "    tmp['OffenseDefense'] = tmp['OffenseDefense'].apply(lambda x: \"Defense\" if x == \"Defensive Totals\" else \"Offense\")\n",
    "    # Set the defensive totals in the opponent varaible to nullls\n",
    "    tmp['Opponent'] = tmp['Opponent'].apply(lambda x: None if x == \"Defensive Totals\" else x)\n",
    "    # Forward fill the opponents in for analysis later\n",
    "    tmp['Opponent'].fillna(method='ffill', inplace = True)\n",
    "    # Forward fill the results in for analysis later \n",
    "    tmp['Result'].fillna(method='ffill', inplace = True)\n",
    "    return tmp \n",
    "    "
   ]
  },
  {
   "cell_type": "code",
   "execution_count": null,
   "metadata": {
    "collapsed": true
   },
   "outputs": [],
   "source": []
  }
 ],
 "metadata": {
  "kernelspec": {
   "display_name": "Python 3",
   "language": "python",
   "name": "python3"
  },
  "language_info": {
   "codemirror_mode": {
    "name": "ipython",
    "version": 3
   },
   "file_extension": ".py",
   "mimetype": "text/x-python",
   "name": "python",
   "nbconvert_exporter": "python",
   "pygments_lexer": "ipython3",
   "version": "3.6.1"
  }
 },
 "nbformat": 4,
 "nbformat_minor": 2
}
