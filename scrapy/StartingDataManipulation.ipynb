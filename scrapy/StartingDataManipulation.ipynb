{
 "cells": [
  {
   "cell_type": "code",
   "execution_count": 222,
   "metadata": {
    "collapsed": true
   },
   "outputs": [],
   "source": [
    "import zipfile, os\n",
    "import pandas as pd\n",
    "import numpy as np "
   ]
  },
  {
   "cell_type": "code",
   "execution_count": 223,
   "metadata": {},
   "outputs": [],
   "source": [
    "_file = os.path.join('Data', 'Data.zip')\n",
    "zf = zipfile.ZipFile(_file)\n",
    "filenames = zf.namelist()"
   ]
  },
  {
   "cell_type": "code",
   "execution_count": 224,
   "metadata": {},
   "outputs": [
    {
     "data": {
      "text/plain": [
       "['all-purposeyards.csv',\n",
       " 'Coaches.csv',\n",
       " 'defense.csv',\n",
       " 'fumbles.csv',\n",
       " 'gamebygame_allpurposeyards.csv',\n",
       " 'gamebygame_defense.csv',\n",
       " 'gamebygame_fumbles.csv',\n",
       " 'gamebygame_kicking.csv',\n",
       " 'gamebygame_kickoffsandkoreturns.csv',\n",
       " 'gamebygame_participation.csv',\n",
       " 'gamebygame_passesdefended.csv',\n",
       " 'gamebygame_passing.csv',\n",
       " 'gamebygame_punting.csv',\n",
       " 'gamebygame_puntreturns.csv',\n",
       " 'gamebygame_receiving.csv',\n",
       " 'gamebygame_redzone.csv',\n",
       " 'gamebygame_sacks.csv',\n",
       " 'gamebygame_scoring.csv',\n",
       " 'gamebygame_tackles.csv',\n",
       " 'gamebygame_totaloffense.csv',\n",
       " 'gamebygame_turnovermargin.csv',\n",
       " 'History.csv',\n",
       " 'individualleaders.csv',\n",
       " 'kicking.csv',\n",
       " 'kickoffsandkoreturns.csv',\n",
       " 'participation.csv',\n",
       " 'passesdefended.csv',\n",
       " 'passing.csv',\n",
       " 'punting.csv',\n",
       " 'puntreturns.csv',\n",
       " 'receiving.csv',\n",
       " 'redzone.csv',\n",
       " 'results.csv',\n",
       " 'Roster.csv',\n",
       " 'rushing.csv',\n",
       " 'sacks.csv',\n",
       " 'scoring.csv',\n",
       " 'tackles.csv',\n",
       " 'teamstats.csv',\n",
       " 'totaloffense.csv',\n",
       " 'turnovermargin.csv',\n",
       " 'yearly_allpurposeyards.csv',\n",
       " 'yearly_defense.csv',\n",
       " 'yearly_fumbles.csv',\n",
       " 'yearly_kicking.csv',\n",
       " 'yearly_kickoffsandkoreturns.csv',\n",
       " 'yearly_participation.csv',\n",
       " 'yearly_passesdefended.csv',\n",
       " 'yearly_passing.csv',\n",
       " 'yearly_punting.csv',\n",
       " 'yearly_puntreturns.csv',\n",
       " 'yearly_receiving.csv',\n",
       " 'yearly_redzone.csv',\n",
       " 'yearly_sacks.csv',\n",
       " 'yearly_scoring.csv',\n",
       " 'yearly_tackles.csv',\n",
       " 'yearly_totaloffense.csv',\n",
       " 'yearly_turnovermargin.csv']"
      ]
     },
     "execution_count": 224,
     "metadata": {},
     "output_type": "execute_result"
    }
   ],
   "source": [
    "filenames"
   ]
  },
  {
   "cell_type": "markdown",
   "metadata": {},
   "source": [
    "# History"
   ]
  },
  {
   "cell_type": "code",
   "execution_count": 302,
   "metadata": {},
   "outputs": [],
   "source": [
    "history = pd.read_csv(zf.open('History.csv'))"
   ]
  },
  {
   "cell_type": "code",
   "execution_count": 303,
   "metadata": {},
   "outputs": [],
   "source": [
    "history['year_new'] = history.apply(lambda x: int(x['Year'][:4]), axis = 1)"
   ]
  },
  {
   "cell_type": "code",
   "execution_count": 304,
   "metadata": {},
   "outputs": [],
   "source": [
    "history_trimmed = history[['Team', \"Wins\", \"Losses\", \"year_new\", \"WL\"]]"
   ]
  },
  {
   "cell_type": "code",
   "execution_count": 319,
   "metadata": {},
   "outputs": [],
   "source": [
    "team = 'Nebraska Cornhuskers, Huskers'\n",
    "target_year = 2016"
   ]
  },
  {
   "cell_type": "code",
   "execution_count": 323,
   "metadata": {},
   "outputs": [
    {
     "data": {
      "text/plain": [
       "WL    0.689882\n",
       "dtype: float64"
      ]
     },
     "execution_count": 323,
     "metadata": {},
     "output_type": "execute_result"
    }
   ],
   "source": [
    "history[(history.Team == team) & (history.year_new <= target_year)][['WL']].mean()"
   ]
  },
  {
   "cell_type": "markdown",
   "metadata": {},
   "source": [
    "# Coach"
   ]
  },
  {
   "cell_type": "code",
   "execution_count": 408,
   "metadata": {},
   "outputs": [],
   "source": [
    "coaches = pd.read_csv(zf.open('Coaches.csv'))"
   ]
  },
  {
   "cell_type": "code",
   "execution_count": 409,
   "metadata": {},
   "outputs": [],
   "source": [
    "coaches['year_new'] = coaches.apply(lambda x: int(x['Year'][:4]), axis = 1)"
   ]
  },
  {
   "cell_type": "code",
   "execution_count": 410,
   "metadata": {
    "collapsed": true
   },
   "outputs": [],
   "source": [
    "coach = 'Bob Diaco'\n",
    "target_year = 2016"
   ]
  },
  {
   "cell_type": "code",
   "execution_count": 411,
   "metadata": {},
   "outputs": [
    {
     "data": {
      "text/plain": [
       "WL    0.293\n",
       "dtype: float64"
      ]
     },
     "execution_count": 411,
     "metadata": {},
     "output_type": "execute_result"
    }
   ],
   "source": [
    "coaches[(coaches.Name == coach) & (coaches.year_new <= target_year)][['WL']].mean()"
   ]
  },
  {
   "cell_type": "code",
   "execution_count": 412,
   "metadata": {},
   "outputs": [],
   "source": [
    "coach_record = coaches[(coaches.year_new <= target_year)][[\"Name\",\"Wins\",\"Losses\",\"WL\",\"year_new\"]].groupby(\"Name\").agg(['sum', 'count', 'mean'])"
   ]
  },
  {
   "cell_type": "code",
   "execution_count": 413,
   "metadata": {},
   "outputs": [],
   "source": [
    "coach_record.columns = [x[0] + \"_\" + x[1]  for x in coach_record.columns.values]"
   ]
  },
  {
   "cell_type": "code",
   "execution_count": 414,
   "metadata": {},
   "outputs": [],
   "source": [
    "coach_record.drop(['Wins_count', 'Wins_mean', 'Losses_count', 'Losses_mean', 'WL_sum', 'WL_count', \n",
    "                             'year_new_sum', 'year_new_mean'], axis=1, inplace = True)"
   ]
  },
  {
   "cell_type": "code",
   "execution_count": 415,
   "metadata": {},
   "outputs": [],
   "source": [
    "coach_record['total_games'] = coach_record.Wins_sum + coach_record.Losses_sum\n",
    "coach_record.reset_index(inplace = True)"
   ]
  },
  {
   "cell_type": "code",
   "execution_count": 419,
   "metadata": {},
   "outputs": [
    {
     "data": {
      "text/plain": [
       "array(['Adam Scheier', 'Barney Cotton', 'Barry Alvarez', 'Barry Odom',\n",
       "       'Bill Blankenship', \"Bill O'Brien\", 'Bill Snyder', 'Blake Anderson',\n",
       "       'Bob Diaco', 'Bob Gregory', 'Bob Stoops', 'Bobby Wilder',\n",
       "       'Brad Lambert', 'Brian Polian', 'Brian Wright', 'Bryan McClendon',\n",
       "       'Carl Pelini', 'Chad Morris', 'Charley Molnar', 'Charlie Partridge',\n",
       "       'Chris Ash', 'Chris Naeole', 'Clay Helton', 'Clint Bowen',\n",
       "       'Curtis Johnson', 'Dabo Swinney', 'Dan Mullen', 'Dana Holgorsen',\n",
       "       'Danny Barrett', 'Dave Christensen', 'David Beaty', 'David Gibbs',\n",
       "       'David Shaw', 'Dell McGee', 'Derek Mason', 'Don Treadwell',\n",
       "       'Eric Kiesau', 'Frank Wilson', 'Garrick McGee', 'Gary Patterson',\n",
       "       'Gerad Parker', 'Jason Candle', 'Jim L. Mora', 'Jimbo Fisher',\n",
       "       'Joe Moglia', 'Joe Rudolph', 'John \"Doc\" Holliday', 'John Bonamego',\n",
       "       'Kalani Sitake', 'Ken Niumatalolo', 'Kevin Wilson', 'Kirby Smart',\n",
       "       'Kliff Kingsbury', 'Kyle Flood', 'Kyle Whittingham',\n",
       "       'Larry Blakeney', 'Larry Scott', 'Lovie Smith', 'Major Applewhite',\n",
       "       'Mark Helfrich', 'Mark Stoops', 'Matt Wells', 'Mike Bath',\n",
       "       'Mike Bobo', 'Mike Canales', 'Mike Gundy', 'Mike Jinks', 'Mike Neu',\n",
       "       'Mike Norvell', 'Neal Brown', 'Nick Rolovich', 'Norm Chow',\n",
       "       'Pat Fitzgerald', 'Pat Narduzzi', 'Paul Haynes', 'Paul Petrino',\n",
       "       'Paul Rhoads', 'Philip Montgomery', 'Rick Stockstill', 'Rod Carey',\n",
       "       'Ron English', 'Scott Frost', 'Scott Satterfield', 'Scott Shafer',\n",
       "       'Scottie Montgomery', 'Sean Kugler', 'Seth Littrell', 'Tim Lappano',\n",
       "       'Todd Monken', 'Tom Allen', 'Tony Levine', 'Tony Sanchez',\n",
       "       'Tracy Claeys', 'Troy Calhoun', 'Tyson Summers'], dtype=object)"
      ]
     },
     "execution_count": 419,
     "metadata": {},
     "output_type": "execute_result"
    }
   ],
   "source": [
    "coach_record.Name.unique()"
   ]
  },
  {
   "cell_type": "markdown",
   "metadata": {},
   "source": [
    "# Roster"
   ]
  },
  {
   "cell_type": "code",
   "execution_count": 307,
   "metadata": {
    "collapsed": true
   },
   "outputs": [],
   "source": [
    "roster = pd.read_csv(zf.open('Roster.csv'))"
   ]
  },
  {
   "cell_type": "code",
   "execution_count": 308,
   "metadata": {},
   "outputs": [],
   "source": [
    "roster['year_new'] = roster.apply(lambda x: int(x['Year'][:4]), axis = 1)"
   ]
  },
  {
   "cell_type": "code",
   "execution_count": 309,
   "metadata": {},
   "outputs": [],
   "source": [
    "def yrRecode(data): \n",
    "    yr = {'Fr':0, 'So':1, 'Jr':2, 'Sr':3}\n",
    "    return yr[data]"
   ]
  },
  {
   "cell_type": "code",
   "execution_count": 310,
   "metadata": {},
   "outputs": [],
   "source": [
    "roster['Yr_N'] = roster.apply(lambda x: yrRecode(x['Yr']) if pd.notnull(x['Yr']) else None, axis = 1)"
   ]
  },
  {
   "cell_type": "code",
   "execution_count": 311,
   "metadata": {},
   "outputs": [],
   "source": [
    "roster_by_year = roster[['Team', 'Yr', 'year_new', 'GS']].groupby(['Team', 'year_new', 'Yr']).count().reset_index()"
   ]
  },
  {
   "cell_type": "code",
   "execution_count": 312,
   "metadata": {},
   "outputs": [],
   "source": [
    "roster_games_started = roster[['Team', 'year_new', 'Yr', 'GS']].groupby(['Team', 'year_new', \"Yr\"]).mean().reset_index()"
   ]
  },
  {
   "cell_type": "code",
   "execution_count": 313,
   "metadata": {},
   "outputs": [],
   "source": [
    "roster_games_played = roster[['Team', 'year_new', 'Yr', 'GP']].groupby(['Team', 'year_new', \"Yr\"]).mean().reset_index()"
   ]
  },
  {
   "cell_type": "markdown",
   "metadata": {},
   "source": [
    "# Results"
   ]
  },
  {
   "cell_type": "code",
   "execution_count": 288,
   "metadata": {
    "collapsed": true
   },
   "outputs": [],
   "source": [
    "game_by_game_results = pd.read_csv(zf.open('results.csv'))"
   ]
  },
  {
   "cell_type": "code",
   "execution_count": 289,
   "metadata": {},
   "outputs": [],
   "source": [
    "game_by_game_results['homeaway'] = game_by_game_results.apply(lambda x: 'Away' if '@' in x['Opponent'] else 'Home', axis = 1 )"
   ]
  },
  {
   "cell_type": "code",
   "execution_count": 290,
   "metadata": {
    "collapsed": true
   },
   "outputs": [],
   "source": [
    "def extractData(data): \n",
    "    regexs = {'WL': \"[WL]\",\n",
    "              'team': [\"\\d+\\s\\-\", \"\\d+\"],\n",
    "              'opponent':[\"\\-\\s\\d+\", '\\d+'],\n",
    "              'OT':[\"\\(\\d+OT\\)\", \"\\d+\"], \n",
    "             }\n",
    "    \n",
    "    # Win/Loss\n",
    "    WinLoss = re.search(regexs['WL'], data).group()\n",
    "    \n",
    "    # Overtime \n",
    "    Overtime = 0\n",
    "    re_ot = re.search(regexs['OT'][0], data)\n",
    "    if re_ot:\n",
    "        Overtime = re.search(regexs['OT'][1], re_ot.group()).group()\n",
    "        \n",
    "    # Team\n",
    "    team_score = None\n",
    "    re_team = re.search(regexs['team'][0], data)\n",
    "    if re_team:\n",
    "        team_score = re.search(regexs['OT'][1], re_team.group()).group()\n",
    "        \n",
    "    # Opponent \n",
    "    opponent_score = None\n",
    "    re_opponent = re.search(regexs['opponent'][0], data)\n",
    "    if re_opponent:\n",
    "        opponent_score = re.search(regexs['OT'][1], re_opponent.group()).group()\n",
    "        \n",
    "    return pd.Series([WinLoss, Overtime, team_score, opponent_score])    "
   ]
  },
  {
   "cell_type": "code",
   "execution_count": 291,
   "metadata": {},
   "outputs": [],
   "source": [
    "game_by_game_results[['WinLoss','Overtime', 'team_score', 'opponent_score']]=game_by_game_results.apply(lambda x: extractData(x['Result']), axis = 1)"
   ]
  },
  {
   "cell_type": "code",
   "execution_count": null,
   "metadata": {
    "collapsed": true
   },
   "outputs": [],
   "source": []
  }
 ],
 "metadata": {
  "kernelspec": {
   "display_name": "Python 3",
   "language": "python",
   "name": "python3"
  },
  "language_info": {
   "codemirror_mode": {
    "name": "ipython",
    "version": 3
   },
   "file_extension": ".py",
   "mimetype": "text/x-python",
   "name": "python",
   "nbconvert_exporter": "python",
   "pygments_lexer": "ipython3",
   "version": "3.6.1"
  }
 },
 "nbformat": 4,
 "nbformat_minor": 2
}
