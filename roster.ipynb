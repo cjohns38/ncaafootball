{
 "cells": [
  {
   "cell_type": "code",
   "execution_count": 1,
   "metadata": {
    "collapsed": true
   },
   "outputs": [],
   "source": [
    "import scrapy, re, urllib, datetime, io, requests\n",
    "import pandas as pd\n",
    "from scrapy.crawler import CrawlerProcess\n",
    "from scrapy.linkextractors import LinkExtractor\n",
    "from bs4 import BeautifulSoup as bs"
   ]
  },
  {
   "cell_type": "code",
   "execution_count": 12,
   "metadata": {
    "collapsed": true
   },
   "outputs": [],
   "source": [
    "class rosterSpider(scrapy.Spider): \n",
    "    name = \"Roster\"\n",
    "    \n",
    "    file_in = \"NewLinks2017-12-03 20:28:18.862583.csv\"\n",
    "    file_out = \"Roster_{0}.csv\"\n",
    "    variables = [\"Year\", \"Team\", \"Jersey\",\"Player\",\"Pos\",\"Yr\",\"GP\",\"GS\"]\n",
    "    header = ','.join(variables) + \"\\n\"\n",
    "    target = 'roster'\n",
    "    \n",
    "    # Read in data\n",
    "    data = pd.read_csv(file_in)\n",
    "    df = data[data.key == target].drop_duplicates()\n",
    "    df.sort_values(['team'], inplace = True)\n",
    "    _list = df.to_dict(orient='record')\n",
    "    \n",
    "    # Create file to append to \n",
    "    fileName = file_out.format(datetime.datetime.now())\n",
    "    \n",
    "    with open(fileName, 'w') as f: \n",
    "        f.write(header)\n",
    "    \n",
    "    def start_requests(self): \n",
    "        \n",
    "        for url in self._list[:1]: \n",
    "            yield scrapy.Request(url=url['link'], \n",
    "                                 callback=self.parse, \n",
    "                                 meta={'team':url['team']}\n",
    "                                )\n",
    "    \n",
    "    def parse(self, response):\n",
    "        # year \n",
    "        year = response.selector.xpath(\"//body//div[@id='contentarea']//fieldset//div/\" +\n",
    "                 \"/form[@id='change_sport_form']//select[@id='year_list']//option[@select\" +\n",
    "                 \"ed='selected']//text()\").extract()\n",
    "\n",
    "        # Create tables \n",
    "        tables = pd.read_html(response.body)\n",
    "        tables[0].columns = tables[0].columns.droplevel(0)\n",
    "        tables[0]['Year'] = year[0]\n",
    "        tables[0]['Team'] = response.meta['team']\n",
    "\n",
    "        # Create a pandas df and append to csv \n",
    "        c = io.StringIO()\n",
    "        tables[0][self.variables].to_csv(c, index=False, header=False)\n",
    "        \n",
    "        # Append links to CSV \n",
    "        with open(self.fileName, 'a') as f:\n",
    "            f.write(c.getvalue())\n",
    "        "
   ]
  },
  {
   "cell_type": "code",
   "execution_count": 13,
   "metadata": {},
   "outputs": [
    {
     "name": "stderr",
     "output_type": "stream",
     "text": [
      "2017-12-05 22:27:36 [scrapy.utils.log] INFO: Scrapy 1.4.0 started (bot: scrapybot)\n",
      "2017-12-05 22:27:36 [scrapy.utils.log] INFO: Overridden settings: {'USER_AGENT': 'Mozilla/4.0 (compatible; MSIE 7.0; Windows NT 5.1)'}\n",
      "2017-12-05 22:27:36 [scrapy.middleware] INFO: Enabled extensions:\n",
      "['scrapy.extensions.corestats.CoreStats',\n",
      " 'scrapy.extensions.telnet.TelnetConsole',\n",
      " 'scrapy.extensions.memusage.MemoryUsage',\n",
      " 'scrapy.extensions.logstats.LogStats']\n",
      "2017-12-05 22:27:37 [scrapy.middleware] INFO: Enabled downloader middlewares:\n",
      "['scrapy.downloadermiddlewares.httpauth.HttpAuthMiddleware',\n",
      " 'scrapy.downloadermiddlewares.downloadtimeout.DownloadTimeoutMiddleware',\n",
      " 'scrapy.downloadermiddlewares.defaultheaders.DefaultHeadersMiddleware',\n",
      " 'scrapy.downloadermiddlewares.useragent.UserAgentMiddleware',\n",
      " 'scrapy.downloadermiddlewares.retry.RetryMiddleware',\n",
      " 'scrapy.downloadermiddlewares.redirect.MetaRefreshMiddleware',\n",
      " 'scrapy.downloadermiddlewares.httpcompression.HttpCompressionMiddleware',\n",
      " 'scrapy.downloadermiddlewares.redirect.RedirectMiddleware',\n",
      " 'scrapy.downloadermiddlewares.cookies.CookiesMiddleware',\n",
      " 'scrapy.downloadermiddlewares.httpproxy.HttpProxyMiddleware',\n",
      " 'scrapy.downloadermiddlewares.stats.DownloaderStats']\n",
      "2017-12-05 22:27:37 [scrapy.middleware] INFO: Enabled spider middlewares:\n",
      "['scrapy.spidermiddlewares.httperror.HttpErrorMiddleware',\n",
      " 'scrapy.spidermiddlewares.offsite.OffsiteMiddleware',\n",
      " 'scrapy.spidermiddlewares.referer.RefererMiddleware',\n",
      " 'scrapy.spidermiddlewares.urllength.UrlLengthMiddleware',\n",
      " 'scrapy.spidermiddlewares.depth.DepthMiddleware']\n",
      "2017-12-05 22:27:37 [scrapy.middleware] INFO: Enabled item pipelines:\n",
      "[]\n",
      "2017-12-05 22:27:37 [scrapy.core.engine] INFO: Spider opened\n",
      "2017-12-05 22:27:37 [scrapy.extensions.logstats] INFO: Crawled 0 pages (at 0 pages/min), scraped 0 items (at 0 items/min)\n",
      "2017-12-05 22:27:37 [scrapy.extensions.telnet] DEBUG: Telnet console listening on 127.0.0.1:6024\n",
      "2017-12-05 22:27:39 [scrapy.core.engine] DEBUG: Crawled (200) <GET http://stats.ncaa.org/team/721/roster/11520> (referer: None)\n",
      "2017-12-05 22:27:39 [scrapy.core.engine] INFO: Closing spider (finished)\n",
      "2017-12-05 22:27:39 [scrapy.statscollectors] INFO: Dumping Scrapy stats:\n",
      "{'downloader/request_bytes': 250,\n",
      " 'downloader/request_count': 1,\n",
      " 'downloader/request_method_count/GET': 1,\n",
      " 'downloader/response_bytes': 8083,\n",
      " 'downloader/response_count': 1,\n",
      " 'downloader/response_status_count/200': 1,\n",
      " 'finish_reason': 'finished',\n",
      " 'finish_time': datetime.datetime(2017, 12, 6, 4, 27, 39, 300883),\n",
      " 'log_count/DEBUG': 2,\n",
      " 'log_count/INFO': 7,\n",
      " 'memusage/max': 127791104,\n",
      " 'memusage/startup': 127791104,\n",
      " 'response_received_count': 1,\n",
      " 'scheduler/dequeued': 1,\n",
      " 'scheduler/dequeued/memory': 1,\n",
      " 'scheduler/enqueued': 1,\n",
      " 'scheduler/enqueued/memory': 1,\n",
      " 'start_time': datetime.datetime(2017, 12, 6, 4, 27, 37, 19621)}\n",
      "2017-12-05 22:27:39 [scrapy.core.engine] INFO: Spider closed (finished)\n"
     ]
    }
   ],
   "source": [
    "process = CrawlerProcess({\n",
    "    'USER_AGENT': 'Mozilla/4.0 (compatible; MSIE 7.0; Windows NT 5.1)'\n",
    "})\n",
    "\n",
    "process.crawl(rosterSpider)\n",
    "process.start() "
   ]
  },
  {
   "cell_type": "code",
   "execution_count": null,
   "metadata": {
    "collapsed": true
   },
   "outputs": [],
   "source": []
  }
 ],
 "metadata": {
  "kernelspec": {
   "display_name": "Python 3",
   "language": "python",
   "name": "python3"
  },
  "language_info": {
   "codemirror_mode": {
    "name": "ipython",
    "version": 3
   },
   "file_extension": ".py",
   "mimetype": "text/x-python",
   "name": "python",
   "nbconvert_exporter": "python",
   "pygments_lexer": "ipython3",
   "version": "3.6.1"
  }
 },
 "nbformat": 4,
 "nbformat_minor": 2
}
