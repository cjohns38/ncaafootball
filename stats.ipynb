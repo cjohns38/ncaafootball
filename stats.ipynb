{
 "cells": [
  {
   "cell_type": "code",
   "execution_count": 1,
   "metadata": {},
   "outputs": [],
   "source": [
    "import scrapy, re, urllib, datetime, io, requests\n",
    "import pandas as pd\n",
    "from scrapy.crawler import CrawlerProcess\n",
    "from scrapy.linkextractors import LinkExtractor\n",
    "from bs4 import BeautifulSoup as bs"
   ]
  },
  {
   "cell_type": "code",
   "execution_count": 2,
   "metadata": {
    "collapsed": true
   },
   "outputs": [],
   "source": [
    "data = pd.read_csv(\"NewLinks2017-12-03 20:28:18.862583.csv\")\n",
    "stats = data[data.key == 'stats'].drop_duplicates()\n",
    "stats.sort_values(['team'], inplace = True)\n",
    "stats_list = stats.to_dict(orient='record')"
   ]
  },
  {
   "cell_type": "code",
   "execution_count": 3,
   "metadata": {},
   "outputs": [
    {
     "data": {
      "text/plain": [
       "'http://stats.ncaa.org/team/721/stats/11520'"
      ]
     },
     "execution_count": 3,
     "metadata": {},
     "output_type": "execute_result"
    }
   ],
   "source": [
    "stats_list[0]['link']"
   ]
  },
  {
   "cell_type": "code",
   "execution_count": 4,
   "metadata": {
    "collapsed": true
   },
   "outputs": [],
   "source": [
    "class StatsSpider(scrapy.Spider): \n",
    "    name = \"Stats\"\n",
    "    regex = '.*\\/stats\\?id\\=\\d+\\&year_stat_category_id\\=\\d+'\n",
    "    xpath = \"//body//div[@id='contentarea']//div[@id='stats_div']//table\"\n",
    "    \n",
    "    def start_requests(self): \n",
    "        data = pd.read_csv(\"NewLinks2017-12-03 20:28:18.862583.csv\")\n",
    "        stats = data[data.key == 'stats'].drop_duplicates()\n",
    "        stats.sort_values(['team'], inplace = True)\n",
    "        stats_list = stats.to_dict(orient='record')\n",
    "        for url in stats_list[:1]: \n",
    "            print(url['link'])\n",
    "            yield scrapy.Request(url=url['link'], callback=self.parse)\n",
    "    \n",
    "    def parse(self, response): \n",
    "        \n",
    "        # Get all the links on the page\n",
    "        le = LinkExtractor(restrict_xpaths = (self.xpath,),\n",
    "                           allow = self.regex\n",
    "                          ) \n",
    "        links = le.extract_links(response)\n",
    "        print(links)\n",
    "\n",
    "        \n",
    "        \n",
    "        "
   ]
  },
  {
   "cell_type": "code",
   "execution_count": 5,
   "metadata": {},
   "outputs": [
    {
     "name": "stderr",
     "output_type": "stream",
     "text": [
      "2017-12-09 11:06:00 [scrapy.utils.log] INFO: Scrapy 1.4.0 started (bot: scrapybot)\n",
      "2017-12-09 11:06:00 [scrapy.utils.log] INFO: Overridden settings: {'USER_AGENT': 'Mozilla/4.0 (compatible; MSIE 7.0; Windows NT 5.1)'}\n",
      "2017-12-09 11:06:00 [scrapy.middleware] INFO: Enabled extensions:\n",
      "['scrapy.extensions.corestats.CoreStats',\n",
      " 'scrapy.extensions.telnet.TelnetConsole',\n",
      " 'scrapy.extensions.memusage.MemoryUsage',\n",
      " 'scrapy.extensions.logstats.LogStats']\n",
      "2017-12-09 11:06:00 [scrapy.middleware] INFO: Enabled downloader middlewares:\n",
      "['scrapy.downloadermiddlewares.httpauth.HttpAuthMiddleware',\n",
      " 'scrapy.downloadermiddlewares.downloadtimeout.DownloadTimeoutMiddleware',\n",
      " 'scrapy.downloadermiddlewares.defaultheaders.DefaultHeadersMiddleware',\n",
      " 'scrapy.downloadermiddlewares.useragent.UserAgentMiddleware',\n",
      " 'scrapy.downloadermiddlewares.retry.RetryMiddleware',\n",
      " 'scrapy.downloadermiddlewares.redirect.MetaRefreshMiddleware',\n",
      " 'scrapy.downloadermiddlewares.httpcompression.HttpCompressionMiddleware',\n",
      " 'scrapy.downloadermiddlewares.redirect.RedirectMiddleware',\n",
      " 'scrapy.downloadermiddlewares.cookies.CookiesMiddleware',\n",
      " 'scrapy.downloadermiddlewares.httpproxy.HttpProxyMiddleware',\n",
      " 'scrapy.downloadermiddlewares.stats.DownloaderStats']\n",
      "2017-12-09 11:06:00 [scrapy.middleware] INFO: Enabled spider middlewares:\n",
      "['scrapy.spidermiddlewares.httperror.HttpErrorMiddleware',\n",
      " 'scrapy.spidermiddlewares.offsite.OffsiteMiddleware',\n",
      " 'scrapy.spidermiddlewares.referer.RefererMiddleware',\n",
      " 'scrapy.spidermiddlewares.urllength.UrlLengthMiddleware',\n",
      " 'scrapy.spidermiddlewares.depth.DepthMiddleware']\n",
      "2017-12-09 11:06:00 [scrapy.middleware] INFO: Enabled item pipelines:\n",
      "[]\n",
      "2017-12-09 11:06:00 [scrapy.core.engine] INFO: Spider opened\n",
      "2017-12-09 11:06:00 [scrapy.extensions.logstats] INFO: Crawled 0 pages (at 0 pages/min), scraped 0 items (at 0 items/min)\n",
      "2017-12-09 11:06:00 [scrapy.extensions.telnet] DEBUG: Telnet console listening on 127.0.0.1:6025\n"
     ]
    },
    {
     "name": "stdout",
     "output_type": "stream",
     "text": [
      "http://stats.ncaa.org/team/721/stats/11520\n"
     ]
    },
    {
     "name": "stderr",
     "output_type": "stream",
     "text": [
      "2017-12-09 11:06:01 [scrapy.core.engine] DEBUG: Crawled (200) <GET http://stats.ncaa.org/team/721/stats/11520> (referer: None)\n",
      "2017-12-09 11:06:01 [scrapy.core.engine] INFO: Closing spider (finished)\n",
      "2017-12-09 11:06:01 [scrapy.statscollectors] INFO: Dumping Scrapy stats:\n",
      "{'downloader/request_bytes': 249,\n",
      " 'downloader/request_count': 1,\n",
      " 'downloader/request_method_count/GET': 1,\n",
      " 'downloader/response_bytes': 10871,\n",
      " 'downloader/response_count': 1,\n",
      " 'downloader/response_status_count/200': 1,\n",
      " 'finish_reason': 'finished',\n",
      " 'finish_time': datetime.datetime(2017, 12, 9, 17, 6, 1, 435710),\n",
      " 'log_count/DEBUG': 2,\n",
      " 'log_count/INFO': 7,\n",
      " 'memusage/max': 125792256,\n",
      " 'memusage/startup': 125792256,\n",
      " 'response_received_count': 1,\n",
      " 'scheduler/dequeued': 1,\n",
      " 'scheduler/dequeued/memory': 1,\n",
      " 'scheduler/enqueued': 1,\n",
      " 'scheduler/enqueued/memory': 1,\n",
      " 'start_time': datetime.datetime(2017, 12, 9, 17, 6, 0, 524705)}\n",
      "2017-12-09 11:06:01 [scrapy.core.engine] INFO: Spider closed (finished)\n"
     ]
    },
    {
     "name": "stdout",
     "output_type": "stream",
     "text": [
      "[Link(url='http://stats.ncaa.org/team/721/stats?id=11520&year_stat_category_id=10392', text='Passing', fragment='', nofollow=False), Link(url='http://stats.ncaa.org/team/721/stats?id=11520&year_stat_category_id=10393', text='Receiving', fragment='', nofollow=False), Link(url='http://stats.ncaa.org/team/721/stats?id=11520&year_stat_category_id=10394', text='Total Offense', fragment='', nofollow=False), Link(url='http://stats.ncaa.org/team/721/stats?id=11520&year_stat_category_id=10395', text='All-Purpose Yards', fragment='', nofollow=False), Link(url='http://stats.ncaa.org/team/721/stats?id=11520&year_stat_category_id=10396', text='Scoring', fragment='', nofollow=False), Link(url='http://stats.ncaa.org/team/721/stats?id=11520&year_stat_category_id=10397', text='Sacks', fragment='', nofollow=False), Link(url='http://stats.ncaa.org/team/721/stats?id=11520&year_stat_category_id=10398', text='Tackles', fragment='', nofollow=False), Link(url='http://stats.ncaa.org/team/721/stats?id=11520&year_stat_category_id=10399', text='Passes Defended', fragment='', nofollow=False), Link(url='http://stats.ncaa.org/team/721/stats?id=11520&year_stat_category_id=10400', text='Fumbles', fragment='', nofollow=False), Link(url='http://stats.ncaa.org/team/721/stats?id=11520&year_stat_category_id=10401', text='Kicking', fragment='', nofollow=False), Link(url='http://stats.ncaa.org/team/721/stats?id=11520&year_stat_category_id=10402', text='Punting', fragment='', nofollow=False), Link(url='http://stats.ncaa.org/team/721/stats?id=11520&year_stat_category_id=10403', text='Punt Returns', fragment='', nofollow=False), Link(url='http://stats.ncaa.org/team/721/stats?id=11520&year_stat_category_id=10404', text='Kickoffs and KO Returns', fragment='', nofollow=False), Link(url='http://stats.ncaa.org/team/721/stats?id=11520&year_stat_category_id=10405', text='Redzone', fragment='', nofollow=False), Link(url='http://stats.ncaa.org/team/721/stats?id=11520&year_stat_category_id=10420', text='Defense', fragment='', nofollow=False), Link(url='http://stats.ncaa.org/team/721/stats?id=11520&year_stat_category_id=10440', text='Turnover Margin', fragment='', nofollow=False), Link(url='http://stats.ncaa.org/team/721/stats?id=11520&year_stat_category_id=10500', text='Participation', fragment='', nofollow=False)]\n"
     ]
    }
   ],
   "source": [
    "process = CrawlerProcess({\n",
    "    'USER_AGENT': 'Mozilla/4.0 (compatible; MSIE 7.0; Windows NT 5.1)'\n",
    "})\n",
    "\n",
    "process.crawl(StatsSpider)\n",
    "process.start()"
   ]
  },
  {
   "cell_type": "code",
   "execution_count": null,
   "metadata": {
    "collapsed": true
   },
   "outputs": [],
   "source": []
  }
 ],
 "metadata": {
  "kernelspec": {
   "display_name": "Python 3",
   "language": "python",
   "name": "python3"
  },
  "language_info": {
   "codemirror_mode": {
    "name": "ipython",
    "version": 3
   },
   "file_extension": ".py",
   "mimetype": "text/x-python",
   "name": "python",
   "nbconvert_exporter": "python",
   "pygments_lexer": "ipython3",
   "version": "3.6.1"
  }
 },
 "nbformat": 4,
 "nbformat_minor": 2
}
