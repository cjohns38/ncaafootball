{
 "cells": [
  {
   "cell_type": "code",
   "execution_count": 1,
   "metadata": {
    "collapsed": true
   },
   "outputs": [],
   "source": [
    "import re, urllib, datetime, io\n",
    "import pandas as pd\n",
    "from scrapy import Spider, Request, signals\n",
    "from scrapy.crawler import CrawlerProcess\n",
    "from scrapy.linkextractors import LinkExtractor\n",
    "from scrapy.http.cookies import CookieJar\n",
    "from bs4 import BeautifulSoup as bs"
   ]
  },
  {
   "cell_type": "code",
   "execution_count": 2,
   "metadata": {},
   "outputs": [],
   "source": [
    "class DataSpider(Spider): \n",
    "    name = \"Data\"\n",
    "    \n",
    "    # Settings \n",
    "    custom_settings = {'DOWNLOAD_DELAY': '1.5'}\n",
    "    \n",
    "    ts=datetime.datetime.now()\n",
    "    \n",
    "    # Regex patterns \n",
    "    patterns = {'people' : \".*/\\d+\\?sport_code\\=MFB\",\n",
    "                'history' : \".*\\/teams\\/history\\/MFB\\/\\d+\",\n",
    "                'roster' : \".*\\/team\\/\\d+\\/roster\\/\\d+\",\n",
    "                'stats' : \".*\\/team\\/\\d+\\/stats\\/\\d+\",\n",
    "               }\n",
    "    \n",
    "    # Files \n",
    "    _files = {'people':{'file':\"People_{0}.csv\".format(ts), \n",
    "                        'header':\"team,person,link,\\n\",\n",
    "                       }, \n",
    "              'history':{'file':\"History_{0}.csv\".format(ts),\n",
    "                         'header':\"team,link,\\n\",\n",
    "                        }, \n",
    "              'roster':{'file':\"Roster_{0}.csv\".format(ts), \n",
    "                        'header':\"team,link,\\n\",\n",
    "                       }, \n",
    "              'stats':{'file':\"Stats_{0}.csv\".format(ts), \n",
    "                       'header':\"team,link,\\n\"\n",
    "                      },\n",
    "             }\n",
    "    \n",
    "    newLinksFile = \"NewLinks{0}.csv\".format(ts)\n",
    "    \n",
    "    with open(newLinksFile, 'w') as f: \n",
    "        f.write('team,link,txt,key,match\\n')\n",
    "        \n",
    "    # Table results \n",
    "    with open(\"Results.csv\", \"w\") as f: \n",
    "        f.write(\"Team,Date,Opponent,Result\\n\")\n",
    "                \n",
    "    # Table Team stats \n",
    "    with open(\"TeamStats.csv\", \"w\") as f: \n",
    "        f.write(\"Team,Stat,Rank,Value\\n\")\n",
    "                \n",
    "    # Individual \n",
    "    with open(\"Individual.csv\", \"w\") as f: \n",
    "        f.write(\"Team,Stat,Player,Value\\n\")\n",
    "                \n",
    "    @classmethod\n",
    "    def from_crawler(cls, crawler, *args, **kwargs):\n",
    "        spider = super(DataSpider, cls).from_crawler(crawler, *args, **kwargs)\n",
    "        crawler.signals.connect(spider.spider_closed, signal=signals.spider_closed)\n",
    "        return spider\n",
    "    \n",
    "    def start_requests(self): \n",
    "        links = pd.read_csv(\"Teams_2017-12-02 14:55:51.037193.csv\")\n",
    "        links = links['link'].tolist()\n",
    "        \n",
    "        for link in links: \n",
    "            yield Request(url=link, \n",
    "                          callback=self.parse,\n",
    "                          meta= {'REDIRECT_ENABLED': True}\n",
    "                         )\n",
    "    \n",
    "    def parse(self, response): \n",
    "        # Team \n",
    "        team = response.selector.xpath(\"//body//div//fieldset//legend//a/text()\").extract()[0]\n",
    "        print(team)\n",
    "        # Get all the links on the page\n",
    "        le = LinkExtractor() \n",
    "        links = le.extract_links(response)\n",
    "                \n",
    "        # Extract the links and save to a list\n",
    "        linksOut = []\n",
    "        for link in links: \n",
    "            for k, pattern in self.patterns.items():\n",
    "                if re.search(pattern, link.url) != None: \n",
    "                    linksOut.append({'team':team, 'link':link.url, 'txt':link.text, 'key':k, 'match':True})\n",
    "        \n",
    "        # Tables \n",
    "        tables = pd.read_html(response.body)\n",
    "        \n",
    "        # Results \n",
    "        tables[1].rename(columns=tables[1].iloc[1], inplace = True)\n",
    "        tables[1].drop([0,1], inplace = True)\n",
    "        tables[1]['team'] = team\n",
    "                \n",
    "        # Team stats \n",
    "        tables[2].rename(columns=tables[2].iloc[1], inplace = True)\n",
    "        tables[2].drop([0,1], inplace = True)\n",
    "        tables[2]['team'] = team\n",
    "                \n",
    "        # Individual stats\n",
    "        tables[3].rename(columns=tables[3].iloc[1], inplace = True)\n",
    "        tables[3].drop([0,1], inplace = True)\n",
    "        tables[3]['team'] = team\n",
    "\n",
    "        # Create a pandas df and append to csv \n",
    "        c = io.StringIO()\n",
    "        df = pd.DataFrame(linksOut)\n",
    "        df[['team', 'link', 'txt', 'key', 'match']].to_csv(c, index=False, header=False)\n",
    "                \n",
    "        io_results = io.StringIO()\n",
    "        io_teamstats = io.StringIO()\n",
    "        io_individual = io.StringIO()\n",
    "                \n",
    "        tables[1][['team', 'Date','Opponent','Result']].to_csv(io_results, index=False, header=False)\n",
    "        tables[2][['team','Stat','Rank','Value']].to_csv(io_teamstats, index=False, header=False)\n",
    "        tables[3][['team','Stat','Player','Value']].to_csv(io_individual, index=False, header=False)\n",
    "        \n",
    "        # Append  \n",
    "        with open(self.newLinksFile, 'a') as f:\n",
    "            f.write(c.getvalue())\n",
    "        \n",
    "        with open('Results.csv', 'a') as f: \n",
    "            f.write(io_results.getvalue())\n",
    "            \n",
    "        with open(\"TeamStats.csv\", 'a') as f: \n",
    "            f.write(io_teamstats.getvalue())\n",
    "        \n",
    "        with open(\"Individual.csv\", 'a') as f: \n",
    "            f.write(io_individual.getvalue())\n",
    "        \n",
    "    def spider_closed(self, spider): \n",
    "        print(\"Spider is done\")\n",
    "            "
   ]
  },
  {
   "cell_type": "code",
   "execution_count": 3,
   "metadata": {
    "scrolled": true
   },
   "outputs": [
    {
     "name": "stderr",
     "output_type": "stream",
     "text": [
      "2017-12-03 20:28:24 [scrapy.utils.log] INFO: Scrapy 1.4.0 started (bot: scrapybot)\n",
      "2017-12-03 20:28:24 [scrapy.utils.log] INFO: Overridden settings: {'USER_AGENT': 'Mozilla/5.0 (X11; Linux x86_64) AppleWebKit/537.36 (KHTML, like Gecko) Chrome/60.0.3112.90 Safari/537.36'}\n",
      "2017-12-03 20:28:24 [scrapy.middleware] INFO: Enabled extensions:\n",
      "['scrapy.extensions.corestats.CoreStats',\n",
      " 'scrapy.extensions.telnet.TelnetConsole',\n",
      " 'scrapy.extensions.memusage.MemoryUsage',\n",
      " 'scrapy.extensions.logstats.LogStats']\n",
      "2017-12-03 20:28:24 [scrapy.middleware] INFO: Enabled downloader middlewares:\n",
      "['scrapy.downloadermiddlewares.httpauth.HttpAuthMiddleware',\n",
      " 'scrapy.downloadermiddlewares.downloadtimeout.DownloadTimeoutMiddleware',\n",
      " 'scrapy.downloadermiddlewares.defaultheaders.DefaultHeadersMiddleware',\n",
      " 'scrapy.downloadermiddlewares.useragent.UserAgentMiddleware',\n",
      " 'scrapy.downloadermiddlewares.retry.RetryMiddleware',\n",
      " 'scrapy.downloadermiddlewares.redirect.MetaRefreshMiddleware',\n",
      " 'scrapy.downloadermiddlewares.httpcompression.HttpCompressionMiddleware',\n",
      " 'scrapy.downloadermiddlewares.redirect.RedirectMiddleware',\n",
      " 'scrapy.downloadermiddlewares.cookies.CookiesMiddleware',\n",
      " 'scrapy.downloadermiddlewares.httpproxy.HttpProxyMiddleware',\n",
      " 'scrapy.downloadermiddlewares.stats.DownloaderStats']\n",
      "2017-12-03 20:28:24 [scrapy.middleware] INFO: Enabled spider middlewares:\n",
      "['scrapy.spidermiddlewares.httperror.HttpErrorMiddleware',\n",
      " 'scrapy.spidermiddlewares.offsite.OffsiteMiddleware',\n",
      " 'scrapy.spidermiddlewares.referer.RefererMiddleware',\n",
      " 'scrapy.spidermiddlewares.urllength.UrlLengthMiddleware',\n",
      " 'scrapy.spidermiddlewares.depth.DepthMiddleware']\n",
      "2017-12-03 20:28:24 [scrapy.middleware] INFO: Enabled item pipelines:\n",
      "[]\n",
      "2017-12-03 20:28:24 [scrapy.core.engine] INFO: Spider opened\n",
      "2017-12-03 20:28:24 [scrapy.extensions.logstats] INFO: Crawled 0 pages (at 0 pages/min), scraped 0 items (at 0 items/min)\n",
      "2017-12-03 20:28:24 [scrapy.extensions.telnet] DEBUG: Telnet console listening on 127.0.0.1:6024\n",
      "2017-12-03 20:28:26 [scrapy.downloadermiddlewares.redirect] DEBUG: Redirecting (302) to <GET http://stats.ncaa.org/teams/62793> from <GET http://stats.ncaa.org/team/721/11520>\n",
      "2017-12-03 20:28:27 [scrapy.downloadermiddlewares.redirect] DEBUG: Redirecting (302) to <GET http://stats.ncaa.org/teams/62681> from <GET http://stats.ncaa.org/team/5/11520>\n",
      "2017-12-03 20:28:29 [scrapy.downloadermiddlewares.redirect] DEBUG: Redirecting (302) to <GET http://stats.ncaa.org/teams/62682> from <GET http://stats.ncaa.org/team/8/11520>\n",
      "2017-12-03 20:28:30 [scrapy.downloadermiddlewares.redirect] DEBUG: Redirecting (302) to <GET http://stats.ncaa.org/teams/62684> from <GET http://stats.ncaa.org/team/27/11520>\n",
      "2017-12-03 20:28:32 [scrapy.downloadermiddlewares.redirect] DEBUG: Redirecting (302) to <GET http://stats.ncaa.org/teams/62686> from <GET http://stats.ncaa.org/team/29/11520>\n",
      "2017-12-03 20:28:34 [scrapy.downloadermiddlewares.redirect] DEBUG: Redirecting (302) to <GET http://stats.ncaa.org/teams/62685> from <GET http://stats.ncaa.org/team/28/11520>\n",
      "2017-12-03 20:28:36 [scrapy.downloadermiddlewares.redirect] DEBUG: Redirecting (302) to <GET http://stats.ncaa.org/teams/62688> from <GET http://stats.ncaa.org/team/31/11520>\n",
      "2017-12-03 20:28:37 [scrapy.downloadermiddlewares.redirect] DEBUG: Redirecting (302) to <GET http://stats.ncaa.org/teams/62687> from <GET http://stats.ncaa.org/team/30/11520>\n",
      "2017-12-03 20:28:39 [scrapy.downloadermiddlewares.redirect] DEBUG: Redirecting (302) to <GET http://stats.ncaa.org/teams/62794> from <GET http://stats.ncaa.org/team/725/11520>\n",
      "2017-12-03 20:28:41 [scrapy.downloadermiddlewares.redirect] DEBUG: Redirecting (302) to <GET http://stats.ncaa.org/teams/62689> from <GET http://stats.ncaa.org/team/37/11520>\n",
      "2017-12-03 20:28:43 [scrapy.downloadermiddlewares.redirect] DEBUG: Redirecting (302) to <GET http://stats.ncaa.org/teams/62695> from <GET http://stats.ncaa.org/team/77/11520>\n",
      "2017-12-03 20:28:45 [scrapy.downloadermiddlewares.redirect] DEBUG: Redirecting (302) to <GET http://stats.ncaa.org/teams/62690> from <GET http://stats.ncaa.org/team/47/11520>\n",
      "2017-12-03 20:28:46 [scrapy.downloadermiddlewares.redirect] DEBUG: Redirecting (302) to <GET http://stats.ncaa.org/teams/62691> from <GET http://stats.ncaa.org/team/51/11520>\n",
      "2017-12-03 20:28:48 [scrapy.downloadermiddlewares.redirect] DEBUG: Redirecting (302) to <GET http://stats.ncaa.org/teams/62692> from <GET http://stats.ncaa.org/team/66/11520>\n",
      "2017-12-03 20:28:51 [scrapy.downloadermiddlewares.redirect] DEBUG: Redirecting (302) to <GET http://stats.ncaa.org/teams/62693> from <GET http://stats.ncaa.org/team/67/11520>\n",
      "2017-12-03 20:28:52 [scrapy.downloadermiddlewares.redirect] DEBUG: Redirecting (302) to <GET http://stats.ncaa.org/teams/62694> from <GET http://stats.ncaa.org/team/71/11520>\n",
      "2017-12-03 20:28:58 [scrapy.core.engine] DEBUG: Crawled (200) <GET http://stats.ncaa.org/teams/62793> (referer: None)\n"
     ]
    },
    {
     "name": "stdout",
     "output_type": "stream",
     "text": [
      "Air Force Falcons\n"
     ]
    },
    {
     "name": "stderr",
     "output_type": "stream",
     "text": [
      "2017-12-03 20:29:00 [scrapy.core.engine] DEBUG: Crawled (200) <GET http://stats.ncaa.org/teams/62681> (referer: None)\n"
     ]
    },
    {
     "name": "stdout",
     "output_type": "stream",
     "text": [
      "Akron Zips\n"
     ]
    },
    {
     "name": "stderr",
     "output_type": "stream",
     "text": [
      "2017-12-03 20:29:03 [scrapy.core.engine] DEBUG: Crawled (200) <GET http://stats.ncaa.org/teams/62682> (referer: None)\n"
     ]
    },
    {
     "name": "stdout",
     "output_type": "stream",
     "text": [
      "Alabama Crimson Tide\n"
     ]
    },
    {
     "name": "stderr",
     "output_type": "stream",
     "text": [
      "2017-12-03 20:29:04 [scrapy.core.engine] DEBUG: Crawled (200) <GET http://stats.ncaa.org/teams/62684> (referer: None)\n"
     ]
    },
    {
     "name": "stdout",
     "output_type": "stream",
     "text": [
      "Appalachian St. Mountaineers\n"
     ]
    },
    {
     "name": "stderr",
     "output_type": "stream",
     "text": [
      "2017-12-03 20:29:08 [scrapy.core.engine] DEBUG: Crawled (200) <GET http://stats.ncaa.org/teams/62686> (referer: None)\n"
     ]
    },
    {
     "name": "stdout",
     "output_type": "stream",
     "text": [
      "Arizona Wildcats\n"
     ]
    },
    {
     "name": "stderr",
     "output_type": "stream",
     "text": [
      "2017-12-03 20:29:09 [scrapy.downloadermiddlewares.retry] DEBUG: Retrying <GET http://stats.ncaa.org/teams/62685> (failed 1 times): 500 Internal Server Error\n",
      "2017-12-03 20:29:11 [scrapy.core.engine] DEBUG: Crawled (200) <GET http://stats.ncaa.org/teams/62688> (referer: None)\n"
     ]
    },
    {
     "name": "stdout",
     "output_type": "stream",
     "text": [
      "Arkansas Razorbacks\n"
     ]
    },
    {
     "name": "stderr",
     "output_type": "stream",
     "text": [
      "2017-12-03 20:29:15 [scrapy.core.engine] DEBUG: Crawled (200) <GET http://stats.ncaa.org/teams/62794> (referer: None)\n",
      "2017-12-03 20:29:15 [scrapy.downloadermiddlewares.retry] DEBUG: Retrying <GET http://stats.ncaa.org/teams/62687> (failed 1 times): 500 Internal Server Error\n"
     ]
    },
    {
     "name": "stdout",
     "output_type": "stream",
     "text": [
      "Army West Point Black Knights\n"
     ]
    },
    {
     "name": "stderr",
     "output_type": "stream",
     "text": [
      "2017-12-03 20:29:17 [scrapy.core.engine] DEBUG: Crawled (200) <GET http://stats.ncaa.org/teams/62689> (referer: None)\n"
     ]
    },
    {
     "name": "stdout",
     "output_type": "stream",
     "text": [
      "Auburn Tigers\n"
     ]
    },
    {
     "name": "stderr",
     "output_type": "stream",
     "text": [
      "2017-12-03 20:29:20 [scrapy.core.engine] DEBUG: Crawled (200) <GET http://stats.ncaa.org/teams/62695> (referer: None)\n"
     ]
    },
    {
     "name": "stdout",
     "output_type": "stream",
     "text": [
      "BYU Cougars\n"
     ]
    },
    {
     "name": "stderr",
     "output_type": "stream",
     "text": [
      "2017-12-03 20:29:21 [scrapy.core.engine] DEBUG: Crawled (200) <GET http://stats.ncaa.org/teams/62690> (referer: None)\n"
     ]
    },
    {
     "name": "stdout",
     "output_type": "stream",
     "text": [
      "Ball St. Cardinals\n"
     ]
    },
    {
     "name": "stderr",
     "output_type": "stream",
     "text": [
      "2017-12-03 20:29:23 [scrapy.core.engine] DEBUG: Crawled (200) <GET http://stats.ncaa.org/teams/62691> (referer: None)\n"
     ]
    },
    {
     "name": "stdout",
     "output_type": "stream",
     "text": [
      "Baylor Bears\n"
     ]
    },
    {
     "name": "stderr",
     "output_type": "stream",
     "text": [
      "2017-12-03 20:29:24 [scrapy.core.engine] DEBUG: Crawled (200) <GET http://stats.ncaa.org/teams/62692> (referer: None)\n"
     ]
    },
    {
     "name": "stdout",
     "output_type": "stream",
     "text": [
      "Boise St. Broncos\n"
     ]
    },
    {
     "name": "stderr",
     "output_type": "stream",
     "text": [
      "2017-12-03 20:29:24 [scrapy.extensions.logstats] INFO: Crawled 12 pages (at 12 pages/min), scraped 0 items (at 0 items/min)\n",
      "2017-12-03 20:29:25 [scrapy.downloadermiddlewares.redirect] DEBUG: Redirecting (302) to <GET http://stats.ncaa.org/teams/62696> from <GET http://stats.ncaa.org/team/86/11520>\n",
      "2017-12-03 20:29:26 [scrapy.core.engine] DEBUG: Crawled (200) <GET http://stats.ncaa.org/teams/62693> (referer: None)\n"
     ]
    },
    {
     "name": "stdout",
     "output_type": "stream",
     "text": [
      "Boston College Eagles\n"
     ]
    },
    {
     "name": "stderr",
     "output_type": "stream",
     "text": [
      "2017-12-03 20:29:27 [scrapy.downloadermiddlewares.redirect] DEBUG: Redirecting (302) to <GET http://stats.ncaa.org/teams/62698> from <GET http://stats.ncaa.org/team/107/11520>\n",
      "2017-12-03 20:29:28 [scrapy.downloadermiddlewares.redirect] DEBUG: Redirecting (302) to <GET http://stats.ncaa.org/teams/62701> from <GET http://stats.ncaa.org/team/129/11520>\n",
      "2017-12-03 20:29:29 [scrapy.core.engine] DEBUG: Crawled (200) <GET http://stats.ncaa.org/teams/62694> (referer: None)\n"
     ]
    },
    {
     "name": "stdout",
     "output_type": "stream",
     "text": [
      "Bowling Green Falcons\n"
     ]
    },
    {
     "name": "stderr",
     "output_type": "stream",
     "text": [
      "2017-12-03 20:29:30 [scrapy.downloadermiddlewares.redirect] DEBUG: Redirecting (302) to <GET http://stats.ncaa.org/teams/62702> from <GET http://stats.ncaa.org/team/140/11520>\n",
      "2017-12-03 20:29:32 [scrapy.downloadermiddlewares.redirect] DEBUG: Redirecting (302) to <GET http://stats.ncaa.org/teams/62703> from <GET http://stats.ncaa.org/team/147/11520>\n",
      "2017-12-03 20:29:36 [scrapy.downloadermiddlewares.redirect] DEBUG: Redirecting (302) to <GET http://stats.ncaa.org/teams/62705> from <GET http://stats.ncaa.org/team/157/11520>\n",
      "2017-12-03 20:29:38 [scrapy.downloadermiddlewares.retry] DEBUG: Retrying <GET http://stats.ncaa.org/teams/62685> (failed 2 times): 500 Internal Server Error\n",
      "2017-12-03 20:29:38 [scrapy.downloadermiddlewares.redirect] DEBUG: Redirecting (302) to <GET http://stats.ncaa.org/teams/62704> from <GET http://stats.ncaa.org/team/156/11520>\n",
      "2017-12-03 20:29:42 [scrapy.downloadermiddlewares.redirect] DEBUG: Redirecting (302) to <GET http://stats.ncaa.org/teams/62707> from <GET http://stats.ncaa.org/team/193/11520>\n",
      "2017-12-03 20:29:43 [scrapy.downloadermiddlewares.retry] DEBUG: Retrying <GET http://stats.ncaa.org/teams/62687> (failed 2 times): 500 Internal Server Error\n",
      "2017-12-03 20:29:44 [scrapy.downloadermiddlewares.redirect] DEBUG: Redirecting (302) to <GET http://stats.ncaa.org/teams/62708> from <GET http://stats.ncaa.org/team/196/11520>\n",
      "2017-12-03 20:29:46 [scrapy.downloadermiddlewares.redirect] DEBUG: Redirecting (302) to <GET http://stats.ncaa.org/teams/62709> from <GET http://stats.ncaa.org/team/204/11520>\n",
      "2017-12-03 20:29:48 [scrapy.downloadermiddlewares.redirect] DEBUG: Redirecting (302) to <GET http://stats.ncaa.org/teams/62711> from <GET http://stats.ncaa.org/team/231/11520>\n",
      "2017-12-03 20:29:50 [scrapy.downloadermiddlewares.redirect] DEBUG: Redirecting (302) to <GET http://stats.ncaa.org/teams/62710> from <GET http://stats.ncaa.org/team/229/11520>\n",
      "2017-12-03 20:29:53 [scrapy.downloadermiddlewares.redirect] DEBUG: Redirecting (302) to <GET http://stats.ncaa.org/teams/62713> from <GET http://stats.ncaa.org/team/235/11520>\n",
      "2017-12-03 20:29:57 [scrapy.core.engine] DEBUG: Crawled (200) <GET http://stats.ncaa.org/teams/62696> (referer: None)\n"
     ]
    },
    {
     "name": "stdout",
     "output_type": "stream",
     "text": [
      "Buffalo Bulls\n"
     ]
    },
    {
     "name": "stderr",
     "output_type": "stream",
     "text": [
      "2017-12-03 20:30:00 [scrapy.downloadermiddlewares.redirect] DEBUG: Redirecting (302) to <GET http://stats.ncaa.org/teams/62712> from <GET http://stats.ncaa.org/team/234/11520>\n",
      "2017-12-03 20:30:01 [scrapy.core.engine] DEBUG: Crawled (200) <GET http://stats.ncaa.org/teams/62698> (referer: None)\n"
     ]
    },
    {
     "name": "stdout",
     "output_type": "stream",
     "text": [
      "California Golden Bears\n"
     ]
    },
    {
     "name": "stderr",
     "output_type": "stream",
     "text": [
      "2017-12-03 20:30:03 [scrapy.downloadermiddlewares.retry] DEBUG: Retrying <GET http://stats.ncaa.org/teams/62701> (failed 1 times): 500 Internal Server Error\n",
      "2017-12-03 20:30:11 [scrapy.core.engine] DEBUG: Crawled (200) <GET http://stats.ncaa.org/teams/62703> (referer: None)\n"
     ]
    },
    {
     "name": "stdout",
     "output_type": "stream",
     "text": [
      "Clemson Tigers\n"
     ]
    },
    {
     "name": "stderr",
     "output_type": "stream",
     "text": [
      "2017-12-03 20:30:13 [scrapy.core.engine] DEBUG: Crawled (200) <GET http://stats.ncaa.org/teams/62705> (referer: None)\n"
     ]
    },
    {
     "name": "stdout",
     "output_type": "stream",
     "text": [
      "Colorado Buffaloes\n"
     ]
    },
    {
     "name": "stderr",
     "output_type": "stream",
     "text": [
      "2017-12-03 20:30:15 [scrapy.core.engine] DEBUG: Crawled (200) <GET http://stats.ncaa.org/teams/62704> (referer: None)\n"
     ]
    },
    {
     "name": "stdout",
     "output_type": "stream",
     "text": [
      "Colorado St. Rams\n"
     ]
    },
    {
     "name": "stderr",
     "output_type": "stream",
     "text": [
      "2017-12-03 20:30:16 [scrapy.downloadermiddlewares.retry] DEBUG: Gave up retrying <GET http://stats.ncaa.org/teams/62685> (failed 3 times): 500 Internal Server Error\n",
      "2017-12-03 20:30:16 [scrapy.core.engine] DEBUG: Crawled (500) <GET http://stats.ncaa.org/teams/62685> (referer: None)\n",
      "2017-12-03 20:30:16 [scrapy.spidermiddlewares.httperror] INFO: Ignoring response <500 http://stats.ncaa.org/teams/62685>: HTTP status code is not handled or not allowed\n",
      "2017-12-03 20:30:19 [scrapy.downloadermiddlewares.retry] DEBUG: Gave up retrying <GET http://stats.ncaa.org/teams/62687> (failed 3 times): 500 Internal Server Error\n",
      "2017-12-03 20:30:19 [scrapy.core.engine] DEBUG: Crawled (500) <GET http://stats.ncaa.org/teams/62687> (referer: None)\n",
      "2017-12-03 20:30:19 [scrapy.core.engine] DEBUG: Crawled (200) <GET http://stats.ncaa.org/teams/62707> (referer: None)\n",
      "2017-12-03 20:30:19 [scrapy.spidermiddlewares.httperror] INFO: Ignoring response <500 http://stats.ncaa.org/teams/62687>: HTTP status code is not handled or not allowed\n"
     ]
    },
    {
     "name": "stdout",
     "output_type": "stream",
     "text": [
      "Duke Blue Devils\n"
     ]
    },
    {
     "name": "stderr",
     "output_type": "stream",
     "text": [
      "2017-12-03 20:30:20 [scrapy.core.engine] DEBUG: Crawled (200) <GET http://stats.ncaa.org/teams/62702> (referer: None)\n"
     ]
    },
    {
     "name": "stdout",
     "output_type": "stream",
     "text": [
      "Cincinnati Bearcats\n"
     ]
    },
    {
     "name": "stderr",
     "output_type": "stream",
     "text": [
      "2017-12-03 20:30:22 [scrapy.core.engine] DEBUG: Crawled (200) <GET http://stats.ncaa.org/teams/62709> (referer: None)\n"
     ]
    },
    {
     "name": "stdout",
     "output_type": "stream",
     "text": [
      "Eastern Mich. Eagles\n"
     ]
    },
    {
     "name": "stderr",
     "output_type": "stream",
     "text": [
      "2017-12-03 20:30:23 [scrapy.core.engine] DEBUG: Crawled (200) <GET http://stats.ncaa.org/teams/62708> (referer: None)\n",
      "2017-12-03 20:30:23 [scrapy.downloadermiddlewares.redirect] DEBUG: Redirecting (302) to <GET http://stats.ncaa.org/teams/62697> from <GET http://stats.ncaa.org/team/96/11520>\n"
     ]
    },
    {
     "name": "stdout",
     "output_type": "stream",
     "text": [
      "East Carolina Pirates\n"
     ]
    },
    {
     "name": "stderr",
     "output_type": "stream",
     "text": [
      "2017-12-03 20:30:24 [scrapy.core.engine] DEBUG: Crawled (200) <GET http://stats.ncaa.org/teams/62711> (referer: None)\n"
     ]
    },
    {
     "name": "stdout",
     "output_type": "stream",
     "text": [
      "FIU Panthers\n"
     ]
    },
    {
     "name": "stderr",
     "output_type": "stream",
     "text": [
      "2017-12-03 20:30:24 [scrapy.extensions.logstats] INFO: Crawled 26 pages (at 14 pages/min), scraped 0 items (at 0 items/min)\n",
      "2017-12-03 20:30:25 [scrapy.core.engine] DEBUG: Crawled (200) <GET http://stats.ncaa.org/teams/62710> (referer: None)\n"
     ]
    },
    {
     "name": "stdout",
     "output_type": "stream",
     "text": [
      "Fla. Atlantic Owls\n"
     ]
    },
    {
     "name": "stderr",
     "output_type": "stream",
     "text": [
      "2017-12-03 20:30:26 [scrapy.downloadermiddlewares.redirect] DEBUG: Redirecting (302) to <GET http://stats.ncaa.org/teams/62714> from <GET http://stats.ncaa.org/team/253/11520>\n",
      "2017-12-03 20:30:26 [scrapy.downloadermiddlewares.retry] DEBUG: Retrying <GET http://stats.ncaa.org/teams/62713> (failed 1 times): 500 Internal Server Error\n",
      "2017-12-03 20:30:29 [scrapy.core.engine] DEBUG: Crawled (200) <GET http://stats.ncaa.org/teams/62712> (referer: None)\n"
     ]
    },
    {
     "name": "stdout",
     "output_type": "stream",
     "text": [
      "Florida St. Seminoles\n"
     ]
    },
    {
     "name": "stderr",
     "output_type": "stream",
     "text": [
      "2017-12-03 20:30:30 [scrapy.downloadermiddlewares.redirect] DEBUG: Redirecting (302) to <GET http://stats.ncaa.org/teams/62717> from <GET http://stats.ncaa.org/team/257/11520>\n",
      "2017-12-03 20:30:31 [scrapy.downloadermiddlewares.redirect] DEBUG: Redirecting (302) to <GET http://stats.ncaa.org/teams/62715> from <GET http://stats.ncaa.org/team/254/11520>\n",
      "2017-12-03 20:30:31 [scrapy.downloadermiddlewares.retry] DEBUG: Retrying <GET http://stats.ncaa.org/teams/62701> (failed 2 times): 500 Internal Server Error\n",
      "2017-12-03 20:30:33 [scrapy.downloadermiddlewares.redirect] DEBUG: Redirecting (302) to <GET http://stats.ncaa.org/teams/62716> from <GET http://stats.ncaa.org/team/255/11520>\n",
      "2017-12-03 20:30:34 [scrapy.downloadermiddlewares.redirect] DEBUG: Redirecting (302) to <GET http://stats.ncaa.org/teams/62718> from <GET http://stats.ncaa.org/team/277/11520>\n",
      "2017-12-03 20:30:36 [scrapy.downloadermiddlewares.redirect] DEBUG: Redirecting (302) to <GET http://stats.ncaa.org/teams/62719> from <GET http://stats.ncaa.org/team/288/11520>\n",
      "2017-12-03 20:30:38 [scrapy.downloadermiddlewares.redirect] DEBUG: Redirecting (302) to <GET http://stats.ncaa.org/teams/62720> from <GET http://stats.ncaa.org/team/295/11520>\n",
      "2017-12-03 20:30:39 [scrapy.downloadermiddlewares.redirect] DEBUG: Redirecting (302) to <GET http://stats.ncaa.org/teams/62721> from <GET http://stats.ncaa.org/team/301/11520>\n",
      "2017-12-03 20:30:41 [scrapy.downloadermiddlewares.redirect] DEBUG: Redirecting (302) to <GET http://stats.ncaa.org/teams/62722> from <GET http://stats.ncaa.org/team/306/11520>\n",
      "2017-12-03 20:30:43 [scrapy.downloadermiddlewares.redirect] DEBUG: Redirecting (302) to <GET http://stats.ncaa.org/teams/62724> from <GET http://stats.ncaa.org/team/312/11520>\n",
      "2017-12-03 20:30:46 [scrapy.downloadermiddlewares.redirect] DEBUG: Redirecting (302) to <GET http://stats.ncaa.org/teams/62723> from <GET http://stats.ncaa.org/team/311/11520>\n",
      "2017-12-03 20:30:48 [scrapy.downloadermiddlewares.redirect] DEBUG: Redirecting (302) to <GET http://stats.ncaa.org/teams/62726> from <GET http://stats.ncaa.org/team/328/11520>\n",
      "2017-12-03 20:30:50 [scrapy.core.engine] DEBUG: Crawled (200) <GET http://stats.ncaa.org/teams/62697> (referer: None)\n"
     ]
    },
    {
     "name": "stdout",
     "output_type": "stream",
     "text": [
      "Fresno St. Bulldogs\n"
     ]
    },
    {
     "name": "stderr",
     "output_type": "stream",
     "text": [
      "2017-12-03 20:30:54 [scrapy.downloadermiddlewares.redirect] DEBUG: Redirecting (302) to <GET http://stats.ncaa.org/teams/62725> from <GET http://stats.ncaa.org/team/327/11520>\n",
      "2017-12-03 20:30:54 [scrapy.core.engine] DEBUG: Crawled (200) <GET http://stats.ncaa.org/teams/62714> (referer: None)\n"
     ]
    },
    {
     "name": "stdout",
     "output_type": "stream",
     "text": [
      "Ga. Southern Eagles\n"
     ]
    },
    {
     "name": "stderr",
     "output_type": "stream",
     "text": [
      "2017-12-03 20:30:55 [scrapy.downloadermiddlewares.retry] DEBUG: Retrying <GET http://stats.ncaa.org/teams/62713> (failed 2 times): 500 Internal Server Error\n",
      "2017-12-03 20:31:02 [scrapy.core.engine] DEBUG: Crawled (200) <GET http://stats.ncaa.org/teams/62715> (referer: None)\n"
     ]
    },
    {
     "name": "stdout",
     "output_type": "stream",
     "text": [
      "Georgia St. Panthers\n"
     ]
    },
    {
     "name": "stderr",
     "output_type": "stream",
     "text": [
      "2017-12-03 20:31:02 [scrapy.core.engine] DEBUG: Crawled (200) <GET http://stats.ncaa.org/teams/62717> (referer: None)\n"
     ]
    },
    {
     "name": "stdout",
     "output_type": "stream",
     "text": [
      "Georgia Bulldogs\n"
     ]
    },
    {
     "name": "stderr",
     "output_type": "stream",
     "text": [
      "2017-12-03 20:31:03 [scrapy.downloadermiddlewares.retry] DEBUG: Gave up retrying <GET http://stats.ncaa.org/teams/62701> (failed 3 times): 500 Internal Server Error\n",
      "2017-12-03 20:31:03 [scrapy.core.engine] DEBUG: Crawled (500) <GET http://stats.ncaa.org/teams/62701> (referer: None)\n",
      "2017-12-03 20:31:03 [scrapy.spidermiddlewares.httperror] INFO: Ignoring response <500 http://stats.ncaa.org/teams/62701>: HTTP status code is not handled or not allowed\n",
      "2017-12-03 20:31:06 [scrapy.downloadermiddlewares.retry] DEBUG: Retrying <GET http://stats.ncaa.org/teams/62716> (failed 1 times): 500 Internal Server Error\n",
      "2017-12-03 20:31:09 [scrapy.core.engine] DEBUG: Crawled (200) <GET http://stats.ncaa.org/teams/62718> (referer: None)\n"
     ]
    },
    {
     "name": "stdout",
     "output_type": "stream",
     "text": [
      "Hawaii Rainbow Warriors\n"
     ]
    },
    {
     "name": "stderr",
     "output_type": "stream",
     "text": [
      "2017-12-03 20:31:10 [scrapy.core.engine] DEBUG: Crawled (200) <GET http://stats.ncaa.org/teams/62720> (referer: None)\n",
      "2017-12-03 20:31:10 [scrapy.core.engine] DEBUG: Crawled (200) <GET http://stats.ncaa.org/teams/62719> (referer: None)\n"
     ]
    },
    {
     "name": "stdout",
     "output_type": "stream",
     "text": [
      "Idaho Vandals\n",
      "Houston Cougars\n"
     ]
    },
    {
     "name": "stderr",
     "output_type": "stream",
     "text": [
      "2017-12-03 20:31:13 [scrapy.core.engine] DEBUG: Crawled (200) <GET http://stats.ncaa.org/teams/62721> (referer: None)\n"
     ]
    },
    {
     "name": "stdout",
     "output_type": "stream",
     "text": [
      "Illinois Fighting Illini\n"
     ]
    },
    {
     "name": "stderr",
     "output_type": "stream",
     "text": [
      "2017-12-03 20:31:15 [scrapy.core.engine] DEBUG: Crawled (200) <GET http://stats.ncaa.org/teams/62722> (referer: None)\n"
     ]
    },
    {
     "name": "stdout",
     "output_type": "stream",
     "text": [
      "Indiana Hoosiers\n"
     ]
    },
    {
     "name": "stderr",
     "output_type": "stream",
     "text": [
      "2017-12-03 20:31:18 [scrapy.core.engine] DEBUG: Crawled (200) <GET http://stats.ncaa.org/teams/62724> (referer: None)\n",
      "2017-12-03 20:31:18 [scrapy.downloadermiddlewares.redirect] DEBUG: Redirecting (302) to <GET http://stats.ncaa.org/teams/62727> from <GET http://stats.ncaa.org/team/331/11520>\n"
     ]
    },
    {
     "name": "stdout",
     "output_type": "stream",
     "text": [
      "Iowa Hawkeyes\n"
     ]
    },
    {
     "name": "stderr",
     "output_type": "stream",
     "text": [
      "2017-12-03 20:31:19 [scrapy.core.engine] DEBUG: Crawled (200) <GET http://stats.ncaa.org/teams/62723> (referer: None)\n"
     ]
    },
    {
     "name": "stdout",
     "output_type": "stream",
     "text": [
      "Iowa St. Cyclones\n"
     ]
    },
    {
     "name": "stderr",
     "output_type": "stream",
     "text": [
      "2017-12-03 20:31:21 [scrapy.core.engine] DEBUG: Crawled (200) <GET http://stats.ncaa.org/teams/62726> (referer: None)\n"
     ]
    },
    {
     "name": "stdout",
     "output_type": "stream",
     "text": [
      "Kansas Jayhawks\n"
     ]
    },
    {
     "name": "stderr",
     "output_type": "stream",
     "text": [
      "2017-12-03 20:31:22 [scrapy.downloadermiddlewares.redirect] DEBUG: Redirecting (302) to <GET http://stats.ncaa.org/teams/62728> from <GET http://stats.ncaa.org/team/334/11520>\n",
      "2017-12-03 20:31:24 [scrapy.extensions.logstats] INFO: Crawled 41 pages (at 15 pages/min), scraped 0 items (at 0 items/min)\n",
      "2017-12-03 20:31:25 [scrapy.core.engine] DEBUG: Crawled (200) <GET http://stats.ncaa.org/teams/62725> (referer: None)\n"
     ]
    },
    {
     "name": "stdout",
     "output_type": "stream",
     "text": [
      "Kansas St. Wildcats\n"
     ]
    },
    {
     "name": "stderr",
     "output_type": "stream",
     "text": [
      "2017-12-03 20:31:26 [scrapy.downloadermiddlewares.redirect] DEBUG: Redirecting (302) to <GET http://stats.ncaa.org/teams/62729> from <GET http://stats.ncaa.org/team/365/11520>\n",
      "2017-12-03 20:31:27 [scrapy.downloadermiddlewares.retry] DEBUG: Gave up retrying <GET http://stats.ncaa.org/teams/62713> (failed 3 times): 500 Internal Server Error\n",
      "2017-12-03 20:31:27 [scrapy.core.engine] DEBUG: Crawled (500) <GET http://stats.ncaa.org/teams/62713> (referer: None)\n",
      "2017-12-03 20:31:28 [scrapy.spidermiddlewares.httperror] INFO: Ignoring response <500 http://stats.ncaa.org/teams/62713>: HTTP status code is not handled or not allowed\n",
      "2017-12-03 20:31:28 [scrapy.downloadermiddlewares.redirect] DEBUG: Redirecting (302) to <GET http://stats.ncaa.org/teams/62753> from <GET http://stats.ncaa.org/team/498/11520>\n",
      "2017-12-03 20:31:29 [scrapy.downloadermiddlewares.redirect] DEBUG: Redirecting (302) to <GET http://stats.ncaa.org/teams/62778> from <GET http://stats.ncaa.org/team/671/11520>\n",
      "2017-12-03 20:31:33 [scrapy.downloadermiddlewares.redirect] DEBUG: Redirecting (302) to <GET http://stats.ncaa.org/teams/62730> from <GET http://stats.ncaa.org/team/366/11520>\n",
      "2017-12-03 20:31:34 [scrapy.downloadermiddlewares.retry] DEBUG: Retrying <GET http://stats.ncaa.org/teams/62716> (failed 2 times): 500 Internal Server Error\n",
      "2017-12-03 20:31:35 [scrapy.downloadermiddlewares.redirect] DEBUG: Redirecting (302) to <GET http://stats.ncaa.org/teams/62731> from <GET http://stats.ncaa.org/team/367/11520>\n",
      "2017-12-03 20:31:36 [scrapy.downloadermiddlewares.redirect] DEBUG: Redirecting (302) to <GET http://stats.ncaa.org/teams/62732> from <GET http://stats.ncaa.org/team/388/11520>\n",
      "2017-12-03 20:31:38 [scrapy.downloadermiddlewares.redirect] DEBUG: Redirecting (302) to <GET http://stats.ncaa.org/teams/62733> from <GET http://stats.ncaa.org/team/392/11520>\n",
      "2017-12-03 20:31:40 [scrapy.downloadermiddlewares.redirect] DEBUG: Redirecting (302) to <GET http://stats.ncaa.org/teams/62734> from <GET http://stats.ncaa.org/team/400/11520>\n",
      "2017-12-03 20:31:41 [scrapy.downloadermiddlewares.redirect] DEBUG: Redirecting (302) to <GET http://stats.ncaa.org/teams/62735> from <GET http://stats.ncaa.org/team/404/11520>\n",
      "2017-12-03 20:31:45 [scrapy.downloadermiddlewares.redirect] DEBUG: Redirecting (302) to <GET http://stats.ncaa.org/teams/62737> from <GET http://stats.ncaa.org/team/415/11520>\n",
      "2017-12-03 20:31:46 [scrapy.downloadermiddlewares.redirect] DEBUG: Redirecting (302) to <GET http://stats.ncaa.org/teams/62736> from <GET http://stats.ncaa.org/team/414/11520>\n",
      "2017-12-03 20:31:47 [scrapy.core.engine] DEBUG: Crawled (200) <GET http://stats.ncaa.org/teams/62727> (referer: None)\n"
     ]
    },
    {
     "name": "stdout",
     "output_type": "stream",
     "text": [
      "Kent St. Golden Flashes\n"
     ]
    },
    {
     "name": "stderr",
     "output_type": "stream",
     "text": [
      "2017-12-03 20:31:49 [scrapy.downloadermiddlewares.redirect] DEBUG: Redirecting (302) to <GET http://stats.ncaa.org/teams/62739> from <GET http://stats.ncaa.org/team/418/11520>\n",
      "2017-12-03 20:31:52 [scrapy.core.engine] DEBUG: Crawled (200) <GET http://stats.ncaa.org/teams/62728> (referer: None)\n"
     ]
    },
    {
     "name": "stdout",
     "output_type": "stream",
     "text": [
      "Kentucky Wildcats\n"
     ]
    },
    {
     "name": "stderr",
     "output_type": "stream",
     "text": [
      "2017-12-03 20:31:53 [scrapy.downloadermiddlewares.redirect] DEBUG: Redirecting (302) to <GET http://stats.ncaa.org/teams/62738> from <GET http://stats.ncaa.org/team/416/11520>\n",
      "2017-12-03 20:31:55 [scrapy.core.engine] DEBUG: Crawled (200) <GET http://stats.ncaa.org/teams/62729> (referer: None)\n"
     ]
    },
    {
     "name": "stdout",
     "output_type": "stream",
     "text": [
      "LSU Fighting Tigers\n"
     ]
    },
    {
     "name": "stderr",
     "output_type": "stream",
     "text": [
      "2017-12-03 20:32:00 [scrapy.core.engine] DEBUG: Crawled (200) <GET http://stats.ncaa.org/teams/62753> (referer: None)\n"
     ]
    },
    {
     "name": "stdout",
     "output_type": "stream",
     "text": [
      "La.-Monroe Warhawks\n"
     ]
    },
    {
     "name": "stderr",
     "output_type": "stream",
     "text": [
      "2017-12-03 20:32:02 [scrapy.core.engine] DEBUG: Crawled (200) <GET http://stats.ncaa.org/teams/62778> (referer: None)\n"
     ]
    },
    {
     "name": "stdout",
     "output_type": "stream",
     "text": [
      "Louisiana Ragin' Cajuns\n"
     ]
    },
    {
     "name": "stderr",
     "output_type": "stream",
     "text": [
      "2017-12-03 20:32:03 [scrapy.core.engine] DEBUG: Crawled (200) <GET http://stats.ncaa.org/teams/62730> (referer: None)\n"
     ]
    },
    {
     "name": "stdout",
     "output_type": "stream",
     "text": [
      "Louisiana Tech Bulldogs\n"
     ]
    },
    {
     "name": "stderr",
     "output_type": "stream",
     "text": [
      "2017-12-03 20:32:04 [scrapy.downloadermiddlewares.retry] DEBUG: Gave up retrying <GET http://stats.ncaa.org/teams/62716> (failed 3 times): 500 Internal Server Error\n",
      "2017-12-03 20:32:04 [scrapy.core.engine] DEBUG: Crawled (500) <GET http://stats.ncaa.org/teams/62716> (referer: None)\n",
      "2017-12-03 20:32:04 [scrapy.spidermiddlewares.httperror] INFO: Ignoring response <500 http://stats.ncaa.org/teams/62716>: HTTP status code is not handled or not allowed\n",
      "2017-12-03 20:32:07 [scrapy.downloadermiddlewares.retry] DEBUG: Retrying <GET http://stats.ncaa.org/teams/62731> (failed 1 times): 500 Internal Server Error\n",
      "2017-12-03 20:32:09 [scrapy.downloadermiddlewares.retry] DEBUG: Retrying <GET http://stats.ncaa.org/teams/62732> (failed 1 times): 500 Internal Server Error\n",
      "2017-12-03 20:32:12 [scrapy.core.engine] DEBUG: Crawled (200) <GET http://stats.ncaa.org/teams/62733> (referer: None)\n"
     ]
    },
    {
     "name": "stdout",
     "output_type": "stream",
     "text": [
      "Maryland Terrapins, Terps\n"
     ]
    },
    {
     "name": "stderr",
     "output_type": "stream",
     "text": [
      "2017-12-03 20:32:13 [scrapy.core.engine] DEBUG: Crawled (200) <GET http://stats.ncaa.org/teams/62734> (referer: None)\n"
     ]
    },
    {
     "name": "stdout",
     "output_type": "stream",
     "text": [
      "Massachusetts Minutemen\n"
     ]
    },
    {
     "name": "stderr",
     "output_type": "stream",
     "text": [
      "2017-12-03 20:32:15 [scrapy.core.engine] DEBUG: Crawled (200) <GET http://stats.ncaa.org/teams/62735> (referer: None)\n"
     ]
    },
    {
     "name": "stdout",
     "output_type": "stream",
     "text": [
      "Memphis Tigers\n"
     ]
    },
    {
     "name": "stderr",
     "output_type": "stream",
     "text": [
      "2017-12-03 20:32:17 [scrapy.downloadermiddlewares.redirect] DEBUG: Redirecting (302) to <GET http://stats.ncaa.org/teams/62740> from <GET http://stats.ncaa.org/team/419/11520>\n",
      "2017-12-03 20:32:19 [scrapy.core.engine] DEBUG: Crawled (200) <GET http://stats.ncaa.org/teams/62737> (referer: None)\n"
     ]
    },
    {
     "name": "stdout",
     "output_type": "stream",
     "text": [
      "Miami (FL) Hurricanes\n"
     ]
    },
    {
     "name": "stderr",
     "output_type": "stream",
     "text": [
      "2017-12-03 20:32:19 [scrapy.core.engine] DEBUG: Crawled (200) <GET http://stats.ncaa.org/teams/62736> (referer: None)\n"
     ]
    },
    {
     "name": "stdout",
     "output_type": "stream",
     "text": [
      "Miami (OH) RedHawks\n"
     ]
    },
    {
     "name": "stderr",
     "output_type": "stream",
     "text": [
      "2017-12-03 20:32:21 [scrapy.downloadermiddlewares.redirect] DEBUG: Redirecting (302) to <GET http://stats.ncaa.org/teams/62741> from <GET http://stats.ncaa.org/team/428/11520>\n",
      "2017-12-03 20:32:23 [scrapy.core.engine] DEBUG: Crawled (200) <GET http://stats.ncaa.org/teams/62739> (referer: None)\n"
     ]
    },
    {
     "name": "stdout",
     "output_type": "stream",
     "text": [
      "Michigan Wolverines\n"
     ]
    },
    {
     "name": "stderr",
     "output_type": "stream",
     "text": [
      "2017-12-03 20:32:24 [scrapy.extensions.logstats] INFO: Crawled 56 pages (at 15 pages/min), scraped 0 items (at 0 items/min)\n",
      "2017-12-03 20:32:25 [scrapy.downloadermiddlewares.redirect] DEBUG: Redirecting (302) to <GET http://stats.ncaa.org/teams/62742> from <GET http://stats.ncaa.org/team/430/11520>\n",
      "2017-12-03 20:32:27 [scrapy.downloadermiddlewares.redirect] DEBUG: Redirecting (302) to <GET http://stats.ncaa.org/teams/62744> from <GET http://stats.ncaa.org/team/434/11520>\n",
      "2017-12-03 20:32:28 [scrapy.core.engine] DEBUG: Crawled (200) <GET http://stats.ncaa.org/teams/62738> (referer: None)\n"
     ]
    },
    {
     "name": "stdout",
     "output_type": "stream",
     "text": [
      "Michigan St. Spartans\n"
     ]
    },
    {
     "name": "stderr",
     "output_type": "stream",
     "text": [
      "2017-12-03 20:32:29 [scrapy.downloadermiddlewares.redirect] DEBUG: Redirecting (302) to <GET http://stats.ncaa.org/teams/62751> from <GET http://stats.ncaa.org/team/490/11520>\n",
      "2017-12-03 20:32:32 [scrapy.downloadermiddlewares.redirect] DEBUG: Redirecting (302) to <GET http://stats.ncaa.org/teams/62795> from <GET http://stats.ncaa.org/team/726/11520>\n",
      "2017-12-03 20:32:33 [scrapy.downloadermiddlewares.redirect] DEBUG: Redirecting (302) to <GET http://stats.ncaa.org/teams/62746> from <GET http://stats.ncaa.org/team/463/11520>\n",
      "2017-12-03 20:32:37 [scrapy.downloadermiddlewares.retry] DEBUG: Retrying <GET http://stats.ncaa.org/teams/62731> (failed 2 times): 500 Internal Server Error\n",
      "2017-12-03 20:32:39 [scrapy.downloadermiddlewares.redirect] DEBUG: Redirecting (302) to <GET http://stats.ncaa.org/teams/62748> from <GET http://stats.ncaa.org/team/466/11520>\n",
      "2017-12-03 20:32:39 [scrapy.downloadermiddlewares.retry] DEBUG: Retrying <GET http://stats.ncaa.org/teams/62732> (failed 2 times): 500 Internal Server Error\n",
      "2017-12-03 20:32:41 [scrapy.downloadermiddlewares.redirect] DEBUG: Redirecting (302) to <GET http://stats.ncaa.org/teams/62750> from <GET http://stats.ncaa.org/team/473/11520>\n",
      "2017-12-03 20:32:42 [scrapy.downloadermiddlewares.redirect] DEBUG: Redirecting (302) to <GET http://stats.ncaa.org/teams/62749> from <GET http://stats.ncaa.org/team/472/11520>\n",
      "2017-12-03 20:32:46 [scrapy.downloadermiddlewares.redirect] DEBUG: Redirecting (302) to <GET http://stats.ncaa.org/teams/62745> from <GET http://stats.ncaa.org/team/457/11520>\n",
      "2017-12-03 20:32:48 [scrapy.downloadermiddlewares.redirect] DEBUG: Redirecting (302) to <GET http://stats.ncaa.org/teams/62752> from <GET http://stats.ncaa.org/team/497/11520>\n",
      "2017-12-03 20:32:49 [scrapy.core.engine] DEBUG: Crawled (200) <GET http://stats.ncaa.org/teams/62740> (referer: None)\n"
     ]
    },
    {
     "name": "stdout",
     "output_type": "stream",
     "text": [
      "Middle Tenn. Blue Raiders\n"
     ]
    },
    {
     "name": "stderr",
     "output_type": "stream",
     "text": [
      "2017-12-03 20:32:52 [scrapy.downloadermiddlewares.redirect] DEBUG: Redirecting (302) to <GET http://stats.ncaa.org/teams/62754> from <GET http://stats.ncaa.org/team/503/11520>\n",
      "2017-12-03 20:32:54 [scrapy.core.engine] DEBUG: Crawled (200) <GET http://stats.ncaa.org/teams/62741> (referer: None)\n"
     ]
    },
    {
     "name": "stdout",
     "output_type": "stream",
     "text": [
      "Minnesota Golden Gophers\n"
     ]
    },
    {
     "name": "stderr",
     "output_type": "stream",
     "text": [
      "2017-12-03 20:32:57 [scrapy.downloadermiddlewares.redirect] DEBUG: Redirecting (302) to <GET http://stats.ncaa.org/teams/62755> from <GET http://stats.ncaa.org/team/509/11520>\n",
      "2017-12-03 20:32:57 [scrapy.core.engine] DEBUG: Crawled (200) <GET http://stats.ncaa.org/teams/62742> (referer: None)\n"
     ]
    },
    {
     "name": "stdout",
     "output_type": "stream",
     "text": [
      "Mississippi St. Bulldogs\n"
     ]
    },
    {
     "name": "stderr",
     "output_type": "stream",
     "text": [
      "2017-12-03 20:33:00 [scrapy.core.engine] DEBUG: Crawled (200) <GET http://stats.ncaa.org/teams/62744> (referer: None)\n"
     ]
    },
    {
     "name": "stdout",
     "output_type": "stream",
     "text": [
      "Missouri Tigers\n"
     ]
    },
    {
     "name": "stderr",
     "output_type": "stream",
     "text": [
      "2017-12-03 20:33:05 [scrapy.core.engine] DEBUG: Crawled (200) <GET http://stats.ncaa.org/teams/62751> (referer: None)\n"
     ]
    },
    {
     "name": "stdout",
     "output_type": "stream",
     "text": [
      "NC State Wolfpack\n"
     ]
    },
    {
     "name": "stderr",
     "output_type": "stream",
     "text": [
      "2017-12-03 20:33:06 [scrapy.core.engine] DEBUG: Crawled (200) <GET http://stats.ncaa.org/teams/62795> (referer: None)\n"
     ]
    },
    {
     "name": "stdout",
     "output_type": "stream",
     "text": [
      "Navy Midshipmen\n"
     ]
    },
    {
     "name": "stderr",
     "output_type": "stream",
     "text": [
      "2017-12-03 20:33:08 [scrapy.core.engine] DEBUG: Crawled (200) <GET http://stats.ncaa.org/teams/62746> (referer: None)\n",
      "2017-12-03 20:33:08 [scrapy.downloadermiddlewares.retry] DEBUG: Gave up retrying <GET http://stats.ncaa.org/teams/62731> (failed 3 times): 500 Internal Server Error\n",
      "2017-12-03 20:33:08 [scrapy.core.engine] DEBUG: Crawled (500) <GET http://stats.ncaa.org/teams/62731> (referer: None)\n"
     ]
    },
    {
     "name": "stdout",
     "output_type": "stream",
     "text": [
      "Nebraska Cornhuskers, Huskers\n"
     ]
    },
    {
     "name": "stderr",
     "output_type": "stream",
     "text": [
      "2017-12-03 20:33:08 [scrapy.spidermiddlewares.httperror] INFO: Ignoring response <500 http://stats.ncaa.org/teams/62731>: HTTP status code is not handled or not allowed\n",
      "2017-12-03 20:33:12 [scrapy.core.engine] DEBUG: Crawled (200) <GET http://stats.ncaa.org/teams/62748> (referer: None)\n"
     ]
    },
    {
     "name": "stdout",
     "output_type": "stream",
     "text": [
      "Nevada Wolf Pack\n"
     ]
    },
    {
     "name": "stderr",
     "output_type": "stream",
     "text": [
      "2017-12-03 20:33:13 [scrapy.downloadermiddlewares.retry] DEBUG: Gave up retrying <GET http://stats.ncaa.org/teams/62732> (failed 3 times): 500 Internal Server Error\n",
      "2017-12-03 20:33:13 [scrapy.core.engine] DEBUG: Crawled (500) <GET http://stats.ncaa.org/teams/62732> (referer: None)\n",
      "2017-12-03 20:33:13 [scrapy.spidermiddlewares.httperror] INFO: Ignoring response <500 http://stats.ncaa.org/teams/62732>: HTTP status code is not handled or not allowed\n",
      "2017-12-03 20:33:17 [scrapy.core.engine] DEBUG: Crawled (200) <GET http://stats.ncaa.org/teams/62749> (referer: None)\n",
      "2017-12-03 20:33:17 [scrapy.core.engine] DEBUG: Crawled (200) <GET http://stats.ncaa.org/teams/62750> (referer: None)\n"
     ]
    },
    {
     "name": "stdout",
     "output_type": "stream",
     "text": [
      "New Mexico St. Aggies\n",
      "New Mexico Lobos\n"
     ]
    },
    {
     "name": "stderr",
     "output_type": "stream",
     "text": [
      "2017-12-03 20:33:20 [scrapy.downloadermiddlewares.redirect] DEBUG: Redirecting (302) to <GET http://stats.ncaa.org/teams/62756> from <GET http://stats.ncaa.org/team/513/11520>\n",
      "2017-12-03 20:33:20 [scrapy.core.engine] DEBUG: Crawled (200) <GET http://stats.ncaa.org/teams/62745> (referer: None)\n"
     ]
    },
    {
     "name": "stdout",
     "output_type": "stream",
     "text": [
      "North Carolina Tar Heels\n"
     ]
    },
    {
     "name": "stderr",
     "output_type": "stream",
     "text": [
      "2017-12-03 20:33:22 [scrapy.core.engine] DEBUG: Crawled (200) <GET http://stats.ncaa.org/teams/62752> (referer: None)\n"
     ]
    },
    {
     "name": "stdout",
     "output_type": "stream",
     "text": [
      "North Texas Mean Green\n"
     ]
    },
    {
     "name": "stderr",
     "output_type": "stream",
     "text": [
      "2017-12-03 20:33:23 [scrapy.downloadermiddlewares.redirect] DEBUG: Redirecting (302) to <GET http://stats.ncaa.org/teams/62758> from <GET http://stats.ncaa.org/team/519/11520>\n",
      "2017-12-03 20:33:24 [scrapy.extensions.logstats] INFO: Crawled 71 pages (at 15 pages/min), scraped 0 items (at 0 items/min)\n",
      "2017-12-03 20:33:26 [scrapy.downloadermiddlewares.retry] DEBUG: Retrying <GET http://stats.ncaa.org/teams/62754> (failed 1 times): 500 Internal Server Error\n",
      "2017-12-03 20:33:27 [scrapy.downloadermiddlewares.redirect] DEBUG: Redirecting (302) to <GET http://stats.ncaa.org/teams/62757> from <GET http://stats.ncaa.org/team/518/11520>\n",
      "2017-12-03 20:33:29 [scrapy.core.engine] DEBUG: Crawled (200) <GET http://stats.ncaa.org/teams/62755> (referer: None)\n",
      "2017-12-03 20:33:29 [scrapy.downloadermiddlewares.redirect] DEBUG: Redirecting (302) to <GET http://stats.ncaa.org/teams/62760> from <GET http://stats.ncaa.org/team/522/11520>\n"
     ]
    },
    {
     "name": "stdout",
     "output_type": "stream",
     "text": [
      "Northwestern Wildcats\n"
     ]
    },
    {
     "name": "stderr",
     "output_type": "stream",
     "text": [
      "2017-12-03 20:33:30 [scrapy.downloadermiddlewares.redirect] DEBUG: Redirecting (302) to <GET http://stats.ncaa.org/teams/62759> from <GET http://stats.ncaa.org/team/521/11520>\n",
      "2017-12-03 20:33:31 [scrapy.downloadermiddlewares.redirect] DEBUG: Redirecting (302) to <GET http://stats.ncaa.org/teams/62761> from <GET http://stats.ncaa.org/team/523/11520>\n",
      "2017-12-03 20:33:33 [scrapy.downloadermiddlewares.redirect] DEBUG: Redirecting (302) to <GET http://stats.ncaa.org/teams/62743> from <GET http://stats.ncaa.org/team/433/11520>\n",
      "2017-12-03 20:33:36 [scrapy.downloadermiddlewares.redirect] DEBUG: Redirecting (302) to <GET http://stats.ncaa.org/teams/62763> from <GET http://stats.ncaa.org/team/529/11520>\n",
      "2017-12-03 20:33:38 [scrapy.downloadermiddlewares.redirect] DEBUG: Redirecting (302) to <GET http://stats.ncaa.org/teams/62762> from <GET http://stats.ncaa.org/team/528/11520>\n",
      "2017-12-03 20:33:39 [scrapy.downloadermiddlewares.redirect] DEBUG: Redirecting (302) to <GET http://stats.ncaa.org/teams/62764> from <GET http://stats.ncaa.org/team/539/11520>\n",
      "2017-12-03 20:33:41 [scrapy.downloadermiddlewares.redirect] DEBUG: Redirecting (302) to <GET http://stats.ncaa.org/teams/62765> from <GET http://stats.ncaa.org/team/545/11520>\n",
      "2017-12-03 20:33:42 [scrapy.downloadermiddlewares.redirect] DEBUG: Redirecting (302) to <GET http://stats.ncaa.org/teams/62766> from <GET http://stats.ncaa.org/team/559/11520>\n",
      "2017-12-03 20:33:46 [scrapy.downloadermiddlewares.redirect] DEBUG: Redirecting (302) to <GET http://stats.ncaa.org/teams/62767> from <GET http://stats.ncaa.org/team/574/11520>\n",
      "2017-12-03 20:33:47 [scrapy.downloadermiddlewares.redirect] DEBUG: Redirecting (302) to <GET http://stats.ncaa.org/teams/62768> from <GET http://stats.ncaa.org/team/587/11520>\n",
      "2017-12-03 20:33:48 [scrapy.core.engine] DEBUG: Crawled (200) <GET http://stats.ncaa.org/teams/62756> (referer: None)\n"
     ]
    },
    {
     "name": "stdout",
     "output_type": "stream",
     "text": [
      "Notre Dame Fighting Irish\n"
     ]
    },
    {
     "name": "stderr",
     "output_type": "stream",
     "text": [
      "2017-12-03 20:33:54 [scrapy.downloadermiddlewares.retry] DEBUG: Retrying <GET http://stats.ncaa.org/teams/62754> (failed 2 times): 500 Internal Server Error\n",
      "2017-12-03 20:33:54 [scrapy.core.engine] DEBUG: Crawled (200) <GET http://stats.ncaa.org/teams/62758> (referer: None)\n"
     ]
    },
    {
     "name": "stdout",
     "output_type": "stream",
     "text": [
      "Ohio Bobcats\n"
     ]
    },
    {
     "name": "stderr",
     "output_type": "stream",
     "text": [
      "2017-12-03 20:33:54 [scrapy.downloadermiddlewares.redirect] DEBUG: Redirecting (302) to <GET http://stats.ncaa.org/teams/62775> from <GET http://stats.ncaa.org/team/663/11520>\n",
      "2017-12-03 20:33:56 [scrapy.core.engine] DEBUG: Crawled (200) <GET http://stats.ncaa.org/teams/62757> (referer: None)\n"
     ]
    },
    {
     "name": "stdout",
     "output_type": "stream",
     "text": [
      "Ohio St. Buckeyes\n"
     ]
    },
    {
     "name": "stderr",
     "output_type": "stream",
     "text": [
      "2017-12-03 20:34:00 [scrapy.core.engine] DEBUG: Crawled (200) <GET http://stats.ncaa.org/teams/62760> (referer: None)\n"
     ]
    },
    {
     "name": "stdout",
     "output_type": "stream",
     "text": [
      "Oklahoma Sooners\n"
     ]
    },
    {
     "name": "stderr",
     "output_type": "stream",
     "text": [
      "2017-12-03 20:34:02 [scrapy.core.engine] DEBUG: Crawled (200) <GET http://stats.ncaa.org/teams/62761> (referer: None)\n"
     ]
    },
    {
     "name": "stdout",
     "output_type": "stream",
     "text": [
      "Old Dominion Monarchs\n"
     ]
    },
    {
     "name": "stderr",
     "output_type": "stream",
     "text": [
      "2017-12-03 20:34:03 [scrapy.core.engine] DEBUG: Crawled (200) <GET http://stats.ncaa.org/teams/62759> (referer: None)\n"
     ]
    },
    {
     "name": "stdout",
     "output_type": "stream",
     "text": [
      "Oklahoma St. Cowboys\n"
     ]
    },
    {
     "name": "stderr",
     "output_type": "stream",
     "text": [
      "2017-12-03 20:34:05 [scrapy.core.engine] DEBUG: Crawled (200) <GET http://stats.ncaa.org/teams/62743> (referer: None)\n"
     ]
    },
    {
     "name": "stdout",
     "output_type": "stream",
     "text": [
      "Ole Miss Rebels\n"
     ]
    },
    {
     "name": "stderr",
     "output_type": "stream",
     "text": [
      "2017-12-03 20:34:08 [scrapy.core.engine] DEBUG: Crawled (200) <GET http://stats.ncaa.org/teams/62763> (referer: None)\n"
     ]
    },
    {
     "name": "stdout",
     "output_type": "stream",
     "text": [
      "Oregon Ducks\n"
     ]
    },
    {
     "name": "stderr",
     "output_type": "stream",
     "text": [
      "2017-12-03 20:34:09 [scrapy.core.engine] DEBUG: Crawled (200) <GET http://stats.ncaa.org/teams/62762> (referer: None)\n"
     ]
    },
    {
     "name": "stdout",
     "output_type": "stream",
     "text": [
      "Oregon St. Beavers\n"
     ]
    },
    {
     "name": "stderr",
     "output_type": "stream",
     "text": [
      "2017-12-03 20:34:10 [scrapy.core.engine] DEBUG: Crawled (200) <GET http://stats.ncaa.org/teams/62764> (referer: None)\n"
     ]
    },
    {
     "name": "stdout",
     "output_type": "stream",
     "text": [
      "Penn St. Nittany Lions\n"
     ]
    },
    {
     "name": "stderr",
     "output_type": "stream",
     "text": [
      "2017-12-03 20:34:12 [scrapy.core.engine] DEBUG: Crawled (200) <GET http://stats.ncaa.org/teams/62765> (referer: None)\n"
     ]
    },
    {
     "name": "stdout",
     "output_type": "stream",
     "text": [
      "Pittsburgh Panthers\n"
     ]
    },
    {
     "name": "stderr",
     "output_type": "stream",
     "text": [
      "2017-12-03 20:34:13 [scrapy.downloadermiddlewares.retry] DEBUG: Retrying <GET http://stats.ncaa.org/teams/62766> (failed 1 times): 500 Internal Server Error\n",
      "2017-12-03 20:34:15 [scrapy.downloadermiddlewares.redirect] DEBUG: Redirecting (302) to <GET http://stats.ncaa.org/teams/62769> from <GET http://stats.ncaa.org/team/626/11520>\n",
      "2017-12-03 20:34:16 [scrapy.core.engine] DEBUG: Crawled (200) <GET http://stats.ncaa.org/teams/62767> (referer: None)\n"
     ]
    },
    {
     "name": "stdout",
     "output_type": "stream",
     "text": [
      "Rice Owls\n"
     ]
    },
    {
     "name": "stderr",
     "output_type": "stream",
     "text": [
      "2017-12-03 20:34:17 [scrapy.core.engine] DEBUG: Crawled (200) <GET http://stats.ncaa.org/teams/62768> (referer: None)\n"
     ]
    },
    {
     "name": "stdout",
     "output_type": "stream",
     "text": [
      "Rutgers Scarlet Knights\n"
     ]
    },
    {
     "name": "stderr",
     "output_type": "stream",
     "text": [
      "2017-12-03 20:34:18 [scrapy.downloadermiddlewares.redirect] DEBUG: Redirecting (302) to <GET http://stats.ncaa.org/teams/62770> from <GET http://stats.ncaa.org/team/630/11520>\n",
      "2017-12-03 20:34:20 [scrapy.downloadermiddlewares.retry] DEBUG: Gave up retrying <GET http://stats.ncaa.org/teams/62754> (failed 3 times): 500 Internal Server Error\n",
      "2017-12-03 20:34:20 [scrapy.core.engine] DEBUG: Crawled (500) <GET http://stats.ncaa.org/teams/62754> (referer: None)\n",
      "2017-12-03 20:34:20 [scrapy.spidermiddlewares.httperror] INFO: Ignoring response <500 http://stats.ncaa.org/teams/62754>: HTTP status code is not handled or not allowed\n",
      "2017-12-03 20:34:22 [scrapy.downloadermiddlewares.redirect] DEBUG: Redirecting (302) to <GET http://stats.ncaa.org/teams/62771> from <GET http://stats.ncaa.org/team/646/11520>\n",
      "2017-12-03 20:34:23 [scrapy.downloadermiddlewares.redirect] DEBUG: Redirecting (302) to <GET http://stats.ncaa.org/teams/62772> from <GET http://stats.ncaa.org/team/648/11520>\n",
      "2017-12-03 20:34:24 [scrapy.extensions.logstats] INFO: Crawled 86 pages (at 15 pages/min), scraped 0 items (at 0 items/min)\n",
      "2017-12-03 20:34:25 [scrapy.core.engine] DEBUG: Crawled (200) <GET http://stats.ncaa.org/teams/62775> (referer: None)\n"
     ]
    },
    {
     "name": "stdout",
     "output_type": "stream",
     "text": [
      "SMU Mustangs\n"
     ]
    },
    {
     "name": "stderr",
     "output_type": "stream",
     "text": [
      "2017-12-03 20:34:25 [scrapy.downloadermiddlewares.redirect] DEBUG: Redirecting (302) to <GET http://stats.ncaa.org/teams/62773> from <GET http://stats.ncaa.org/team/651/11520>\n",
      "2017-12-03 20:34:27 [scrapy.downloadermiddlewares.redirect] DEBUG: Redirecting (302) to <GET http://stats.ncaa.org/teams/62774> from <GET http://stats.ncaa.org/team/657/11520>\n",
      "2017-12-03 20:34:29 [scrapy.downloadermiddlewares.redirect] DEBUG: Redirecting (302) to <GET http://stats.ncaa.org/teams/62776> from <GET http://stats.ncaa.org/team/664/11520>\n",
      "2017-12-03 20:34:31 [scrapy.downloadermiddlewares.redirect] DEBUG: Redirecting (302) to <GET http://stats.ncaa.org/teams/62779> from <GET http://stats.ncaa.org/team/674/11520>\n",
      "2017-12-03 20:34:32 [scrapy.downloadermiddlewares.redirect] DEBUG: Redirecting (302) to <GET http://stats.ncaa.org/teams/62780> from <GET http://stats.ncaa.org/team/688/11520>\n",
      "2017-12-03 20:34:33 [scrapy.downloadermiddlewares.redirect] DEBUG: Redirecting (302) to <GET http://stats.ncaa.org/teams/62784> from <GET http://stats.ncaa.org/team/698/11520>\n",
      "2017-12-03 20:34:36 [scrapy.downloadermiddlewares.redirect] DEBUG: Redirecting (302) to <GET http://stats.ncaa.org/teams/62781> from <GET http://stats.ncaa.org/team/690/11520>\n",
      "2017-12-03 20:34:40 [scrapy.downloadermiddlewares.retry] DEBUG: Retrying <GET http://stats.ncaa.org/teams/62766> (failed 2 times): 500 Internal Server Error\n",
      "2017-12-03 20:34:40 [scrapy.downloadermiddlewares.redirect] DEBUG: Redirecting (302) to <GET http://stats.ncaa.org/teams/62782> from <GET http://stats.ncaa.org/team/694/11520>\n",
      "2017-12-03 20:34:42 [scrapy.downloadermiddlewares.redirect] DEBUG: Redirecting (302) to <GET http://stats.ncaa.org/teams/62786> from <GET http://stats.ncaa.org/team/703/11520>\n",
      "2017-12-03 20:34:44 [scrapy.core.engine] DEBUG: Crawled (200) <GET http://stats.ncaa.org/teams/62769> (referer: None)\n"
     ]
    },
    {
     "name": "stdout",
     "output_type": "stream",
     "text": [
      "San Diego St. Aztecs\n"
     ]
    },
    {
     "name": "stderr",
     "output_type": "stream",
     "text": [
      "2017-12-03 20:34:45 [scrapy.downloadermiddlewares.redirect] DEBUG: Redirecting (302) to <GET http://stats.ncaa.org/teams/62783> from <GET http://stats.ncaa.org/team/697/11520>\n",
      "2017-12-03 20:34:48 [scrapy.core.engine] DEBUG: Crawled (200) <GET http://stats.ncaa.org/teams/62770> (referer: None)\n"
     ]
    },
    {
     "name": "stdout",
     "output_type": "stream",
     "text": [
      "San Jose St. Spartans\n"
     ]
    },
    {
     "name": "stderr",
     "output_type": "stream",
     "text": [
      "2017-12-03 20:34:50 [scrapy.downloadermiddlewares.redirect] DEBUG: Redirecting (302) to <GET http://stats.ncaa.org/teams/62777> from <GET http://stats.ncaa.org/team/670/11520>\n",
      "2017-12-03 20:34:51 [scrapy.core.engine] DEBUG: Crawled (200) <GET http://stats.ncaa.org/teams/62771> (referer: None)\n"
     ]
    },
    {
     "name": "stdout",
     "output_type": "stream",
     "text": [
      "South Ala. Jaguars\n"
     ]
    },
    {
     "name": "stderr",
     "output_type": "stream",
     "text": [
      "2017-12-03 20:34:52 [scrapy.core.engine] DEBUG: Crawled (200) <GET http://stats.ncaa.org/teams/62772> (referer: None)\n"
     ]
    },
    {
     "name": "stdout",
     "output_type": "stream",
     "text": [
      "South Carolina Gamecocks\n"
     ]
    },
    {
     "name": "stderr",
     "output_type": "stream",
     "text": [
      "2017-12-03 20:34:56 [scrapy.downloadermiddlewares.retry] DEBUG: Retrying <GET http://stats.ncaa.org/teams/62773> (failed 1 times): 500 Internal Server Error\n",
      "2017-12-03 20:34:58 [scrapy.core.engine] DEBUG: Crawled (200) <GET http://stats.ncaa.org/teams/62774> (referer: None)\n"
     ]
    },
    {
     "name": "stdout",
     "output_type": "stream",
     "text": [
      "Southern California Trojans\n"
     ]
    },
    {
     "name": "stderr",
     "output_type": "stream",
     "text": [
      "2017-12-03 20:35:00 [scrapy.core.engine] DEBUG: Crawled (200) <GET http://stats.ncaa.org/teams/62776> (referer: None)\n"
     ]
    },
    {
     "name": "stdout",
     "output_type": "stream",
     "text": [
      "Southern Miss. Golden Eagles\n"
     ]
    },
    {
     "name": "stderr",
     "output_type": "stream",
     "text": [
      "2017-12-03 20:35:02 [scrapy.core.engine] DEBUG: Crawled (200) <GET http://stats.ncaa.org/teams/62779> (referer: None)\n"
     ]
    },
    {
     "name": "stdout",
     "output_type": "stream",
     "text": [
      "Stanford Cardinal\n"
     ]
    },
    {
     "name": "stderr",
     "output_type": "stream",
     "text": [
      "2017-12-03 20:35:04 [scrapy.core.engine] DEBUG: Crawled (200) <GET http://stats.ncaa.org/teams/62780> (referer: None)\n"
     ]
    },
    {
     "name": "stdout",
     "output_type": "stream",
     "text": [
      "Syracuse Orange\n"
     ]
    },
    {
     "name": "stderr",
     "output_type": "stream",
     "text": [
      "2017-12-03 20:35:06 [scrapy.core.engine] DEBUG: Crawled (200) <GET http://stats.ncaa.org/teams/62784> (referer: None)\n"
     ]
    },
    {
     "name": "stdout",
     "output_type": "stream",
     "text": [
      "TCU Horned Frogs\n"
     ]
    },
    {
     "name": "stderr",
     "output_type": "stream",
     "text": [
      "2017-12-03 20:35:08 [scrapy.core.engine] DEBUG: Crawled (200) <GET http://stats.ncaa.org/teams/62781> (referer: None)\n"
     ]
    },
    {
     "name": "stdout",
     "output_type": "stream",
     "text": [
      "Temple Owls\n"
     ]
    },
    {
     "name": "stderr",
     "output_type": "stream",
     "text": [
      "2017-12-03 20:35:09 [scrapy.downloadermiddlewares.retry] DEBUG: Gave up retrying <GET http://stats.ncaa.org/teams/62766> (failed 3 times): 500 Internal Server Error\n",
      "2017-12-03 20:35:09 [scrapy.core.engine] DEBUG: Crawled (500) <GET http://stats.ncaa.org/teams/62766> (referer: None)\n",
      "2017-12-03 20:35:09 [scrapy.spidermiddlewares.httperror] INFO: Ignoring response <500 http://stats.ncaa.org/teams/62766>: HTTP status code is not handled or not allowed\n",
      "2017-12-03 20:35:12 [scrapy.downloadermiddlewares.redirect] DEBUG: Redirecting (302) to <GET http://stats.ncaa.org/teams/62785> from <GET http://stats.ncaa.org/team/700/11520>\n",
      "2017-12-03 20:35:12 [scrapy.core.engine] DEBUG: Crawled (200) <GET http://stats.ncaa.org/teams/62782> (referer: None)\n"
     ]
    },
    {
     "name": "stdout",
     "output_type": "stream",
     "text": [
      "Tennessee Volunteers\n"
     ]
    },
    {
     "name": "stderr",
     "output_type": "stream",
     "text": [
      "2017-12-03 20:35:14 [scrapy.core.engine] DEBUG: Crawled (200) <GET http://stats.ncaa.org/teams/62786> (referer: None)\n"
     ]
    },
    {
     "name": "stdout",
     "output_type": "stream",
     "text": [
      "Texas Longhorns\n"
     ]
    },
    {
     "name": "stderr",
     "output_type": "stream",
     "text": [
      "2017-12-03 20:35:16 [scrapy.downloadermiddlewares.redirect] DEBUG: Redirecting (302) to <GET http://stats.ncaa.org/teams/62789> from <GET http://stats.ncaa.org/team/709/11520>\n",
      "2017-12-03 20:35:18 [scrapy.core.engine] DEBUG: Crawled (200) <GET http://stats.ncaa.org/teams/62783> (referer: None)\n"
     ]
    },
    {
     "name": "stdout",
     "output_type": "stream",
     "text": [
      "Texas A&M Aggies\n"
     ]
    },
    {
     "name": "stderr",
     "output_type": "stream",
     "text": [
      "2017-12-03 20:35:19 [scrapy.downloadermiddlewares.redirect] DEBUG: Redirecting (302) to <GET http://stats.ncaa.org/teams/62790> from <GET http://stats.ncaa.org/team/716/11520>\n",
      "2017-12-03 20:35:21 [scrapy.core.engine] DEBUG: Crawled (200) <GET http://stats.ncaa.org/teams/62777> (referer: None)\n",
      "2017-12-03 20:35:22 [scrapy.downloadermiddlewares.redirect] DEBUG: Redirecting (302) to <GET http://stats.ncaa.org/teams/62791> from <GET http://stats.ncaa.org/team/718/11520>\n"
     ]
    },
    {
     "name": "stdout",
     "output_type": "stream",
     "text": [
      "Texas St. Bobcats\n"
     ]
    },
    {
     "name": "stderr",
     "output_type": "stream",
     "text": [
      "2017-12-03 20:35:24 [scrapy.extensions.logstats] INFO: Crawled 102 pages (at 16 pages/min), scraped 0 items (at 0 items/min)\n",
      "2017-12-03 20:35:26 [scrapy.downloadermiddlewares.redirect] DEBUG: Redirecting (302) to <GET http://stats.ncaa.org/teams/62792> from <GET http://stats.ncaa.org/team/719/11520>\n",
      "2017-12-03 20:35:26 [scrapy.downloadermiddlewares.retry] DEBUG: Retrying <GET http://stats.ncaa.org/teams/62773> (failed 2 times): 500 Internal Server Error\n",
      "2017-12-03 20:35:27 [scrapy.downloadermiddlewares.redirect] DEBUG: Redirecting (302) to <GET http://stats.ncaa.org/teams/62683> from <GET http://stats.ncaa.org/team/9/11520>\n",
      "2017-12-03 20:35:29 [scrapy.downloadermiddlewares.redirect] DEBUG: Redirecting (302) to <GET http://stats.ncaa.org/teams/62700> from <GET http://stats.ncaa.org/team/128/11520>\n",
      "2017-12-03 20:35:31 [scrapy.downloadermiddlewares.redirect] DEBUG: Redirecting (302) to <GET http://stats.ncaa.org/teams/62699> from <GET http://stats.ncaa.org/team/110/11520>\n",
      "2017-12-03 20:35:33 [scrapy.downloadermiddlewares.redirect] DEBUG: Redirecting (302) to <GET http://stats.ncaa.org/teams/62706> from <GET http://stats.ncaa.org/team/164/11520>\n",
      "2017-12-03 20:35:35 [scrapy.downloadermiddlewares.redirect] DEBUG: Redirecting (302) to <GET http://stats.ncaa.org/teams/62747> from <GET http://stats.ncaa.org/team/465/11520>\n",
      "2017-12-03 20:35:37 [scrapy.downloadermiddlewares.redirect] DEBUG: Redirecting (302) to <GET http://stats.ncaa.org/teams/62787> from <GET http://stats.ncaa.org/team/704/11520>\n",
      "2017-12-03 20:35:41 [scrapy.downloadermiddlewares.redirect] DEBUG: Redirecting (302) to <GET http://stats.ncaa.org/teams/62788> from <GET http://stats.ncaa.org/team/706/11520>\n",
      "2017-12-03 20:35:43 [scrapy.downloadermiddlewares.redirect] DEBUG: Redirecting (302) to <GET http://stats.ncaa.org/teams/62797> from <GET http://stats.ncaa.org/team/732/11520>\n",
      "2017-12-03 20:35:43 [scrapy.downloadermiddlewares.retry] DEBUG: Retrying <GET http://stats.ncaa.org/teams/62785> (failed 1 times): 500 Internal Server Error\n",
      "2017-12-03 20:35:47 [scrapy.downloadermiddlewares.redirect] DEBUG: Redirecting (302) to <GET http://stats.ncaa.org/teams/62796> from <GET http://stats.ncaa.org/team/731/11520>\n",
      "2017-12-03 20:35:49 [scrapy.core.engine] DEBUG: Crawled (200) <GET http://stats.ncaa.org/teams/62789> (referer: None)\n"
     ]
    },
    {
     "name": "stdout",
     "output_type": "stream",
     "text": [
      "Toledo Rockets\n"
     ]
    },
    {
     "name": "stderr",
     "output_type": "stream",
     "text": [
      "2017-12-03 20:35:50 [scrapy.downloadermiddlewares.redirect] DEBUG: Redirecting (302) to <GET http://stats.ncaa.org/teams/62798> from <GET http://stats.ncaa.org/team/736/11520>\n",
      "2017-12-03 20:35:52 [scrapy.core.engine] DEBUG: Crawled (200) <GET http://stats.ncaa.org/teams/62790> (referer: None)\n"
     ]
    },
    {
     "name": "stdout",
     "output_type": "stream",
     "text": [
      "Troy Trojans\n"
     ]
    },
    {
     "name": "stderr",
     "output_type": "stream",
     "text": [
      "2017-12-03 20:35:56 [scrapy.core.engine] DEBUG: Crawled (200) <GET http://stats.ncaa.org/teams/62791> (referer: None)\n"
     ]
    },
    {
     "name": "stdout",
     "output_type": "stream",
     "text": [
      "Tulane Green Wave\n"
     ]
    },
    {
     "name": "stderr",
     "output_type": "stream",
     "text": [
      "2017-12-03 20:35:57 [scrapy.core.engine] DEBUG: Crawled (200) <GET http://stats.ncaa.org/teams/62792> (referer: None)\n"
     ]
    },
    {
     "name": "stdout",
     "output_type": "stream",
     "text": [
      "Tulsa Golden Hurricane\n"
     ]
    },
    {
     "name": "stderr",
     "output_type": "stream",
     "text": [
      "2017-12-03 20:35:58 [scrapy.downloadermiddlewares.retry] DEBUG: Gave up retrying <GET http://stats.ncaa.org/teams/62773> (failed 3 times): 500 Internal Server Error\n",
      "2017-12-03 20:35:58 [scrapy.core.engine] DEBUG: Crawled (500) <GET http://stats.ncaa.org/teams/62773> (referer: None)\n",
      "2017-12-03 20:35:58 [scrapy.spidermiddlewares.httperror] INFO: Ignoring response <500 http://stats.ncaa.org/teams/62773>: HTTP status code is not handled or not allowed\n",
      "2017-12-03 20:36:02 [scrapy.core.engine] DEBUG: Crawled (200) <GET http://stats.ncaa.org/teams/62683> (referer: None)\n"
     ]
    },
    {
     "name": "stdout",
     "output_type": "stream",
     "text": [
      "UAB Blazers\n"
     ]
    },
    {
     "name": "stderr",
     "output_type": "stream",
     "text": [
      "2017-12-03 20:36:07 [scrapy.core.engine] DEBUG: Crawled (200) <GET http://stats.ncaa.org/teams/62700> (referer: None)\n"
     ]
    },
    {
     "name": "stdout",
     "output_type": "stream",
     "text": [
      "UCF Knights\n"
     ]
    },
    {
     "name": "stderr",
     "output_type": "stream",
     "text": [
      "2017-12-03 20:36:07 [scrapy.core.engine] DEBUG: Crawled (200) <GET http://stats.ncaa.org/teams/62699> (referer: None)\n"
     ]
    },
    {
     "name": "stdout",
     "output_type": "stream",
     "text": [
      "UCLA Bruins\n"
     ]
    },
    {
     "name": "stderr",
     "output_type": "stream",
     "text": [
      "2017-12-03 20:36:08 [scrapy.core.engine] DEBUG: Crawled (200) <GET http://stats.ncaa.org/teams/62706> (referer: None)\n"
     ]
    },
    {
     "name": "stdout",
     "output_type": "stream",
     "text": [
      "UConn Huskies, UConn\n"
     ]
    },
    {
     "name": "stderr",
     "output_type": "stream",
     "text": [
      "2017-12-03 20:36:09 [scrapy.core.engine] DEBUG: Crawled (200) <GET http://stats.ncaa.org/teams/62747> (referer: None)\n"
     ]
    },
    {
     "name": "stdout",
     "output_type": "stream",
     "text": [
      "UNLV Rebels\n"
     ]
    },
    {
     "name": "stderr",
     "output_type": "stream",
     "text": [
      "2017-12-03 20:36:10 [scrapy.core.engine] DEBUG: Crawled (200) <GET http://stats.ncaa.org/teams/62787> (referer: None)\n",
      "2017-12-03 20:36:11 [scrapy.core.engine] DEBUG: Crawled (200) <GET http://stats.ncaa.org/teams/62788> (referer: None)\n"
     ]
    },
    {
     "name": "stdout",
     "output_type": "stream",
     "text": [
      "UTEP Miners\n",
      "UTSA Roadrunners\n"
     ]
    },
    {
     "name": "stderr",
     "output_type": "stream",
     "text": [
      "2017-12-03 20:36:15 [scrapy.core.engine] DEBUG: Crawled (200) <GET http://stats.ncaa.org/teams/62797> (referer: None)\n"
     ]
    },
    {
     "name": "stdout",
     "output_type": "stream",
     "text": [
      "Utah Utes\n"
     ]
    },
    {
     "name": "stderr",
     "output_type": "stream",
     "text": [
      "2017-12-03 20:36:16 [scrapy.downloadermiddlewares.redirect] DEBUG: Redirecting (302) to <GET http://stats.ncaa.org/teams/62800> from <GET http://stats.ncaa.org/team/746/11520>\n",
      "2017-12-03 20:36:16 [scrapy.downloadermiddlewares.retry] DEBUG: Retrying <GET http://stats.ncaa.org/teams/62785> (failed 2 times): 500 Internal Server Error\n",
      "2017-12-03 20:36:18 [scrapy.core.engine] DEBUG: Crawled (200) <GET http://stats.ncaa.org/teams/62796> (referer: None)\n"
     ]
    },
    {
     "name": "stdout",
     "output_type": "stream",
     "text": [
      "Utah St. Aggies\n"
     ]
    },
    {
     "name": "stderr",
     "output_type": "stream",
     "text": [
      "2017-12-03 20:36:20 [scrapy.downloadermiddlewares.redirect] DEBUG: Redirecting (302) to <GET http://stats.ncaa.org/teams/62799> from <GET http://stats.ncaa.org/team/742/11520>\n",
      "2017-12-03 20:36:21 [scrapy.core.engine] DEBUG: Crawled (200) <GET http://stats.ncaa.org/teams/62798> (referer: None)\n"
     ]
    },
    {
     "name": "stdout",
     "output_type": "stream",
     "text": [
      "Vanderbilt Commodores\n"
     ]
    },
    {
     "name": "stderr",
     "output_type": "stream",
     "text": [
      "2017-12-03 20:36:22 [scrapy.downloadermiddlewares.redirect] DEBUG: Redirecting (302) to <GET http://stats.ncaa.org/teams/62801> from <GET http://stats.ncaa.org/team/749/11520>\n",
      "2017-12-03 20:36:24 [scrapy.downloadermiddlewares.redirect] DEBUG: Redirecting (302) to <GET http://stats.ncaa.org/teams/62803> from <GET http://stats.ncaa.org/team/756/11520>\n",
      "2017-12-03 20:36:24 [scrapy.extensions.logstats] INFO: Crawled 117 pages (at 15 pages/min), scraped 0 items (at 0 items/min)\n",
      "2017-12-03 20:36:26 [scrapy.downloadermiddlewares.redirect] DEBUG: Redirecting (302) to <GET http://stats.ncaa.org/teams/62802> from <GET http://stats.ncaa.org/team/754/11520>\n",
      "2017-12-03 20:36:28 [scrapy.downloadermiddlewares.redirect] DEBUG: Redirecting (302) to <GET http://stats.ncaa.org/teams/62804> from <GET http://stats.ncaa.org/team/768/11520>\n",
      "2017-12-03 20:36:29 [scrapy.downloadermiddlewares.redirect] DEBUG: Redirecting (302) to <GET http://stats.ncaa.org/teams/62805> from <GET http://stats.ncaa.org/team/772/11520>\n",
      "2017-12-03 20:36:31 [scrapy.downloadermiddlewares.redirect] DEBUG: Redirecting (302) to <GET http://stats.ncaa.org/teams/62806> from <GET http://stats.ncaa.org/team/774/11520>\n",
      "2017-12-03 20:36:32 [scrapy.downloadermiddlewares.redirect] DEBUG: Redirecting (302) to <GET http://stats.ncaa.org/teams/62807> from <GET http://stats.ncaa.org/team/796/11520>\n",
      "2017-12-03 20:36:34 [scrapy.downloadermiddlewares.redirect] DEBUG: Redirecting (302) to <GET http://stats.ncaa.org/teams/62808> from <GET http://stats.ncaa.org/team/811/11520>\n",
      "2017-12-03 20:36:36 [scrapy.downloadermiddlewares.redirect] DEBUG: Redirecting (302) to <GET http://stats.ncaa.org/teams/66692> from <GET http://stats.ncaa.org/team/721/12424>\n",
      "2017-12-03 20:36:38 [scrapy.downloadermiddlewares.redirect] DEBUG: Redirecting (302) to <GET http://stats.ncaa.org/teams/66579> from <GET http://stats.ncaa.org/team/5/12424>\n",
      "2017-12-03 20:36:39 [scrapy.downloadermiddlewares.redirect] DEBUG: Redirecting (302) to <GET http://stats.ncaa.org/teams/66580> from <GET http://stats.ncaa.org/team/8/12424>\n",
      "2017-12-03 20:36:45 [scrapy.core.engine] DEBUG: Crawled (200) <GET http://stats.ncaa.org/teams/62800> (referer: None)\n",
      "2017-12-03 20:36:45 [scrapy.downloadermiddlewares.redirect] DEBUG: Redirecting (302) to <GET http://stats.ncaa.org/teams/66581> from <GET http://stats.ncaa.org/team/27/12424>\n"
     ]
    },
    {
     "name": "stdout",
     "output_type": "stream",
     "text": [
      "Virginia Cavaliers\n"
     ]
    },
    {
     "name": "stderr",
     "output_type": "stream",
     "text": [
      "2017-12-03 20:36:46 [scrapy.downloadermiddlewares.retry] DEBUG: Gave up retrying <GET http://stats.ncaa.org/teams/62785> (failed 3 times): 500 Internal Server Error\n",
      "2017-12-03 20:36:46 [scrapy.core.engine] DEBUG: Crawled (500) <GET http://stats.ncaa.org/teams/62785> (referer: None)\n",
      "2017-12-03 20:36:47 [scrapy.spidermiddlewares.httperror] INFO: Ignoring response <500 http://stats.ncaa.org/teams/62785>: HTTP status code is not handled or not allowed\n",
      "2017-12-03 20:36:49 [scrapy.downloadermiddlewares.redirect] DEBUG: Redirecting (302) to <GET http://stats.ncaa.org/teams/66583> from <GET http://stats.ncaa.org/team/29/12424>\n",
      "2017-12-03 20:36:51 [scrapy.core.engine] DEBUG: Crawled (200) <GET http://stats.ncaa.org/teams/62799> (referer: None)\n"
     ]
    },
    {
     "name": "stdout",
     "output_type": "stream",
     "text": [
      "Virginia Tech Hokies\n"
     ]
    },
    {
     "name": "stderr",
     "output_type": "stream",
     "text": [
      "2017-12-03 20:36:55 [scrapy.core.engine] DEBUG: Crawled (200) <GET http://stats.ncaa.org/teams/62801> (referer: None)\n"
     ]
    },
    {
     "name": "stdout",
     "output_type": "stream",
     "text": [
      "Wake Forest Demon Deacons\n"
     ]
    },
    {
     "name": "stderr",
     "output_type": "stream",
     "text": [
      "2017-12-03 20:36:57 [scrapy.core.engine] DEBUG: Crawled (200) <GET http://stats.ncaa.org/teams/62803> (referer: None)\n"
     ]
    },
    {
     "name": "stdout",
     "output_type": "stream",
     "text": [
      "Washington Huskies\n"
     ]
    },
    {
     "name": "stderr",
     "output_type": "stream",
     "text": [
      "2017-12-03 20:36:59 [scrapy.core.engine] DEBUG: Crawled (200) <GET http://stats.ncaa.org/teams/62802> (referer: None)\n"
     ]
    },
    {
     "name": "stdout",
     "output_type": "stream",
     "text": [
      "Washington St. Cougars\n"
     ]
    },
    {
     "name": "stderr",
     "output_type": "stream",
     "text": [
      "2017-12-03 20:37:00 [scrapy.core.engine] DEBUG: Crawled (200) <GET http://stats.ncaa.org/teams/62804> (referer: None)\n"
     ]
    },
    {
     "name": "stdout",
     "output_type": "stream",
     "text": [
      "West Virginia Mountaineers\n"
     ]
    },
    {
     "name": "stderr",
     "output_type": "stream",
     "text": [
      "2017-12-03 20:37:02 [scrapy.core.engine] DEBUG: Crawled (200) <GET http://stats.ncaa.org/teams/62805> (referer: None)\n"
     ]
    },
    {
     "name": "stdout",
     "output_type": "stream",
     "text": [
      "Western Ky. Hilltoppers\n"
     ]
    },
    {
     "name": "stderr",
     "output_type": "stream",
     "text": [
      "2017-12-03 20:37:05 [scrapy.core.engine] DEBUG: Crawled (200) <GET http://stats.ncaa.org/teams/62806> (referer: None)\n"
     ]
    },
    {
     "name": "stdout",
     "output_type": "stream",
     "text": [
      "Western Mich. Broncos\n"
     ]
    },
    {
     "name": "stderr",
     "output_type": "stream",
     "text": [
      "2017-12-03 20:37:07 [scrapy.core.engine] DEBUG: Crawled (200) <GET http://stats.ncaa.org/teams/62808> (referer: None)\n",
      "2017-12-03 20:37:08 [scrapy.core.engine] DEBUG: Crawled (200) <GET http://stats.ncaa.org/teams/62807> (referer: None)\n"
     ]
    },
    {
     "name": "stdout",
     "output_type": "stream",
     "text": [
      "Wyoming Cowboys\n",
      "Wisconsin Badgers\n"
     ]
    },
    {
     "name": "stderr",
     "output_type": "stream",
     "text": [
      "2017-12-03 20:37:11 [scrapy.core.engine] DEBUG: Crawled (200) <GET http://stats.ncaa.org/teams/66692> (referer: None)\n"
     ]
    },
    {
     "name": "stdout",
     "output_type": "stream",
     "text": [
      "Air Force Falcons\n"
     ]
    },
    {
     "name": "stderr",
     "output_type": "stream",
     "text": [
      "2017-12-03 20:37:12 [scrapy.downloadermiddlewares.redirect] DEBUG: Redirecting (302) to <GET http://stats.ncaa.org/teams/66582> from <GET http://stats.ncaa.org/team/28/12424>\n",
      "2017-12-03 20:37:13 [scrapy.core.engine] DEBUG: Crawled (200) <GET http://stats.ncaa.org/teams/66579> (referer: None)\n"
     ]
    },
    {
     "name": "stdout",
     "output_type": "stream",
     "text": [
      "Akron Zips\n"
     ]
    },
    {
     "name": "stderr",
     "output_type": "stream",
     "text": [
      "2017-12-03 20:37:15 [scrapy.core.engine] DEBUG: Crawled (200) <GET http://stats.ncaa.org/teams/66580> (referer: None)\n"
     ]
    },
    {
     "name": "stdout",
     "output_type": "stream",
     "text": [
      "Alabama Crimson Tide\n"
     ]
    },
    {
     "name": "stderr",
     "output_type": "stream",
     "text": [
      "2017-12-03 20:37:16 [scrapy.downloadermiddlewares.redirect] DEBUG: Redirecting (302) to <GET http://stats.ncaa.org/teams/66585> from <GET http://stats.ncaa.org/team/31/12424>\n",
      "2017-12-03 20:37:18 [scrapy.core.engine] DEBUG: Crawled (200) <GET http://stats.ncaa.org/teams/66581> (referer: None)\n"
     ]
    },
    {
     "name": "stdout",
     "output_type": "stream",
     "text": [
      "Appalachian St. Mountaineers\n"
     ]
    },
    {
     "name": "stderr",
     "output_type": "stream",
     "text": [
      "2017-12-03 20:37:19 [scrapy.downloadermiddlewares.redirect] DEBUG: Redirecting (302) to <GET http://stats.ncaa.org/teams/66584> from <GET http://stats.ncaa.org/team/30/12424>\n",
      "2017-12-03 20:37:21 [scrapy.downloadermiddlewares.redirect] DEBUG: Redirecting (302) to <GET http://stats.ncaa.org/teams/66693> from <GET http://stats.ncaa.org/team/725/12424>\n",
      "2017-12-03 20:37:22 [scrapy.downloadermiddlewares.redirect] DEBUG: Redirecting (302) to <GET http://stats.ncaa.org/teams/66586> from <GET http://stats.ncaa.org/team/37/12424>\n",
      "2017-12-03 20:37:23 [scrapy.core.engine] DEBUG: Crawled (200) <GET http://stats.ncaa.org/teams/66583> (referer: None)\n"
     ]
    },
    {
     "name": "stdout",
     "output_type": "stream",
     "text": [
      "Arizona Wildcats\n"
     ]
    },
    {
     "name": "stderr",
     "output_type": "stream",
     "text": [
      "2017-12-03 20:37:24 [scrapy.extensions.logstats] INFO: Crawled 133 pages (at 16 pages/min), scraped 0 items (at 0 items/min)\n",
      "2017-12-03 20:37:24 [scrapy.downloadermiddlewares.redirect] DEBUG: Redirecting (302) to <GET http://stats.ncaa.org/teams/66592> from <GET http://stats.ncaa.org/team/77/12424>\n",
      "2017-12-03 20:37:27 [scrapy.downloadermiddlewares.redirect] DEBUG: Redirecting (302) to <GET http://stats.ncaa.org/teams/66587> from <GET http://stats.ncaa.org/team/47/12424>\n",
      "2017-12-03 20:37:28 [scrapy.downloadermiddlewares.redirect] DEBUG: Redirecting (302) to <GET http://stats.ncaa.org/teams/66588> from <GET http://stats.ncaa.org/team/51/12424>\n",
      "2017-12-03 20:37:30 [scrapy.downloadermiddlewares.redirect] DEBUG: Redirecting (302) to <GET http://stats.ncaa.org/teams/66589> from <GET http://stats.ncaa.org/team/66/12424>\n",
      "2017-12-03 20:37:32 [scrapy.downloadermiddlewares.redirect] DEBUG: Redirecting (302) to <GET http://stats.ncaa.org/teams/66590> from <GET http://stats.ncaa.org/team/67/12424>\n",
      "2017-12-03 20:37:34 [scrapy.downloadermiddlewares.redirect] DEBUG: Redirecting (302) to <GET http://stats.ncaa.org/teams/66591> from <GET http://stats.ncaa.org/team/71/12424>\n",
      "2017-12-03 20:37:35 [scrapy.downloadermiddlewares.redirect] DEBUG: Redirecting (302) to <GET http://stats.ncaa.org/teams/66593> from <GET http://stats.ncaa.org/team/86/12424>\n",
      "2017-12-03 20:37:39 [scrapy.downloadermiddlewares.redirect] DEBUG: Redirecting (302) to <GET http://stats.ncaa.org/teams/66595> from <GET http://stats.ncaa.org/team/107/12424>\n",
      "2017-12-03 20:37:41 [scrapy.downloadermiddlewares.redirect] DEBUG: Redirecting (302) to <GET http://stats.ncaa.org/teams/66598> from <GET http://stats.ncaa.org/team/129/12424>\n",
      "2017-12-03 20:37:42 [scrapy.core.engine] DEBUG: Crawled (200) <GET http://stats.ncaa.org/teams/66582> (referer: None)\n"
     ]
    },
    {
     "name": "stdout",
     "output_type": "stream",
     "text": [
      "Arizona St. Sun Devils\n"
     ]
    },
    {
     "name": "stderr",
     "output_type": "stream",
     "text": [
      "2017-12-03 20:37:45 [scrapy.downloadermiddlewares.redirect] DEBUG: Redirecting (302) to <GET http://stats.ncaa.org/teams/66644> from <GET http://stats.ncaa.org/team/458/12424>\n",
      "2017-12-03 20:37:48 [scrapy.core.engine] DEBUG: Crawled (200) <GET http://stats.ncaa.org/teams/66585> (referer: None)\n"
     ]
    },
    {
     "name": "stdout",
     "output_type": "stream",
     "text": [
      "Arkansas Razorbacks\n"
     ]
    },
    {
     "name": "stderr",
     "output_type": "stream",
     "text": [
      "2017-12-03 20:37:51 [scrapy.downloadermiddlewares.redirect] DEBUG: Redirecting (302) to <GET http://stats.ncaa.org/teams/66599> from <GET http://stats.ncaa.org/team/140/12424>\n",
      "2017-12-03 20:37:52 [scrapy.core.engine] DEBUG: Crawled (200) <GET http://stats.ncaa.org/teams/66584> (referer: None)\n"
     ]
    },
    {
     "name": "stdout",
     "output_type": "stream",
     "text": [
      "Arkansas St. Red Wolves\n"
     ]
    },
    {
     "name": "stderr",
     "output_type": "stream",
     "text": [
      "2017-12-03 20:37:54 [scrapy.core.engine] DEBUG: Crawled (200) <GET http://stats.ncaa.org/teams/66693> (referer: None)\n"
     ]
    },
    {
     "name": "stdout",
     "output_type": "stream",
     "text": [
      "Army West Point Black Knights\n"
     ]
    },
    {
     "name": "stderr",
     "output_type": "stream",
     "text": [
      "2017-12-03 20:37:56 [scrapy.core.engine] DEBUG: Crawled (200) <GET http://stats.ncaa.org/teams/66586> (referer: None)\n"
     ]
    },
    {
     "name": "stdout",
     "output_type": "stream",
     "text": [
      "Auburn Tigers\n"
     ]
    },
    {
     "name": "stderr",
     "output_type": "stream",
     "text": [
      "2017-12-03 20:37:59 [scrapy.core.engine] DEBUG: Crawled (200) <GET http://stats.ncaa.org/teams/66592> (referer: None)\n"
     ]
    },
    {
     "name": "stdout",
     "output_type": "stream",
     "text": [
      "BYU Cougars\n"
     ]
    },
    {
     "name": "stderr",
     "output_type": "stream",
     "text": [
      "2017-12-03 20:38:00 [scrapy.core.engine] DEBUG: Crawled (200) <GET http://stats.ncaa.org/teams/66587> (referer: None)\n"
     ]
    },
    {
     "name": "stdout",
     "output_type": "stream",
     "text": [
      "Ball St. Cardinals\n"
     ]
    },
    {
     "name": "stderr",
     "output_type": "stream",
     "text": [
      "2017-12-03 20:38:02 [scrapy.core.engine] DEBUG: Crawled (200) <GET http://stats.ncaa.org/teams/66588> (referer: None)\n"
     ]
    },
    {
     "name": "stdout",
     "output_type": "stream",
     "text": [
      "Baylor Bears\n"
     ]
    },
    {
     "name": "stderr",
     "output_type": "stream",
     "text": [
      "2017-12-03 20:38:04 [scrapy.core.engine] DEBUG: Crawled (200) <GET http://stats.ncaa.org/teams/66589> (referer: None)\n"
     ]
    },
    {
     "name": "stdout",
     "output_type": "stream",
     "text": [
      "Boise St. Broncos\n"
     ]
    },
    {
     "name": "stderr",
     "output_type": "stream",
     "text": [
      "2017-12-03 20:38:06 [scrapy.core.engine] DEBUG: Crawled (200) <GET http://stats.ncaa.org/teams/66590> (referer: None)\n"
     ]
    },
    {
     "name": "stdout",
     "output_type": "stream",
     "text": [
      "Boston College Eagles\n"
     ]
    },
    {
     "name": "stderr",
     "output_type": "stream",
     "text": [
      "2017-12-03 20:38:09 [scrapy.core.engine] DEBUG: Crawled (200) <GET http://stats.ncaa.org/teams/66591> (referer: None)\n"
     ]
    },
    {
     "name": "stdout",
     "output_type": "stream",
     "text": [
      "Bowling Green Falcons\n"
     ]
    },
    {
     "name": "stderr",
     "output_type": "stream",
     "text": [
      "2017-12-03 20:38:10 [scrapy.downloadermiddlewares.redirect] DEBUG: Redirecting (302) to <GET http://stats.ncaa.org/teams/66600> from <GET http://stats.ncaa.org/team/147/12424>\n",
      "2017-12-03 20:38:10 [scrapy.core.engine] DEBUG: Crawled (200) <GET http://stats.ncaa.org/teams/66593> (referer: None)\n"
     ]
    },
    {
     "name": "stdout",
     "output_type": "stream",
     "text": [
      "Buffalo Bulls\n"
     ]
    },
    {
     "name": "stderr",
     "output_type": "stream",
     "text": [
      "2017-12-03 20:38:12 [scrapy.core.engine] DEBUG: Crawled (200) <GET http://stats.ncaa.org/teams/66595> (referer: None)\n"
     ]
    },
    {
     "name": "stdout",
     "output_type": "stream",
     "text": [
      "California Golden Bears\n"
     ]
    },
    {
     "name": "stderr",
     "output_type": "stream",
     "text": [
      "2017-12-03 20:38:12 [scrapy.downloadermiddlewares.redirect] DEBUG: Redirecting (302) to <GET http://stats.ncaa.org/teams/66601> from <GET http://stats.ncaa.org/team/149/12424>\n",
      "2017-12-03 20:38:14 [scrapy.core.engine] DEBUG: Crawled (200) <GET http://stats.ncaa.org/teams/66598> (referer: None)\n"
     ]
    },
    {
     "name": "stdout",
     "output_type": "stream",
     "text": [
      "Central Mich. Chippewas\n"
     ]
    },
    {
     "name": "stderr",
     "output_type": "stream",
     "text": [
      "2017-12-03 20:38:15 [scrapy.core.engine] DEBUG: Crawled (200) <GET http://stats.ncaa.org/teams/66644> (referer: None)\n"
     ]
    },
    {
     "name": "stdout",
     "output_type": "stream",
     "text": [
      "Charlotte 49ers\n"
     ]
    },
    {
     "name": "stderr",
     "output_type": "stream",
     "text": [
      "2017-12-03 20:38:16 [scrapy.downloadermiddlewares.redirect] DEBUG: Redirecting (302) to <GET http://stats.ncaa.org/teams/66603> from <GET http://stats.ncaa.org/team/157/12424>\n",
      "2017-12-03 20:38:18 [scrapy.downloadermiddlewares.redirect] DEBUG: Redirecting (302) to <GET http://stats.ncaa.org/teams/66602> from <GET http://stats.ncaa.org/team/156/12424>\n",
      "2017-12-03 20:38:19 [scrapy.core.engine] DEBUG: Crawled (200) <GET http://stats.ncaa.org/teams/66599> (referer: None)\n"
     ]
    },
    {
     "name": "stdout",
     "output_type": "stream",
     "text": [
      "Cincinnati Bearcats\n"
     ]
    },
    {
     "name": "stderr",
     "output_type": "stream",
     "text": [
      "2017-12-03 20:38:20 [scrapy.downloadermiddlewares.redirect] DEBUG: Redirecting (302) to <GET http://stats.ncaa.org/teams/66605> from <GET http://stats.ncaa.org/team/193/12424>\n",
      "2017-12-03 20:38:21 [scrapy.downloadermiddlewares.redirect] DEBUG: Redirecting (302) to <GET http://stats.ncaa.org/teams/66606> from <GET http://stats.ncaa.org/team/196/12424>\n",
      "2017-12-03 20:38:23 [scrapy.downloadermiddlewares.redirect] DEBUG: Redirecting (302) to <GET http://stats.ncaa.org/teams/66607> from <GET http://stats.ncaa.org/team/204/12424>\n",
      "2017-12-03 20:38:24 [scrapy.extensions.logstats] INFO: Crawled 149 pages (at 16 pages/min), scraped 0 items (at 0 items/min)\n",
      "2017-12-03 20:38:25 [scrapy.downloadermiddlewares.redirect] DEBUG: Redirecting (302) to <GET http://stats.ncaa.org/teams/66609> from <GET http://stats.ncaa.org/team/231/12424>\n",
      "2017-12-03 20:38:26 [scrapy.downloadermiddlewares.redirect] DEBUG: Redirecting (302) to <GET http://stats.ncaa.org/teams/66608> from <GET http://stats.ncaa.org/team/229/12424>\n",
      "2017-12-03 20:38:28 [scrapy.downloadermiddlewares.redirect] DEBUG: Redirecting (302) to <GET http://stats.ncaa.org/teams/66611> from <GET http://stats.ncaa.org/team/235/12424>\n",
      "2017-12-03 20:38:30 [scrapy.downloadermiddlewares.redirect] DEBUG: Redirecting (302) to <GET http://stats.ncaa.org/teams/66610> from <GET http://stats.ncaa.org/team/234/12424>\n",
      "2017-12-03 20:38:33 [scrapy.downloadermiddlewares.redirect] DEBUG: Redirecting (302) to <GET http://stats.ncaa.org/teams/66594> from <GET http://stats.ncaa.org/team/96/12424>\n",
      "2017-12-03 20:38:35 [scrapy.downloadermiddlewares.redirect] DEBUG: Redirecting (302) to <GET http://stats.ncaa.org/teams/66612> from <GET http://stats.ncaa.org/team/253/12424>\n",
      "2017-12-03 20:38:37 [scrapy.core.engine] DEBUG: Crawled (200) <GET http://stats.ncaa.org/teams/66600> (referer: None)\n"
     ]
    },
    {
     "name": "stdout",
     "output_type": "stream",
     "text": [
      "Clemson Tigers\n"
     ]
    },
    {
     "name": "stderr",
     "output_type": "stream",
     "text": [
      "2017-12-03 20:38:39 [scrapy.downloadermiddlewares.redirect] DEBUG: Redirecting (302) to <GET http://stats.ncaa.org/teams/66615> from <GET http://stats.ncaa.org/team/257/12424>\n",
      "2017-12-03 20:38:40 [scrapy.core.engine] DEBUG: Crawled (200) <GET http://stats.ncaa.org/teams/66601> (referer: None)\n"
     ]
    },
    {
     "name": "stdout",
     "output_type": "stream",
     "text": [
      "Coastal Caro. Chanticleers\n"
     ]
    },
    {
     "name": "stderr",
     "output_type": "stream",
     "text": [
      "2017-12-03 20:38:41 [scrapy.downloadermiddlewares.redirect] DEBUG: Redirecting (302) to <GET http://stats.ncaa.org/teams/66613> from <GET http://stats.ncaa.org/team/254/12424>\n",
      "2017-12-03 20:38:47 [scrapy.downloadermiddlewares.redirect] DEBUG: Redirecting (302) to <GET http://stats.ncaa.org/teams/66614> from <GET http://stats.ncaa.org/team/255/12424>\n",
      "2017-12-03 20:38:48 [scrapy.core.engine] DEBUG: Crawled (200) <GET http://stats.ncaa.org/teams/66603> (referer: None)\n"
     ]
    },
    {
     "name": "stdout",
     "output_type": "stream",
     "text": [
      "Colorado Buffaloes\n"
     ]
    },
    {
     "name": "stderr",
     "output_type": "stream",
     "text": [
      "2017-12-03 20:38:49 [scrapy.core.engine] DEBUG: Crawled (200) <GET http://stats.ncaa.org/teams/66602> (referer: None)\n"
     ]
    },
    {
     "name": "stdout",
     "output_type": "stream",
     "text": [
      "Colorado St. Rams\n"
     ]
    },
    {
     "name": "stderr",
     "output_type": "stream",
     "text": [
      "2017-12-03 20:38:53 [scrapy.core.engine] DEBUG: Crawled (200) <GET http://stats.ncaa.org/teams/66605> (referer: None)\n"
     ]
    },
    {
     "name": "stdout",
     "output_type": "stream",
     "text": [
      "Duke Blue Devils\n"
     ]
    },
    {
     "name": "stderr",
     "output_type": "stream",
     "text": [
      "2017-12-03 20:38:56 [scrapy.core.engine] DEBUG: Crawled (200) <GET http://stats.ncaa.org/teams/66606> (referer: None)\n",
      "2017-12-03 20:38:56 [scrapy.core.engine] DEBUG: Crawled (200) <GET http://stats.ncaa.org/teams/66607> (referer: None)\n"
     ]
    },
    {
     "name": "stdout",
     "output_type": "stream",
     "text": [
      "East Carolina Pirates\n",
      "Eastern Mich. Eagles\n"
     ]
    },
    {
     "name": "stderr",
     "output_type": "stream",
     "text": [
      "2017-12-03 20:38:58 [scrapy.core.engine] DEBUG: Crawled (200) <GET http://stats.ncaa.org/teams/66609> (referer: None)\n"
     ]
    },
    {
     "name": "stdout",
     "output_type": "stream",
     "text": [
      "FIU Panthers\n"
     ]
    },
    {
     "name": "stderr",
     "output_type": "stream",
     "text": [
      "2017-12-03 20:38:59 [scrapy.core.engine] DEBUG: Crawled (200) <GET http://stats.ncaa.org/teams/66608> (referer: None)\n"
     ]
    },
    {
     "name": "stdout",
     "output_type": "stream",
     "text": [
      "Fla. Atlantic Owls\n"
     ]
    },
    {
     "name": "stderr",
     "output_type": "stream",
     "text": [
      "2017-12-03 20:39:01 [scrapy.core.engine] DEBUG: Crawled (200) <GET http://stats.ncaa.org/teams/66611> (referer: None)\n"
     ]
    },
    {
     "name": "stdout",
     "output_type": "stream",
     "text": [
      "Florida Gators\n"
     ]
    },
    {
     "name": "stderr",
     "output_type": "stream",
     "text": [
      "2017-12-03 20:39:02 [scrapy.downloadermiddlewares.redirect] DEBUG: Redirecting (302) to <GET http://stats.ncaa.org/teams/66616> from <GET http://stats.ncaa.org/team/277/12424>\n",
      "2017-12-03 20:39:02 [scrapy.core.engine] DEBUG: Crawled (200) <GET http://stats.ncaa.org/teams/66610> (referer: None)\n"
     ]
    },
    {
     "name": "stdout",
     "output_type": "stream",
     "text": [
      "Florida St. Seminoles\n"
     ]
    },
    {
     "name": "stderr",
     "output_type": "stream",
     "text": [
      "2017-12-03 20:39:04 [scrapy.core.engine] DEBUG: Crawled (200) <GET http://stats.ncaa.org/teams/66594> (referer: None)\n"
     ]
    },
    {
     "name": "stdout",
     "output_type": "stream",
     "text": [
      "Fresno St. Bulldogs\n"
     ]
    },
    {
     "name": "stderr",
     "output_type": "stream",
     "text": [
      "2017-12-03 20:39:05 [scrapy.core.engine] DEBUG: Crawled (200) <GET http://stats.ncaa.org/teams/66612> (referer: None)\n"
     ]
    },
    {
     "name": "stdout",
     "output_type": "stream",
     "text": [
      "Ga. Southern Eagles\n"
     ]
    },
    {
     "name": "stderr",
     "output_type": "stream",
     "text": [
      "2017-12-03 20:39:06 [scrapy.downloadermiddlewares.redirect] DEBUG: Redirecting (302) to <GET http://stats.ncaa.org/teams/66617> from <GET http://stats.ncaa.org/team/288/12424>\n",
      "2017-12-03 20:39:08 [scrapy.core.engine] DEBUG: Crawled (200) <GET http://stats.ncaa.org/teams/66615> (referer: None)\n"
     ]
    },
    {
     "name": "stdout",
     "output_type": "stream",
     "text": [
      "Georgia Bulldogs\n"
     ]
    },
    {
     "name": "stderr",
     "output_type": "stream",
     "text": [
      "2017-12-03 20:39:11 [scrapy.downloadermiddlewares.redirect] DEBUG: Redirecting (302) to <GET http://stats.ncaa.org/teams/66618> from <GET http://stats.ncaa.org/team/295/12424>\n",
      "2017-12-03 20:39:12 [scrapy.core.engine] DEBUG: Crawled (200) <GET http://stats.ncaa.org/teams/66613> (referer: None)\n"
     ]
    },
    {
     "name": "stdout",
     "output_type": "stream",
     "text": [
      "Georgia St. Panthers\n"
     ]
    },
    {
     "name": "stderr",
     "output_type": "stream",
     "text": [
      "2017-12-03 20:39:12 [scrapy.core.engine] DEBUG: Crawled (200) <GET http://stats.ncaa.org/teams/66614> (referer: None)\n"
     ]
    },
    {
     "name": "stdout",
     "output_type": "stream",
     "text": [
      "Georgia Tech Yellow Jackets\n"
     ]
    },
    {
     "name": "stderr",
     "output_type": "stream",
     "text": [
      "2017-12-03 20:39:13 [scrapy.downloadermiddlewares.redirect] DEBUG: Redirecting (302) to <GET http://stats.ncaa.org/teams/66619> from <GET http://stats.ncaa.org/team/301/12424>\n",
      "2017-12-03 20:39:15 [scrapy.downloadermiddlewares.redirect] DEBUG: Redirecting (302) to <GET http://stats.ncaa.org/teams/66620> from <GET http://stats.ncaa.org/team/306/12424>\n",
      "2017-12-03 20:39:16 [scrapy.downloadermiddlewares.redirect] DEBUG: Redirecting (302) to <GET http://stats.ncaa.org/teams/66622> from <GET http://stats.ncaa.org/team/312/12424>\n",
      "2017-12-03 20:39:18 [scrapy.downloadermiddlewares.redirect] DEBUG: Redirecting (302) to <GET http://stats.ncaa.org/teams/66621> from <GET http://stats.ncaa.org/team/311/12424>\n",
      "2017-12-03 20:39:20 [scrapy.downloadermiddlewares.redirect] DEBUG: Redirecting (302) to <GET http://stats.ncaa.org/teams/66624> from <GET http://stats.ncaa.org/team/328/12424>\n",
      "2017-12-03 20:39:21 [scrapy.downloadermiddlewares.redirect] DEBUG: Redirecting (302) to <GET http://stats.ncaa.org/teams/66623> from <GET http://stats.ncaa.org/team/327/12424>\n",
      "2017-12-03 20:39:23 [scrapy.downloadermiddlewares.redirect] DEBUG: Redirecting (302) to <GET http://stats.ncaa.org/teams/66625> from <GET http://stats.ncaa.org/team/331/12424>\n",
      "2017-12-03 20:39:24 [scrapy.extensions.logstats] INFO: Crawled 165 pages (at 16 pages/min), scraped 0 items (at 0 items/min)\n",
      "2017-12-03 20:39:27 [scrapy.downloadermiddlewares.redirect] DEBUG: Redirecting (302) to <GET http://stats.ncaa.org/teams/66626> from <GET http://stats.ncaa.org/team/334/12424>\n",
      "2017-12-03 20:39:30 [scrapy.downloadermiddlewares.redirect] DEBUG: Redirecting (302) to <GET http://stats.ncaa.org/teams/66627> from <GET http://stats.ncaa.org/team/365/12424>\n",
      "2017-12-03 20:39:30 [scrapy.core.engine] DEBUG: Crawled (200) <GET http://stats.ncaa.org/teams/66616> (referer: None)\n"
     ]
    },
    {
     "name": "stdout",
     "output_type": "stream",
     "text": [
      "Hawaii Rainbow Warriors\n"
     ]
    },
    {
     "name": "stderr",
     "output_type": "stream",
     "text": [
      "2017-12-03 20:39:32 [scrapy.downloadermiddlewares.redirect] DEBUG: Redirecting (302) to <GET http://stats.ncaa.org/teams/66652> from <GET http://stats.ncaa.org/team/498/12424>\n",
      "2017-12-03 20:39:35 [scrapy.downloadermiddlewares.redirect] DEBUG: Redirecting (302) to <GET http://stats.ncaa.org/teams/66677> from <GET http://stats.ncaa.org/team/671/12424>\n",
      "2017-12-03 20:39:37 [scrapy.core.engine] DEBUG: Crawled (200) <GET http://stats.ncaa.org/teams/66617> (referer: None)\n"
     ]
    },
    {
     "name": "stdout",
     "output_type": "stream",
     "text": [
      "Houston Cougars\n"
     ]
    },
    {
     "name": "stderr",
     "output_type": "stream",
     "text": [
      "2017-12-03 20:39:38 [scrapy.downloadermiddlewares.redirect] DEBUG: Redirecting (302) to <GET http://stats.ncaa.org/teams/66628> from <GET http://stats.ncaa.org/team/366/12424>\n",
      "2017-12-03 20:39:40 [scrapy.downloadermiddlewares.redirect] DEBUG: Redirecting (302) to <GET http://stats.ncaa.org/teams/66629> from <GET http://stats.ncaa.org/team/367/12424>\n",
      "2017-12-03 20:39:41 [scrapy.core.engine] DEBUG: Crawled (200) <GET http://stats.ncaa.org/teams/66618> (referer: None)\n"
     ]
    },
    {
     "name": "stdout",
     "output_type": "stream",
     "text": [
      "Idaho Vandals\n"
     ]
    },
    {
     "name": "stderr",
     "output_type": "stream",
     "text": [
      "2017-12-03 20:39:47 [scrapy.core.engine] DEBUG: Crawled (200) <GET http://stats.ncaa.org/teams/66619> (referer: None)\n"
     ]
    },
    {
     "name": "stdout",
     "output_type": "stream",
     "text": [
      "Illinois Fighting Illini\n"
     ]
    },
    {
     "name": "stderr",
     "output_type": "stream",
     "text": [
      "2017-12-03 20:39:48 [scrapy.core.engine] DEBUG: Crawled (200) <GET http://stats.ncaa.org/teams/66620> (referer: None)\n"
     ]
    },
    {
     "name": "stdout",
     "output_type": "stream",
     "text": [
      "Indiana Hoosiers\n"
     ]
    },
    {
     "name": "stderr",
     "output_type": "stream",
     "text": [
      "2017-12-03 20:39:50 [scrapy.core.engine] DEBUG: Crawled (200) <GET http://stats.ncaa.org/teams/66622> (referer: None)\n"
     ]
    },
    {
     "name": "stdout",
     "output_type": "stream",
     "text": [
      "Iowa Hawkeyes\n"
     ]
    },
    {
     "name": "stderr",
     "output_type": "stream",
     "text": [
      "2017-12-03 20:39:52 [scrapy.core.engine] DEBUG: Crawled (200) <GET http://stats.ncaa.org/teams/66621> (referer: None)\n"
     ]
    },
    {
     "name": "stdout",
     "output_type": "stream",
     "text": [
      "Iowa St. Cyclones\n"
     ]
    },
    {
     "name": "stderr",
     "output_type": "stream",
     "text": [
      "2017-12-03 20:39:53 [scrapy.core.engine] DEBUG: Crawled (200) <GET http://stats.ncaa.org/teams/66624> (referer: None)\n"
     ]
    },
    {
     "name": "stdout",
     "output_type": "stream",
     "text": [
      "Kansas Jayhawks\n"
     ]
    },
    {
     "name": "stderr",
     "output_type": "stream",
     "text": [
      "2017-12-03 20:39:53 [scrapy.core.engine] DEBUG: Crawled (200) <GET http://stats.ncaa.org/teams/66623> (referer: None)\n"
     ]
    },
    {
     "name": "stdout",
     "output_type": "stream",
     "text": [
      "Kansas St. Wildcats\n"
     ]
    },
    {
     "name": "stderr",
     "output_type": "stream",
     "text": [
      "2017-12-03 20:39:56 [scrapy.core.engine] DEBUG: Crawled (200) <GET http://stats.ncaa.org/teams/66625> (referer: None)\n"
     ]
    },
    {
     "name": "stdout",
     "output_type": "stream",
     "text": [
      "Kent St. Golden Flashes\n"
     ]
    },
    {
     "name": "stderr",
     "output_type": "stream",
     "text": [
      "2017-12-03 20:39:57 [scrapy.downloadermiddlewares.redirect] DEBUG: Redirecting (302) to <GET http://stats.ncaa.org/teams/66630> from <GET http://stats.ncaa.org/team/388/12424>\n",
      "2017-12-03 20:39:57 [scrapy.core.engine] DEBUG: Crawled (200) <GET http://stats.ncaa.org/teams/66626> (referer: None)\n"
     ]
    },
    {
     "name": "stdout",
     "output_type": "stream",
     "text": [
      "Kentucky Wildcats\n"
     ]
    },
    {
     "name": "stderr",
     "output_type": "stream",
     "text": [
      "2017-12-03 20:39:59 [scrapy.core.engine] DEBUG: Crawled (200) <GET http://stats.ncaa.org/teams/66627> (referer: None)\n"
     ]
    },
    {
     "name": "stdout",
     "output_type": "stream",
     "text": [
      "LSU Fighting Tigers\n"
     ]
    },
    {
     "name": "stderr",
     "output_type": "stream",
     "text": [
      "2017-12-03 20:40:02 [scrapy.downloadermiddlewares.redirect] DEBUG: Redirecting (302) to <GET http://stats.ncaa.org/teams/66631> from <GET http://stats.ncaa.org/team/392/12424>\n",
      "2017-12-03 20:40:03 [scrapy.core.engine] DEBUG: Crawled (200) <GET http://stats.ncaa.org/teams/66652> (referer: None)\n"
     ]
    },
    {
     "name": "stdout",
     "output_type": "stream",
     "text": [
      "La.-Monroe Warhawks\n"
     ]
    },
    {
     "name": "stderr",
     "output_type": "stream",
     "text": [
      "2017-12-03 20:40:06 [scrapy.core.engine] DEBUG: Crawled (200) <GET http://stats.ncaa.org/teams/66677> (referer: None)\n"
     ]
    },
    {
     "name": "stdout",
     "output_type": "stream",
     "text": [
      "Louisiana Ragin' Cajuns\n"
     ]
    },
    {
     "name": "stderr",
     "output_type": "stream",
     "text": [
      "2017-12-03 20:40:08 [scrapy.downloadermiddlewares.redirect] DEBUG: Redirecting (302) to <GET http://stats.ncaa.org/teams/66632> from <GET http://stats.ncaa.org/team/400/12424>\n",
      "2017-12-03 20:40:09 [scrapy.core.engine] DEBUG: Crawled (200) <GET http://stats.ncaa.org/teams/66628> (referer: None)\n"
     ]
    },
    {
     "name": "stdout",
     "output_type": "stream",
     "text": [
      "Louisiana Tech Bulldogs\n"
     ]
    },
    {
     "name": "stderr",
     "output_type": "stream",
     "text": [
      "2017-12-03 20:40:10 [scrapy.core.engine] DEBUG: Crawled (200) <GET http://stats.ncaa.org/teams/66629> (referer: None)\n",
      "2017-12-03 20:40:10 [scrapy.downloadermiddlewares.redirect] DEBUG: Redirecting (302) to <GET http://stats.ncaa.org/teams/66633> from <GET http://stats.ncaa.org/team/404/12424>\n"
     ]
    },
    {
     "name": "stdout",
     "output_type": "stream",
     "text": [
      "Louisville Cardinals\n"
     ]
    },
    {
     "name": "stderr",
     "output_type": "stream",
     "text": [
      "2017-12-03 20:40:12 [scrapy.downloadermiddlewares.redirect] DEBUG: Redirecting (302) to <GET http://stats.ncaa.org/teams/66635> from <GET http://stats.ncaa.org/team/415/12424>\n",
      "2017-12-03 20:40:14 [scrapy.downloadermiddlewares.redirect] DEBUG: Redirecting (302) to <GET http://stats.ncaa.org/teams/66634> from <GET http://stats.ncaa.org/team/414/12424>\n",
      "2017-12-03 20:40:15 [scrapy.downloadermiddlewares.redirect] DEBUG: Redirecting (302) to <GET http://stats.ncaa.org/teams/66637> from <GET http://stats.ncaa.org/team/418/12424>\n",
      "2017-12-03 20:40:17 [scrapy.downloadermiddlewares.redirect] DEBUG: Redirecting (302) to <GET http://stats.ncaa.org/teams/66636> from <GET http://stats.ncaa.org/team/416/12424>\n",
      "2017-12-03 20:40:20 [scrapy.downloadermiddlewares.redirect] DEBUG: Redirecting (302) to <GET http://stats.ncaa.org/teams/66638> from <GET http://stats.ncaa.org/team/419/12424>\n",
      "2017-12-03 20:40:21 [scrapy.downloadermiddlewares.redirect] DEBUG: Redirecting (302) to <GET http://stats.ncaa.org/teams/66639> from <GET http://stats.ncaa.org/team/428/12424>\n",
      "2017-12-03 20:40:24 [scrapy.extensions.logstats] INFO: Crawled 181 pages (at 16 pages/min), scraped 0 items (at 0 items/min)\n",
      "2017-12-03 20:40:25 [scrapy.downloadermiddlewares.redirect] DEBUG: Redirecting (302) to <GET http://stats.ncaa.org/teams/66640> from <GET http://stats.ncaa.org/team/430/12424>\n",
      "2017-12-03 20:40:27 [scrapy.downloadermiddlewares.redirect] DEBUG: Redirecting (302) to <GET http://stats.ncaa.org/teams/66642> from <GET http://stats.ncaa.org/team/434/12424>\n",
      "2017-12-03 20:40:27 [scrapy.core.engine] DEBUG: Crawled (200) <GET http://stats.ncaa.org/teams/66630> (referer: None)\n"
     ]
    },
    {
     "name": "stdout",
     "output_type": "stream",
     "text": [
      "Marshall Thundering Herd\n"
     ]
    },
    {
     "name": "stderr",
     "output_type": "stream",
     "text": [
      "2017-12-03 20:40:31 [scrapy.downloadermiddlewares.redirect] DEBUG: Redirecting (302) to <GET http://stats.ncaa.org/teams/66650> from <GET http://stats.ncaa.org/team/490/12424>\n",
      "2017-12-03 20:40:33 [scrapy.downloadermiddlewares.redirect] DEBUG: Redirecting (302) to <GET http://stats.ncaa.org/teams/66694> from <GET http://stats.ncaa.org/team/726/12424>\n",
      "2017-12-03 20:40:34 [scrapy.core.engine] DEBUG: Crawled (200) <GET http://stats.ncaa.org/teams/66631> (referer: None)\n"
     ]
    },
    {
     "name": "stdout",
     "output_type": "stream",
     "text": [
      "Maryland Terrapins, Terps\n"
     ]
    },
    {
     "name": "stderr",
     "output_type": "stream",
     "text": [
      "2017-12-03 20:40:37 [scrapy.downloadermiddlewares.redirect] DEBUG: Redirecting (302) to <GET http://stats.ncaa.org/teams/66645> from <GET http://stats.ncaa.org/team/463/12424>\n",
      "2017-12-03 20:40:39 [scrapy.downloadermiddlewares.redirect] DEBUG: Redirecting (302) to <GET http://stats.ncaa.org/teams/66647> from <GET http://stats.ncaa.org/team/466/12424>\n",
      "2017-12-03 20:40:39 [scrapy.core.engine] DEBUG: Crawled (200) <GET http://stats.ncaa.org/teams/66632> (referer: None)\n"
     ]
    },
    {
     "name": "stdout",
     "output_type": "stream",
     "text": [
      "Massachusetts Minutemen\n"
     ]
    },
    {
     "name": "stderr",
     "output_type": "stream",
     "text": [
      "2017-12-03 20:40:45 [scrapy.core.engine] DEBUG: Crawled (200) <GET http://stats.ncaa.org/teams/66633> (referer: None)\n"
     ]
    },
    {
     "name": "stdout",
     "output_type": "stream",
     "text": [
      "Memphis Tigers\n"
     ]
    },
    {
     "name": "stderr",
     "output_type": "stream",
     "text": [
      "2017-12-03 20:40:47 [scrapy.core.engine] DEBUG: Crawled (200) <GET http://stats.ncaa.org/teams/66635> (referer: None)\n"
     ]
    },
    {
     "name": "stdout",
     "output_type": "stream",
     "text": [
      "Miami (FL) Hurricanes\n"
     ]
    },
    {
     "name": "stderr",
     "output_type": "stream",
     "text": [
      "2017-12-03 20:40:49 [scrapy.core.engine] DEBUG: Crawled (200) <GET http://stats.ncaa.org/teams/66634> (referer: None)\n"
     ]
    },
    {
     "name": "stdout",
     "output_type": "stream",
     "text": [
      "Miami (OH) RedHawks\n"
     ]
    },
    {
     "name": "stderr",
     "output_type": "stream",
     "text": [
      "2017-12-03 20:40:51 [scrapy.core.engine] DEBUG: Crawled (200) <GET http://stats.ncaa.org/teams/66637> (referer: None)\n"
     ]
    },
    {
     "name": "stdout",
     "output_type": "stream",
     "text": [
      "Michigan Wolverines\n"
     ]
    },
    {
     "name": "stderr",
     "output_type": "stream",
     "text": [
      "2017-12-03 20:40:53 [scrapy.core.engine] DEBUG: Crawled (200) <GET http://stats.ncaa.org/teams/66636> (referer: None)\n"
     ]
    },
    {
     "name": "stdout",
     "output_type": "stream",
     "text": [
      "Michigan St. Spartans\n"
     ]
    },
    {
     "name": "stderr",
     "output_type": "stream",
     "text": [
      "2017-12-03 20:40:54 [scrapy.core.engine] DEBUG: Crawled (200) <GET http://stats.ncaa.org/teams/66638> (referer: None)\n"
     ]
    },
    {
     "name": "stdout",
     "output_type": "stream",
     "text": [
      "Middle Tenn. Blue Raiders\n"
     ]
    },
    {
     "name": "stderr",
     "output_type": "stream",
     "text": [
      "2017-12-03 20:40:56 [scrapy.core.engine] DEBUG: Crawled (200) <GET http://stats.ncaa.org/teams/66639> (referer: None)\n"
     ]
    },
    {
     "name": "stdout",
     "output_type": "stream",
     "text": [
      "Minnesota Golden Gophers\n"
     ]
    },
    {
     "name": "stderr",
     "output_type": "stream",
     "text": [
      "2017-12-03 20:40:58 [scrapy.core.engine] DEBUG: Crawled (200) <GET http://stats.ncaa.org/teams/66640> (referer: None)\n",
      "2017-12-03 20:40:58 [scrapy.downloadermiddlewares.redirect] DEBUG: Redirecting (302) to <GET http://stats.ncaa.org/teams/66649> from <GET http://stats.ncaa.org/team/473/12424>\n"
     ]
    },
    {
     "name": "stdout",
     "output_type": "stream",
     "text": [
      "Mississippi St. Bulldogs\n"
     ]
    },
    {
     "name": "stderr",
     "output_type": "stream",
     "text": [
      "2017-12-03 20:41:00 [scrapy.core.engine] DEBUG: Crawled (200) <GET http://stats.ncaa.org/teams/66642> (referer: None)\n"
     ]
    },
    {
     "name": "stdout",
     "output_type": "stream",
     "text": [
      "Missouri Tigers\n"
     ]
    },
    {
     "name": "stderr",
     "output_type": "stream",
     "text": [
      "2017-12-03 20:41:03 [scrapy.downloadermiddlewares.redirect] DEBUG: Redirecting (302) to <GET http://stats.ncaa.org/teams/66648> from <GET http://stats.ncaa.org/team/472/12424>\n",
      "2017-12-03 20:41:04 [scrapy.core.engine] DEBUG: Crawled (200) <GET http://stats.ncaa.org/teams/66650> (referer: None)\n"
     ]
    },
    {
     "name": "stdout",
     "output_type": "stream",
     "text": [
      "NC State Wolfpack\n"
     ]
    },
    {
     "name": "stderr",
     "output_type": "stream",
     "text": [
      "2017-12-03 20:41:06 [scrapy.core.engine] DEBUG: Crawled (200) <GET http://stats.ncaa.org/teams/66694> (referer: None)\n"
     ]
    },
    {
     "name": "stdout",
     "output_type": "stream",
     "text": [
      "Navy Midshipmen\n"
     ]
    },
    {
     "name": "stderr",
     "output_type": "stream",
     "text": [
      "2017-12-03 20:41:09 [scrapy.downloadermiddlewares.redirect] DEBUG: Redirecting (302) to <GET http://stats.ncaa.org/teams/66643> from <GET http://stats.ncaa.org/team/457/12424>\n",
      "2017-12-03 20:41:10 [scrapy.core.engine] DEBUG: Crawled (200) <GET http://stats.ncaa.org/teams/66645> (referer: None)\n"
     ]
    },
    {
     "name": "stdout",
     "output_type": "stream",
     "text": [
      "Nebraska Cornhuskers, Huskers\n"
     ]
    },
    {
     "name": "stderr",
     "output_type": "stream",
     "text": [
      "2017-12-03 20:41:11 [scrapy.downloadermiddlewares.redirect] DEBUG: Redirecting (302) to <GET http://stats.ncaa.org/teams/66651> from <GET http://stats.ncaa.org/team/497/12424>\n",
      "2017-12-03 20:41:12 [scrapy.core.engine] DEBUG: Crawled (200) <GET http://stats.ncaa.org/teams/66647> (referer: None)\n"
     ]
    },
    {
     "name": "stdout",
     "output_type": "stream",
     "text": [
      "Nevada Wolf Pack\n"
     ]
    },
    {
     "name": "stderr",
     "output_type": "stream",
     "text": [
      "2017-12-03 20:41:13 [scrapy.downloadermiddlewares.redirect] DEBUG: Redirecting (302) to <GET http://stats.ncaa.org/teams/66653> from <GET http://stats.ncaa.org/team/503/12424>\n",
      "2017-12-03 20:41:14 [scrapy.downloadermiddlewares.redirect] DEBUG: Redirecting (302) to <GET http://stats.ncaa.org/teams/66654> from <GET http://stats.ncaa.org/team/509/12424>\n",
      "2017-12-03 20:41:15 [scrapy.downloadermiddlewares.redirect] DEBUG: Redirecting (302) to <GET http://stats.ncaa.org/teams/66655> from <GET http://stats.ncaa.org/team/513/12424>\n",
      "2017-12-03 20:41:17 [scrapy.downloadermiddlewares.redirect] DEBUG: Redirecting (302) to <GET http://stats.ncaa.org/teams/66657> from <GET http://stats.ncaa.org/team/519/12424>\n",
      "2017-12-03 20:41:19 [scrapy.downloadermiddlewares.redirect] DEBUG: Redirecting (302) to <GET http://stats.ncaa.org/teams/66656> from <GET http://stats.ncaa.org/team/518/12424>\n",
      "2017-12-03 20:41:21 [scrapy.downloadermiddlewares.redirect] DEBUG: Redirecting (302) to <GET http://stats.ncaa.org/teams/66659> from <GET http://stats.ncaa.org/team/522/12424>\n",
      "2017-12-03 20:41:23 [scrapy.downloadermiddlewares.redirect] DEBUG: Redirecting (302) to <GET http://stats.ncaa.org/teams/66658> from <GET http://stats.ncaa.org/team/521/12424>\n",
      "2017-12-03 20:41:24 [scrapy.extensions.logstats] INFO: Crawled 197 pages (at 16 pages/min), scraped 0 items (at 0 items/min)\n",
      "2017-12-03 20:41:27 [scrapy.downloadermiddlewares.redirect] DEBUG: Redirecting (302) to <GET http://stats.ncaa.org/teams/66660> from <GET http://stats.ncaa.org/team/523/12424>\n",
      "2017-12-03 20:41:29 [scrapy.core.engine] DEBUG: Crawled (200) <GET http://stats.ncaa.org/teams/66649> (referer: None)\n"
     ]
    },
    {
     "name": "stdout",
     "output_type": "stream",
     "text": [
      "New Mexico Lobos\n"
     ]
    },
    {
     "name": "stderr",
     "output_type": "stream",
     "text": [
      "2017-12-03 20:41:30 [scrapy.downloadermiddlewares.redirect] DEBUG: Redirecting (302) to <GET http://stats.ncaa.org/teams/66641> from <GET http://stats.ncaa.org/team/433/12424>\n",
      "2017-12-03 20:41:32 [scrapy.downloadermiddlewares.redirect] DEBUG: Redirecting (302) to <GET http://stats.ncaa.org/teams/66662> from <GET http://stats.ncaa.org/team/529/12424>\n",
      "2017-12-03 20:41:33 [scrapy.core.engine] DEBUG: Crawled (200) <GET http://stats.ncaa.org/teams/66648> (referer: None)\n"
     ]
    },
    {
     "name": "stdout",
     "output_type": "stream",
     "text": [
      "New Mexico St. Aggies\n"
     ]
    },
    {
     "name": "stderr",
     "output_type": "stream",
     "text": [
      "2017-12-03 20:41:35 [scrapy.downloadermiddlewares.redirect] DEBUG: Redirecting (302) to <GET http://stats.ncaa.org/teams/66661> from <GET http://stats.ncaa.org/team/528/12424>\n",
      "2017-12-03 20:41:38 [scrapy.core.engine] DEBUG: Crawled (200) <GET http://stats.ncaa.org/teams/66643> (referer: None)\n"
     ]
    },
    {
     "name": "stdout",
     "output_type": "stream",
     "text": [
      "North Carolina Tar Heels\n"
     ]
    },
    {
     "name": "stderr",
     "output_type": "stream",
     "text": [
      "2017-12-03 20:41:40 [scrapy.downloadermiddlewares.redirect] DEBUG: Redirecting (302) to <GET http://stats.ncaa.org/teams/66663> from <GET http://stats.ncaa.org/team/539/12424>\n",
      "2017-12-03 20:41:42 [scrapy.core.engine] DEBUG: Crawled (200) <GET http://stats.ncaa.org/teams/66651> (referer: None)\n"
     ]
    },
    {
     "name": "stdout",
     "output_type": "stream",
     "text": [
      "North Texas Mean Green\n"
     ]
    },
    {
     "name": "stderr",
     "output_type": "stream",
     "text": [
      "2017-12-03 20:41:45 [scrapy.core.engine] DEBUG: Crawled (200) <GET http://stats.ncaa.org/teams/66653> (referer: None)\n"
     ]
    },
    {
     "name": "stdout",
     "output_type": "stream",
     "text": [
      "Northern Ill. Huskies\n"
     ]
    },
    {
     "name": "stderr",
     "output_type": "stream",
     "text": [
      "2017-12-03 20:41:47 [scrapy.core.engine] DEBUG: Crawled (200) <GET http://stats.ncaa.org/teams/66654> (referer: None)\n"
     ]
    },
    {
     "name": "stdout",
     "output_type": "stream",
     "text": [
      "Northwestern Wildcats\n"
     ]
    },
    {
     "name": "stderr",
     "output_type": "stream",
     "text": [
      "2017-12-03 20:41:47 [scrapy.core.engine] DEBUG: Crawled (200) <GET http://stats.ncaa.org/teams/66655> (referer: None)\n"
     ]
    },
    {
     "name": "stdout",
     "output_type": "stream",
     "text": [
      "Notre Dame Fighting Irish\n"
     ]
    },
    {
     "name": "stderr",
     "output_type": "stream",
     "text": [
      "2017-12-03 20:41:50 [scrapy.core.engine] DEBUG: Crawled (200) <GET http://stats.ncaa.org/teams/66657> (referer: None)\n"
     ]
    },
    {
     "name": "stdout",
     "output_type": "stream",
     "text": [
      "Ohio Bobcats\n"
     ]
    },
    {
     "name": "stderr",
     "output_type": "stream",
     "text": [
      "2017-12-03 20:41:52 [scrapy.core.engine] DEBUG: Crawled (200) <GET http://stats.ncaa.org/teams/66656> (referer: None)\n"
     ]
    },
    {
     "name": "stdout",
     "output_type": "stream",
     "text": [
      "Ohio St. Buckeyes\n"
     ]
    },
    {
     "name": "stderr",
     "output_type": "stream",
     "text": [
      "2017-12-03 20:41:53 [scrapy.core.engine] DEBUG: Crawled (200) <GET http://stats.ncaa.org/teams/66659> (referer: None)\n"
     ]
    },
    {
     "name": "stdout",
     "output_type": "stream",
     "text": [
      "Oklahoma Sooners\n"
     ]
    },
    {
     "name": "stderr",
     "output_type": "stream",
     "text": [
      "2017-12-03 20:41:56 [scrapy.core.engine] DEBUG: Crawled (200) <GET http://stats.ncaa.org/teams/66658> (referer: None)\n"
     ]
    },
    {
     "name": "stdout",
     "output_type": "stream",
     "text": [
      "Oklahoma St. Cowboys\n"
     ]
    },
    {
     "name": "stderr",
     "output_type": "stream",
     "text": [
      "2017-12-03 20:41:56 [scrapy.downloadermiddlewares.redirect] DEBUG: Redirecting (302) to <GET http://stats.ncaa.org/teams/66664> from <GET http://stats.ncaa.org/team/545/12424>\n",
      "2017-12-03 20:41:57 [scrapy.core.engine] DEBUG: Crawled (200) <GET http://stats.ncaa.org/teams/66660> (referer: None)\n"
     ]
    },
    {
     "name": "stdout",
     "output_type": "stream",
     "text": [
      "Old Dominion Monarchs\n"
     ]
    },
    {
     "name": "stderr",
     "output_type": "stream",
     "text": [
      "2017-12-03 20:42:01 [scrapy.core.engine] DEBUG: Crawled (200) <GET http://stats.ncaa.org/teams/66641> (referer: None)\n",
      "2017-12-03 20:42:01 [scrapy.downloadermiddlewares.redirect] DEBUG: Redirecting (302) to <GET http://stats.ncaa.org/teams/66665> from <GET http://stats.ncaa.org/team/559/12424>\n"
     ]
    },
    {
     "name": "stdout",
     "output_type": "stream",
     "text": [
      "Ole Miss Rebels\n"
     ]
    },
    {
     "name": "stderr",
     "output_type": "stream",
     "text": [
      "2017-12-03 20:42:03 [scrapy.core.engine] DEBUG: Crawled (200) <GET http://stats.ncaa.org/teams/66662> (referer: None)\n"
     ]
    },
    {
     "name": "stdout",
     "output_type": "stream",
     "text": [
      "Oregon Ducks\n"
     ]
    },
    {
     "name": "stderr",
     "output_type": "stream",
     "text": [
      "2017-12-03 20:42:05 [scrapy.downloadermiddlewares.redirect] DEBUG: Redirecting (302) to <GET http://stats.ncaa.org/teams/66666> from <GET http://stats.ncaa.org/team/574/12424>\n",
      "2017-12-03 20:42:07 [scrapy.core.engine] DEBUG: Crawled (200) <GET http://stats.ncaa.org/teams/66661> (referer: None)\n"
     ]
    },
    {
     "name": "stdout",
     "output_type": "stream",
     "text": [
      "Oregon St. Beavers\n"
     ]
    },
    {
     "name": "stderr",
     "output_type": "stream",
     "text": [
      "2017-12-03 20:42:08 [scrapy.downloadermiddlewares.redirect] DEBUG: Redirecting (302) to <GET http://stats.ncaa.org/teams/66667> from <GET http://stats.ncaa.org/team/587/12424>\n",
      "2017-12-03 20:42:10 [scrapy.downloadermiddlewares.redirect] DEBUG: Redirecting (302) to <GET http://stats.ncaa.org/teams/66674> from <GET http://stats.ncaa.org/team/663/12424>\n",
      "2017-12-03 20:42:10 [scrapy.core.engine] DEBUG: Crawled (200) <GET http://stats.ncaa.org/teams/66663> (referer: None)\n"
     ]
    },
    {
     "name": "stdout",
     "output_type": "stream",
     "text": [
      "Penn St. Nittany Lions\n"
     ]
    },
    {
     "name": "stderr",
     "output_type": "stream",
     "text": [
      "2017-12-03 20:42:12 [scrapy.downloadermiddlewares.redirect] DEBUG: Redirecting (302) to <GET http://stats.ncaa.org/teams/66668> from <GET http://stats.ncaa.org/team/626/12424>\n",
      "2017-12-03 20:42:14 [scrapy.downloadermiddlewares.redirect] DEBUG: Redirecting (302) to <GET http://stats.ncaa.org/teams/66669> from <GET http://stats.ncaa.org/team/630/12424>\n",
      "2017-12-03 20:42:15 [scrapy.downloadermiddlewares.redirect] DEBUG: Redirecting (302) to <GET http://stats.ncaa.org/teams/66670> from <GET http://stats.ncaa.org/team/646/12424>\n",
      "2017-12-03 20:42:18 [scrapy.downloadermiddlewares.redirect] DEBUG: Redirecting (302) to <GET http://stats.ncaa.org/teams/66671> from <GET http://stats.ncaa.org/team/648/12424>\n",
      "2017-12-03 20:42:19 [scrapy.downloadermiddlewares.redirect] DEBUG: Redirecting (302) to <GET http://stats.ncaa.org/teams/66672> from <GET http://stats.ncaa.org/team/651/12424>\n",
      "2017-12-03 20:42:21 [scrapy.downloadermiddlewares.redirect] DEBUG: Redirecting (302) to <GET http://stats.ncaa.org/teams/66673> from <GET http://stats.ncaa.org/team/657/12424>\n",
      "2017-12-03 20:42:24 [scrapy.downloadermiddlewares.redirect] DEBUG: Redirecting (302) to <GET http://stats.ncaa.org/teams/66675> from <GET http://stats.ncaa.org/team/664/12424>\n",
      "2017-12-03 20:42:24 [scrapy.extensions.logstats] INFO: Crawled 213 pages (at 16 pages/min), scraped 0 items (at 0 items/min)\n",
      "2017-12-03 20:42:25 [scrapy.downloadermiddlewares.redirect] DEBUG: Redirecting (302) to <GET http://stats.ncaa.org/teams/66678> from <GET http://stats.ncaa.org/team/674/12424>\n",
      "2017-12-03 20:42:26 [scrapy.core.engine] DEBUG: Crawled (200) <GET http://stats.ncaa.org/teams/66664> (referer: None)\n"
     ]
    },
    {
     "name": "stdout",
     "output_type": "stream",
     "text": [
      "Pittsburgh Panthers\n"
     ]
    },
    {
     "name": "stderr",
     "output_type": "stream",
     "text": [
      "2017-12-03 20:42:29 [scrapy.downloadermiddlewares.redirect] DEBUG: Redirecting (302) to <GET http://stats.ncaa.org/teams/66679> from <GET http://stats.ncaa.org/team/688/12424>\n",
      "2017-12-03 20:42:31 [scrapy.core.engine] DEBUG: Crawled (200) <GET http://stats.ncaa.org/teams/66665> (referer: None)\n"
     ]
    },
    {
     "name": "stdout",
     "output_type": "stream",
     "text": [
      "Purdue Boilermakers\n"
     ]
    },
    {
     "name": "stderr",
     "output_type": "stream",
     "text": [
      "2017-12-03 20:42:33 [scrapy.downloadermiddlewares.redirect] DEBUG: Redirecting (302) to <GET http://stats.ncaa.org/teams/66683> from <GET http://stats.ncaa.org/team/698/12424>\n",
      "2017-12-03 20:42:35 [scrapy.core.engine] DEBUG: Crawled (200) <GET http://stats.ncaa.org/teams/66666> (referer: None)\n"
     ]
    },
    {
     "name": "stdout",
     "output_type": "stream",
     "text": [
      "Rice Owls\n"
     ]
    },
    {
     "name": "stderr",
     "output_type": "stream",
     "text": [
      "2017-12-03 20:42:37 [scrapy.core.engine] DEBUG: Crawled (200) <GET http://stats.ncaa.org/teams/66667> (referer: None)\n"
     ]
    },
    {
     "name": "stdout",
     "output_type": "stream",
     "text": [
      "Rutgers Scarlet Knights\n"
     ]
    },
    {
     "name": "stderr",
     "output_type": "stream",
     "text": [
      "2017-12-03 20:42:38 [scrapy.downloadermiddlewares.redirect] DEBUG: Redirecting (302) to <GET http://stats.ncaa.org/teams/66680> from <GET http://stats.ncaa.org/team/690/12424>\n",
      "2017-12-03 20:42:40 [scrapy.core.engine] DEBUG: Crawled (200) <GET http://stats.ncaa.org/teams/66674> (referer: None)\n"
     ]
    },
    {
     "name": "stdout",
     "output_type": "stream",
     "text": [
      "SMU Mustangs\n"
     ]
    },
    {
     "name": "stderr",
     "output_type": "stream",
     "text": [
      "2017-12-03 20:42:44 [scrapy.core.engine] DEBUG: Crawled (200) <GET http://stats.ncaa.org/teams/66668> (referer: None)\n"
     ]
    },
    {
     "name": "stdout",
     "output_type": "stream",
     "text": [
      "San Diego St. Aztecs\n"
     ]
    },
    {
     "name": "stderr",
     "output_type": "stream",
     "text": [
      "2017-12-03 20:42:46 [scrapy.core.engine] DEBUG: Crawled (200) <GET http://stats.ncaa.org/teams/66669> (referer: None)\n"
     ]
    },
    {
     "name": "stdout",
     "output_type": "stream",
     "text": [
      "San Jose St. Spartans\n"
     ]
    },
    {
     "name": "stderr",
     "output_type": "stream",
     "text": [
      "2017-12-03 20:42:47 [scrapy.core.engine] DEBUG: Crawled (200) <GET http://stats.ncaa.org/teams/66670> (referer: None)\n"
     ]
    },
    {
     "name": "stdout",
     "output_type": "stream",
     "text": [
      "South Ala. Jaguars\n"
     ]
    },
    {
     "name": "stderr",
     "output_type": "stream",
     "text": [
      "2017-12-03 20:42:49 [scrapy.core.engine] DEBUG: Crawled (200) <GET http://stats.ncaa.org/teams/66671> (referer: None)\n"
     ]
    },
    {
     "name": "stdout",
     "output_type": "stream",
     "text": [
      "South Carolina Gamecocks\n"
     ]
    },
    {
     "name": "stderr",
     "output_type": "stream",
     "text": [
      "2017-12-03 20:42:51 [scrapy.core.engine] DEBUG: Crawled (200) <GET http://stats.ncaa.org/teams/66672> (referer: None)\n"
     ]
    },
    {
     "name": "stdout",
     "output_type": "stream",
     "text": [
      "South Fla. Bulls\n"
     ]
    },
    {
     "name": "stderr",
     "output_type": "stream",
     "text": [
      "2017-12-03 20:42:52 [scrapy.core.engine] DEBUG: Crawled (200) <GET http://stats.ncaa.org/teams/66673> (referer: None)\n"
     ]
    },
    {
     "name": "stdout",
     "output_type": "stream",
     "text": [
      "Southern California Trojans\n"
     ]
    },
    {
     "name": "stderr",
     "output_type": "stream",
     "text": [
      "2017-12-03 20:42:53 [scrapy.downloadermiddlewares.redirect] DEBUG: Redirecting (302) to <GET http://stats.ncaa.org/teams/66681> from <GET http://stats.ncaa.org/team/694/12424>\n",
      "2017-12-03 20:42:54 [scrapy.core.engine] DEBUG: Crawled (200) <GET http://stats.ncaa.org/teams/66675> (referer: None)\n"
     ]
    },
    {
     "name": "stdout",
     "output_type": "stream",
     "text": [
      "Southern Miss. Golden Eagles\n"
     ]
    },
    {
     "name": "stderr",
     "output_type": "stream",
     "text": [
      "2017-12-03 20:42:55 [scrapy.core.engine] DEBUG: Crawled (200) <GET http://stats.ncaa.org/teams/66678> (referer: None)\n"
     ]
    },
    {
     "name": "stdout",
     "output_type": "stream",
     "text": [
      "Stanford Cardinal\n"
     ]
    },
    {
     "name": "stderr",
     "output_type": "stream",
     "text": [
      "2017-12-03 20:42:57 [scrapy.downloadermiddlewares.redirect] DEBUG: Redirecting (302) to <GET http://stats.ncaa.org/teams/66685> from <GET http://stats.ncaa.org/team/703/12424>\n",
      "2017-12-03 20:43:00 [scrapy.downloadermiddlewares.redirect] DEBUG: Redirecting (302) to <GET http://stats.ncaa.org/teams/66682> from <GET http://stats.ncaa.org/team/697/12424>\n",
      "2017-12-03 20:43:01 [scrapy.downloadermiddlewares.redirect] DEBUG: Redirecting (302) to <GET http://stats.ncaa.org/teams/66676> from <GET http://stats.ncaa.org/team/670/12424>\n",
      "2017-12-03 20:43:02 [scrapy.core.engine] DEBUG: Crawled (200) <GET http://stats.ncaa.org/teams/66683> (referer: None)\n"
     ]
    },
    {
     "name": "stdout",
     "output_type": "stream",
     "text": [
      "TCU Horned Frogs\n"
     ]
    },
    {
     "name": "stderr",
     "output_type": "stream",
     "text": [
      "2017-12-03 20:43:05 [scrapy.downloadermiddlewares.redirect] DEBUG: Redirecting (302) to <GET http://stats.ncaa.org/teams/66684> from <GET http://stats.ncaa.org/team/700/12424>\n",
      "2017-12-03 20:43:07 [scrapy.downloadermiddlewares.redirect] DEBUG: Redirecting (302) to <GET http://stats.ncaa.org/teams/66688> from <GET http://stats.ncaa.org/team/709/12424>\n",
      "2017-12-03 20:43:09 [scrapy.downloadermiddlewares.redirect] DEBUG: Redirecting (302) to <GET http://stats.ncaa.org/teams/66689> from <GET http://stats.ncaa.org/team/716/12424>\n",
      "2017-12-03 20:43:11 [scrapy.downloadermiddlewares.redirect] DEBUG: Redirecting (302) to <GET http://stats.ncaa.org/teams/66690> from <GET http://stats.ncaa.org/team/718/12424>\n",
      "2017-12-03 20:43:11 [scrapy.core.engine] DEBUG: Crawled (200) <GET http://stats.ncaa.org/teams/66680> (referer: None)\n",
      "2017-12-03 20:43:12 [scrapy.core.engine] DEBUG: Crawled (200) <GET http://stats.ncaa.org/teams/66679> (referer: None)\n"
     ]
    },
    {
     "name": "stdout",
     "output_type": "stream",
     "text": [
      "Temple Owls\n",
      "Syracuse Orange"
     ]
    },
    {
     "name": "stderr",
     "output_type": "stream",
     "text": [
      "2017-12-03 20:43:12 [scrapy.downloadermiddlewares.redirect] DEBUG: Redirecting (302) to <GET http://stats.ncaa.org/teams/66691> from <GET http://stats.ncaa.org/team/719/12424>\n",
      "2017-12-03 20:43:14 [scrapy.downloadermiddlewares.redirect] DEBUG: Redirecting (302) to <GET http://stats.ncaa.org/teams/66597> from <GET http://stats.ncaa.org/team/128/12424>\n",
      "2017-12-03 20:43:15 [scrapy.downloadermiddlewares.redirect] DEBUG: Redirecting (302) to <GET http://stats.ncaa.org/teams/66596> from <GET http://stats.ncaa.org/team/110/12424>\n",
      "2017-12-03 20:43:18 [scrapy.downloadermiddlewares.redirect] DEBUG: Redirecting (302) to <GET http://stats.ncaa.org/teams/66604> from <GET http://stats.ncaa.org/team/164/12424>\n",
      "2017-12-03 20:43:20 [scrapy.downloadermiddlewares.redirect] DEBUG: Redirecting (302) to <GET http://stats.ncaa.org/teams/66646> from <GET http://stats.ncaa.org/team/465/12424>\n",
      "2017-12-03 20:43:21 [scrapy.core.engine] DEBUG: Crawled (200) <GET http://stats.ncaa.org/teams/66681> (referer: None)\n"
     ]
    },
    {
     "name": "stdout",
     "output_type": "stream",
     "text": [
      "\n",
      "Tennessee Volunteers\n"
     ]
    },
    {
     "name": "stderr",
     "output_type": "stream",
     "text": [
      "2017-12-03 20:43:24 [scrapy.extensions.logstats] INFO: Crawled 230 pages (at 17 pages/min), scraped 0 items (at 0 items/min)\n",
      "2017-12-03 20:43:26 [scrapy.core.engine] DEBUG: Crawled (200) <GET http://stats.ncaa.org/teams/66685> (referer: None)\n",
      "2017-12-03 20:43:26 [scrapy.downloadermiddlewares.redirect] DEBUG: Redirecting (302) to <GET http://stats.ncaa.org/teams/66686> from <GET http://stats.ncaa.org/team/704/12424>\n"
     ]
    },
    {
     "name": "stdout",
     "output_type": "stream",
     "text": [
      "Texas Longhorns\n"
     ]
    },
    {
     "name": "stderr",
     "output_type": "stream",
     "text": [
      "2017-12-03 20:43:27 [scrapy.core.engine] DEBUG: Crawled (200) <GET http://stats.ncaa.org/teams/66682> (referer: None)\n"
     ]
    },
    {
     "name": "stdout",
     "output_type": "stream",
     "text": [
      "Texas A&M Aggies\n"
     ]
    },
    {
     "name": "stderr",
     "output_type": "stream",
     "text": [
      "2017-12-03 20:43:29 [scrapy.core.engine] DEBUG: Crawled (200) <GET http://stats.ncaa.org/teams/66676> (referer: None)\n"
     ]
    },
    {
     "name": "stdout",
     "output_type": "stream",
     "text": [
      "Texas St. Bobcats\n"
     ]
    },
    {
     "name": "stderr",
     "output_type": "stream",
     "text": [
      "2017-12-03 20:43:32 [scrapy.core.engine] DEBUG: Crawled (200) <GET http://stats.ncaa.org/teams/66684> (referer: None)\n"
     ]
    },
    {
     "name": "stdout",
     "output_type": "stream",
     "text": [
      "Texas Tech Red Raiders\n"
     ]
    },
    {
     "name": "stderr",
     "output_type": "stream",
     "text": [
      "2017-12-03 20:43:34 [scrapy.core.engine] DEBUG: Crawled (200) <GET http://stats.ncaa.org/teams/66688> (referer: None)\n"
     ]
    },
    {
     "name": "stdout",
     "output_type": "stream",
     "text": [
      "Toledo Rockets\n"
     ]
    },
    {
     "name": "stderr",
     "output_type": "stream",
     "text": [
      "2017-12-03 20:43:35 [scrapy.core.engine] DEBUG: Crawled (200) <GET http://stats.ncaa.org/teams/66689> (referer: None)\n"
     ]
    },
    {
     "name": "stdout",
     "output_type": "stream",
     "text": [
      "Troy Trojans\n"
     ]
    },
    {
     "name": "stderr",
     "output_type": "stream",
     "text": [
      "2017-12-03 20:43:36 [scrapy.downloadermiddlewares.redirect] DEBUG: Redirecting (302) to <GET http://stats.ncaa.org/teams/66687> from <GET http://stats.ncaa.org/team/706/12424>\n",
      "2017-12-03 20:43:37 [scrapy.core.engine] DEBUG: Crawled (200) <GET http://stats.ncaa.org/teams/66690> (referer: None)\n"
     ]
    },
    {
     "name": "stdout",
     "output_type": "stream",
     "text": [
      "Tulane Green Wave\n"
     ]
    },
    {
     "name": "stderr",
     "output_type": "stream",
     "text": [
      "2017-12-03 20:43:38 [scrapy.downloadermiddlewares.redirect] DEBUG: Redirecting (302) to <GET http://stats.ncaa.org/teams/66696> from <GET http://stats.ncaa.org/team/732/12424>\n",
      "2017-12-03 20:43:43 [scrapy.core.engine] DEBUG: Crawled (200) <GET http://stats.ncaa.org/teams/66691> (referer: None)\n"
     ]
    },
    {
     "name": "stdout",
     "output_type": "stream",
     "text": [
      "Tulsa Golden Hurricane\n"
     ]
    },
    {
     "name": "stderr",
     "output_type": "stream",
     "text": [
      "2017-12-03 20:43:45 [scrapy.core.engine] DEBUG: Crawled (200) <GET http://stats.ncaa.org/teams/66597> (referer: None)\n"
     ]
    },
    {
     "name": "stdout",
     "output_type": "stream",
     "text": [
      "UCF Knights\n"
     ]
    },
    {
     "name": "stderr",
     "output_type": "stream",
     "text": [
      "2017-12-03 20:43:48 [scrapy.core.engine] DEBUG: Crawled (200) <GET http://stats.ncaa.org/teams/66596> (referer: None)\n"
     ]
    },
    {
     "name": "stdout",
     "output_type": "stream",
     "text": [
      "UCLA Bruins\n"
     ]
    },
    {
     "name": "stderr",
     "output_type": "stream",
     "text": [
      "2017-12-03 20:43:48 [scrapy.downloadermiddlewares.redirect] DEBUG: Redirecting (302) to <GET http://stats.ncaa.org/teams/66695> from <GET http://stats.ncaa.org/team/731/12424>\n",
      "2017-12-03 20:43:49 [scrapy.core.engine] DEBUG: Crawled (200) <GET http://stats.ncaa.org/teams/66604> (referer: None)\n"
     ]
    },
    {
     "name": "stdout",
     "output_type": "stream",
     "text": [
      "UConn Huskies, UConn\n"
     ]
    },
    {
     "name": "stderr",
     "output_type": "stream",
     "text": [
      "2017-12-03 20:43:50 [scrapy.core.engine] DEBUG: Crawled (200) <GET http://stats.ncaa.org/teams/66646> (referer: None)\n",
      "2017-12-03 20:43:50 [scrapy.downloadermiddlewares.redirect] DEBUG: Redirecting (302) to <GET http://stats.ncaa.org/teams/66697> from <GET http://stats.ncaa.org/team/736/12424>\n"
     ]
    },
    {
     "name": "stdout",
     "output_type": "stream",
     "text": [
      "UNLV Rebels\n"
     ]
    },
    {
     "name": "stderr",
     "output_type": "stream",
     "text": [
      "2017-12-03 20:43:54 [scrapy.downloadermiddlewares.redirect] DEBUG: Redirecting (302) to <GET http://stats.ncaa.org/teams/66699> from <GET http://stats.ncaa.org/team/746/12424>\n",
      "2017-12-03 20:43:55 [scrapy.core.engine] DEBUG: Crawled (200) <GET http://stats.ncaa.org/teams/66686> (referer: None)\n"
     ]
    },
    {
     "name": "stdout",
     "output_type": "stream",
     "text": [
      "UTEP Miners\n"
     ]
    },
    {
     "name": "stderr",
     "output_type": "stream",
     "text": [
      "2017-12-03 20:43:56 [scrapy.downloadermiddlewares.redirect] DEBUG: Redirecting (302) to <GET http://stats.ncaa.org/teams/66698> from <GET http://stats.ncaa.org/team/742/12424>\n",
      "2017-12-03 20:43:58 [scrapy.downloadermiddlewares.redirect] DEBUG: Redirecting (302) to <GET http://stats.ncaa.org/teams/66700> from <GET http://stats.ncaa.org/team/749/12424>\n",
      "2017-12-03 20:44:00 [scrapy.downloadermiddlewares.redirect] DEBUG: Redirecting (302) to <GET http://stats.ncaa.org/teams/66702> from <GET http://stats.ncaa.org/team/756/12424>\n",
      "2017-12-03 20:44:02 [scrapy.downloadermiddlewares.redirect] DEBUG: Redirecting (302) to <GET http://stats.ncaa.org/teams/66701> from <GET http://stats.ncaa.org/team/754/12424>\n",
      "2017-12-03 20:44:06 [scrapy.downloadermiddlewares.redirect] DEBUG: Redirecting (302) to <GET http://stats.ncaa.org/teams/66703> from <GET http://stats.ncaa.org/team/768/12424>\n",
      "2017-12-03 20:44:07 [scrapy.core.engine] DEBUG: Crawled (200) <GET http://stats.ncaa.org/teams/66687> (referer: None)\n"
     ]
    },
    {
     "name": "stdout",
     "output_type": "stream",
     "text": [
      "UTSA Roadrunners\n"
     ]
    },
    {
     "name": "stderr",
     "output_type": "stream",
     "text": [
      "2017-12-03 20:44:10 [scrapy.downloadermiddlewares.redirect] DEBUG: Redirecting (302) to <GET http://stats.ncaa.org/teams/66704> from <GET http://stats.ncaa.org/team/772/12424>\n",
      "2017-12-03 20:44:12 [scrapy.core.engine] DEBUG: Crawled (200) <GET http://stats.ncaa.org/teams/66696> (referer: None)\n",
      "2017-12-03 20:44:12 [scrapy.downloadermiddlewares.redirect] DEBUG: Redirecting (302) to <GET http://stats.ncaa.org/teams/66705> from <GET http://stats.ncaa.org/team/774/12424>\n"
     ]
    },
    {
     "name": "stdout",
     "output_type": "stream",
     "text": [
      "Utah Utes\n"
     ]
    },
    {
     "name": "stderr",
     "output_type": "stream",
     "text": [
      "2017-12-03 20:44:13 [scrapy.downloadermiddlewares.redirect] DEBUG: Redirecting (302) to <GET http://stats.ncaa.org/teams/66706> from <GET http://stats.ncaa.org/team/796/12424>\n",
      "2017-12-03 20:44:17 [scrapy.downloadermiddlewares.redirect] DEBUG: Redirecting (302) to <GET http://stats.ncaa.org/teams/66707> from <GET http://stats.ncaa.org/team/811/12424>\n",
      "2017-12-03 20:44:18 [scrapy.downloadermiddlewares.redirect] DEBUG: Redirecting (302) to <GET http://stats.ncaa.org/teams/19726> from <GET http://stats.ncaa.org/team/721/12240>\n",
      "2017-12-03 20:44:18 [scrapy.core.engine] DEBUG: Crawled (200) <GET http://stats.ncaa.org/teams/66695> (referer: None)\n"
     ]
    },
    {
     "name": "stdout",
     "output_type": "stream",
     "text": [
      "Utah St. Aggies\n"
     ]
    },
    {
     "name": "stderr",
     "output_type": "stream",
     "text": [
      "2017-12-03 20:44:23 [scrapy.core.engine] DEBUG: Crawled (200) <GET http://stats.ncaa.org/teams/66697> (referer: None)\n",
      "2017-12-03 20:44:24 [scrapy.downloadermiddlewares.redirect] DEBUG: Redirecting (302) to <GET http://stats.ncaa.org/teams/19614> from <GET http://stats.ncaa.org/team/5/12240>\n"
     ]
    },
    {
     "name": "stdout",
     "output_type": "stream",
     "text": [
      "Vanderbilt Commodores\n"
     ]
    },
    {
     "name": "stderr",
     "output_type": "stream",
     "text": [
      "2017-12-03 20:44:24 [scrapy.extensions.logstats] INFO: Crawled 247 pages (at 17 pages/min), scraped 0 items (at 0 items/min)\n",
      "2017-12-03 20:44:25 [scrapy.core.engine] DEBUG: Crawled (200) <GET http://stats.ncaa.org/teams/66699> (referer: None)\n"
     ]
    },
    {
     "name": "stdout",
     "output_type": "stream",
     "text": [
      "Virginia Cavaliers\n"
     ]
    },
    {
     "name": "stderr",
     "output_type": "stream",
     "text": [
      "2017-12-03 20:44:29 [scrapy.core.engine] DEBUG: Crawled (200) <GET http://stats.ncaa.org/teams/66698> (referer: None)\n"
     ]
    },
    {
     "name": "stdout",
     "output_type": "stream",
     "text": [
      "Virginia Tech Hokies\n"
     ]
    },
    {
     "name": "stderr",
     "output_type": "stream",
     "text": [
      "2017-12-03 20:44:31 [scrapy.core.engine] DEBUG: Crawled (200) <GET http://stats.ncaa.org/teams/66700> (referer: None)\n"
     ]
    },
    {
     "name": "stdout",
     "output_type": "stream",
     "text": [
      "Wake Forest Demon Deacons\n"
     ]
    },
    {
     "name": "stderr",
     "output_type": "stream",
     "text": [
      "2017-12-03 20:44:33 [scrapy.core.engine] DEBUG: Crawled (200) <GET http://stats.ncaa.org/teams/66702> (referer: None)\n"
     ]
    },
    {
     "name": "stdout",
     "output_type": "stream",
     "text": [
      "Washington Huskies\n"
     ]
    },
    {
     "name": "stderr",
     "output_type": "stream",
     "text": [
      "2017-12-03 20:44:34 [scrapy.core.engine] DEBUG: Crawled (200) <GET http://stats.ncaa.org/teams/66701> (referer: None)\n"
     ]
    },
    {
     "name": "stdout",
     "output_type": "stream",
     "text": [
      "Washington St. Cougars\n"
     ]
    },
    {
     "name": "stderr",
     "output_type": "stream",
     "text": [
      "2017-12-03 20:44:35 [scrapy.downloadermiddlewares.redirect] DEBUG: Redirecting (302) to <GET http://stats.ncaa.org/teams/19615> from <GET http://stats.ncaa.org/team/8/12240>\n",
      "2017-12-03 20:44:36 [scrapy.core.engine] DEBUG: Crawled (200) <GET http://stats.ncaa.org/teams/66703> (referer: None)\n"
     ]
    },
    {
     "name": "stdout",
     "output_type": "stream",
     "text": [
      "West Virginia Mountaineers\n"
     ]
    },
    {
     "name": "stderr",
     "output_type": "stream",
     "text": [
      "2017-12-03 20:44:38 [scrapy.downloadermiddlewares.redirect] DEBUG: Redirecting (302) to <GET http://stats.ncaa.org/teams/19616> from <GET http://stats.ncaa.org/team/27/12240>\n",
      "2017-12-03 20:44:40 [scrapy.core.engine] DEBUG: Crawled (200) <GET http://stats.ncaa.org/teams/66704> (referer: None)\n"
     ]
    },
    {
     "name": "stdout",
     "output_type": "stream",
     "text": [
      "Western Ky. Hilltoppers\n"
     ]
    },
    {
     "name": "stderr",
     "output_type": "stream",
     "text": [
      "2017-12-03 20:44:44 [scrapy.core.engine] DEBUG: Crawled (200) <GET http://stats.ncaa.org/teams/66705> (referer: None)\n"
     ]
    },
    {
     "name": "stdout",
     "output_type": "stream",
     "text": [
      "Western Mich. Broncos\n"
     ]
    },
    {
     "name": "stderr",
     "output_type": "stream",
     "text": [
      "2017-12-03 20:44:45 [scrapy.core.engine] DEBUG: Crawled (200) <GET http://stats.ncaa.org/teams/66706> (referer: None)\n"
     ]
    },
    {
     "name": "stdout",
     "output_type": "stream",
     "text": [
      "Wisconsin Badgers\n"
     ]
    },
    {
     "name": "stderr",
     "output_type": "stream",
     "text": [
      "2017-12-03 20:44:47 [scrapy.core.engine] DEBUG: Crawled (200) <GET http://stats.ncaa.org/teams/66707> (referer: None)\n"
     ]
    },
    {
     "name": "stdout",
     "output_type": "stream",
     "text": [
      "Wyoming Cowboys\n"
     ]
    },
    {
     "name": "stderr",
     "output_type": "stream",
     "text": [
      "2017-12-03 20:44:48 [scrapy.downloadermiddlewares.redirect] DEBUG: Redirecting (302) to <GET http://stats.ncaa.org/teams/19618> from <GET http://stats.ncaa.org/team/29/12240>\n",
      "2017-12-03 20:44:50 [scrapy.downloadermiddlewares.redirect] DEBUG: Redirecting (302) to <GET http://stats.ncaa.org/teams/19617> from <GET http://stats.ncaa.org/team/28/12240>\n",
      "2017-12-03 20:44:51 [scrapy.core.engine] DEBUG: Crawled (200) <GET http://stats.ncaa.org/teams/19726> (referer: None)\n"
     ]
    },
    {
     "name": "stdout",
     "output_type": "stream",
     "text": [
      "Air Force Falcons\n"
     ]
    },
    {
     "name": "stderr",
     "output_type": "stream",
     "text": [
      "2017-12-03 20:44:52 [scrapy.downloadermiddlewares.redirect] DEBUG: Redirecting (302) to <GET http://stats.ncaa.org/teams/19620> from <GET http://stats.ncaa.org/team/31/12240>\n",
      "2017-12-03 20:44:54 [scrapy.downloadermiddlewares.redirect] DEBUG: Redirecting (302) to <GET http://stats.ncaa.org/teams/19619> from <GET http://stats.ncaa.org/team/30/12240>\n",
      "2017-12-03 20:44:55 [scrapy.downloadermiddlewares.redirect] DEBUG: Redirecting (302) to <GET http://stats.ncaa.org/teams/19727> from <GET http://stats.ncaa.org/team/725/12240>\n",
      "2017-12-03 20:44:56 [scrapy.core.engine] DEBUG: Crawled (200) <GET http://stats.ncaa.org/teams/19614> (referer: None)\n"
     ]
    },
    {
     "name": "stdout",
     "output_type": "stream",
     "text": [
      "Akron Zips\n"
     ]
    },
    {
     "name": "stderr",
     "output_type": "stream",
     "text": [
      "2017-12-03 20:44:57 [scrapy.downloadermiddlewares.redirect] DEBUG: Redirecting (302) to <GET http://stats.ncaa.org/teams/19621> from <GET http://stats.ncaa.org/team/37/12240>\n",
      "2017-12-03 20:44:59 [scrapy.downloadermiddlewares.redirect] DEBUG: Redirecting (302) to <GET http://stats.ncaa.org/teams/19627> from <GET http://stats.ncaa.org/team/77/12240>\n",
      "2017-12-03 20:45:03 [scrapy.downloadermiddlewares.redirect] DEBUG: Redirecting (302) to <GET http://stats.ncaa.org/teams/19622> from <GET http://stats.ncaa.org/team/47/12240>\n",
      "2017-12-03 20:45:06 [scrapy.downloadermiddlewares.redirect] DEBUG: Redirecting (302) to <GET http://stats.ncaa.org/teams/19623> from <GET http://stats.ncaa.org/team/51/12240>\n",
      "2017-12-03 20:45:08 [scrapy.downloadermiddlewares.redirect] DEBUG: Redirecting (302) to <GET http://stats.ncaa.org/teams/19624> from <GET http://stats.ncaa.org/team/66/12240>\n",
      "2017-12-03 20:45:08 [scrapy.core.engine] DEBUG: Crawled (200) <GET http://stats.ncaa.org/teams/19615> (referer: None)\n"
     ]
    },
    {
     "name": "stdout",
     "output_type": "stream",
     "text": [
      "Alabama Crimson Tide\n"
     ]
    },
    {
     "name": "stderr",
     "output_type": "stream",
     "text": [
      "2017-12-03 20:45:09 [scrapy.downloadermiddlewares.redirect] DEBUG: Redirecting (302) to <GET http://stats.ncaa.org/teams/19625> from <GET http://stats.ncaa.org/team/67/12240>\n",
      "2017-12-03 20:45:11 [scrapy.downloadermiddlewares.redirect] DEBUG: Redirecting (302) to <GET http://stats.ncaa.org/teams/19626> from <GET http://stats.ncaa.org/team/71/12240>\n",
      "2017-12-03 20:45:12 [scrapy.core.engine] DEBUG: Crawled (200) <GET http://stats.ncaa.org/teams/19616> (referer: None)\n"
     ]
    },
    {
     "name": "stdout",
     "output_type": "stream",
     "text": [
      "Appalachian St. Mountaineers\n"
     ]
    },
    {
     "name": "stderr",
     "output_type": "stream",
     "text": [
      "2017-12-03 20:45:16 [scrapy.downloadermiddlewares.redirect] DEBUG: Redirecting (302) to <GET http://stats.ncaa.org/teams/19628> from <GET http://stats.ncaa.org/team/86/12240>\n",
      "2017-12-03 20:45:19 [scrapy.core.engine] DEBUG: Crawled (200) <GET http://stats.ncaa.org/teams/19618> (referer: None)\n"
     ]
    },
    {
     "name": "stdout",
     "output_type": "stream",
     "text": [
      "Arizona Wildcats\n"
     ]
    },
    {
     "name": "stderr",
     "output_type": "stream",
     "text": [
      "2017-12-03 20:45:19 [scrapy.core.engine] DEBUG: Crawled (200) <GET http://stats.ncaa.org/teams/19617> (referer: None)\n"
     ]
    },
    {
     "name": "stdout",
     "output_type": "stream",
     "text": [
      "Arizona St. Sun Devils\n"
     ]
    },
    {
     "name": "stderr",
     "output_type": "stream",
     "text": [
      "2017-12-03 20:45:23 [scrapy.core.engine] DEBUG: Crawled (200) <GET http://stats.ncaa.org/teams/19620> (referer: None)\n"
     ]
    },
    {
     "name": "stdout",
     "output_type": "stream",
     "text": [
      "Arkansas Razorbacks\n"
     ]
    },
    {
     "name": "stderr",
     "output_type": "stream",
     "text": [
      "2017-12-03 20:45:24 [scrapy.extensions.logstats] INFO: Crawled 264 pages (at 17 pages/min), scraped 0 items (at 0 items/min)\n",
      "2017-12-03 20:45:25 [scrapy.downloadermiddlewares.redirect] DEBUG: Redirecting (302) to <GET http://stats.ncaa.org/teams/19630> from <GET http://stats.ncaa.org/team/107/12240>\n",
      "2017-12-03 20:45:25 [scrapy.downloadermiddlewares.retry] DEBUG: Retrying <GET http://stats.ncaa.org/teams/19619> (failed 1 times): 500 Internal Server Error\n",
      "2017-12-03 20:45:27 [scrapy.core.engine] DEBUG: Crawled (200) <GET http://stats.ncaa.org/teams/19727> (referer: None)\n"
     ]
    },
    {
     "name": "stdout",
     "output_type": "stream",
     "text": [
      "Army West Point Black Knights\n"
     ]
    },
    {
     "name": "stderr",
     "output_type": "stream",
     "text": [
      "2017-12-03 20:45:31 [scrapy.core.engine] DEBUG: Crawled (200) <GET http://stats.ncaa.org/teams/19621> (referer: None)\n"
     ]
    },
    {
     "name": "stdout",
     "output_type": "stream",
     "text": [
      "Auburn Tigers\n"
     ]
    },
    {
     "name": "stderr",
     "output_type": "stream",
     "text": [
      "2017-12-03 20:45:33 [scrapy.core.engine] DEBUG: Crawled (200) <GET http://stats.ncaa.org/teams/19627> (referer: None)\n"
     ]
    },
    {
     "name": "stdout",
     "output_type": "stream",
     "text": [
      "BYU Cougars\n"
     ]
    },
    {
     "name": "stderr",
     "output_type": "stream",
     "text": [
      "2017-12-03 20:45:34 [scrapy.core.engine] DEBUG: Crawled (200) <GET http://stats.ncaa.org/teams/19622> (referer: None)\n"
     ]
    },
    {
     "name": "stdout",
     "output_type": "stream",
     "text": [
      "Ball St. Cardinals\n"
     ]
    },
    {
     "name": "stderr",
     "output_type": "stream",
     "text": [
      "2017-12-03 20:45:36 [scrapy.downloadermiddlewares.redirect] DEBUG: Redirecting (302) to <GET http://stats.ncaa.org/teams/19633> from <GET http://stats.ncaa.org/team/129/12240>\n",
      "2017-12-03 20:45:37 [scrapy.core.engine] DEBUG: Crawled (200) <GET http://stats.ncaa.org/teams/19623> (referer: None)\n"
     ]
    },
    {
     "name": "stdout",
     "output_type": "stream",
     "text": [
      "Baylor Bears\n"
     ]
    },
    {
     "name": "stderr",
     "output_type": "stream",
     "text": [
      "2017-12-03 20:45:38 [scrapy.core.engine] DEBUG: Crawled (200) <GET http://stats.ncaa.org/teams/19624> (referer: None)\n"
     ]
    },
    {
     "name": "stdout",
     "output_type": "stream",
     "text": [
      "Boise St. Broncos\n"
     ]
    },
    {
     "name": "stderr",
     "output_type": "stream",
     "text": [
      "2017-12-03 20:45:41 [scrapy.downloadermiddlewares.redirect] DEBUG: Redirecting (302) to <GET http://stats.ncaa.org/teams/19678> from <GET http://stats.ncaa.org/team/458/12240>\n",
      "2017-12-03 20:45:42 [scrapy.core.engine] DEBUG: Crawled (200) <GET http://stats.ncaa.org/teams/19625> (referer: None)\n"
     ]
    },
    {
     "name": "stdout",
     "output_type": "stream",
     "text": [
      "Boston College Eagles\n"
     ]
    },
    {
     "name": "stderr",
     "output_type": "stream",
     "text": [
      "2017-12-03 20:45:45 [scrapy.core.engine] DEBUG: Crawled (200) <GET http://stats.ncaa.org/teams/19626> (referer: None)\n"
     ]
    },
    {
     "name": "stdout",
     "output_type": "stream",
     "text": [
      "Bowling Green Falcons\n"
     ]
    },
    {
     "name": "stderr",
     "output_type": "stream",
     "text": [
      "2017-12-03 20:45:46 [scrapy.downloadermiddlewares.redirect] DEBUG: Redirecting (302) to <GET http://stats.ncaa.org/teams/19634> from <GET http://stats.ncaa.org/team/140/12240>\n",
      "2017-12-03 20:45:47 [scrapy.downloadermiddlewares.redirect] DEBUG: Redirecting (302) to <GET http://stats.ncaa.org/teams/19635> from <GET http://stats.ncaa.org/team/147/12240>\n",
      "2017-12-03 20:45:48 [scrapy.core.engine] DEBUG: Crawled (200) <GET http://stats.ncaa.org/teams/19628> (referer: None)\n"
     ]
    },
    {
     "name": "stdout",
     "output_type": "stream",
     "text": [
      "Buffalo Bulls\n"
     ]
    },
    {
     "name": "stderr",
     "output_type": "stream",
     "text": [
      "2017-12-03 20:45:49 [scrapy.downloadermiddlewares.redirect] DEBUG: Redirecting (302) to <GET http://stats.ncaa.org/teams/19637> from <GET http://stats.ncaa.org/team/157/12240>\n",
      "2017-12-03 20:45:55 [scrapy.downloadermiddlewares.redirect] DEBUG: Redirecting (302) to <GET http://stats.ncaa.org/teams/19636> from <GET http://stats.ncaa.org/team/156/12240>\n",
      "2017-12-03 20:45:55 [scrapy.downloadermiddlewares.retry] DEBUG: Retrying <GET http://stats.ncaa.org/teams/19630> (failed 1 times): 500 Internal Server Error\n",
      "2017-12-03 20:45:55 [scrapy.downloadermiddlewares.retry] DEBUG: Retrying <GET http://stats.ncaa.org/teams/19619> (failed 2 times): 500 Internal Server Error\n",
      "2017-12-03 20:45:57 [scrapy.downloadermiddlewares.redirect] DEBUG: Redirecting (302) to <GET http://stats.ncaa.org/teams/19639> from <GET http://stats.ncaa.org/team/193/12240>\n",
      "2017-12-03 20:45:59 [scrapy.downloadermiddlewares.redirect] DEBUG: Redirecting (302) to <GET http://stats.ncaa.org/teams/19640> from <GET http://stats.ncaa.org/team/196/12240>\n",
      "2017-12-03 20:46:01 [scrapy.downloadermiddlewares.redirect] DEBUG: Redirecting (302) to <GET http://stats.ncaa.org/teams/19641> from <GET http://stats.ncaa.org/team/204/12240>\n",
      "2017-12-03 20:46:05 [scrapy.downloadermiddlewares.redirect] DEBUG: Redirecting (302) to <GET http://stats.ncaa.org/teams/19643> from <GET http://stats.ncaa.org/team/231/12240>\n",
      "2017-12-03 20:46:07 [scrapy.downloadermiddlewares.redirect] DEBUG: Redirecting (302) to <GET http://stats.ncaa.org/teams/19642> from <GET http://stats.ncaa.org/team/229/12240>\n",
      "2017-12-03 20:46:07 [scrapy.downloadermiddlewares.retry] DEBUG: Retrying <GET http://stats.ncaa.org/teams/19633> (failed 1 times): 500 Internal Server Error\n",
      "2017-12-03 20:46:11 [scrapy.downloadermiddlewares.redirect] DEBUG: Redirecting (302) to <GET http://stats.ncaa.org/teams/19645> from <GET http://stats.ncaa.org/team/235/12240>\n",
      "2017-12-03 20:46:12 [scrapy.core.engine] DEBUG: Crawled (200) <GET http://stats.ncaa.org/teams/19678> (referer: None)\n",
      "2017-12-03 20:46:13 [scrapy.downloadermiddlewares.redirect] DEBUG: Redirecting (302) to <GET http://stats.ncaa.org/teams/19644> from <GET http://stats.ncaa.org/team/234/12240>\n"
     ]
    },
    {
     "name": "stdout",
     "output_type": "stream",
     "text": [
      "Charlotte 49ers\n"
     ]
    },
    {
     "name": "stderr",
     "output_type": "stream",
     "text": [
      "2017-12-03 20:46:19 [scrapy.downloadermiddlewares.redirect] DEBUG: Redirecting (302) to <GET http://stats.ncaa.org/teams/19629> from <GET http://stats.ncaa.org/team/96/12240>\n",
      "2017-12-03 20:46:23 [scrapy.core.engine] DEBUG: Crawled (200) <GET http://stats.ncaa.org/teams/19634> (referer: None)\n"
     ]
    },
    {
     "name": "stdout",
     "output_type": "stream",
     "text": [
      "Cincinnati Bearcats\n"
     ]
    },
    {
     "name": "stderr",
     "output_type": "stream",
     "text": [
      "2017-12-03 20:46:23 [scrapy.core.engine] DEBUG: Crawled (200) <GET http://stats.ncaa.org/teams/19635> (referer: None)\n"
     ]
    },
    {
     "name": "stdout",
     "output_type": "stream",
     "text": [
      "Clemson Tigers\n"
     ]
    },
    {
     "name": "stderr",
     "output_type": "stream",
     "text": [
      "2017-12-03 20:46:24 [scrapy.extensions.logstats] INFO: Crawled 276 pages (at 12 pages/min), scraped 0 items (at 0 items/min)\n",
      "2017-12-03 20:46:25 [scrapy.core.engine] DEBUG: Crawled (200) <GET http://stats.ncaa.org/teams/19637> (referer: None)\n"
     ]
    },
    {
     "name": "stdout",
     "output_type": "stream",
     "text": [
      "Colorado Buffaloes\n"
     ]
    },
    {
     "name": "stderr",
     "output_type": "stream",
     "text": [
      "2017-12-03 20:46:27 [scrapy.downloadermiddlewares.retry] DEBUG: Retrying <GET http://stats.ncaa.org/teams/19630> (failed 2 times): 500 Internal Server Error\n",
      "2017-12-03 20:46:28 [scrapy.core.engine] DEBUG: Crawled (200) <GET http://stats.ncaa.org/teams/19636> (referer: None)\n"
     ]
    },
    {
     "name": "stdout",
     "output_type": "stream",
     "text": [
      "Colorado St. Rams\n"
     ]
    },
    {
     "name": "stderr",
     "output_type": "stream",
     "text": [
      "2017-12-03 20:46:29 [scrapy.downloadermiddlewares.retry] DEBUG: Gave up retrying <GET http://stats.ncaa.org/teams/19619> (failed 3 times): 500 Internal Server Error\n",
      "2017-12-03 20:46:29 [scrapy.core.engine] DEBUG: Crawled (500) <GET http://stats.ncaa.org/teams/19619> (referer: None)\n",
      "2017-12-03 20:46:29 [scrapy.spidermiddlewares.httperror] INFO: Ignoring response <500 http://stats.ncaa.org/teams/19619>: HTTP status code is not handled or not allowed\n",
      "2017-12-03 20:46:34 [scrapy.core.engine] DEBUG: Crawled (200) <GET http://stats.ncaa.org/teams/19639> (referer: None)\n"
     ]
    },
    {
     "name": "stdout",
     "output_type": "stream",
     "text": [
      "Duke Blue Devils\n"
     ]
    },
    {
     "name": "stderr",
     "output_type": "stream",
     "text": [
      "2017-12-03 20:46:35 [scrapy.downloadermiddlewares.retry] DEBUG: Retrying <GET http://stats.ncaa.org/teams/19640> (failed 1 times): 500 Internal Server Error\n",
      "2017-12-03 20:46:37 [scrapy.core.engine] DEBUG: Crawled (200) <GET http://stats.ncaa.org/teams/19641> (referer: None)\n"
     ]
    },
    {
     "name": "stdout",
     "output_type": "stream",
     "text": [
      "Eastern Mich. Eagles\n"
     ]
    },
    {
     "name": "stderr",
     "output_type": "stream",
     "text": [
      "2017-12-03 20:46:39 [scrapy.core.engine] DEBUG: Crawled (200) <GET http://stats.ncaa.org/teams/19643> (referer: None)\n"
     ]
    },
    {
     "name": "stdout",
     "output_type": "stream",
     "text": [
      "FIU Panthers\n"
     ]
    },
    {
     "name": "stderr",
     "output_type": "stream",
     "text": [
      "2017-12-03 20:46:41 [scrapy.core.engine] DEBUG: Crawled (200) <GET http://stats.ncaa.org/teams/19642> (referer: None)\n"
     ]
    },
    {
     "name": "stdout",
     "output_type": "stream",
     "text": [
      "Fla. Atlantic Owls\n"
     ]
    },
    {
     "name": "stderr",
     "output_type": "stream",
     "text": [
      "2017-12-03 20:46:42 [scrapy.downloadermiddlewares.retry] DEBUG: Retrying <GET http://stats.ncaa.org/teams/19633> (failed 2 times): 500 Internal Server Error\n",
      "2017-12-03 20:46:42 [scrapy.downloadermiddlewares.redirect] DEBUG: Redirecting (302) to <GET http://stats.ncaa.org/teams/19646> from <GET http://stats.ncaa.org/team/253/12240>\n",
      "2017-12-03 20:46:45 [scrapy.core.engine] DEBUG: Crawled (200) <GET http://stats.ncaa.org/teams/19645> (referer: None)\n"
     ]
    },
    {
     "name": "stdout",
     "output_type": "stream",
     "text": [
      "Florida Gators\n"
     ]
    },
    {
     "name": "stderr",
     "output_type": "stream",
     "text": [
      "2017-12-03 20:46:48 [scrapy.downloadermiddlewares.redirect] DEBUG: Redirecting (302) to <GET http://stats.ncaa.org/teams/19649> from <GET http://stats.ncaa.org/team/257/12240>\n",
      "2017-12-03 20:46:49 [scrapy.core.engine] DEBUG: Crawled (200) <GET http://stats.ncaa.org/teams/19644> (referer: None)\n"
     ]
    },
    {
     "name": "stdout",
     "output_type": "stream",
     "text": [
      "Florida St. Seminoles\n"
     ]
    },
    {
     "name": "stderr",
     "output_type": "stream",
     "text": [
      "2017-12-03 20:46:49 [scrapy.downloadermiddlewares.redirect] DEBUG: Redirecting (302) to <GET http://stats.ncaa.org/teams/19647> from <GET http://stats.ncaa.org/team/254/12240>\n",
      "2017-12-03 20:46:50 [scrapy.core.engine] DEBUG: Crawled (200) <GET http://stats.ncaa.org/teams/19629> (referer: None)\n"
     ]
    },
    {
     "name": "stdout",
     "output_type": "stream",
     "text": [
      "Fresno St. Bulldogs\n"
     ]
    },
    {
     "name": "stderr",
     "output_type": "stream",
     "text": [
      "2017-12-03 20:46:52 [scrapy.downloadermiddlewares.redirect] DEBUG: Redirecting (302) to <GET http://stats.ncaa.org/teams/19648> from <GET http://stats.ncaa.org/team/255/12240>\n",
      "2017-12-03 20:46:56 [scrapy.downloadermiddlewares.redirect] DEBUG: Redirecting (302) to <GET http://stats.ncaa.org/teams/19650> from <GET http://stats.ncaa.org/team/277/12240>\n",
      "2017-12-03 20:46:56 [scrapy.downloadermiddlewares.retry] DEBUG: Gave up retrying <GET http://stats.ncaa.org/teams/19630> (failed 3 times): 500 Internal Server Error\n",
      "2017-12-03 20:46:56 [scrapy.core.engine] DEBUG: Crawled (500) <GET http://stats.ncaa.org/teams/19630> (referer: None)\n",
      "2017-12-03 20:46:57 [scrapy.spidermiddlewares.httperror] INFO: Ignoring response <500 http://stats.ncaa.org/teams/19630>: HTTP status code is not handled or not allowed\n",
      "2017-12-03 20:46:57 [scrapy.downloadermiddlewares.redirect] DEBUG: Redirecting (302) to <GET http://stats.ncaa.org/teams/19651> from <GET http://stats.ncaa.org/team/288/12240>\n",
      "2017-12-03 20:47:00 [scrapy.downloadermiddlewares.redirect] DEBUG: Redirecting (302) to <GET http://stats.ncaa.org/teams/19652> from <GET http://stats.ncaa.org/team/295/12240>\n",
      "2017-12-03 20:47:03 [scrapy.downloadermiddlewares.redirect] DEBUG: Redirecting (302) to <GET http://stats.ncaa.org/teams/19653> from <GET http://stats.ncaa.org/team/301/12240>\n",
      "2017-12-03 20:47:04 [scrapy.downloadermiddlewares.redirect] DEBUG: Redirecting (302) to <GET http://stats.ncaa.org/teams/19654> from <GET http://stats.ncaa.org/team/306/12240>\n",
      "2017-12-03 20:47:05 [scrapy.downloadermiddlewares.retry] DEBUG: Retrying <GET http://stats.ncaa.org/teams/19640> (failed 2 times): 500 Internal Server Error\n",
      "2017-12-03 20:47:07 [scrapy.downloadermiddlewares.redirect] DEBUG: Redirecting (302) to <GET http://stats.ncaa.org/teams/19656> from <GET http://stats.ncaa.org/team/312/12240>\n",
      "2017-12-03 20:47:12 [scrapy.downloadermiddlewares.retry] DEBUG: Gave up retrying <GET http://stats.ncaa.org/teams/19633> (failed 3 times): 500 Internal Server Error\n",
      "2017-12-03 20:47:12 [scrapy.core.engine] DEBUG: Crawled (500) <GET http://stats.ncaa.org/teams/19633> (referer: None)\n",
      "2017-12-03 20:47:12 [scrapy.spidermiddlewares.httperror] INFO: Ignoring response <500 http://stats.ncaa.org/teams/19633>: HTTP status code is not handled or not allowed\n",
      "2017-12-03 20:47:12 [scrapy.downloadermiddlewares.redirect] DEBUG: Redirecting (302) to <GET http://stats.ncaa.org/teams/19655> from <GET http://stats.ncaa.org/team/311/12240>\n",
      "2017-12-03 20:47:16 [scrapy.core.engine] DEBUG: Crawled (200) <GET http://stats.ncaa.org/teams/19646> (referer: None)\n",
      "2017-12-03 20:47:16 [scrapy.downloadermiddlewares.redirect] DEBUG: Redirecting (302) to <GET http://stats.ncaa.org/teams/19658> from <GET http://stats.ncaa.org/team/328/12240>\n"
     ]
    },
    {
     "name": "stdout",
     "output_type": "stream",
     "text": [
      "Ga. Southern Eagles\n"
     ]
    },
    {
     "name": "stderr",
     "output_type": "stream",
     "text": [
      "2017-12-03 20:47:18 [scrapy.core.engine] DEBUG: Crawled (200) <GET http://stats.ncaa.org/teams/19649> (referer: None)\n"
     ]
    },
    {
     "name": "stdout",
     "output_type": "stream",
     "text": [
      "Georgia Bulldogs\n"
     ]
    },
    {
     "name": "stderr",
     "output_type": "stream",
     "text": [
      "2017-12-03 20:47:20 [scrapy.downloadermiddlewares.redirect] DEBUG: Redirecting (302) to <GET http://stats.ncaa.org/teams/19657> from <GET http://stats.ncaa.org/team/327/12240>\n",
      "2017-12-03 20:47:22 [scrapy.core.engine] DEBUG: Crawled (200) <GET http://stats.ncaa.org/teams/19647> (referer: None)\n"
     ]
    },
    {
     "name": "stdout",
     "output_type": "stream",
     "text": [
      "Georgia St. Panthers\n"
     ]
    },
    {
     "name": "stderr",
     "output_type": "stream",
     "text": [
      "2017-12-03 20:47:24 [scrapy.extensions.logstats] INFO: Crawled 291 pages (at 15 pages/min), scraped 0 items (at 0 items/min)\n",
      "2017-12-03 20:47:26 [scrapy.downloadermiddlewares.redirect] DEBUG: Redirecting (302) to <GET http://stats.ncaa.org/teams/19659> from <GET http://stats.ncaa.org/team/331/12240>\n",
      "2017-12-03 20:47:26 [scrapy.core.engine] DEBUG: Crawled (200) <GET http://stats.ncaa.org/teams/19648> (referer: None)\n"
     ]
    },
    {
     "name": "stdout",
     "output_type": "stream",
     "text": [
      "Georgia Tech Yellow Jackets\n"
     ]
    },
    {
     "name": "stderr",
     "output_type": "stream",
     "text": [
      "2017-12-03 20:47:29 [scrapy.core.engine] DEBUG: Crawled (200) <GET http://stats.ncaa.org/teams/19650> (referer: None)\n"
     ]
    },
    {
     "name": "stdout",
     "output_type": "stream",
     "text": [
      "Hawaii Rainbow Warriors\n"
     ]
    },
    {
     "name": "stderr",
     "output_type": "stream",
     "text": [
      "2017-12-03 20:47:32 [scrapy.core.engine] DEBUG: Crawled (200) <GET http://stats.ncaa.org/teams/19651> (referer: None)\n"
     ]
    },
    {
     "name": "stdout",
     "output_type": "stream",
     "text": [
      "Houston Cougars\n"
     ]
    },
    {
     "name": "stderr",
     "output_type": "stream",
     "text": [
      "2017-12-03 20:47:34 [scrapy.core.engine] DEBUG: Crawled (200) <GET http://stats.ncaa.org/teams/19652> (referer: None)\n"
     ]
    },
    {
     "name": "stdout",
     "output_type": "stream",
     "text": [
      "Idaho Vandals\n"
     ]
    },
    {
     "name": "stderr",
     "output_type": "stream",
     "text": [
      "2017-12-03 20:47:36 [scrapy.core.engine] DEBUG: Crawled (200) <GET http://stats.ncaa.org/teams/19653> (referer: None)\n"
     ]
    },
    {
     "name": "stdout",
     "output_type": "stream",
     "text": [
      "Illinois Fighting Illini\n"
     ]
    },
    {
     "name": "stderr",
     "output_type": "stream",
     "text": [
      "2017-12-03 20:47:38 [scrapy.downloadermiddlewares.retry] DEBUG: Gave up retrying <GET http://stats.ncaa.org/teams/19640> (failed 3 times): 500 Internal Server Error\n",
      "2017-12-03 20:47:38 [scrapy.core.engine] DEBUG: Crawled (500) <GET http://stats.ncaa.org/teams/19640> (referer: None)\n",
      "2017-12-03 20:47:38 [scrapy.spidermiddlewares.httperror] INFO: Ignoring response <500 http://stats.ncaa.org/teams/19640>: HTTP status code is not handled or not allowed\n",
      "2017-12-03 20:47:39 [scrapy.core.engine] DEBUG: Crawled (200) <GET http://stats.ncaa.org/teams/19654> (referer: None)\n",
      "2017-12-03 20:47:39 [scrapy.downloadermiddlewares.redirect] DEBUG: Redirecting (302) to <GET http://stats.ncaa.org/teams/19660> from <GET http://stats.ncaa.org/team/334/12240>\n"
     ]
    },
    {
     "name": "stdout",
     "output_type": "stream",
     "text": [
      "Indiana Hoosiers\n"
     ]
    },
    {
     "name": "stderr",
     "output_type": "stream",
     "text": [
      "2017-12-03 20:47:42 [scrapy.core.engine] DEBUG: Crawled (200) <GET http://stats.ncaa.org/teams/19656> (referer: None)\n"
     ]
    },
    {
     "name": "stdout",
     "output_type": "stream",
     "text": [
      "Iowa Hawkeyes\n"
     ]
    },
    {
     "name": "stderr",
     "output_type": "stream",
     "text": [
      "2017-12-03 20:47:43 [scrapy.downloadermiddlewares.redirect] DEBUG: Redirecting (302) to <GET http://stats.ncaa.org/teams/19661> from <GET http://stats.ncaa.org/team/365/12240>\n",
      "2017-12-03 20:47:46 [scrapy.core.engine] DEBUG: Crawled (200) <GET http://stats.ncaa.org/teams/19655> (referer: None)\n"
     ]
    },
    {
     "name": "stdout",
     "output_type": "stream",
     "text": [
      "Iowa St. Cyclones\n"
     ]
    },
    {
     "name": "stderr",
     "output_type": "stream",
     "text": [
      "2017-12-03 20:47:47 [scrapy.downloadermiddlewares.redirect] DEBUG: Redirecting (302) to <GET http://stats.ncaa.org/teams/19686> from <GET http://stats.ncaa.org/team/498/12240>\n",
      "2017-12-03 20:47:50 [scrapy.core.engine] DEBUG: Crawled (200) <GET http://stats.ncaa.org/teams/19658> (referer: None)\n"
     ]
    },
    {
     "name": "stdout",
     "output_type": "stream",
     "text": [
      "Kansas Jayhawks\n"
     ]
    },
    {
     "name": "stderr",
     "output_type": "stream",
     "text": [
      "2017-12-03 20:47:51 [scrapy.downloadermiddlewares.redirect] DEBUG: Redirecting (302) to <GET http://stats.ncaa.org/teams/19711> from <GET http://stats.ncaa.org/team/671/12240>\n",
      "2017-12-03 20:47:53 [scrapy.core.engine] DEBUG: Crawled (200) <GET http://stats.ncaa.org/teams/19657> (referer: None)\n"
     ]
    },
    {
     "name": "stdout",
     "output_type": "stream",
     "text": [
      "Kansas St. Wildcats\n"
     ]
    },
    {
     "name": "stderr",
     "output_type": "stream",
     "text": [
      "2017-12-03 20:47:54 [scrapy.downloadermiddlewares.redirect] DEBUG: Redirecting (302) to <GET http://stats.ncaa.org/teams/19662> from <GET http://stats.ncaa.org/team/366/12240>\n",
      "2017-12-03 20:47:56 [scrapy.downloadermiddlewares.redirect] DEBUG: Redirecting (302) to <GET http://stats.ncaa.org/teams/19663> from <GET http://stats.ncaa.org/team/367/12240>\n",
      "2017-12-03 20:47:57 [scrapy.core.engine] DEBUG: Crawled (200) <GET http://stats.ncaa.org/teams/19659> (referer: None)\n"
     ]
    },
    {
     "name": "stdout",
     "output_type": "stream",
     "text": [
      "Kent St. Golden Flashes\n"
     ]
    },
    {
     "name": "stderr",
     "output_type": "stream",
     "text": [
      "2017-12-03 20:47:58 [scrapy.downloadermiddlewares.redirect] DEBUG: Redirecting (302) to <GET http://stats.ncaa.org/teams/19664> from <GET http://stats.ncaa.org/team/388/12240>\n",
      "2017-12-03 20:48:00 [scrapy.downloadermiddlewares.redirect] DEBUG: Redirecting (302) to <GET http://stats.ncaa.org/teams/19665> from <GET http://stats.ncaa.org/team/392/12240>\n",
      "2017-12-03 20:48:02 [scrapy.downloadermiddlewares.redirect] DEBUG: Redirecting (302) to <GET http://stats.ncaa.org/teams/19666> from <GET http://stats.ncaa.org/team/400/12240>\n",
      "2017-12-03 20:48:04 [scrapy.downloadermiddlewares.redirect] DEBUG: Redirecting (302) to <GET http://stats.ncaa.org/teams/19667> from <GET http://stats.ncaa.org/team/404/12240>\n",
      "2017-12-03 20:48:05 [scrapy.downloadermiddlewares.redirect] DEBUG: Redirecting (302) to <GET http://stats.ncaa.org/teams/19669> from <GET http://stats.ncaa.org/team/415/12240>\n",
      "2017-12-03 20:48:09 [scrapy.downloadermiddlewares.redirect] DEBUG: Redirecting (302) to <GET http://stats.ncaa.org/teams/19668> from <GET http://stats.ncaa.org/team/414/12240>\n",
      "2017-12-03 20:48:11 [scrapy.core.engine] DEBUG: Crawled (200) <GET http://stats.ncaa.org/teams/19660> (referer: None)\n"
     ]
    },
    {
     "name": "stdout",
     "output_type": "stream",
     "text": [
      "Kentucky Wildcats\n"
     ]
    },
    {
     "name": "stderr",
     "output_type": "stream",
     "text": [
      "2017-12-03 20:48:12 [scrapy.downloadermiddlewares.redirect] DEBUG: Redirecting (302) to <GET http://stats.ncaa.org/teams/19671> from <GET http://stats.ncaa.org/team/418/12240>\n",
      "2017-12-03 20:48:14 [scrapy.downloadermiddlewares.retry] DEBUG: Retrying <GET http://stats.ncaa.org/teams/19661> (failed 1 times): 500 Internal Server Error\n",
      "2017-12-03 20:48:16 [scrapy.downloadermiddlewares.redirect] DEBUG: Redirecting (302) to <GET http://stats.ncaa.org/teams/19670> from <GET http://stats.ncaa.org/team/416/12240>\n",
      "2017-12-03 20:48:19 [scrapy.downloadermiddlewares.redirect] DEBUG: Redirecting (302) to <GET http://stats.ncaa.org/teams/19672> from <GET http://stats.ncaa.org/team/419/12240>\n",
      "2017-12-03 20:48:20 [scrapy.core.engine] DEBUG: Crawled (200) <GET http://stats.ncaa.org/teams/19686> (referer: None)\n"
     ]
    },
    {
     "name": "stdout",
     "output_type": "stream",
     "text": [
      "La.-Monroe Warhawks\n"
     ]
    },
    {
     "name": "stderr",
     "output_type": "stream",
     "text": [
      "2017-12-03 20:48:23 [scrapy.core.engine] DEBUG: Crawled (200) <GET http://stats.ncaa.org/teams/19711> (referer: None)\n"
     ]
    },
    {
     "name": "stdout",
     "output_type": "stream",
     "text": [
      "Louisiana Ragin' Cajuns\n"
     ]
    },
    {
     "name": "stderr",
     "output_type": "stream",
     "text": [
      "2017-12-03 20:48:24 [scrapy.downloadermiddlewares.redirect] DEBUG: Redirecting (302) to <GET http://stats.ncaa.org/teams/19673> from <GET http://stats.ncaa.org/team/428/12240>\n",
      "2017-12-03 20:48:24 [scrapy.extensions.logstats] INFO: Crawled 306 pages (at 15 pages/min), scraped 0 items (at 0 items/min)\n",
      "2017-12-03 20:48:24 [scrapy.core.engine] DEBUG: Crawled (200) <GET http://stats.ncaa.org/teams/19662> (referer: None)\n"
     ]
    },
    {
     "name": "stdout",
     "output_type": "stream",
     "text": [
      "Louisiana Tech Bulldogs\n"
     ]
    },
    {
     "name": "stderr",
     "output_type": "stream",
     "text": [
      "2017-12-03 20:48:26 [scrapy.core.engine] DEBUG: Crawled (200) <GET http://stats.ncaa.org/teams/19663> (referer: None)\n"
     ]
    },
    {
     "name": "stdout",
     "output_type": "stream",
     "text": [
      "Louisville Cardinals\n"
     ]
    },
    {
     "name": "stderr",
     "output_type": "stream",
     "text": [
      "2017-12-03 20:48:29 [scrapy.core.engine] DEBUG: Crawled (200) <GET http://stats.ncaa.org/teams/19664> (referer: None)\n"
     ]
    },
    {
     "name": "stdout",
     "output_type": "stream",
     "text": [
      "Marshall Thundering Herd\n"
     ]
    },
    {
     "name": "stderr",
     "output_type": "stream",
     "text": [
      "2017-12-03 20:48:31 [scrapy.core.engine] DEBUG: Crawled (200) <GET http://stats.ncaa.org/teams/19665> (referer: None)\n"
     ]
    },
    {
     "name": "stdout",
     "output_type": "stream",
     "text": [
      "Maryland Terrapins, Terps\n"
     ]
    },
    {
     "name": "stderr",
     "output_type": "stream",
     "text": [
      "2017-12-03 20:48:33 [scrapy.core.engine] DEBUG: Crawled (200) <GET http://stats.ncaa.org/teams/19666> (referer: None)\n"
     ]
    },
    {
     "name": "stdout",
     "output_type": "stream",
     "text": [
      "Massachusetts Minutemen\n"
     ]
    },
    {
     "name": "stderr",
     "output_type": "stream",
     "text": [
      "2017-12-03 20:48:35 [scrapy.core.engine] DEBUG: Crawled (200) <GET http://stats.ncaa.org/teams/19667> (referer: None)\n"
     ]
    },
    {
     "name": "stdout",
     "output_type": "stream",
     "text": [
      "Memphis Tigers\n"
     ]
    },
    {
     "name": "stderr",
     "output_type": "stream",
     "text": [
      "2017-12-03 20:48:36 [scrapy.downloadermiddlewares.redirect] DEBUG: Redirecting (302) to <GET http://stats.ncaa.org/teams/19674> from <GET http://stats.ncaa.org/team/430/12240>\n",
      "2017-12-03 20:48:36 [scrapy.core.engine] DEBUG: Crawled (200) <GET http://stats.ncaa.org/teams/19669> (referer: None)\n"
     ]
    },
    {
     "name": "stdout",
     "output_type": "stream",
     "text": [
      "Miami (FL) Hurricanes\n"
     ]
    },
    {
     "name": "stderr",
     "output_type": "stream",
     "text": [
      "2017-12-03 20:48:38 [scrapy.core.engine] DEBUG: Crawled (200) <GET http://stats.ncaa.org/teams/19668> (referer: None)\n"
     ]
    },
    {
     "name": "stdout",
     "output_type": "stream",
     "text": [
      "Miami (OH) RedHawks\n"
     ]
    },
    {
     "name": "stderr",
     "output_type": "stream",
     "text": [
      "2017-12-03 20:48:41 [scrapy.downloadermiddlewares.retry] DEBUG: Retrying <GET http://stats.ncaa.org/teams/19661> (failed 2 times): 500 Internal Server Error\n",
      "2017-12-03 20:48:41 [scrapy.core.engine] DEBUG: Crawled (200) <GET http://stats.ncaa.org/teams/19671> (referer: None)\n"
     ]
    },
    {
     "name": "stdout",
     "output_type": "stream",
     "text": [
      "Michigan Wolverines\n"
     ]
    },
    {
     "name": "stderr",
     "output_type": "stream",
     "text": [
      "2017-12-03 20:48:44 [scrapy.downloadermiddlewares.redirect] DEBUG: Redirecting (302) to <GET http://stats.ncaa.org/teams/19676> from <GET http://stats.ncaa.org/team/434/12240>\n",
      "2017-12-03 20:48:45 [scrapy.core.engine] DEBUG: Crawled (200) <GET http://stats.ncaa.org/teams/19670> (referer: None)\n"
     ]
    },
    {
     "name": "stdout",
     "output_type": "stream",
     "text": [
      "Michigan St. Spartans\n"
     ]
    },
    {
     "name": "stderr",
     "output_type": "stream",
     "text": [
      "2017-12-03 20:48:45 [scrapy.core.engine] DEBUG: Crawled (200) <GET http://stats.ncaa.org/teams/19672> (referer: None)\n"
     ]
    },
    {
     "name": "stdout",
     "output_type": "stream",
     "text": [
      "Middle Tenn. Blue Raiders\n"
     ]
    },
    {
     "name": "stderr",
     "output_type": "stream",
     "text": [
      "2017-12-03 20:48:46 [scrapy.downloadermiddlewares.redirect] DEBUG: Redirecting (302) to <GET http://stats.ncaa.org/teams/19684> from <GET http://stats.ncaa.org/team/490/12240>\n",
      "2017-12-03 20:48:50 [scrapy.downloadermiddlewares.redirect] DEBUG: Redirecting (302) to <GET http://stats.ncaa.org/teams/19728> from <GET http://stats.ncaa.org/team/726/12240>\n",
      "2017-12-03 20:48:52 [scrapy.downloadermiddlewares.redirect] DEBUG: Redirecting (302) to <GET http://stats.ncaa.org/teams/19679> from <GET http://stats.ncaa.org/team/463/12240>\n",
      "2017-12-03 20:48:53 [scrapy.core.engine] DEBUG: Crawled (200) <GET http://stats.ncaa.org/teams/19673> (referer: None)\n"
     ]
    },
    {
     "name": "stdout",
     "output_type": "stream",
     "text": [
      "Minnesota Golden Gophers\n"
     ]
    },
    {
     "name": "stderr",
     "output_type": "stream",
     "text": [
      "2017-12-03 20:48:54 [scrapy.downloadermiddlewares.redirect] DEBUG: Redirecting (302) to <GET http://stats.ncaa.org/teams/19681> from <GET http://stats.ncaa.org/team/466/12240>\n",
      "2017-12-03 20:48:55 [scrapy.downloadermiddlewares.redirect] DEBUG: Redirecting (302) to <GET http://stats.ncaa.org/teams/19683> from <GET http://stats.ncaa.org/team/473/12240>\n",
      "2017-12-03 20:48:57 [scrapy.downloadermiddlewares.redirect] DEBUG: Redirecting (302) to <GET http://stats.ncaa.org/teams/19682> from <GET http://stats.ncaa.org/team/472/12240>\n",
      "2017-12-03 20:48:59 [scrapy.downloadermiddlewares.redirect] DEBUG: Redirecting (302) to <GET http://stats.ncaa.org/teams/19677> from <GET http://stats.ncaa.org/team/457/12240>\n",
      "2017-12-03 20:49:03 [scrapy.downloadermiddlewares.redirect] DEBUG: Redirecting (302) to <GET http://stats.ncaa.org/teams/19685> from <GET http://stats.ncaa.org/team/497/12240>\n",
      "2017-12-03 20:49:05 [scrapy.core.engine] DEBUG: Crawled (200) <GET http://stats.ncaa.org/teams/19674> (referer: None)\n",
      "2017-12-03 20:49:05 [scrapy.downloadermiddlewares.redirect] DEBUG: Redirecting (302) to <GET http://stats.ncaa.org/teams/19687> from <GET http://stats.ncaa.org/team/503/12240>\n"
     ]
    },
    {
     "name": "stdout",
     "output_type": "stream",
     "text": [
      "Mississippi St. Bulldogs\n"
     ]
    },
    {
     "name": "stderr",
     "output_type": "stream",
     "text": [
      "2017-12-03 20:49:07 [scrapy.downloadermiddlewares.redirect] DEBUG: Redirecting (302) to <GET http://stats.ncaa.org/teams/19688> from <GET http://stats.ncaa.org/team/509/12240>\n",
      "2017-12-03 20:49:10 [scrapy.downloadermiddlewares.retry] DEBUG: Gave up retrying <GET http://stats.ncaa.org/teams/19661> (failed 3 times): 500 Internal Server Error\n",
      "2017-12-03 20:49:10 [scrapy.core.engine] DEBUG: Crawled (500) <GET http://stats.ncaa.org/teams/19661> (referer: None)\n",
      "2017-12-03 20:49:10 [scrapy.spidermiddlewares.httperror] INFO: Ignoring response <500 http://stats.ncaa.org/teams/19661>: HTTP status code is not handled or not allowed\n",
      "2017-12-03 20:49:12 [scrapy.downloadermiddlewares.redirect] DEBUG: Redirecting (302) to <GET http://stats.ncaa.org/teams/19689> from <GET http://stats.ncaa.org/team/513/12240>\n",
      "2017-12-03 20:49:13 [scrapy.downloadermiddlewares.retry] DEBUG: Retrying <GET http://stats.ncaa.org/teams/19676> (failed 1 times): 500 Internal Server Error\n",
      "2017-12-03 20:49:14 [scrapy.downloadermiddlewares.redirect] DEBUG: Redirecting (302) to <GET http://stats.ncaa.org/teams/19691> from <GET http://stats.ncaa.org/team/519/12240>\n",
      "2017-12-03 20:49:19 [scrapy.core.engine] DEBUG: Crawled (200) <GET http://stats.ncaa.org/teams/19684> (referer: None)\n"
     ]
    },
    {
     "name": "stdout",
     "output_type": "stream",
     "text": [
      "NC State Wolfpack\n"
     ]
    },
    {
     "name": "stderr",
     "output_type": "stream",
     "text": [
      "2017-12-03 20:49:20 [scrapy.downloadermiddlewares.redirect] DEBUG: Redirecting (302) to <GET http://stats.ncaa.org/teams/19690> from <GET http://stats.ncaa.org/team/518/12240>\n",
      "2017-12-03 20:49:21 [scrapy.core.engine] DEBUG: Crawled (200) <GET http://stats.ncaa.org/teams/19728> (referer: None)\n"
     ]
    },
    {
     "name": "stdout",
     "output_type": "stream",
     "text": [
      "Navy Midshipmen\n"
     ]
    },
    {
     "name": "stderr",
     "output_type": "stream",
     "text": [
      "2017-12-03 20:49:23 [scrapy.core.engine] DEBUG: Crawled (200) <GET http://stats.ncaa.org/teams/19679> (referer: None)\n"
     ]
    },
    {
     "name": "stdout",
     "output_type": "stream",
     "text": [
      "Nebraska Cornhuskers, Huskers\n"
     ]
    },
    {
     "name": "stderr",
     "output_type": "stream",
     "text": [
      "2017-12-03 20:49:24 [scrapy.extensions.logstats] INFO: Crawled 323 pages (at 17 pages/min), scraped 0 items (at 0 items/min)\n",
      "2017-12-03 20:49:26 [scrapy.core.engine] DEBUG: Crawled (200) <GET http://stats.ncaa.org/teams/19681> (referer: None)\n"
     ]
    },
    {
     "name": "stdout",
     "output_type": "stream",
     "text": [
      "Nevada Wolf Pack\n"
     ]
    },
    {
     "name": "stderr",
     "output_type": "stream",
     "text": [
      "2017-12-03 20:49:27 [scrapy.core.engine] DEBUG: Crawled (200) <GET http://stats.ncaa.org/teams/19683> (referer: None)\n"
     ]
    },
    {
     "name": "stdout",
     "output_type": "stream",
     "text": [
      "New Mexico Lobos\n"
     ]
    },
    {
     "name": "stderr",
     "output_type": "stream",
     "text": [
      "2017-12-03 20:49:28 [scrapy.core.engine] DEBUG: Crawled (200) <GET http://stats.ncaa.org/teams/19682> (referer: None)\n"
     ]
    },
    {
     "name": "stdout",
     "output_type": "stream",
     "text": [
      "New Mexico St. Aggies\n"
     ]
    },
    {
     "name": "stderr",
     "output_type": "stream",
     "text": [
      "2017-12-03 20:49:30 [scrapy.core.engine] DEBUG: Crawled (200) <GET http://stats.ncaa.org/teams/19677> (referer: None)\n"
     ]
    },
    {
     "name": "stdout",
     "output_type": "stream",
     "text": [
      "North Carolina Tar Heels\n"
     ]
    },
    {
     "name": "stderr",
     "output_type": "stream",
     "text": [
      "2017-12-03 20:49:30 [scrapy.downloadermiddlewares.redirect] DEBUG: Redirecting (302) to <GET http://stats.ncaa.org/teams/19693> from <GET http://stats.ncaa.org/team/522/12240>\n",
      "2017-12-03 20:49:33 [scrapy.core.engine] DEBUG: Crawled (200) <GET http://stats.ncaa.org/teams/19685> (referer: None)\n"
     ]
    },
    {
     "name": "stdout",
     "output_type": "stream",
     "text": [
      "North Texas Mean Green\n"
     ]
    },
    {
     "name": "stderr",
     "output_type": "stream",
     "text": [
      "2017-12-03 20:49:35 [scrapy.downloadermiddlewares.redirect] DEBUG: Redirecting (302) to <GET http://stats.ncaa.org/teams/19692> from <GET http://stats.ncaa.org/team/521/12240>\n",
      "2017-12-03 20:49:36 [scrapy.core.engine] DEBUG: Crawled (200) <GET http://stats.ncaa.org/teams/19687> (referer: None)\n"
     ]
    },
    {
     "name": "stdout",
     "output_type": "stream",
     "text": [
      "Northern Ill. Huskies\n"
     ]
    },
    {
     "name": "stderr",
     "output_type": "stream",
     "text": [
      "2017-12-03 20:49:38 [scrapy.core.engine] DEBUG: Crawled (200) <GET http://stats.ncaa.org/teams/19688> (referer: None)\n"
     ]
    },
    {
     "name": "stdout",
     "output_type": "stream",
     "text": [
      "Northwestern Wildcats\n"
     ]
    },
    {
     "name": "stderr",
     "output_type": "stream",
     "text": [
      "2017-12-03 20:49:40 [scrapy.core.engine] DEBUG: Crawled (200) <GET http://stats.ncaa.org/teams/19689> (referer: None)\n",
      "2017-12-03 20:49:40 [scrapy.downloadermiddlewares.retry] DEBUG: Retrying <GET http://stats.ncaa.org/teams/19676> (failed 2 times): 500 Internal Server Error\n"
     ]
    },
    {
     "name": "stdout",
     "output_type": "stream",
     "text": [
      "Notre Dame Fighting Irish\n"
     ]
    },
    {
     "name": "stderr",
     "output_type": "stream",
     "text": [
      "2017-12-03 20:49:41 [scrapy.downloadermiddlewares.redirect] DEBUG: Redirecting (302) to <GET http://stats.ncaa.org/teams/19694> from <GET http://stats.ncaa.org/team/523/12240>\n",
      "2017-12-03 20:49:43 [scrapy.core.engine] DEBUG: Crawled (200) <GET http://stats.ncaa.org/teams/19691> (referer: None)\n"
     ]
    },
    {
     "name": "stdout",
     "output_type": "stream",
     "text": [
      "Ohio Bobcats\n"
     ]
    },
    {
     "name": "stderr",
     "output_type": "stream",
     "text": [
      "2017-12-03 20:49:45 [scrapy.downloadermiddlewares.redirect] DEBUG: Redirecting (302) to <GET http://stats.ncaa.org/teams/19675> from <GET http://stats.ncaa.org/team/433/12240>\n",
      "2017-12-03 20:49:46 [scrapy.downloadermiddlewares.redirect] DEBUG: Redirecting (302) to <GET http://stats.ncaa.org/teams/19696> from <GET http://stats.ncaa.org/team/529/12240>\n",
      "2017-12-03 20:49:48 [scrapy.core.engine] DEBUG: Crawled (200) <GET http://stats.ncaa.org/teams/19690> (referer: None)\n"
     ]
    },
    {
     "name": "stdout",
     "output_type": "stream",
     "text": [
      "Ohio St. Buckeyes\n"
     ]
    },
    {
     "name": "stderr",
     "output_type": "stream",
     "text": [
      "2017-12-03 20:49:49 [scrapy.downloadermiddlewares.redirect] DEBUG: Redirecting (302) to <GET http://stats.ncaa.org/teams/19695> from <GET http://stats.ncaa.org/team/528/12240>\n",
      "2017-12-03 20:49:51 [scrapy.downloadermiddlewares.redirect] DEBUG: Redirecting (302) to <GET http://stats.ncaa.org/teams/19697> from <GET http://stats.ncaa.org/team/539/12240>\n",
      "2017-12-03 20:49:53 [scrapy.downloadermiddlewares.redirect] DEBUG: Redirecting (302) to <GET http://stats.ncaa.org/teams/19698> from <GET http://stats.ncaa.org/team/545/12240>\n",
      "2017-12-03 20:49:54 [scrapy.downloadermiddlewares.redirect] DEBUG: Redirecting (302) to <GET http://stats.ncaa.org/teams/19699> from <GET http://stats.ncaa.org/team/559/12240>\n",
      "2017-12-03 20:49:59 [scrapy.downloadermiddlewares.redirect] DEBUG: Redirecting (302) to <GET http://stats.ncaa.org/teams/19700> from <GET http://stats.ncaa.org/team/574/12240>\n",
      "2017-12-03 20:50:00 [scrapy.core.engine] DEBUG: Crawled (200) <GET http://stats.ncaa.org/teams/19693> (referer: None)\n"
     ]
    },
    {
     "name": "stdout",
     "output_type": "stream",
     "text": [
      "Oklahoma Sooners\n"
     ]
    },
    {
     "name": "stderr",
     "output_type": "stream",
     "text": [
      "2017-12-03 20:50:03 [scrapy.downloadermiddlewares.redirect] DEBUG: Redirecting (302) to <GET http://stats.ncaa.org/teams/19701> from <GET http://stats.ncaa.org/team/587/12240>\n",
      "2017-12-03 20:50:04 [scrapy.downloadermiddlewares.redirect] DEBUG: Redirecting (302) to <GET http://stats.ncaa.org/teams/19708> from <GET http://stats.ncaa.org/team/663/12240>\n",
      "2017-12-03 20:50:06 [scrapy.downloadermiddlewares.redirect] DEBUG: Redirecting (302) to <GET http://stats.ncaa.org/teams/19702> from <GET http://stats.ncaa.org/team/626/12240>\n",
      "2017-12-03 20:50:07 [scrapy.core.engine] DEBUG: Crawled (200) <GET http://stats.ncaa.org/teams/19692> (referer: None)\n"
     ]
    },
    {
     "name": "stdout",
     "output_type": "stream",
     "text": [
      "Oklahoma St. Cowboys\n"
     ]
    },
    {
     "name": "stderr",
     "output_type": "stream",
     "text": [
      "2017-12-03 20:50:12 [scrapy.downloadermiddlewares.retry] DEBUG: Gave up retrying <GET http://stats.ncaa.org/teams/19676> (failed 3 times): 500 Internal Server Error\n",
      "2017-12-03 20:50:12 [scrapy.core.engine] DEBUG: Crawled (500) <GET http://stats.ncaa.org/teams/19676> (referer: None)\n",
      "2017-12-03 20:50:12 [scrapy.spidermiddlewares.httperror] INFO: Ignoring response <500 http://stats.ncaa.org/teams/19676>: HTTP status code is not handled or not allowed\n",
      "2017-12-03 20:50:12 [scrapy.downloadermiddlewares.redirect] DEBUG: Redirecting (302) to <GET http://stats.ncaa.org/teams/19703> from <GET http://stats.ncaa.org/team/630/12240>\n",
      "2017-12-03 20:50:15 [scrapy.core.engine] DEBUG: Crawled (200) <GET http://stats.ncaa.org/teams/19694> (referer: None)\n"
     ]
    },
    {
     "name": "stdout",
     "output_type": "stream",
     "text": [
      "Old Dominion Monarchs\n"
     ]
    },
    {
     "name": "stderr",
     "output_type": "stream",
     "text": [
      "2017-12-03 20:50:17 [scrapy.downloadermiddlewares.redirect] DEBUG: Redirecting (302) to <GET http://stats.ncaa.org/teams/19704> from <GET http://stats.ncaa.org/team/646/12240>\n",
      "2017-12-03 20:50:19 [scrapy.core.engine] DEBUG: Crawled (200) <GET http://stats.ncaa.org/teams/19675> (referer: None)\n"
     ]
    },
    {
     "name": "stdout",
     "output_type": "stream",
     "text": [
      "Ole Miss Rebels\n"
     ]
    },
    {
     "name": "stderr",
     "output_type": "stream",
     "text": [
      "2017-12-03 20:50:20 [scrapy.core.engine] DEBUG: Crawled (200) <GET http://stats.ncaa.org/teams/19696> (referer: None)\n"
     ]
    },
    {
     "name": "stdout",
     "output_type": "stream",
     "text": [
      "Oregon Ducks\n"
     ]
    },
    {
     "name": "stderr",
     "output_type": "stream",
     "text": [
      "2017-12-03 20:50:23 [scrapy.core.engine] DEBUG: Crawled (200) <GET http://stats.ncaa.org/teams/19695> (referer: None)\n"
     ]
    },
    {
     "name": "stdout",
     "output_type": "stream",
     "text": [
      "Oregon St. Beavers\n"
     ]
    },
    {
     "name": "stderr",
     "output_type": "stream",
     "text": [
      "2017-12-03 20:50:24 [scrapy.core.engine] DEBUG: Crawled (200) <GET http://stats.ncaa.org/teams/19697> (referer: None)\n"
     ]
    },
    {
     "name": "stdout",
     "output_type": "stream",
     "text": [
      "Penn St. Nittany Lions\n"
     ]
    },
    {
     "name": "stderr",
     "output_type": "stream",
     "text": [
      "2017-12-03 20:50:24 [scrapy.extensions.logstats] INFO: Crawled 341 pages (at 18 pages/min), scraped 0 items (at 0 items/min)\n",
      "2017-12-03 20:50:27 [scrapy.core.engine] DEBUG: Crawled (200) <GET http://stats.ncaa.org/teams/19698> (referer: None)\n"
     ]
    },
    {
     "name": "stdout",
     "output_type": "stream",
     "text": [
      "Pittsburgh Panthers\n"
     ]
    },
    {
     "name": "stderr",
     "output_type": "stream",
     "text": [
      "2017-12-03 20:50:29 [scrapy.downloadermiddlewares.redirect] DEBUG: Redirecting (302) to <GET http://stats.ncaa.org/teams/19705> from <GET http://stats.ncaa.org/team/648/12240>\n",
      "2017-12-03 20:50:29 [scrapy.core.engine] DEBUG: Crawled (200) <GET http://stats.ncaa.org/teams/19699> (referer: None)\n"
     ]
    },
    {
     "name": "stdout",
     "output_type": "stream",
     "text": [
      "Purdue Boilermakers\n"
     ]
    },
    {
     "name": "stderr",
     "output_type": "stream",
     "text": [
      "2017-12-03 20:50:30 [scrapy.core.engine] DEBUG: Crawled (200) <GET http://stats.ncaa.org/teams/19700> (referer: None)\n"
     ]
    },
    {
     "name": "stdout",
     "output_type": "stream",
     "text": [
      "Rice Owls\n"
     ]
    },
    {
     "name": "stderr",
     "output_type": "stream",
     "text": [
      "2017-12-03 20:50:34 [scrapy.core.engine] DEBUG: Crawled (200) <GET http://stats.ncaa.org/teams/19701> (referer: None)\n"
     ]
    },
    {
     "name": "stdout",
     "output_type": "stream",
     "text": [
      "Rutgers Scarlet Knights\n"
     ]
    },
    {
     "name": "stderr",
     "output_type": "stream",
     "text": [
      "2017-12-03 20:50:36 [scrapy.downloadermiddlewares.redirect] DEBUG: Redirecting (302) to <GET http://stats.ncaa.org/teams/19706> from <GET http://stats.ncaa.org/team/651/12240>\n",
      "2017-12-03 20:50:37 [scrapy.core.engine] DEBUG: Crawled (200) <GET http://stats.ncaa.org/teams/19708> (referer: None)\n"
     ]
    },
    {
     "name": "stdout",
     "output_type": "stream",
     "text": [
      "SMU Mustangs\n"
     ]
    },
    {
     "name": "stderr",
     "output_type": "stream",
     "text": [
      "2017-12-03 20:50:38 [scrapy.downloadermiddlewares.redirect] DEBUG: Redirecting (302) to <GET http://stats.ncaa.org/teams/19707> from <GET http://stats.ncaa.org/team/657/12240>\n",
      "2017-12-03 20:50:39 [scrapy.core.engine] DEBUG: Crawled (200) <GET http://stats.ncaa.org/teams/19702> (referer: None)\n"
     ]
    },
    {
     "name": "stdout",
     "output_type": "stream",
     "text": [
      "San Diego St. Aztecs\n"
     ]
    },
    {
     "name": "stderr",
     "output_type": "stream",
     "text": [
      "2017-12-03 20:50:43 [scrapy.downloadermiddlewares.redirect] DEBUG: Redirecting (302) to <GET http://stats.ncaa.org/teams/19709> from <GET http://stats.ncaa.org/team/664/12240>\n",
      "2017-12-03 20:50:44 [scrapy.core.engine] DEBUG: Crawled (200) <GET http://stats.ncaa.org/teams/19703> (referer: None)\n"
     ]
    },
    {
     "name": "stdout",
     "output_type": "stream",
     "text": [
      "San Jose St. Spartans\n"
     ]
    },
    {
     "name": "stderr",
     "output_type": "stream",
     "text": [
      "2017-12-03 20:50:46 [scrapy.downloadermiddlewares.redirect] DEBUG: Redirecting (302) to <GET http://stats.ncaa.org/teams/19712> from <GET http://stats.ncaa.org/team/674/12240>\n",
      "2017-12-03 20:50:48 [scrapy.downloadermiddlewares.redirect] DEBUG: Redirecting (302) to <GET http://stats.ncaa.org/teams/19713> from <GET http://stats.ncaa.org/team/688/12240>\n",
      "2017-12-03 20:50:48 [scrapy.core.engine] DEBUG: Crawled (200) <GET http://stats.ncaa.org/teams/19704> (referer: None)\n"
     ]
    },
    {
     "name": "stdout",
     "output_type": "stream",
     "text": [
      "South Ala. Jaguars\n"
     ]
    },
    {
     "name": "stderr",
     "output_type": "stream",
     "text": [
      "2017-12-03 20:50:50 [scrapy.downloadermiddlewares.redirect] DEBUG: Redirecting (302) to <GET http://stats.ncaa.org/teams/19717> from <GET http://stats.ncaa.org/team/698/12240>\n",
      "2017-12-03 20:50:52 [scrapy.downloadermiddlewares.redirect] DEBUG: Redirecting (302) to <GET http://stats.ncaa.org/teams/19714> from <GET http://stats.ncaa.org/team/690/12240>\n",
      "2017-12-03 20:50:54 [scrapy.downloadermiddlewares.redirect] DEBUG: Redirecting (302) to <GET http://stats.ncaa.org/teams/19715> from <GET http://stats.ncaa.org/team/694/12240>\n",
      "2017-12-03 20:50:57 [scrapy.downloadermiddlewares.redirect] DEBUG: Redirecting (302) to <GET http://stats.ncaa.org/teams/19719> from <GET http://stats.ncaa.org/team/703/12240>\n",
      "2017-12-03 20:50:59 [scrapy.core.engine] DEBUG: Crawled (200) <GET http://stats.ncaa.org/teams/19705> (referer: None)\n"
     ]
    },
    {
     "name": "stdout",
     "output_type": "stream",
     "text": [
      "South Carolina Gamecocks\n"
     ]
    },
    {
     "name": "stderr",
     "output_type": "stream",
     "text": [
      "2017-12-03 20:50:59 [scrapy.downloadermiddlewares.redirect] DEBUG: Redirecting (302) to <GET http://stats.ncaa.org/teams/19716> from <GET http://stats.ncaa.org/team/697/12240>\n",
      "2017-12-03 20:51:01 [scrapy.downloadermiddlewares.redirect] DEBUG: Redirecting (302) to <GET http://stats.ncaa.org/teams/19710> from <GET http://stats.ncaa.org/team/670/12240>\n",
      "2017-12-03 20:51:04 [scrapy.downloadermiddlewares.redirect] DEBUG: Redirecting (302) to <GET http://stats.ncaa.org/teams/19718> from <GET http://stats.ncaa.org/team/700/12240>\n",
      "2017-12-03 20:51:07 [scrapy.core.engine] DEBUG: Crawled (200) <GET http://stats.ncaa.org/teams/19706> (referer: None)\n"
     ]
    },
    {
     "name": "stdout",
     "output_type": "stream",
     "text": [
      "South Fla. Bulls\n"
     ]
    },
    {
     "name": "stderr",
     "output_type": "stream",
     "text": [
      "2017-12-03 20:51:08 [scrapy.downloadermiddlewares.redirect] DEBUG: Redirecting (302) to <GET http://stats.ncaa.org/teams/19722> from <GET http://stats.ncaa.org/team/709/12240>\n",
      "2017-12-03 20:51:09 [scrapy.core.engine] DEBUG: Crawled (200) <GET http://stats.ncaa.org/teams/19707> (referer: None)\n"
     ]
    },
    {
     "name": "stdout",
     "output_type": "stream",
     "text": [
      "Southern California Trojans\n"
     ]
    },
    {
     "name": "stderr",
     "output_type": "stream",
     "text": [
      "2017-12-03 20:51:11 [scrapy.downloadermiddlewares.redirect] DEBUG: Redirecting (302) to <GET http://stats.ncaa.org/teams/19723> from <GET http://stats.ncaa.org/team/716/12240>\n",
      "2017-12-03 20:51:14 [scrapy.core.engine] DEBUG: Crawled (200) <GET http://stats.ncaa.org/teams/19709> (referer: None)\n"
     ]
    },
    {
     "name": "stdout",
     "output_type": "stream",
     "text": [
      "Southern Miss. Golden Eagles\n"
     ]
    },
    {
     "name": "stderr",
     "output_type": "stream",
     "text": [
      "2017-12-03 20:51:17 [scrapy.core.engine] DEBUG: Crawled (200) <GET http://stats.ncaa.org/teams/19712> (referer: None)\n",
      "2017-12-03 20:51:18 [scrapy.downloadermiddlewares.redirect] DEBUG: Redirecting (302) to <GET http://stats.ncaa.org/teams/19724> from <GET http://stats.ncaa.org/team/718/12240>\n"
     ]
    },
    {
     "name": "stdout",
     "output_type": "stream",
     "text": [
      "Stanford Cardinal\n"
     ]
    },
    {
     "name": "stderr",
     "output_type": "stream",
     "text": [
      "2017-12-03 20:51:19 [scrapy.core.engine] DEBUG: Crawled (200) <GET http://stats.ncaa.org/teams/19713> (referer: None)\n"
     ]
    },
    {
     "name": "stdout",
     "output_type": "stream",
     "text": [
      "Syracuse Orange\n"
     ]
    },
    {
     "name": "stderr",
     "output_type": "stream",
     "text": [
      "2017-12-03 20:51:23 [scrapy.core.engine] DEBUG: Crawled (200) <GET http://stats.ncaa.org/teams/19717> (referer: None)\n"
     ]
    },
    {
     "name": "stdout",
     "output_type": "stream",
     "text": [
      "TCU Horned Frogs\n"
     ]
    },
    {
     "name": "stderr",
     "output_type": "stream",
     "text": [
      "2017-12-03 20:51:24 [scrapy.extensions.logstats] INFO: Crawled 356 pages (at 15 pages/min), scraped 0 items (at 0 items/min)\n",
      "2017-12-03 20:51:25 [scrapy.core.engine] DEBUG: Crawled (200) <GET http://stats.ncaa.org/teams/19714> (referer: None)\n",
      "2017-12-03 20:51:25 [scrapy.downloadermiddlewares.redirect] DEBUG: Redirecting (302) to <GET http://stats.ncaa.org/teams/19725> from <GET http://stats.ncaa.org/team/719/12240>\n"
     ]
    },
    {
     "name": "stdout",
     "output_type": "stream",
     "text": [
      "Temple Owls\n"
     ]
    },
    {
     "name": "stderr",
     "output_type": "stream",
     "text": [
      "2017-12-03 20:51:26 [scrapy.core.engine] DEBUG: Crawled (200) <GET http://stats.ncaa.org/teams/19715> (referer: None)\n"
     ]
    },
    {
     "name": "stdout",
     "output_type": "stream",
     "text": [
      "Tennessee Volunteers\n"
     ]
    },
    {
     "name": "stderr",
     "output_type": "stream",
     "text": [
      "2017-12-03 20:51:27 [scrapy.core.engine] DEBUG: Crawled (200) <GET http://stats.ncaa.org/teams/19719> (referer: None)\n"
     ]
    },
    {
     "name": "stdout",
     "output_type": "stream",
     "text": [
      "Texas Longhorns\n"
     ]
    },
    {
     "name": "stderr",
     "output_type": "stream",
     "text": [
      "2017-12-03 20:51:30 [scrapy.core.engine] DEBUG: Crawled (200) <GET http://stats.ncaa.org/teams/19716> (referer: None)\n"
     ]
    },
    {
     "name": "stdout",
     "output_type": "stream",
     "text": [
      "Texas A&M Aggies\n"
     ]
    },
    {
     "name": "stderr",
     "output_type": "stream",
     "text": [
      "2017-12-03 20:51:33 [scrapy.downloadermiddlewares.redirect] DEBUG: Redirecting (302) to <GET http://stats.ncaa.org/teams/19632> from <GET http://stats.ncaa.org/team/128/12240>\n",
      "2017-12-03 20:51:33 [scrapy.core.engine] DEBUG: Crawled (200) <GET http://stats.ncaa.org/teams/19710> (referer: None)\n"
     ]
    },
    {
     "name": "stdout",
     "output_type": "stream",
     "text": [
      "Texas St. Bobcats\n"
     ]
    },
    {
     "name": "stderr",
     "output_type": "stream",
     "text": [
      "2017-12-03 20:51:35 [scrapy.core.engine] DEBUG: Crawled (200) <GET http://stats.ncaa.org/teams/19718> (referer: None)\n"
     ]
    },
    {
     "name": "stdout",
     "output_type": "stream",
     "text": [
      "Texas Tech Red Raiders\n"
     ]
    },
    {
     "name": "stderr",
     "output_type": "stream",
     "text": [
      "2017-12-03 20:51:36 [scrapy.downloadermiddlewares.redirect] DEBUG: Redirecting (302) to <GET http://stats.ncaa.org/teams/19631> from <GET http://stats.ncaa.org/team/110/12240>\n",
      "2017-12-03 20:51:38 [scrapy.core.engine] DEBUG: Crawled (200) <GET http://stats.ncaa.org/teams/19722> (referer: None)\n"
     ]
    },
    {
     "name": "stdout",
     "output_type": "stream",
     "text": [
      "Toledo Rockets\n"
     ]
    },
    {
     "name": "stderr",
     "output_type": "stream",
     "text": [
      "2017-12-03 20:51:39 [scrapy.downloadermiddlewares.redirect] DEBUG: Redirecting (302) to <GET http://stats.ncaa.org/teams/19638> from <GET http://stats.ncaa.org/team/164/12240>\n",
      "2017-12-03 20:51:41 [scrapy.core.engine] DEBUG: Crawled (200) <GET http://stats.ncaa.org/teams/19723> (referer: None)\n"
     ]
    },
    {
     "name": "stdout",
     "output_type": "stream",
     "text": [
      "Troy Trojans\n"
     ]
    },
    {
     "name": "stderr",
     "output_type": "stream",
     "text": [
      "2017-12-03 20:51:42 [scrapy.downloadermiddlewares.redirect] DEBUG: Redirecting (302) to <GET http://stats.ncaa.org/teams/19680> from <GET http://stats.ncaa.org/team/465/12240>\n",
      "2017-12-03 20:51:46 [scrapy.downloadermiddlewares.redirect] DEBUG: Redirecting (302) to <GET http://stats.ncaa.org/teams/19720> from <GET http://stats.ncaa.org/team/704/12240>\n",
      "2017-12-03 20:51:47 [scrapy.downloadermiddlewares.redirect] DEBUG: Redirecting (302) to <GET http://stats.ncaa.org/teams/19721> from <GET http://stats.ncaa.org/team/706/12240>\n",
      "2017-12-03 20:51:48 [scrapy.core.engine] DEBUG: Crawled (200) <GET http://stats.ncaa.org/teams/19724> (referer: None)\n"
     ]
    },
    {
     "name": "stdout",
     "output_type": "stream",
     "text": [
      "Tulane Green Wave\n"
     ]
    },
    {
     "name": "stderr",
     "output_type": "stream",
     "text": [
      "2017-12-03 20:51:49 [scrapy.downloadermiddlewares.redirect] DEBUG: Redirecting (302) to <GET http://stats.ncaa.org/teams/19730> from <GET http://stats.ncaa.org/team/732/12240>\n",
      "2017-12-03 20:51:53 [scrapy.downloadermiddlewares.redirect] DEBUG: Redirecting (302) to <GET http://stats.ncaa.org/teams/19729> from <GET http://stats.ncaa.org/team/731/12240>\n",
      "2017-12-03 20:51:54 [scrapy.downloadermiddlewares.redirect] DEBUG: Redirecting (302) to <GET http://stats.ncaa.org/teams/19731> from <GET http://stats.ncaa.org/team/736/12240>\n",
      "2017-12-03 20:51:55 [scrapy.core.engine] DEBUG: Crawled (200) <GET http://stats.ncaa.org/teams/19725> (referer: None)\n"
     ]
    },
    {
     "name": "stdout",
     "output_type": "stream",
     "text": [
      "Tulsa Golden Hurricane\n"
     ]
    },
    {
     "name": "stderr",
     "output_type": "stream",
     "text": [
      "2017-12-03 20:51:56 [scrapy.downloadermiddlewares.redirect] DEBUG: Redirecting (302) to <GET http://stats.ncaa.org/teams/19733> from <GET http://stats.ncaa.org/team/746/12240>\n",
      "2017-12-03 20:52:01 [scrapy.downloadermiddlewares.redirect] DEBUG: Redirecting (302) to <GET http://stats.ncaa.org/teams/19732> from <GET http://stats.ncaa.org/team/742/12240>\n",
      "2017-12-03 20:52:02 [scrapy.core.engine] DEBUG: Crawled (200) <GET http://stats.ncaa.org/teams/19632> (referer: None)\n"
     ]
    },
    {
     "name": "stdout",
     "output_type": "stream",
     "text": [
      "UCF Knights\n"
     ]
    },
    {
     "name": "stderr",
     "output_type": "stream",
     "text": [
      "2017-12-03 20:52:03 [scrapy.downloadermiddlewares.redirect] DEBUG: Redirecting (302) to <GET http://stats.ncaa.org/teams/19734> from <GET http://stats.ncaa.org/team/749/12240>\n",
      "2017-12-03 20:52:07 [scrapy.downloadermiddlewares.redirect] DEBUG: Redirecting (302) to <GET http://stats.ncaa.org/teams/19736> from <GET http://stats.ncaa.org/team/756/12240>\n",
      "2017-12-03 20:52:08 [scrapy.core.engine] DEBUG: Crawled (200) <GET http://stats.ncaa.org/teams/19631> (referer: None)\n"
     ]
    },
    {
     "name": "stdout",
     "output_type": "stream",
     "text": [
      "UCLA Bruins\n"
     ]
    },
    {
     "name": "stderr",
     "output_type": "stream",
     "text": [
      "2017-12-03 20:52:10 [scrapy.downloadermiddlewares.redirect] DEBUG: Redirecting (302) to <GET http://stats.ncaa.org/teams/19735> from <GET http://stats.ncaa.org/team/754/12240>\n",
      "2017-12-03 20:52:12 [scrapy.core.engine] DEBUG: Crawled (200) <GET http://stats.ncaa.org/teams/19638> (referer: None)\n"
     ]
    },
    {
     "name": "stdout",
     "output_type": "stream",
     "text": [
      "UConn Huskies, UConn\n"
     ]
    },
    {
     "name": "stderr",
     "output_type": "stream",
     "text": [
      "2017-12-03 20:52:15 [scrapy.core.engine] DEBUG: Crawled (200) <GET http://stats.ncaa.org/teams/19680> (referer: None)\n"
     ]
    },
    {
     "name": "stdout",
     "output_type": "stream",
     "text": [
      "UNLV Rebels\n"
     ]
    },
    {
     "name": "stderr",
     "output_type": "stream",
     "text": [
      "2017-12-03 20:52:17 [scrapy.core.engine] DEBUG: Crawled (200) <GET http://stats.ncaa.org/teams/19720> (referer: None)\n"
     ]
    },
    {
     "name": "stdout",
     "output_type": "stream",
     "text": [
      "UTEP Miners\n"
     ]
    },
    {
     "name": "stderr",
     "output_type": "stream",
     "text": [
      "2017-12-03 20:52:17 [scrapy.downloadermiddlewares.redirect] DEBUG: Redirecting (302) to <GET http://stats.ncaa.org/teams/19737> from <GET http://stats.ncaa.org/team/768/12240>\n",
      "2017-12-03 20:52:18 [scrapy.core.engine] DEBUG: Crawled (200) <GET http://stats.ncaa.org/teams/19721> (referer: None)\n"
     ]
    },
    {
     "name": "stdout",
     "output_type": "stream",
     "text": [
      "UTSA Roadrunners\n"
     ]
    },
    {
     "name": "stderr",
     "output_type": "stream",
     "text": [
      "2017-12-03 20:52:23 [scrapy.core.engine] DEBUG: Crawled (200) <GET http://stats.ncaa.org/teams/19730> (referer: None)\n"
     ]
    },
    {
     "name": "stdout",
     "output_type": "stream",
     "text": [
      "Utah Utes\n"
     ]
    },
    {
     "name": "stderr",
     "output_type": "stream",
     "text": [
      "2017-12-03 20:52:24 [scrapy.downloadermiddlewares.redirect] DEBUG: Redirecting (302) to <GET http://stats.ncaa.org/teams/19738> from <GET http://stats.ncaa.org/team/772/12240>\n",
      "2017-12-03 20:52:24 [scrapy.extensions.logstats] INFO: Crawled 373 pages (at 17 pages/min), scraped 0 items (at 0 items/min)\n",
      "2017-12-03 20:52:24 [scrapy.core.engine] DEBUG: Crawled (200) <GET http://stats.ncaa.org/teams/19729> (referer: None)\n"
     ]
    },
    {
     "name": "stdout",
     "output_type": "stream",
     "text": [
      "Utah St. Aggies\n"
     ]
    },
    {
     "name": "stderr",
     "output_type": "stream",
     "text": [
      "2017-12-03 20:52:26 [scrapy.core.engine] DEBUG: Crawled (200) <GET http://stats.ncaa.org/teams/19731> (referer: None)\n"
     ]
    },
    {
     "name": "stdout",
     "output_type": "stream",
     "text": [
      "Vanderbilt Commodores\n"
     ]
    },
    {
     "name": "stderr",
     "output_type": "stream",
     "text": [
      "2017-12-03 20:52:29 [scrapy.core.engine] DEBUG: Crawled (200) <GET http://stats.ncaa.org/teams/19733> (referer: None)\n",
      "2017-12-03 20:52:29 [scrapy.downloadermiddlewares.redirect] DEBUG: Redirecting (302) to <GET http://stats.ncaa.org/teams/19739> from <GET http://stats.ncaa.org/team/774/12240>\n"
     ]
    },
    {
     "name": "stdout",
     "output_type": "stream",
     "text": [
      "Virginia Cavaliers\n"
     ]
    },
    {
     "name": "stderr",
     "output_type": "stream",
     "text": [
      "2017-12-03 20:52:31 [scrapy.core.engine] DEBUG: Crawled (200) <GET http://stats.ncaa.org/teams/19732> (referer: None)\n"
     ]
    },
    {
     "name": "stdout",
     "output_type": "stream",
     "text": [
      "Virginia Tech Hokies\n"
     ]
    },
    {
     "name": "stderr",
     "output_type": "stream",
     "text": [
      "2017-12-03 20:52:34 [scrapy.downloadermiddlewares.redirect] DEBUG: Redirecting (302) to <GET http://stats.ncaa.org/teams/19740> from <GET http://stats.ncaa.org/team/796/12240>\n",
      "2017-12-03 20:52:35 [scrapy.core.engine] DEBUG: Crawled (200) <GET http://stats.ncaa.org/teams/19734> (referer: None)\n"
     ]
    },
    {
     "name": "stdout",
     "output_type": "stream",
     "text": [
      "Wake Forest Demon Deacons\n"
     ]
    },
    {
     "name": "stderr",
     "output_type": "stream",
     "text": [
      "2017-12-03 20:52:36 [scrapy.core.engine] DEBUG: Crawled (200) <GET http://stats.ncaa.org/teams/19736> (referer: None)\n"
     ]
    },
    {
     "name": "stdout",
     "output_type": "stream",
     "text": [
      "Washington Huskies\n"
     ]
    },
    {
     "name": "stderr",
     "output_type": "stream",
     "text": [
      "2017-12-03 20:52:38 [scrapy.downloadermiddlewares.redirect] DEBUG: Redirecting (302) to <GET http://stats.ncaa.org/teams/19741> from <GET http://stats.ncaa.org/team/811/12240>\n",
      "2017-12-03 20:52:40 [scrapy.core.engine] DEBUG: Crawled (200) <GET http://stats.ncaa.org/teams/19735> (referer: None)\n",
      "2017-12-03 20:52:40 [scrapy.downloadermiddlewares.redirect] DEBUG: Redirecting (302) to <GET http://stats.ncaa.org/teams/83664> from <GET http://stats.ncaa.org/team/721/11980>\n"
     ]
    },
    {
     "name": "stdout",
     "output_type": "stream",
     "text": [
      "Washington St. Cougars\n"
     ]
    },
    {
     "name": "stderr",
     "output_type": "stream",
     "text": [
      "2017-12-03 20:52:42 [scrapy.downloadermiddlewares.redirect] DEBUG: Redirecting (302) to <GET http://stats.ncaa.org/teams/83551> from <GET http://stats.ncaa.org/team/5/11980>\n",
      "2017-12-03 20:52:45 [scrapy.downloadermiddlewares.redirect] DEBUG: Redirecting (302) to <GET http://stats.ncaa.org/teams/83552> from <GET http://stats.ncaa.org/team/8/11980>\n",
      "2017-12-03 20:52:46 [scrapy.downloadermiddlewares.redirect] DEBUG: Redirecting (302) to <GET http://stats.ncaa.org/teams/83554> from <GET http://stats.ncaa.org/team/27/11980>\n",
      "2017-12-03 20:52:47 [scrapy.core.engine] DEBUG: Crawled (200) <GET http://stats.ncaa.org/teams/19737> (referer: None)\n"
     ]
    },
    {
     "name": "stdout",
     "output_type": "stream",
     "text": [
      "West Virginia Mountaineers\n"
     ]
    },
    {
     "name": "stderr",
     "output_type": "stream",
     "text": [
      "2017-12-03 20:52:50 [scrapy.downloadermiddlewares.redirect] DEBUG: Redirecting (302) to <GET http://stats.ncaa.org/teams/83556> from <GET http://stats.ncaa.org/team/29/11980>\n",
      "2017-12-03 20:52:52 [scrapy.core.engine] DEBUG: Crawled (200) <GET http://stats.ncaa.org/teams/19738> (referer: None)\n"
     ]
    },
    {
     "name": "stdout",
     "output_type": "stream",
     "text": [
      "Western Ky. Hilltoppers\n"
     ]
    },
    {
     "name": "stderr",
     "output_type": "stream",
     "text": [
      "2017-12-03 20:52:52 [scrapy.downloadermiddlewares.redirect] DEBUG: Redirecting (302) to <GET http://stats.ncaa.org/teams/83555> from <GET http://stats.ncaa.org/team/28/11980>\n",
      "2017-12-03 20:52:54 [scrapy.downloadermiddlewares.redirect] DEBUG: Redirecting (302) to <GET http://stats.ncaa.org/teams/83558> from <GET http://stats.ncaa.org/team/31/11980>\n",
      "2017-12-03 20:52:58 [scrapy.downloadermiddlewares.redirect] DEBUG: Redirecting (302) to <GET http://stats.ncaa.org/teams/83557> from <GET http://stats.ncaa.org/team/30/11980>\n",
      "2017-12-03 20:53:00 [scrapy.core.engine] DEBUG: Crawled (200) <GET http://stats.ncaa.org/teams/19739> (referer: None)\n"
     ]
    },
    {
     "name": "stdout",
     "output_type": "stream",
     "text": [
      "Western Mich. Broncos\n"
     ]
    },
    {
     "name": "stderr",
     "output_type": "stream",
     "text": [
      "2017-12-03 20:53:02 [scrapy.downloadermiddlewares.redirect] DEBUG: Redirecting (302) to <GET http://stats.ncaa.org/teams/83665> from <GET http://stats.ncaa.org/team/725/11980>\n",
      "2017-12-03 20:53:03 [scrapy.downloadermiddlewares.redirect] DEBUG: Redirecting (302) to <GET http://stats.ncaa.org/teams/83559> from <GET http://stats.ncaa.org/team/37/11980>\n",
      "2017-12-03 20:53:04 [scrapy.core.engine] DEBUG: Crawled (200) <GET http://stats.ncaa.org/teams/19740> (referer: None)\n"
     ]
    },
    {
     "name": "stdout",
     "output_type": "stream",
     "text": [
      "Wisconsin Badgers\n"
     ]
    },
    {
     "name": "stderr",
     "output_type": "stream",
     "text": [
      "2017-12-03 20:53:08 [scrapy.core.engine] DEBUG: Crawled (200) <GET http://stats.ncaa.org/teams/19741> (referer: None)\n"
     ]
    },
    {
     "name": "stdout",
     "output_type": "stream",
     "text": [
      "Wyoming Cowboys\n"
     ]
    },
    {
     "name": "stderr",
     "output_type": "stream",
     "text": [
      "2017-12-03 20:53:09 [scrapy.downloadermiddlewares.redirect] DEBUG: Redirecting (302) to <GET http://stats.ncaa.org/teams/83565> from <GET http://stats.ncaa.org/team/77/11980>\n",
      "2017-12-03 20:53:12 [scrapy.core.engine] DEBUG: Crawled (200) <GET http://stats.ncaa.org/teams/83664> (referer: None)\n"
     ]
    },
    {
     "name": "stdout",
     "output_type": "stream",
     "text": [
      "Air Force Falcons\n"
     ]
    },
    {
     "name": "stderr",
     "output_type": "stream",
     "text": [
      "2017-12-03 20:53:16 [scrapy.downloadermiddlewares.redirect] DEBUG: Redirecting (302) to <GET http://stats.ncaa.org/teams/83560> from <GET http://stats.ncaa.org/team/47/11980>\n",
      "2017-12-03 20:53:16 [scrapy.core.engine] DEBUG: Crawled (200) <GET http://stats.ncaa.org/teams/83551> (referer: None)\n"
     ]
    },
    {
     "name": "stdout",
     "output_type": "stream",
     "text": [
      "Akron Zips\n"
     ]
    },
    {
     "name": "stderr",
     "output_type": "stream",
     "text": [
      "2017-12-03 20:53:17 [scrapy.core.engine] DEBUG: Crawled (200) <GET http://stats.ncaa.org/teams/83552> (referer: None)\n"
     ]
    },
    {
     "name": "stdout",
     "output_type": "stream",
     "text": [
      "Alabama Crimson Tide\n"
     ]
    },
    {
     "name": "stderr",
     "output_type": "stream",
     "text": [
      "2017-12-03 20:53:18 [scrapy.core.engine] DEBUG: Crawled (200) <GET http://stats.ncaa.org/teams/83554> (referer: None)\n"
     ]
    },
    {
     "name": "stdout",
     "output_type": "stream",
     "text": [
      "Appalachian St. Mountaineers\n"
     ]
    },
    {
     "name": "stderr",
     "output_type": "stream",
     "text": [
      "2017-12-03 20:53:19 [scrapy.downloadermiddlewares.redirect] DEBUG: Redirecting (302) to <GET http://stats.ncaa.org/teams/83561> from <GET http://stats.ncaa.org/team/51/11980>\n",
      "2017-12-03 20:53:23 [scrapy.core.engine] DEBUG: Crawled (200) <GET http://stats.ncaa.org/teams/83556> (referer: None)\n"
     ]
    },
    {
     "name": "stdout",
     "output_type": "stream",
     "text": [
      "Arizona Wildcats\n"
     ]
    },
    {
     "name": "stderr",
     "output_type": "stream",
     "text": [
      "2017-12-03 20:53:24 [scrapy.extensions.logstats] INFO: Crawled 390 pages (at 17 pages/min), scraped 0 items (at 0 items/min)\n",
      "2017-12-03 20:53:25 [scrapy.core.engine] DEBUG: Crawled (200) <GET http://stats.ncaa.org/teams/83555> (referer: None)\n"
     ]
    },
    {
     "name": "stdout",
     "output_type": "stream",
     "text": [
      "Arizona St. Sun Devils\n"
     ]
    },
    {
     "name": "stderr",
     "output_type": "stream",
     "text": [
      "2017-12-03 20:53:26 [scrapy.downloadermiddlewares.redirect] DEBUG: Redirecting (302) to <GET http://stats.ncaa.org/teams/83562> from <GET http://stats.ncaa.org/team/66/11980>\n",
      "2017-12-03 20:53:27 [scrapy.core.engine] DEBUG: Crawled (200) <GET http://stats.ncaa.org/teams/83558> (referer: None)\n"
     ]
    },
    {
     "name": "stdout",
     "output_type": "stream",
     "text": [
      "Arkansas Razorbacks\n"
     ]
    },
    {
     "name": "stderr",
     "output_type": "stream",
     "text": [
      "2017-12-03 20:53:29 [scrapy.core.engine] DEBUG: Crawled (200) <GET http://stats.ncaa.org/teams/83557> (referer: None)\n"
     ]
    },
    {
     "name": "stdout",
     "output_type": "stream",
     "text": [
      "Arkansas St. Red Wolves\n"
     ]
    },
    {
     "name": "stderr",
     "output_type": "stream",
     "text": [
      "2017-12-03 20:53:33 [scrapy.downloadermiddlewares.redirect] DEBUG: Redirecting (302) to <GET http://stats.ncaa.org/teams/83563> from <GET http://stats.ncaa.org/team/67/11980>\n",
      "2017-12-03 20:53:33 [scrapy.core.engine] DEBUG: Crawled (200) <GET http://stats.ncaa.org/teams/83665> (referer: None)\n"
     ]
    },
    {
     "name": "stdout",
     "output_type": "stream",
     "text": [
      "Army West Point Black Knights\n"
     ]
    },
    {
     "name": "stderr",
     "output_type": "stream",
     "text": [
      "2017-12-03 20:53:34 [scrapy.downloadermiddlewares.redirect] DEBUG: Redirecting (302) to <GET http://stats.ncaa.org/teams/83564> from <GET http://stats.ncaa.org/team/71/11980>\n",
      "2017-12-03 20:53:35 [scrapy.core.engine] DEBUG: Crawled (200) <GET http://stats.ncaa.org/teams/83559> (referer: None)\n"
     ]
    },
    {
     "name": "stdout",
     "output_type": "stream",
     "text": [
      "Auburn Tigers\n"
     ]
    },
    {
     "name": "stderr",
     "output_type": "stream",
     "text": [
      "2017-12-03 20:53:37 [scrapy.downloadermiddlewares.redirect] DEBUG: Redirecting (302) to <GET http://stats.ncaa.org/teams/83566> from <GET http://stats.ncaa.org/team/86/11980>\n",
      "2017-12-03 20:53:40 [scrapy.core.engine] DEBUG: Crawled (200) <GET http://stats.ncaa.org/teams/83565> (referer: None)\n",
      "2017-12-03 20:53:40 [scrapy.downloadermiddlewares.redirect] DEBUG: Redirecting (302) to <GET http://stats.ncaa.org/teams/83568> from <GET http://stats.ncaa.org/team/107/11980>\n"
     ]
    },
    {
     "name": "stdout",
     "output_type": "stream",
     "text": [
      "BYU Cougars\n"
     ]
    },
    {
     "name": "stderr",
     "output_type": "stream",
     "text": [
      "2017-12-03 20:53:43 [scrapy.downloadermiddlewares.redirect] DEBUG: Redirecting (302) to <GET http://stats.ncaa.org/teams/83571> from <GET http://stats.ncaa.org/team/129/11980>\n",
      "2017-12-03 20:53:43 [scrapy.core.engine] DEBUG: Crawled (200) <GET http://stats.ncaa.org/teams/83560> (referer: None)\n"
     ]
    },
    {
     "name": "stdout",
     "output_type": "stream",
     "text": [
      "Ball St. Cardinals\n"
     ]
    },
    {
     "name": "stderr",
     "output_type": "stream",
     "text": [
      "2017-12-03 20:53:44 [scrapy.downloadermiddlewares.redirect] DEBUG: Redirecting (302) to <GET http://stats.ncaa.org/teams/83616> from <GET http://stats.ncaa.org/team/458/11980>\n",
      "2017-12-03 20:53:47 [scrapy.downloadermiddlewares.redirect] DEBUG: Redirecting (302) to <GET http://stats.ncaa.org/teams/83572> from <GET http://stats.ncaa.org/team/140/11980>\n",
      "2017-12-03 20:53:49 [scrapy.downloadermiddlewares.redirect] DEBUG: Redirecting (302) to <GET http://stats.ncaa.org/teams/83573> from <GET http://stats.ncaa.org/team/147/11980>\n",
      "2017-12-03 20:53:51 [scrapy.core.engine] DEBUG: Crawled (200) <GET http://stats.ncaa.org/teams/83561> (referer: None)\n"
     ]
    },
    {
     "name": "stdout",
     "output_type": "stream",
     "text": [
      "Baylor Bears\n"
     ]
    },
    {
     "name": "stderr",
     "output_type": "stream",
     "text": [
      "2017-12-03 20:53:52 [scrapy.downloadermiddlewares.redirect] DEBUG: Redirecting (302) to <GET http://stats.ncaa.org/teams/83575> from <GET http://stats.ncaa.org/team/157/11980>\n",
      "2017-12-03 20:53:54 [scrapy.downloadermiddlewares.redirect] DEBUG: Redirecting (302) to <GET http://stats.ncaa.org/teams/83574> from <GET http://stats.ncaa.org/team/156/11980>\n",
      "2017-12-03 20:53:55 [scrapy.core.engine] DEBUG: Crawled (200) <GET http://stats.ncaa.org/teams/83562> (referer: None)\n"
     ]
    },
    {
     "name": "stdout",
     "output_type": "stream",
     "text": [
      "Boise St. Broncos\n"
     ]
    },
    {
     "name": "stderr",
     "output_type": "stream",
     "text": [
      "2017-12-03 20:53:57 [scrapy.downloadermiddlewares.redirect] DEBUG: Redirecting (302) to <GET http://stats.ncaa.org/teams/83577> from <GET http://stats.ncaa.org/team/193/11980>\n",
      "2017-12-03 20:54:00 [scrapy.core.engine] DEBUG: Crawled (200) <GET http://stats.ncaa.org/teams/83563> (referer: None)\n"
     ]
    },
    {
     "name": "stdout",
     "output_type": "stream",
     "text": [
      "Boston College Eagles\n"
     ]
    },
    {
     "name": "stderr",
     "output_type": "stream",
     "text": [
      "2017-12-03 20:54:02 [scrapy.downloadermiddlewares.redirect] DEBUG: Redirecting (302) to <GET http://stats.ncaa.org/teams/83578> from <GET http://stats.ncaa.org/team/196/11980>\n",
      "2017-12-03 20:54:06 [scrapy.downloadermiddlewares.redirect] DEBUG: Redirecting (302) to <GET http://stats.ncaa.org/teams/83579> from <GET http://stats.ncaa.org/team/204/11980>\n",
      "2017-12-03 20:54:07 [scrapy.core.engine] DEBUG: Crawled (200) <GET http://stats.ncaa.org/teams/83564> (referer: None)\n"
     ]
    },
    {
     "name": "stdout",
     "output_type": "stream",
     "text": [
      "Bowling Green Falcons\n"
     ]
    },
    {
     "name": "stderr",
     "output_type": "stream",
     "text": [
      "2017-12-03 20:54:08 [scrapy.core.engine] DEBUG: Crawled (200) <GET http://stats.ncaa.org/teams/83566> (referer: None)\n"
     ]
    },
    {
     "name": "stdout",
     "output_type": "stream",
     "text": [
      "Buffalo Bulls\n"
     ]
    },
    {
     "name": "stderr",
     "output_type": "stream",
     "text": [
      "2017-12-03 20:54:11 [scrapy.downloadermiddlewares.retry] DEBUG: Retrying <GET http://stats.ncaa.org/teams/83568> (failed 1 times): 500 Internal Server Error\n",
      "2017-12-03 20:54:11 [scrapy.downloadermiddlewares.redirect] DEBUG: Redirecting (302) to <GET http://stats.ncaa.org/teams/83581> from <GET http://stats.ncaa.org/team/231/11980>\n",
      "2017-12-03 20:54:14 [scrapy.downloadermiddlewares.retry] DEBUG: Retrying <GET http://stats.ncaa.org/teams/83571> (failed 1 times): 500 Internal Server Error\n",
      "2017-12-03 20:54:16 [scrapy.core.engine] DEBUG: Crawled (200) <GET http://stats.ncaa.org/teams/83616> (referer: None)\n"
     ]
    },
    {
     "name": "stdout",
     "output_type": "stream",
     "text": [
      "Charlotte 49ers\n"
     ]
    },
    {
     "name": "stderr",
     "output_type": "stream",
     "text": [
      "2017-12-03 20:54:19 [scrapy.downloadermiddlewares.redirect] DEBUG: Redirecting (302) to <GET http://stats.ncaa.org/teams/83580> from <GET http://stats.ncaa.org/team/229/11980>\n",
      "2017-12-03 20:54:20 [scrapy.core.engine] DEBUG: Crawled (200) <GET http://stats.ncaa.org/teams/83572> (referer: None)\n"
     ]
    },
    {
     "name": "stdout",
     "output_type": "stream",
     "text": [
      "Cincinnati Bearcats\n"
     ]
    },
    {
     "name": "stderr",
     "output_type": "stream",
     "text": [
      "2017-12-03 20:54:22 [scrapy.core.engine] DEBUG: Crawled (200) <GET http://stats.ncaa.org/teams/83573> (referer: None)\n"
     ]
    },
    {
     "name": "stdout",
     "output_type": "stream",
     "text": [
      "Clemson Tigers\n"
     ]
    },
    {
     "name": "stderr",
     "output_type": "stream",
     "text": [
      "2017-12-03 20:54:24 [scrapy.extensions.logstats] INFO: Crawled 405 pages (at 15 pages/min), scraped 0 items (at 0 items/min)\n",
      "2017-12-03 20:54:26 [scrapy.downloadermiddlewares.redirect] DEBUG: Redirecting (302) to <GET http://stats.ncaa.org/teams/83583> from <GET http://stats.ncaa.org/team/235/11980>\n",
      "2017-12-03 20:54:26 [scrapy.core.engine] DEBUG: Crawled (200) <GET http://stats.ncaa.org/teams/83575> (referer: None)\n"
     ]
    },
    {
     "name": "stdout",
     "output_type": "stream",
     "text": [
      "Colorado Buffaloes\n"
     ]
    },
    {
     "name": "stderr",
     "output_type": "stream",
     "text": [
      "2017-12-03 20:54:28 [scrapy.core.engine] DEBUG: Crawled (200) <GET http://stats.ncaa.org/teams/83574> (referer: None)\n"
     ]
    },
    {
     "name": "stdout",
     "output_type": "stream",
     "text": [
      "Colorado St. Rams\n"
     ]
    },
    {
     "name": "stderr",
     "output_type": "stream",
     "text": [
      "2017-12-03 20:54:29 [scrapy.downloadermiddlewares.redirect] DEBUG: Redirecting (302) to <GET http://stats.ncaa.org/teams/83582> from <GET http://stats.ncaa.org/team/234/11980>\n",
      "2017-12-03 20:54:32 [scrapy.core.engine] DEBUG: Crawled (200) <GET http://stats.ncaa.org/teams/83577> (referer: None)\n"
     ]
    },
    {
     "name": "stdout",
     "output_type": "stream",
     "text": [
      "Duke Blue Devils\n"
     ]
    },
    {
     "name": "stderr",
     "output_type": "stream",
     "text": [
      "2017-12-03 20:54:35 [scrapy.downloadermiddlewares.redirect] DEBUG: Redirecting (302) to <GET http://stats.ncaa.org/teams/83567> from <GET http://stats.ncaa.org/team/96/11980>\n",
      "2017-12-03 20:54:36 [scrapy.downloadermiddlewares.redirect] DEBUG: Redirecting (302) to <GET http://stats.ncaa.org/teams/83584> from <GET http://stats.ncaa.org/team/253/11980>\n",
      "2017-12-03 20:54:37 [scrapy.core.engine] DEBUG: Crawled (200) <GET http://stats.ncaa.org/teams/83578> (referer: None)\n"
     ]
    },
    {
     "name": "stdout",
     "output_type": "stream",
     "text": [
      "East Carolina Pirates\n"
     ]
    },
    {
     "name": "stderr",
     "output_type": "stream",
     "text": [
      "2017-12-03 20:54:38 [scrapy.core.engine] DEBUG: Crawled (200) <GET http://stats.ncaa.org/teams/83579> (referer: None)\n"
     ]
    },
    {
     "name": "stdout",
     "output_type": "stream",
     "text": [
      "Eastern Mich. Eagles\n"
     ]
    },
    {
     "name": "stderr",
     "output_type": "stream",
     "text": [
      "2017-12-03 20:54:41 [scrapy.downloadermiddlewares.retry] DEBUG: Retrying <GET http://stats.ncaa.org/teams/83568> (failed 2 times): 500 Internal Server Error\n",
      "2017-12-03 20:54:44 [scrapy.downloadermiddlewares.redirect] DEBUG: Redirecting (302) to <GET http://stats.ncaa.org/teams/83587> from <GET http://stats.ncaa.org/team/257/11980>\n",
      "2017-12-03 20:54:45 [scrapy.core.engine] DEBUG: Crawled (200) <GET http://stats.ncaa.org/teams/83581> (referer: None)\n",
      "2017-12-03 20:54:45 [scrapy.downloadermiddlewares.retry] DEBUG: Retrying <GET http://stats.ncaa.org/teams/83571> (failed 2 times): 500 Internal Server Error\n"
     ]
    },
    {
     "name": "stdout",
     "output_type": "stream",
     "text": [
      "FIU Panthers\n"
     ]
    },
    {
     "name": "stderr",
     "output_type": "stream",
     "text": [
      "2017-12-03 20:54:47 [scrapy.downloadermiddlewares.redirect] DEBUG: Redirecting (302) to <GET http://stats.ncaa.org/teams/83585> from <GET http://stats.ncaa.org/team/254/11980>\n",
      "2017-12-03 20:54:49 [scrapy.downloadermiddlewares.redirect] DEBUG: Redirecting (302) to <GET http://stats.ncaa.org/teams/83586> from <GET http://stats.ncaa.org/team/255/11980>\n",
      "2017-12-03 20:54:50 [scrapy.core.engine] DEBUG: Crawled (200) <GET http://stats.ncaa.org/teams/83580> (referer: None)\n"
     ]
    },
    {
     "name": "stdout",
     "output_type": "stream",
     "text": [
      "Fla. Atlantic Owls\n"
     ]
    },
    {
     "name": "stderr",
     "output_type": "stream",
     "text": [
      "2017-12-03 20:54:53 [scrapy.downloadermiddlewares.redirect] DEBUG: Redirecting (302) to <GET http://stats.ncaa.org/teams/83588> from <GET http://stats.ncaa.org/team/277/11980>\n",
      "2017-12-03 20:54:55 [scrapy.core.engine] DEBUG: Crawled (200) <GET http://stats.ncaa.org/teams/83583> (referer: None)\n",
      "2017-12-03 20:54:56 [scrapy.downloadermiddlewares.redirect] DEBUG: Redirecting (302) to <GET http://stats.ncaa.org/teams/83589> from <GET http://stats.ncaa.org/team/288/11980>\n"
     ]
    },
    {
     "name": "stdout",
     "output_type": "stream",
     "text": [
      "Florida Gators\n"
     ]
    },
    {
     "name": "stderr",
     "output_type": "stream",
     "text": [
      "2017-12-03 20:54:59 [scrapy.downloadermiddlewares.redirect] DEBUG: Redirecting (302) to <GET http://stats.ncaa.org/teams/83590> from <GET http://stats.ncaa.org/team/295/11980>\n",
      "2017-12-03 20:55:01 [scrapy.core.engine] DEBUG: Crawled (200) <GET http://stats.ncaa.org/teams/83582> (referer: None)\n"
     ]
    },
    {
     "name": "stdout",
     "output_type": "stream",
     "text": [
      "Florida St. Seminoles\n"
     ]
    },
    {
     "name": "stderr",
     "output_type": "stream",
     "text": [
      "2017-12-03 20:55:04 [scrapy.downloadermiddlewares.redirect] DEBUG: Redirecting (302) to <GET http://stats.ncaa.org/teams/83591> from <GET http://stats.ncaa.org/team/301/11980>\n",
      "2017-12-03 20:55:05 [scrapy.core.engine] DEBUG: Crawled (200) <GET http://stats.ncaa.org/teams/83567> (referer: None)\n"
     ]
    },
    {
     "name": "stdout",
     "output_type": "stream",
     "text": [
      "Fresno St. Bulldogs\n"
     ]
    },
    {
     "name": "stderr",
     "output_type": "stream",
     "text": [
      "2017-12-03 20:55:06 [scrapy.downloadermiddlewares.redirect] DEBUG: Redirecting (302) to <GET http://stats.ncaa.org/teams/83592> from <GET http://stats.ncaa.org/team/306/11980>\n",
      "2017-12-03 20:55:08 [scrapy.core.engine] DEBUG: Crawled (200) <GET http://stats.ncaa.org/teams/83584> (referer: None)\n"
     ]
    },
    {
     "name": "stdout",
     "output_type": "stream",
     "text": [
      "Ga. Southern Eagles\n"
     ]
    },
    {
     "name": "stderr",
     "output_type": "stream",
     "text": [
      "2017-12-03 20:55:11 [scrapy.downloadermiddlewares.retry] DEBUG: Gave up retrying <GET http://stats.ncaa.org/teams/83568> (failed 3 times): 500 Internal Server Error\n",
      "2017-12-03 20:55:11 [scrapy.core.engine] DEBUG: Crawled (500) <GET http://stats.ncaa.org/teams/83568> (referer: None)\n",
      "2017-12-03 20:55:11 [scrapy.spidermiddlewares.httperror] INFO: Ignoring response <500 http://stats.ncaa.org/teams/83568>: HTTP status code is not handled or not allowed\n",
      "2017-12-03 20:55:12 [scrapy.downloadermiddlewares.redirect] DEBUG: Redirecting (302) to <GET http://stats.ncaa.org/teams/83594> from <GET http://stats.ncaa.org/team/312/11980>\n",
      "2017-12-03 20:55:15 [scrapy.core.engine] DEBUG: Crawled (200) <GET http://stats.ncaa.org/teams/83587> (referer: None)\n"
     ]
    },
    {
     "name": "stdout",
     "output_type": "stream",
     "text": [
      "Georgia Bulldogs\n"
     ]
    },
    {
     "name": "stderr",
     "output_type": "stream",
     "text": [
      "2017-12-03 20:55:17 [scrapy.downloadermiddlewares.retry] DEBUG: Gave up retrying <GET http://stats.ncaa.org/teams/83571> (failed 3 times): 500 Internal Server Error\n",
      "2017-12-03 20:55:17 [scrapy.core.engine] DEBUG: Crawled (500) <GET http://stats.ncaa.org/teams/83571> (referer: None)\n",
      "2017-12-03 20:55:17 [scrapy.spidermiddlewares.httperror] INFO: Ignoring response <500 http://stats.ncaa.org/teams/83571>: HTTP status code is not handled or not allowed\n",
      "2017-12-03 20:55:19 [scrapy.core.engine] DEBUG: Crawled (200) <GET http://stats.ncaa.org/teams/83585> (referer: None)\n"
     ]
    },
    {
     "name": "stdout",
     "output_type": "stream",
     "text": [
      "Georgia St. Panthers\n"
     ]
    },
    {
     "name": "stderr",
     "output_type": "stream",
     "text": [
      "2017-12-03 20:55:20 [scrapy.downloadermiddlewares.redirect] DEBUG: Redirecting (302) to <GET http://stats.ncaa.org/teams/83593> from <GET http://stats.ncaa.org/team/311/11980>\n",
      "2017-12-03 20:55:22 [scrapy.core.engine] DEBUG: Crawled (200) <GET http://stats.ncaa.org/teams/83586> (referer: None)\n"
     ]
    },
    {
     "name": "stdout",
     "output_type": "stream",
     "text": [
      "Georgia Tech Yellow Jackets\n"
     ]
    },
    {
     "name": "stderr",
     "output_type": "stream",
     "text": [
      "2017-12-03 20:55:24 [scrapy.downloadermiddlewares.redirect] DEBUG: Redirecting (302) to <GET http://stats.ncaa.org/teams/83596> from <GET http://stats.ncaa.org/team/328/11980>\n",
      "2017-12-03 20:55:24 [scrapy.extensions.logstats] INFO: Crawled 421 pages (at 16 pages/min), scraped 0 items (at 0 items/min)\n",
      "2017-12-03 20:55:26 [scrapy.core.engine] DEBUG: Crawled (200) <GET http://stats.ncaa.org/teams/83588> (referer: None)\n"
     ]
    },
    {
     "name": "stdout",
     "output_type": "stream",
     "text": [
      "Hawaii Rainbow Warriors\n"
     ]
    },
    {
     "name": "stderr",
     "output_type": "stream",
     "text": [
      "2017-12-03 20:55:29 [scrapy.downloadermiddlewares.redirect] DEBUG: Redirecting (302) to <GET http://stats.ncaa.org/teams/83595> from <GET http://stats.ncaa.org/team/327/11980>\n",
      "2017-12-03 20:55:30 [scrapy.core.engine] DEBUG: Crawled (200) <GET http://stats.ncaa.org/teams/83589> (referer: None)\n"
     ]
    },
    {
     "name": "stdout",
     "output_type": "stream",
     "text": [
      "Houston Cougars\n"
     ]
    },
    {
     "name": "stderr",
     "output_type": "stream",
     "text": [
      "2017-12-03 20:55:32 [scrapy.core.engine] DEBUG: Crawled (200) <GET http://stats.ncaa.org/teams/83590> (referer: None)\n"
     ]
    },
    {
     "name": "stdout",
     "output_type": "stream",
     "text": [
      "Idaho Vandals\n"
     ]
    },
    {
     "name": "stderr",
     "output_type": "stream",
     "text": [
      "2017-12-03 20:55:33 [scrapy.downloadermiddlewares.redirect] DEBUG: Redirecting (302) to <GET http://stats.ncaa.org/teams/83597> from <GET http://stats.ncaa.org/team/331/11980>\n",
      "2017-12-03 20:55:36 [scrapy.core.engine] DEBUG: Crawled (200) <GET http://stats.ncaa.org/teams/83591> (referer: None)\n"
     ]
    },
    {
     "name": "stdout",
     "output_type": "stream",
     "text": [
      "Illinois Fighting Illini\n"
     ]
    },
    {
     "name": "stderr",
     "output_type": "stream",
     "text": [
      "2017-12-03 20:55:37 [scrapy.downloadermiddlewares.redirect] DEBUG: Redirecting (302) to <GET http://stats.ncaa.org/teams/83598> from <GET http://stats.ncaa.org/team/334/11980>\n",
      "2017-12-03 20:55:38 [scrapy.downloadermiddlewares.redirect] DEBUG: Redirecting (302) to <GET http://stats.ncaa.org/teams/83599> from <GET http://stats.ncaa.org/team/365/11980>\n",
      "2017-12-03 20:55:40 [scrapy.core.engine] DEBUG: Crawled (200) <GET http://stats.ncaa.org/teams/83592> (referer: None)\n"
     ]
    },
    {
     "name": "stdout",
     "output_type": "stream",
     "text": [
      "Indiana Hoosiers\n"
     ]
    },
    {
     "name": "stderr",
     "output_type": "stream",
     "text": [
      "2017-12-03 20:55:43 [scrapy.downloadermiddlewares.redirect] DEBUG: Redirecting (302) to <GET http://stats.ncaa.org/teams/83624> from <GET http://stats.ncaa.org/team/498/11980>\n",
      "2017-12-03 20:55:44 [scrapy.downloadermiddlewares.redirect] DEBUG: Redirecting (302) to <GET http://stats.ncaa.org/teams/83649> from <GET http://stats.ncaa.org/team/671/11980>\n",
      "2017-12-03 20:55:45 [scrapy.core.engine] DEBUG: Crawled (200) <GET http://stats.ncaa.org/teams/83594> (referer: None)\n"
     ]
    },
    {
     "name": "stdout",
     "output_type": "stream",
     "text": [
      "Iowa Hawkeyes\n"
     ]
    },
    {
     "name": "stderr",
     "output_type": "stream",
     "text": [
      "2017-12-03 20:55:46 [scrapy.downloadermiddlewares.redirect] DEBUG: Redirecting (302) to <GET http://stats.ncaa.org/teams/83600> from <GET http://stats.ncaa.org/team/366/11980>\n",
      "2017-12-03 20:55:49 [scrapy.downloadermiddlewares.redirect] DEBUG: Redirecting (302) to <GET http://stats.ncaa.org/teams/83601> from <GET http://stats.ncaa.org/team/367/11980>\n",
      "2017-12-03 20:55:52 [scrapy.core.engine] DEBUG: Crawled (200) <GET http://stats.ncaa.org/teams/83593> (referer: None)\n"
     ]
    },
    {
     "name": "stdout",
     "output_type": "stream",
     "text": [
      "Iowa St. Cyclones\n"
     ]
    },
    {
     "name": "stderr",
     "output_type": "stream",
     "text": [
      "2017-12-03 20:55:54 [scrapy.downloadermiddlewares.redirect] DEBUG: Redirecting (302) to <GET http://stats.ncaa.org/teams/83602> from <GET http://stats.ncaa.org/team/388/11980>\n",
      "2017-12-03 20:55:55 [scrapy.core.engine] DEBUG: Crawled (200) <GET http://stats.ncaa.org/teams/83596> (referer: None)\n"
     ]
    },
    {
     "name": "stdout",
     "output_type": "stream",
     "text": [
      "Kansas Jayhawks\n"
     ]
    },
    {
     "name": "stderr",
     "output_type": "stream",
     "text": [
      "2017-12-03 20:55:57 [scrapy.downloadermiddlewares.redirect] DEBUG: Redirecting (302) to <GET http://stats.ncaa.org/teams/83603> from <GET http://stats.ncaa.org/team/392/11980>\n",
      "2017-12-03 20:55:59 [scrapy.downloadermiddlewares.redirect] DEBUG: Redirecting (302) to <GET http://stats.ncaa.org/teams/83604> from <GET http://stats.ncaa.org/team/400/11980>\n",
      "2017-12-03 20:55:59 [scrapy.core.engine] DEBUG: Crawled (200) <GET http://stats.ncaa.org/teams/83595> (referer: None)\n"
     ]
    },
    {
     "name": "stdout",
     "output_type": "stream",
     "text": [
      "Kansas St. Wildcats\n"
     ]
    },
    {
     "name": "stderr",
     "output_type": "stream",
     "text": [
      "2017-12-03 20:56:02 [scrapy.downloadermiddlewares.redirect] DEBUG: Redirecting (302) to <GET http://stats.ncaa.org/teams/83605> from <GET http://stats.ncaa.org/team/404/11980>\n",
      "2017-12-03 20:56:05 [scrapy.core.engine] DEBUG: Crawled (200) <GET http://stats.ncaa.org/teams/83597> (referer: None)\n"
     ]
    },
    {
     "name": "stdout",
     "output_type": "stream",
     "text": [
      "Kent St. Golden Flashes\n"
     ]
    },
    {
     "name": "stderr",
     "output_type": "stream",
     "text": [
      "2017-12-03 20:56:08 [scrapy.downloadermiddlewares.redirect] DEBUG: Redirecting (302) to <GET http://stats.ncaa.org/teams/83607> from <GET http://stats.ncaa.org/team/415/11980>\n",
      "2017-12-03 20:56:09 [scrapy.core.engine] DEBUG: Crawled (200) <GET http://stats.ncaa.org/teams/83598> (referer: None)\n"
     ]
    },
    {
     "name": "stdout",
     "output_type": "stream",
     "text": [
      "Kentucky Wildcats\n"
     ]
    },
    {
     "name": "stderr",
     "output_type": "stream",
     "text": [
      "2017-12-03 20:56:10 [scrapy.core.engine] DEBUG: Crawled (200) <GET http://stats.ncaa.org/teams/83599> (referer: None)\n"
     ]
    },
    {
     "name": "stdout",
     "output_type": "stream",
     "text": [
      "LSU Fighting Tigers\n"
     ]
    },
    {
     "name": "stderr",
     "output_type": "stream",
     "text": [
      "2017-12-03 20:56:13 [scrapy.downloadermiddlewares.redirect] DEBUG: Redirecting (302) to <GET http://stats.ncaa.org/teams/83606> from <GET http://stats.ncaa.org/team/414/11980>\n",
      "2017-12-03 20:56:14 [scrapy.core.engine] DEBUG: Crawled (200) <GET http://stats.ncaa.org/teams/83624> (referer: None)\n"
     ]
    },
    {
     "name": "stdout",
     "output_type": "stream",
     "text": [
      "La.-Monroe Warhawks\n"
     ]
    },
    {
     "name": "stderr",
     "output_type": "stream",
     "text": [
      "2017-12-03 20:56:17 [scrapy.core.engine] DEBUG: Crawled (200) <GET http://stats.ncaa.org/teams/83649> (referer: None)\n"
     ]
    },
    {
     "name": "stdout",
     "output_type": "stream",
     "text": [
      "Louisiana Ragin' Cajuns\n"
     ]
    },
    {
     "name": "stderr",
     "output_type": "stream",
     "text": [
      "2017-12-03 20:56:18 [scrapy.downloadermiddlewares.redirect] DEBUG: Redirecting (302) to <GET http://stats.ncaa.org/teams/83609> from <GET http://stats.ncaa.org/team/418/11980>\n",
      "2017-12-03 20:56:19 [scrapy.core.engine] DEBUG: Crawled (200) <GET http://stats.ncaa.org/teams/83600> (referer: None)\n"
     ]
    },
    {
     "name": "stdout",
     "output_type": "stream",
     "text": [
      "Louisiana Tech Bulldogs\n"
     ]
    },
    {
     "name": "stderr",
     "output_type": "stream",
     "text": [
      "2017-12-03 20:56:21 [scrapy.downloadermiddlewares.retry] DEBUG: Retrying <GET http://stats.ncaa.org/teams/83601> (failed 1 times): 500 Internal Server Error\n",
      "2017-12-03 20:56:22 [scrapy.downloadermiddlewares.redirect] DEBUG: Redirecting (302) to <GET http://stats.ncaa.org/teams/83608> from <GET http://stats.ncaa.org/team/416/11980>\n",
      "2017-12-03 20:56:24 [scrapy.downloadermiddlewares.retry] DEBUG: Retrying <GET http://stats.ncaa.org/teams/83602> (failed 1 times): 500 Internal Server Error\n",
      "2017-12-03 20:56:24 [scrapy.extensions.logstats] INFO: Crawled 436 pages (at 15 pages/min), scraped 0 items (at 0 items/min)\n",
      "2017-12-03 20:56:28 [scrapy.downloadermiddlewares.redirect] DEBUG: Redirecting (302) to <GET http://stats.ncaa.org/teams/83610> from <GET http://stats.ncaa.org/team/419/11980>\n",
      "2017-12-03 20:56:29 [scrapy.core.engine] DEBUG: Crawled (200) <GET http://stats.ncaa.org/teams/83603> (referer: None)\n"
     ]
    },
    {
     "name": "stdout",
     "output_type": "stream",
     "text": [
      "Maryland Terrapins, Terps\n"
     ]
    },
    {
     "name": "stderr",
     "output_type": "stream",
     "text": [
      "2017-12-03 20:56:30 [scrapy.core.engine] DEBUG: Crawled (200) <GET http://stats.ncaa.org/teams/83604> (referer: None)\n"
     ]
    },
    {
     "name": "stdout",
     "output_type": "stream",
     "text": [
      "Massachusetts Minutemen\n"
     ]
    },
    {
     "name": "stderr",
     "output_type": "stream",
     "text": [
      "2017-12-03 20:56:31 [scrapy.downloadermiddlewares.redirect] DEBUG: Redirecting (302) to <GET http://stats.ncaa.org/teams/83611> from <GET http://stats.ncaa.org/team/428/11980>\n",
      "2017-12-03 20:56:34 [scrapy.core.engine] DEBUG: Crawled (200) <GET http://stats.ncaa.org/teams/83605> (referer: None)\n"
     ]
    },
    {
     "name": "stdout",
     "output_type": "stream",
     "text": [
      "Memphis Tigers\n"
     ]
    },
    {
     "name": "stderr",
     "output_type": "stream",
     "text": [
      "2017-12-03 20:56:35 [scrapy.downloadermiddlewares.redirect] DEBUG: Redirecting (302) to <GET http://stats.ncaa.org/teams/83612> from <GET http://stats.ncaa.org/team/430/11980>\n",
      "2017-12-03 20:56:36 [scrapy.downloadermiddlewares.redirect] DEBUG: Redirecting (302) to <GET http://stats.ncaa.org/teams/83614> from <GET http://stats.ncaa.org/team/434/11980>\n",
      "2017-12-03 20:56:38 [scrapy.core.engine] DEBUG: Crawled (200) <GET http://stats.ncaa.org/teams/83607> (referer: None)\n"
     ]
    },
    {
     "name": "stdout",
     "output_type": "stream",
     "text": [
      "Miami (FL) Hurricanes\n"
     ]
    },
    {
     "name": "stderr",
     "output_type": "stream",
     "text": [
      "2017-12-03 20:56:39 [scrapy.downloadermiddlewares.redirect] DEBUG: Redirecting (302) to <GET http://stats.ncaa.org/teams/83622> from <GET http://stats.ncaa.org/team/490/11980>\n",
      "2017-12-03 20:56:41 [scrapy.downloadermiddlewares.redirect] DEBUG: Redirecting (302) to <GET http://stats.ncaa.org/teams/83666> from <GET http://stats.ncaa.org/team/726/11980>\n",
      "2017-12-03 20:56:41 [scrapy.core.engine] DEBUG: Crawled (200) <GET http://stats.ncaa.org/teams/83606> (referer: None)\n"
     ]
    },
    {
     "name": "stdout",
     "output_type": "stream",
     "text": [
      "Miami (OH) RedHawks\n"
     ]
    },
    {
     "name": "stderr",
     "output_type": "stream",
     "text": [
      "2017-12-03 20:56:43 [scrapy.downloadermiddlewares.redirect] DEBUG: Redirecting (302) to <GET http://stats.ncaa.org/teams/83617> from <GET http://stats.ncaa.org/team/463/11980>\n",
      "2017-12-03 20:56:46 [scrapy.core.engine] DEBUG: Crawled (200) <GET http://stats.ncaa.org/teams/83609> (referer: None)\n"
     ]
    },
    {
     "name": "stdout",
     "output_type": "stream",
     "text": [
      "Michigan Wolverines\n"
     ]
    },
    {
     "name": "stderr",
     "output_type": "stream",
     "text": [
      "2017-12-03 20:56:48 [scrapy.downloadermiddlewares.retry] DEBUG: Retrying <GET http://stats.ncaa.org/teams/83601> (failed 2 times): 500 Internal Server Error\n",
      "2017-12-03 20:56:50 [scrapy.core.engine] DEBUG: Crawled (200) <GET http://stats.ncaa.org/teams/83608> (referer: None)\n"
     ]
    },
    {
     "name": "stdout",
     "output_type": "stream",
     "text": [
      "Michigan St. Spartans\n"
     ]
    },
    {
     "name": "stderr",
     "output_type": "stream",
     "text": [
      "2017-12-03 20:56:52 [scrapy.downloadermiddlewares.retry] DEBUG: Retrying <GET http://stats.ncaa.org/teams/83602> (failed 2 times): 500 Internal Server Error\n",
      "2017-12-03 20:56:53 [scrapy.downloadermiddlewares.redirect] DEBUG: Redirecting (302) to <GET http://stats.ncaa.org/teams/83619> from <GET http://stats.ncaa.org/team/466/11980>\n",
      "2017-12-03 20:56:55 [scrapy.downloadermiddlewares.redirect] DEBUG: Redirecting (302) to <GET http://stats.ncaa.org/teams/83621> from <GET http://stats.ncaa.org/team/473/11980>\n",
      "2017-12-03 20:56:55 [scrapy.core.engine] DEBUG: Crawled (200) <GET http://stats.ncaa.org/teams/83610> (referer: None)\n"
     ]
    },
    {
     "name": "stdout",
     "output_type": "stream",
     "text": [
      "Middle Tenn. Blue Raiders\n"
     ]
    },
    {
     "name": "stderr",
     "output_type": "stream",
     "text": [
      "2017-12-03 20:56:58 [scrapy.downloadermiddlewares.redirect] DEBUG: Redirecting (302) to <GET http://stats.ncaa.org/teams/83620> from <GET http://stats.ncaa.org/team/472/11980>\n",
      "2017-12-03 20:57:00 [scrapy.downloadermiddlewares.retry] DEBUG: Retrying <GET http://stats.ncaa.org/teams/83611> (failed 1 times): 500 Internal Server Error\n",
      "2017-12-03 20:57:03 [scrapy.downloadermiddlewares.redirect] DEBUG: Redirecting (302) to <GET http://stats.ncaa.org/teams/83615> from <GET http://stats.ncaa.org/team/457/11980>\n",
      "2017-12-03 20:57:05 [scrapy.core.engine] DEBUG: Crawled (200) <GET http://stats.ncaa.org/teams/83612> (referer: None)\n"
     ]
    },
    {
     "name": "stdout",
     "output_type": "stream",
     "text": [
      "Mississippi St. Bulldogs\n"
     ]
    },
    {
     "name": "stderr",
     "output_type": "stream",
     "text": [
      "2017-12-03 20:57:07 [scrapy.downloadermiddlewares.retry] DEBUG: Retrying <GET http://stats.ncaa.org/teams/83614> (failed 1 times): 500 Internal Server Error\n",
      "2017-12-03 20:57:09 [scrapy.downloadermiddlewares.redirect] DEBUG: Redirecting (302) to <GET http://stats.ncaa.org/teams/83623> from <GET http://stats.ncaa.org/team/497/11980>\n",
      "2017-12-03 20:57:10 [scrapy.core.engine] DEBUG: Crawled (200) <GET http://stats.ncaa.org/teams/83622> (referer: None)\n"
     ]
    },
    {
     "name": "stdout",
     "output_type": "stream",
     "text": [
      "NC State Wolfpack\n"
     ]
    },
    {
     "name": "stderr",
     "output_type": "stream",
     "text": [
      "2017-12-03 20:57:12 [scrapy.core.engine] DEBUG: Crawled (200) <GET http://stats.ncaa.org/teams/83666> (referer: None)\n",
      "2017-12-03 20:57:12 [scrapy.downloadermiddlewares.redirect] DEBUG: Redirecting (302) to <GET http://stats.ncaa.org/teams/83625> from <GET http://stats.ncaa.org/team/503/11980>\n"
     ]
    },
    {
     "name": "stdout",
     "output_type": "stream",
     "text": [
      "Navy Midshipmen\n"
     ]
    },
    {
     "name": "stderr",
     "output_type": "stream",
     "text": [
      "2017-12-03 20:57:15 [scrapy.core.engine] DEBUG: Crawled (200) <GET http://stats.ncaa.org/teams/83617> (referer: None)\n"
     ]
    },
    {
     "name": "stdout",
     "output_type": "stream",
     "text": [
      "Nebraska Cornhuskers, Huskers\n"
     ]
    },
    {
     "name": "stderr",
     "output_type": "stream",
     "text": [
      "2017-12-03 20:57:16 [scrapy.downloadermiddlewares.redirect] DEBUG: Redirecting (302) to <GET http://stats.ncaa.org/teams/83626> from <GET http://stats.ncaa.org/team/509/11980>\n",
      "2017-12-03 20:57:17 [scrapy.downloadermiddlewares.retry] DEBUG: Gave up retrying <GET http://stats.ncaa.org/teams/83601> (failed 3 times): 500 Internal Server Error\n",
      "2017-12-03 20:57:17 [scrapy.core.engine] DEBUG: Crawled (500) <GET http://stats.ncaa.org/teams/83601> (referer: None)\n",
      "2017-12-03 20:57:17 [scrapy.spidermiddlewares.httperror] INFO: Ignoring response <500 http://stats.ncaa.org/teams/83601>: HTTP status code is not handled or not allowed\n",
      "2017-12-03 20:57:20 [scrapy.downloadermiddlewares.retry] DEBUG: Gave up retrying <GET http://stats.ncaa.org/teams/83602> (failed 3 times): 500 Internal Server Error\n",
      "2017-12-03 20:57:20 [scrapy.core.engine] DEBUG: Crawled (500) <GET http://stats.ncaa.org/teams/83602> (referer: None)\n",
      "2017-12-03 20:57:20 [scrapy.spidermiddlewares.httperror] INFO: Ignoring response <500 http://stats.ncaa.org/teams/83602>: HTTP status code is not handled or not allowed\n",
      "2017-12-03 20:57:23 [scrapy.downloadermiddlewares.redirect] DEBUG: Redirecting (302) to <GET http://stats.ncaa.org/teams/83627> from <GET http://stats.ncaa.org/team/513/11980>\n",
      "2017-12-03 20:57:24 [scrapy.core.engine] DEBUG: Crawled (200) <GET http://stats.ncaa.org/teams/83619> (referer: None)\n"
     ]
    },
    {
     "name": "stdout",
     "output_type": "stream",
     "text": [
      "Nevada Wolf Pack\n"
     ]
    },
    {
     "name": "stderr",
     "output_type": "stream",
     "text": [
      "2017-12-03 20:57:24 [scrapy.extensions.logstats] INFO: Crawled 451 pages (at 15 pages/min), scraped 0 items (at 0 items/min)\n",
      "2017-12-03 20:57:26 [scrapy.core.engine] DEBUG: Crawled (200) <GET http://stats.ncaa.org/teams/83621> (referer: None)\n"
     ]
    },
    {
     "name": "stdout",
     "output_type": "stream",
     "text": [
      "New Mexico Lobos\n"
     ]
    },
    {
     "name": "stderr",
     "output_type": "stream",
     "text": [
      "2017-12-03 20:57:28 [scrapy.core.engine] DEBUG: Crawled (200) <GET http://stats.ncaa.org/teams/83620> (referer: None)\n"
     ]
    },
    {
     "name": "stdout",
     "output_type": "stream",
     "text": [
      "New Mexico St. Aggies\n"
     ]
    },
    {
     "name": "stderr",
     "output_type": "stream",
     "text": [
      "2017-12-03 20:57:30 [scrapy.downloadermiddlewares.retry] DEBUG: Retrying <GET http://stats.ncaa.org/teams/83611> (failed 2 times): 500 Internal Server Error\n",
      "2017-12-03 20:57:31 [scrapy.downloadermiddlewares.redirect] DEBUG: Redirecting (302) to <GET http://stats.ncaa.org/teams/83629> from <GET http://stats.ncaa.org/team/519/11980>\n",
      "2017-12-03 20:57:33 [scrapy.core.engine] DEBUG: Crawled (200) <GET http://stats.ncaa.org/teams/83615> (referer: None)\n"
     ]
    },
    {
     "name": "stdout",
     "output_type": "stream",
     "text": [
      "North Carolina Tar Heels\n"
     ]
    },
    {
     "name": "stderr",
     "output_type": "stream",
     "text": [
      "2017-12-03 20:57:35 [scrapy.downloadermiddlewares.retry] DEBUG: Retrying <GET http://stats.ncaa.org/teams/83614> (failed 2 times): 500 Internal Server Error\n",
      "2017-12-03 20:57:36 [scrapy.downloadermiddlewares.redirect] DEBUG: Redirecting (302) to <GET http://stats.ncaa.org/teams/83628> from <GET http://stats.ncaa.org/team/518/11980>\n",
      "2017-12-03 20:57:38 [scrapy.downloadermiddlewares.redirect] DEBUG: Redirecting (302) to <GET http://stats.ncaa.org/teams/83631> from <GET http://stats.ncaa.org/team/522/11980>\n",
      "2017-12-03 20:57:38 [scrapy.core.engine] DEBUG: Crawled (200) <GET http://stats.ncaa.org/teams/83623> (referer: None)\n"
     ]
    },
    {
     "name": "stdout",
     "output_type": "stream",
     "text": [
      "North Texas Mean Green\n"
     ]
    },
    {
     "name": "stderr",
     "output_type": "stream",
     "text": [
      "2017-12-03 20:57:42 [scrapy.downloadermiddlewares.redirect] DEBUG: Redirecting (302) to <GET http://stats.ncaa.org/teams/83630> from <GET http://stats.ncaa.org/team/521/11980>\n",
      "2017-12-03 20:57:43 [scrapy.core.engine] DEBUG: Crawled (200) <GET http://stats.ncaa.org/teams/83625> (referer: None)\n"
     ]
    },
    {
     "name": "stdout",
     "output_type": "stream",
     "text": [
      "Northern Ill. Huskies\n"
     ]
    },
    {
     "name": "stderr",
     "output_type": "stream",
     "text": [
      "2017-12-03 20:57:46 [scrapy.downloadermiddlewares.redirect] DEBUG: Redirecting (302) to <GET http://stats.ncaa.org/teams/83632> from <GET http://stats.ncaa.org/team/523/11980>\n",
      "2017-12-03 20:57:47 [scrapy.core.engine] DEBUG: Crawled (200) <GET http://stats.ncaa.org/teams/83626> (referer: None)\n"
     ]
    },
    {
     "name": "stdout",
     "output_type": "stream",
     "text": [
      "Northwestern Wildcats\n"
     ]
    },
    {
     "name": "stderr",
     "output_type": "stream",
     "text": [
      "2017-12-03 20:57:48 [scrapy.downloadermiddlewares.redirect] DEBUG: Redirecting (302) to <GET http://stats.ncaa.org/teams/83613> from <GET http://stats.ncaa.org/team/433/11980>\n",
      "2017-12-03 20:57:51 [scrapy.downloadermiddlewares.redirect] DEBUG: Redirecting (302) to <GET http://stats.ncaa.org/teams/83634> from <GET http://stats.ncaa.org/team/529/11980>\n",
      "2017-12-03 20:57:53 [scrapy.downloadermiddlewares.redirect] DEBUG: Redirecting (302) to <GET http://stats.ncaa.org/teams/83633> from <GET http://stats.ncaa.org/team/528/11980>\n",
      "2017-12-03 20:57:54 [scrapy.core.engine] DEBUG: Crawled (200) <GET http://stats.ncaa.org/teams/83627> (referer: None)\n"
     ]
    },
    {
     "name": "stdout",
     "output_type": "stream",
     "text": [
      "Notre Dame Fighting Irish\n"
     ]
    },
    {
     "name": "stderr",
     "output_type": "stream",
     "text": [
      "2017-12-03 20:57:55 [scrapy.downloadermiddlewares.redirect] DEBUG: Redirecting (302) to <GET http://stats.ncaa.org/teams/83635> from <GET http://stats.ncaa.org/team/539/11980>\n",
      "2017-12-03 20:57:59 [scrapy.downloadermiddlewares.retry] DEBUG: Gave up retrying <GET http://stats.ncaa.org/teams/83611> (failed 3 times): 500 Internal Server Error\n",
      "2017-12-03 20:57:59 [scrapy.core.engine] DEBUG: Crawled (500) <GET http://stats.ncaa.org/teams/83611> (referer: None)\n",
      "2017-12-03 20:57:59 [scrapy.spidermiddlewares.httperror] INFO: Ignoring response <500 http://stats.ncaa.org/teams/83611>: HTTP status code is not handled or not allowed\n",
      "2017-12-03 20:58:00 [scrapy.downloadermiddlewares.redirect] DEBUG: Redirecting (302) to <GET http://stats.ncaa.org/teams/83636> from <GET http://stats.ncaa.org/team/545/11980>\n",
      "2017-12-03 20:58:02 [scrapy.core.engine] DEBUG: Crawled (200) <GET http://stats.ncaa.org/teams/83629> (referer: None)\n"
     ]
    },
    {
     "name": "stdout",
     "output_type": "stream",
     "text": [
      "Ohio Bobcats\n"
     ]
    },
    {
     "name": "stderr",
     "output_type": "stream",
     "text": [
      "2017-12-03 20:58:05 [scrapy.downloadermiddlewares.retry] DEBUG: Gave up retrying <GET http://stats.ncaa.org/teams/83614> (failed 3 times): 500 Internal Server Error\n",
      "2017-12-03 20:58:05 [scrapy.core.engine] DEBUG: Crawled (500) <GET http://stats.ncaa.org/teams/83614> (referer: None)\n",
      "2017-12-03 20:58:05 [scrapy.spidermiddlewares.httperror] INFO: Ignoring response <500 http://stats.ncaa.org/teams/83614>: HTTP status code is not handled or not allowed\n",
      "2017-12-03 20:58:07 [scrapy.downloadermiddlewares.redirect] DEBUG: Redirecting (302) to <GET http://stats.ncaa.org/teams/83637> from <GET http://stats.ncaa.org/team/559/11980>\n",
      "2017-12-03 20:58:08 [scrapy.core.engine] DEBUG: Crawled (200) <GET http://stats.ncaa.org/teams/83628> (referer: None)\n"
     ]
    },
    {
     "name": "stdout",
     "output_type": "stream",
     "text": [
      "Ohio St. Buckeyes\n"
     ]
    },
    {
     "name": "stderr",
     "output_type": "stream",
     "text": [
      "2017-12-03 20:58:10 [scrapy.core.engine] DEBUG: Crawled (200) <GET http://stats.ncaa.org/teams/83631> (referer: None)\n"
     ]
    },
    {
     "name": "stdout",
     "output_type": "stream",
     "text": [
      "Oklahoma Sooners\n"
     ]
    },
    {
     "name": "stderr",
     "output_type": "stream",
     "text": [
      "2017-12-03 20:58:11 [scrapy.downloadermiddlewares.redirect] DEBUG: Redirecting (302) to <GET http://stats.ncaa.org/teams/83638> from <GET http://stats.ncaa.org/team/574/11980>\n",
      "2017-12-03 20:58:12 [scrapy.core.engine] DEBUG: Crawled (200) <GET http://stats.ncaa.org/teams/83630> (referer: None)\n"
     ]
    },
    {
     "name": "stdout",
     "output_type": "stream",
     "text": [
      "Oklahoma St. Cowboys\n"
     ]
    },
    {
     "name": "stderr",
     "output_type": "stream",
     "text": [
      "2017-12-03 20:58:15 [scrapy.downloadermiddlewares.redirect] DEBUG: Redirecting (302) to <GET http://stats.ncaa.org/teams/83639> from <GET http://stats.ncaa.org/team/587/11980>\n",
      "2017-12-03 20:58:15 [scrapy.core.engine] DEBUG: Crawled (200) <GET http://stats.ncaa.org/teams/83632> (referer: None)\n"
     ]
    },
    {
     "name": "stdout",
     "output_type": "stream",
     "text": [
      "Old Dominion Monarchs\n"
     ]
    },
    {
     "name": "stderr",
     "output_type": "stream",
     "text": [
      "2017-12-03 20:58:21 [scrapy.core.engine] DEBUG: Crawled (200) <GET http://stats.ncaa.org/teams/83613> (referer: None)\n"
     ]
    },
    {
     "name": "stdout",
     "output_type": "stream",
     "text": [
      "Ole Miss Rebels\n"
     ]
    },
    {
     "name": "stderr",
     "output_type": "stream",
     "text": [
      "2017-12-03 20:58:22 [scrapy.downloadermiddlewares.redirect] DEBUG: Redirecting (302) to <GET http://stats.ncaa.org/teams/83646> from <GET http://stats.ncaa.org/team/663/11980>\n",
      "2017-12-03 20:58:23 [scrapy.core.engine] DEBUG: Crawled (200) <GET http://stats.ncaa.org/teams/83634> (referer: None)\n"
     ]
    },
    {
     "name": "stdout",
     "output_type": "stream",
     "text": [
      "Oregon Ducks\n"
     ]
    },
    {
     "name": "stderr",
     "output_type": "stream",
     "text": [
      "2017-12-03 20:58:24 [scrapy.extensions.logstats] INFO: Crawled 467 pages (at 16 pages/min), scraped 0 items (at 0 items/min)\n",
      "2017-12-03 20:58:25 [scrapy.core.engine] DEBUG: Crawled (200) <GET http://stats.ncaa.org/teams/83633> (referer: None)\n"
     ]
    },
    {
     "name": "stdout",
     "output_type": "stream",
     "text": [
      "Oregon St. Beavers\n"
     ]
    },
    {
     "name": "stderr",
     "output_type": "stream",
     "text": [
      "2017-12-03 20:58:27 [scrapy.downloadermiddlewares.redirect] DEBUG: Redirecting (302) to <GET http://stats.ncaa.org/teams/83640> from <GET http://stats.ncaa.org/team/626/11980>\n",
      "2017-12-03 20:58:29 [scrapy.core.engine] DEBUG: Crawled (200) <GET http://stats.ncaa.org/teams/83635> (referer: None)\n"
     ]
    },
    {
     "name": "stdout",
     "output_type": "stream",
     "text": [
      "Penn St. Nittany Lions\n"
     ]
    },
    {
     "name": "stderr",
     "output_type": "stream",
     "text": [
      "2017-12-03 20:58:31 [scrapy.downloadermiddlewares.redirect] DEBUG: Redirecting (302) to <GET http://stats.ncaa.org/teams/83641> from <GET http://stats.ncaa.org/team/630/11980>\n",
      "2017-12-03 20:58:32 [scrapy.core.engine] DEBUG: Crawled (200) <GET http://stats.ncaa.org/teams/83636> (referer: None)\n"
     ]
    },
    {
     "name": "stdout",
     "output_type": "stream",
     "text": [
      "Pittsburgh Panthers\n"
     ]
    },
    {
     "name": "stderr",
     "output_type": "stream",
     "text": [
      "2017-12-03 20:58:33 [scrapy.downloadermiddlewares.redirect] DEBUG: Redirecting (302) to <GET http://stats.ncaa.org/teams/83642> from <GET http://stats.ncaa.org/team/646/11980>\n",
      "2017-12-03 20:58:37 [scrapy.downloadermiddlewares.redirect] DEBUG: Redirecting (302) to <GET http://stats.ncaa.org/teams/83643> from <GET http://stats.ncaa.org/team/648/11980>\n",
      "2017-12-03 20:58:38 [scrapy.downloadermiddlewares.redirect] DEBUG: Redirecting (302) to <GET http://stats.ncaa.org/teams/83644> from <GET http://stats.ncaa.org/team/651/11980>\n",
      "2017-12-03 20:58:38 [scrapy.downloadermiddlewares.retry] DEBUG: Retrying <GET http://stats.ncaa.org/teams/83637> (failed 1 times): 500 Internal Server Error\n",
      "2017-12-03 20:58:42 [scrapy.downloadermiddlewares.redirect] DEBUG: Redirecting (302) to <GET http://stats.ncaa.org/teams/83645> from <GET http://stats.ncaa.org/team/657/11980>\n",
      "2017-12-03 20:58:43 [scrapy.core.engine] DEBUG: Crawled (200) <GET http://stats.ncaa.org/teams/83638> (referer: None)\n"
     ]
    },
    {
     "name": "stdout",
     "output_type": "stream",
     "text": [
      "Rice Owls\n"
     ]
    },
    {
     "name": "stderr",
     "output_type": "stream",
     "text": [
      "2017-12-03 20:58:46 [scrapy.downloadermiddlewares.redirect] DEBUG: Redirecting (302) to <GET http://stats.ncaa.org/teams/83647> from <GET http://stats.ncaa.org/team/664/11980>\n",
      "2017-12-03 20:58:48 [scrapy.core.engine] DEBUG: Crawled (200) <GET http://stats.ncaa.org/teams/83639> (referer: None)\n",
      "2017-12-03 20:58:48 [scrapy.downloadermiddlewares.redirect] DEBUG: Redirecting (302) to <GET http://stats.ncaa.org/teams/83650> from <GET http://stats.ncaa.org/team/674/11980>\n"
     ]
    },
    {
     "name": "stdout",
     "output_type": "stream",
     "text": [
      "Rutgers Scarlet Knights\n"
     ]
    },
    {
     "name": "stderr",
     "output_type": "stream",
     "text": [
      "2017-12-03 20:58:52 [scrapy.downloadermiddlewares.redirect] DEBUG: Redirecting (302) to <GET http://stats.ncaa.org/teams/83651> from <GET http://stats.ncaa.org/team/688/11980>\n",
      "2017-12-03 20:58:54 [scrapy.downloadermiddlewares.redirect] DEBUG: Redirecting (302) to <GET http://stats.ncaa.org/teams/83655> from <GET http://stats.ncaa.org/team/698/11980>\n",
      "2017-12-03 20:58:54 [scrapy.core.engine] DEBUG: Crawled (200) <GET http://stats.ncaa.org/teams/83646> (referer: None)\n"
     ]
    },
    {
     "name": "stdout",
     "output_type": "stream",
     "text": [
      "SMU Mustangs\n"
     ]
    },
    {
     "name": "stderr",
     "output_type": "stream",
     "text": [
      "2017-12-03 20:58:58 [scrapy.downloadermiddlewares.redirect] DEBUG: Redirecting (302) to <GET http://stats.ncaa.org/teams/83652> from <GET http://stats.ncaa.org/team/690/11980>\n",
      "2017-12-03 20:59:00 [scrapy.core.engine] DEBUG: Crawled (200) <GET http://stats.ncaa.org/teams/83640> (referer: None)\n"
     ]
    },
    {
     "name": "stdout",
     "output_type": "stream",
     "text": [
      "San Diego St. Aztecs\n"
     ]
    },
    {
     "name": "stderr",
     "output_type": "stream",
     "text": [
      "2017-12-03 20:59:01 [scrapy.downloadermiddlewares.redirect] DEBUG: Redirecting (302) to <GET http://stats.ncaa.org/teams/83653> from <GET http://stats.ncaa.org/team/694/11980>\n",
      "2017-12-03 20:59:03 [scrapy.core.engine] DEBUG: Crawled (200) <GET http://stats.ncaa.org/teams/83641> (referer: None)\n"
     ]
    },
    {
     "name": "stdout",
     "output_type": "stream",
     "text": [
      "San Jose St. Spartans\n"
     ]
    },
    {
     "name": "stderr",
     "output_type": "stream",
     "text": [
      "2017-12-03 20:59:07 [scrapy.core.engine] DEBUG: Crawled (200) <GET http://stats.ncaa.org/teams/83642> (referer: None)\n",
      "2017-12-03 20:59:07 [chardet.charsetprober] DEBUG: EUC-TW Taiwan prober hit error at byte 62\n",
      "2017-12-03 20:59:07 [chardet.charsetprober] DEBUG: utf-8  confidence = 0.505\n",
      "2017-12-03 20:59:07 [chardet.charsetprober] DEBUG: SHIFT_JIS Japanese confidence = 0.01\n",
      "2017-12-03 20:59:07 [chardet.charsetprober] DEBUG: EUC-JP Japanese confidence = 0.01\n",
      "2017-12-03 20:59:07 [chardet.charsetprober] DEBUG: GB2312 Chinese confidence = 0.01\n",
      "2017-12-03 20:59:07 [chardet.charsetprober] DEBUG: EUC-KR Korean confidence = 0.01\n",
      "2017-12-03 20:59:07 [chardet.charsetprober] DEBUG: CP949 Korean confidence = 0.01\n",
      "2017-12-03 20:59:07 [chardet.charsetprober] DEBUG: Big5 Chinese confidence = 0.01\n",
      "2017-12-03 20:59:07 [chardet.charsetprober] DEBUG: EUC-TW not active\n",
      "2017-12-03 20:59:07 [chardet.charsetprober] DEBUG: windows-1251 Russian confidence = 0.01\n",
      "2017-12-03 20:59:07 [chardet.charsetprober] DEBUG: KOI8-R Russian confidence = 0.01\n",
      "2017-12-03 20:59:07 [chardet.charsetprober] DEBUG: ISO-8859-5 Russian confidence = 0.01\n",
      "2017-12-03 20:59:07 [chardet.charsetprober] DEBUG: MacCyrillic Russian confidence = 0.01\n",
      "2017-12-03 20:59:07 [chardet.charsetprober] DEBUG: IBM866 Russian confidence = 0.01\n",
      "2017-12-03 20:59:07 [chardet.charsetprober] DEBUG: IBM855 Russian confidence = 0.01\n",
      "2017-12-03 20:59:07 [chardet.charsetprober] DEBUG: ISO-8859-7 Greek confidence = 0.01\n",
      "2017-12-03 20:59:07 [chardet.charsetprober] DEBUG: windows-1253 Greek confidence = 0.01\n",
      "2017-12-03 20:59:07 [chardet.charsetprober] DEBUG: ISO-8859-5 Bulgairan confidence = 0.01\n",
      "2017-12-03 20:59:07 [chardet.charsetprober] DEBUG: windows-1251 Bulgarian confidence = 0.01\n",
      "2017-12-03 20:59:07 [chardet.charsetprober] DEBUG: TIS-620 Thai confidence = 0.0\n",
      "2017-12-03 20:59:07 [chardet.charsetprober] DEBUG: ISO-8859-9 Turkish confidence = 0.6398017148061443\n",
      "2017-12-03 20:59:07 [chardet.charsetprober] DEBUG: windows-1255 Hebrew confidence = 0.0\n",
      "2017-12-03 20:59:07 [chardet.charsetprober] DEBUG: windows-1255 Hebrew confidence = 0.0\n",
      "2017-12-03 20:59:07 [chardet.charsetprober] DEBUG: windows-1255 Hebrew confidence = 0.0\n"
     ]
    },
    {
     "name": "stdout",
     "output_type": "stream",
     "text": [
      "South Ala. Jaguars\n"
     ]
    },
    {
     "name": "stderr",
     "output_type": "stream",
     "text": [
      "2017-12-03 20:59:09 [scrapy.core.engine] DEBUG: Crawled (200) <GET http://stats.ncaa.org/teams/83643> (referer: None)\n"
     ]
    },
    {
     "name": "stdout",
     "output_type": "stream",
     "text": [
      "South Carolina Gamecocks\n"
     ]
    },
    {
     "name": "stderr",
     "output_type": "stream",
     "text": [
      "2017-12-03 20:59:10 [scrapy.downloadermiddlewares.retry] DEBUG: Retrying <GET http://stats.ncaa.org/teams/83644> (failed 1 times): 500 Internal Server Error\n",
      "2017-12-03 20:59:12 [scrapy.downloadermiddlewares.retry] DEBUG: Retrying <GET http://stats.ncaa.org/teams/83637> (failed 2 times): 500 Internal Server Error\n",
      "2017-12-03 20:59:12 [scrapy.downloadermiddlewares.redirect] DEBUG: Redirecting (302) to <GET http://stats.ncaa.org/teams/83657> from <GET http://stats.ncaa.org/team/703/11980>\n",
      "2017-12-03 20:59:14 [scrapy.core.engine] DEBUG: Crawled (200) <GET http://stats.ncaa.org/teams/83645> (referer: None)\n"
     ]
    },
    {
     "name": "stdout",
     "output_type": "stream",
     "text": [
      "Southern California Trojans\n"
     ]
    },
    {
     "name": "stderr",
     "output_type": "stream",
     "text": [
      "2017-12-03 20:59:16 [scrapy.downloadermiddlewares.redirect] DEBUG: Redirecting (302) to <GET http://stats.ncaa.org/teams/83654> from <GET http://stats.ncaa.org/team/697/11980>\n",
      "2017-12-03 20:59:17 [scrapy.core.engine] DEBUG: Crawled (200) <GET http://stats.ncaa.org/teams/83647> (referer: None)\n"
     ]
    },
    {
     "name": "stdout",
     "output_type": "stream",
     "text": [
      "Southern Miss. Golden Eagles\n"
     ]
    },
    {
     "name": "stderr",
     "output_type": "stream",
     "text": [
      "2017-12-03 20:59:22 [scrapy.core.engine] DEBUG: Crawled (200) <GET http://stats.ncaa.org/teams/83650> (referer: None)\n"
     ]
    },
    {
     "name": "stdout",
     "output_type": "stream",
     "text": [
      "Stanford Cardinal\n"
     ]
    },
    {
     "name": "stderr",
     "output_type": "stream",
     "text": [
      "2017-12-03 20:59:23 [scrapy.downloadermiddlewares.redirect] DEBUG: Redirecting (302) to <GET http://stats.ncaa.org/teams/83648> from <GET http://stats.ncaa.org/team/670/11980>\n",
      "2017-12-03 20:59:23 [scrapy.core.engine] DEBUG: Crawled (200) <GET http://stats.ncaa.org/teams/83651> (referer: None)\n"
     ]
    },
    {
     "name": "stdout",
     "output_type": "stream",
     "text": [
      "Syracuse Orange\n"
     ]
    },
    {
     "name": "stderr",
     "output_type": "stream",
     "text": [
      "2017-12-03 20:59:24 [scrapy.extensions.logstats] INFO: Crawled 481 pages (at 14 pages/min), scraped 0 items (at 0 items/min)\n",
      "2017-12-03 20:59:25 [scrapy.core.engine] DEBUG: Crawled (200) <GET http://stats.ncaa.org/teams/83655> (referer: None)\n"
     ]
    },
    {
     "name": "stdout",
     "output_type": "stream",
     "text": [
      "TCU Horned Frogs\n"
     ]
    },
    {
     "name": "stderr",
     "output_type": "stream",
     "text": [
      "2017-12-03 20:59:27 [scrapy.downloadermiddlewares.redirect] DEBUG: Redirecting (302) to <GET http://stats.ncaa.org/teams/83656> from <GET http://stats.ncaa.org/team/700/11980>\n",
      "2017-12-03 20:59:29 [scrapy.core.engine] DEBUG: Crawled (200) <GET http://stats.ncaa.org/teams/83652> (referer: None)\n"
     ]
    },
    {
     "name": "stdout",
     "output_type": "stream",
     "text": [
      "Temple Owls\n"
     ]
    },
    {
     "name": "stderr",
     "output_type": "stream",
     "text": [
      "2017-12-03 20:59:30 [scrapy.downloadermiddlewares.redirect] DEBUG: Redirecting (302) to <GET http://stats.ncaa.org/teams/83660> from <GET http://stats.ncaa.org/team/709/11980>\n",
      "2017-12-03 20:59:32 [scrapy.core.engine] DEBUG: Crawled (200) <GET http://stats.ncaa.org/teams/83653> (referer: None)\n"
     ]
    },
    {
     "name": "stdout",
     "output_type": "stream",
     "text": [
      "Tennessee Volunteers\n"
     ]
    },
    {
     "name": "stderr",
     "output_type": "stream",
     "text": [
      "2017-12-03 20:59:33 [scrapy.downloadermiddlewares.redirect] DEBUG: Redirecting (302) to <GET http://stats.ncaa.org/teams/83661> from <GET http://stats.ncaa.org/team/716/11980>\n",
      "2017-12-03 20:59:34 [scrapy.downloadermiddlewares.redirect] DEBUG: Redirecting (302) to <GET http://stats.ncaa.org/teams/83662> from <GET http://stats.ncaa.org/team/718/11980>\n",
      "2017-12-03 20:59:38 [scrapy.downloadermiddlewares.retry] DEBUG: Retrying <GET http://stats.ncaa.org/teams/83644> (failed 2 times): 500 Internal Server Error\n",
      "2017-12-03 20:59:40 [scrapy.downloadermiddlewares.retry] DEBUG: Gave up retrying <GET http://stats.ncaa.org/teams/83637> (failed 3 times): 500 Internal Server Error\n",
      "2017-12-03 20:59:40 [scrapy.core.engine] DEBUG: Crawled (500) <GET http://stats.ncaa.org/teams/83637> (referer: None)\n",
      "2017-12-03 20:59:40 [scrapy.spidermiddlewares.httperror] INFO: Ignoring response <500 http://stats.ncaa.org/teams/83637>: HTTP status code is not handled or not allowed\n",
      "2017-12-03 20:59:40 [scrapy.downloadermiddlewares.redirect] DEBUG: Redirecting (302) to <GET http://stats.ncaa.org/teams/83663> from <GET http://stats.ncaa.org/team/719/11980>\n",
      "2017-12-03 20:59:42 [scrapy.core.engine] DEBUG: Crawled (200) <GET http://stats.ncaa.org/teams/83657> (referer: None)\n"
     ]
    },
    {
     "name": "stdout",
     "output_type": "stream",
     "text": [
      "Texas Longhorns\n"
     ]
    },
    {
     "name": "stderr",
     "output_type": "stream",
     "text": [
      "2017-12-03 20:59:43 [scrapy.downloadermiddlewares.redirect] DEBUG: Redirecting (302) to <GET http://stats.ncaa.org/teams/83553> from <GET http://stats.ncaa.org/team/9/11980>\n",
      "2017-12-03 20:59:45 [scrapy.downloadermiddlewares.redirect] DEBUG: Redirecting (302) to <GET http://stats.ncaa.org/teams/83570> from <GET http://stats.ncaa.org/team/128/11980>\n",
      "2017-12-03 20:59:45 [scrapy.core.engine] DEBUG: Crawled (200) <GET http://stats.ncaa.org/teams/83654> (referer: None)\n"
     ]
    },
    {
     "name": "stdout",
     "output_type": "stream",
     "text": [
      "Texas A&M Aggies\n"
     ]
    },
    {
     "name": "stderr",
     "output_type": "stream",
     "text": [
      "2017-12-03 20:59:49 [scrapy.downloadermiddlewares.redirect] DEBUG: Redirecting (302) to <GET http://stats.ncaa.org/teams/83569> from <GET http://stats.ncaa.org/team/110/11980>\n",
      "2017-12-03 20:59:50 [scrapy.downloadermiddlewares.redirect] DEBUG: Redirecting (302) to <GET http://stats.ncaa.org/teams/83576> from <GET http://stats.ncaa.org/team/164/11980>\n",
      "2017-12-03 20:59:51 [scrapy.core.engine] DEBUG: Crawled (200) <GET http://stats.ncaa.org/teams/83648> (referer: None)\n"
     ]
    },
    {
     "name": "stdout",
     "output_type": "stream",
     "text": [
      "Texas St. Bobcats\n"
     ]
    },
    {
     "name": "stderr",
     "output_type": "stream",
     "text": [
      "2017-12-03 20:59:54 [scrapy.downloadermiddlewares.redirect] DEBUG: Redirecting (302) to <GET http://stats.ncaa.org/teams/83618> from <GET http://stats.ncaa.org/team/465/11980>\n",
      "2017-12-03 20:59:56 [scrapy.downloadermiddlewares.retry] DEBUG: Retrying <GET http://stats.ncaa.org/teams/83656> (failed 1 times): 500 Internal Server Error\n",
      "2017-12-03 20:59:58 [scrapy.downloadermiddlewares.redirect] DEBUG: Redirecting (302) to <GET http://stats.ncaa.org/teams/83658> from <GET http://stats.ncaa.org/team/704/11980>\n",
      "2017-12-03 21:00:00 [scrapy.core.engine] DEBUG: Crawled (200) <GET http://stats.ncaa.org/teams/83660> (referer: None)\n"
     ]
    },
    {
     "name": "stdout",
     "output_type": "stream",
     "text": [
      "Toledo Rockets\n"
     ]
    },
    {
     "name": "stderr",
     "output_type": "stream",
     "text": [
      "2017-12-03 21:00:04 [scrapy.downloadermiddlewares.redirect] DEBUG: Redirecting (302) to <GET http://stats.ncaa.org/teams/83659> from <GET http://stats.ncaa.org/team/706/11980>\n",
      "2017-12-03 21:00:06 [scrapy.core.engine] DEBUG: Crawled (200) <GET http://stats.ncaa.org/teams/83661> (referer: None)\n"
     ]
    },
    {
     "name": "stdout",
     "output_type": "stream",
     "text": [
      "Troy Trojans\n"
     ]
    },
    {
     "name": "stderr",
     "output_type": "stream",
     "text": [
      "2017-12-03 21:00:08 [scrapy.downloadermiddlewares.redirect] DEBUG: Redirecting (302) to <GET http://stats.ncaa.org/teams/83668> from <GET http://stats.ncaa.org/team/732/11980>\n",
      "2017-12-03 21:00:09 [scrapy.core.engine] DEBUG: Crawled (200) <GET http://stats.ncaa.org/teams/83662> (referer: None)\n",
      "2017-12-03 21:00:09 [scrapy.downloadermiddlewares.retry] DEBUG: Gave up retrying <GET http://stats.ncaa.org/teams/83644> (failed 3 times): 500 Internal Server Error\n",
      "2017-12-03 21:00:09 [scrapy.core.engine] DEBUG: Crawled (500) <GET http://stats.ncaa.org/teams/83644> (referer: None)\n"
     ]
    },
    {
     "name": "stdout",
     "output_type": "stream",
     "text": [
      "Tulane Green Wave\n"
     ]
    },
    {
     "name": "stderr",
     "output_type": "stream",
     "text": [
      "2017-12-03 21:00:09 [scrapy.spidermiddlewares.httperror] INFO: Ignoring response <500 http://stats.ncaa.org/teams/83644>: HTTP status code is not handled or not allowed\n",
      "2017-12-03 21:00:11 [scrapy.core.engine] DEBUG: Crawled (200) <GET http://stats.ncaa.org/teams/83663> (referer: None)\n"
     ]
    },
    {
     "name": "stdout",
     "output_type": "stream",
     "text": [
      "Tulsa Golden Hurricane\n"
     ]
    },
    {
     "name": "stderr",
     "output_type": "stream",
     "text": [
      "2017-12-03 21:00:13 [scrapy.downloadermiddlewares.redirect] DEBUG: Redirecting (302) to <GET http://stats.ncaa.org/teams/83667> from <GET http://stats.ncaa.org/team/731/11980>\n",
      "2017-12-03 21:00:14 [scrapy.downloadermiddlewares.retry] DEBUG: Retrying <GET http://stats.ncaa.org/teams/83553> (failed 1 times): 500 Internal Server Error\n",
      "2017-12-03 21:00:18 [scrapy.core.engine] DEBUG: Crawled (200) <GET http://stats.ncaa.org/teams/83570> (referer: None)\n"
     ]
    },
    {
     "name": "stdout",
     "output_type": "stream",
     "text": [
      "UCF Knights\n"
     ]
    },
    {
     "name": "stderr",
     "output_type": "stream",
     "text": [
      "2017-12-03 21:00:18 [scrapy.downloadermiddlewares.redirect] DEBUG: Redirecting (302) to <GET http://stats.ncaa.org/teams/83669> from <GET http://stats.ncaa.org/team/736/11980>\n",
      "2017-12-03 21:00:20 [scrapy.core.engine] DEBUG: Crawled (200) <GET http://stats.ncaa.org/teams/83569> (referer: None)\n"
     ]
    },
    {
     "name": "stdout",
     "output_type": "stream",
     "text": [
      "UCLA Bruins\n"
     ]
    },
    {
     "name": "stderr",
     "output_type": "stream",
     "text": [
      "2017-12-03 21:00:21 [scrapy.core.engine] DEBUG: Crawled (200) <GET http://stats.ncaa.org/teams/83576> (referer: None)\n"
     ]
    },
    {
     "name": "stdout",
     "output_type": "stream",
     "text": [
      "UConn Huskies, UConn\n"
     ]
    },
    {
     "name": "stderr",
     "output_type": "stream",
     "text": [
      "2017-12-03 21:00:24 [scrapy.extensions.logstats] INFO: Crawled 496 pages (at 15 pages/min), scraped 0 items (at 0 items/min)\n",
      "2017-12-03 21:00:25 [scrapy.core.engine] DEBUG: Crawled (200) <GET http://stats.ncaa.org/teams/83618> (referer: None)\n"
     ]
    },
    {
     "name": "stdout",
     "output_type": "stream",
     "text": [
      "UNLV Rebels\n"
     ]
    },
    {
     "name": "stderr",
     "output_type": "stream",
     "text": [
      "2017-12-03 21:00:26 [scrapy.downloadermiddlewares.redirect] DEBUG: Redirecting (302) to <GET http://stats.ncaa.org/teams/83671> from <GET http://stats.ncaa.org/team/746/11980>\n",
      "2017-12-03 21:00:26 [scrapy.downloadermiddlewares.retry] DEBUG: Retrying <GET http://stats.ncaa.org/teams/83656> (failed 2 times): 500 Internal Server Error\n",
      "2017-12-03 21:00:28 [scrapy.downloadermiddlewares.redirect] DEBUG: Redirecting (302) to <GET http://stats.ncaa.org/teams/83670> from <GET http://stats.ncaa.org/team/742/11980>\n",
      "2017-12-03 21:00:28 [scrapy.core.engine] DEBUG: Crawled (200) <GET http://stats.ncaa.org/teams/83658> (referer: None)\n"
     ]
    },
    {
     "name": "stdout",
     "output_type": "stream",
     "text": [
      "UTEP Miners\n"
     ]
    },
    {
     "name": "stderr",
     "output_type": "stream",
     "text": [
      "2017-12-03 21:00:31 [scrapy.downloadermiddlewares.redirect] DEBUG: Redirecting (302) to <GET http://stats.ncaa.org/teams/83672> from <GET http://stats.ncaa.org/team/749/11980>\n",
      "2017-12-03 21:00:31 [scrapy.core.engine] DEBUG: Crawled (200) <GET http://stats.ncaa.org/teams/83659> (referer: None)\n"
     ]
    },
    {
     "name": "stdout",
     "output_type": "stream",
     "text": [
      "UTSA Roadrunners\n"
     ]
    },
    {
     "name": "stderr",
     "output_type": "stream",
     "text": [
      "2017-12-03 21:00:33 [scrapy.downloadermiddlewares.redirect] DEBUG: Redirecting (302) to <GET http://stats.ncaa.org/teams/83674> from <GET http://stats.ncaa.org/team/756/11980>\n",
      "2017-12-03 21:00:34 [scrapy.core.engine] DEBUG: Crawled (200) <GET http://stats.ncaa.org/teams/83668> (referer: None)\n"
     ]
    },
    {
     "name": "stdout",
     "output_type": "stream",
     "text": [
      "Utah Utes\n"
     ]
    },
    {
     "name": "stderr",
     "output_type": "stream",
     "text": [
      "2017-12-03 21:00:35 [scrapy.downloadermiddlewares.redirect] DEBUG: Redirecting (302) to <GET http://stats.ncaa.org/teams/83673> from <GET http://stats.ncaa.org/team/754/11980>\n",
      "2017-12-03 21:00:40 [scrapy.downloadermiddlewares.redirect] DEBUG: Redirecting (302) to <GET http://stats.ncaa.org/teams/83675> from <GET http://stats.ncaa.org/team/768/11980>\n",
      "2017-12-03 21:00:40 [scrapy.core.engine] DEBUG: Crawled (200) <GET http://stats.ncaa.org/teams/83667> (referer: None)\n"
     ]
    },
    {
     "name": "stdout",
     "output_type": "stream",
     "text": [
      "Utah St. Aggies\n"
     ]
    },
    {
     "name": "stderr",
     "output_type": "stream",
     "text": [
      "2017-12-03 21:00:41 [scrapy.downloadermiddlewares.retry] DEBUG: Retrying <GET http://stats.ncaa.org/teams/83553> (failed 2 times): 500 Internal Server Error\n",
      "2017-12-03 21:00:43 [scrapy.downloadermiddlewares.redirect] DEBUG: Redirecting (302) to <GET http://stats.ncaa.org/teams/83676> from <GET http://stats.ncaa.org/team/772/11980>\n",
      "2017-12-03 21:00:45 [scrapy.downloadermiddlewares.redirect] DEBUG: Redirecting (302) to <GET http://stats.ncaa.org/teams/83677> from <GET http://stats.ncaa.org/team/774/11980>\n",
      "2017-12-03 21:00:45 [scrapy.core.engine] DEBUG: Crawled (200) <GET http://stats.ncaa.org/teams/83669> (referer: None)\n"
     ]
    },
    {
     "name": "stdout",
     "output_type": "stream",
     "text": [
      "Vanderbilt Commodores\n"
     ]
    },
    {
     "name": "stderr",
     "output_type": "stream",
     "text": [
      "2017-12-03 21:00:47 [scrapy.downloadermiddlewares.redirect] DEBUG: Redirecting (302) to <GET http://stats.ncaa.org/teams/83678> from <GET http://stats.ncaa.org/team/796/11980>\n",
      "2017-12-03 21:00:52 [scrapy.core.engine] DEBUG: Crawled (200) <GET http://stats.ncaa.org/teams/83671> (referer: None)\n"
     ]
    },
    {
     "name": "stdout",
     "output_type": "stream",
     "text": [
      "Virginia Cavaliers\n"
     ]
    },
    {
     "name": "stderr",
     "output_type": "stream",
     "text": [
      "2017-12-03 21:00:54 [scrapy.downloadermiddlewares.redirect] DEBUG: Redirecting (302) to <GET http://stats.ncaa.org/teams/83679> from <GET http://stats.ncaa.org/team/811/11980>\n",
      "2017-12-03 21:00:54 [scrapy.downloadermiddlewares.retry] DEBUG: Gave up retrying <GET http://stats.ncaa.org/teams/83656> (failed 3 times): 500 Internal Server Error\n",
      "2017-12-03 21:00:54 [scrapy.core.engine] DEBUG: Crawled (500) <GET http://stats.ncaa.org/teams/83656> (referer: None)\n",
      "2017-12-03 21:00:54 [scrapy.spidermiddlewares.httperror] INFO: Ignoring response <500 http://stats.ncaa.org/teams/83656>: HTTP status code is not handled or not allowed\n",
      "2017-12-03 21:00:56 [scrapy.core.engine] DEBUG: Crawled (200) <GET http://stats.ncaa.org/teams/83670> (referer: None)\n"
     ]
    },
    {
     "name": "stdout",
     "output_type": "stream",
     "text": [
      "Virginia Tech Hokies\n"
     ]
    },
    {
     "name": "stderr",
     "output_type": "stream",
     "text": [
      "2017-12-03 21:01:02 [scrapy.core.engine] DEBUG: Crawled (200) <GET http://stats.ncaa.org/teams/83674> (referer: None)\n"
     ]
    },
    {
     "name": "stdout",
     "output_type": "stream",
     "text": [
      "Washington Huskies\n"
     ]
    },
    {
     "name": "stderr",
     "output_type": "stream",
     "text": [
      "2017-12-03 21:01:03 [scrapy.core.engine] DEBUG: Crawled (200) <GET http://stats.ncaa.org/teams/83673> (referer: None)\n"
     ]
    },
    {
     "name": "stdout",
     "output_type": "stream",
     "text": [
      "Washington St. Cougars\n"
     ]
    },
    {
     "name": "stderr",
     "output_type": "stream",
     "text": [
      "2017-12-03 21:01:04 [scrapy.core.engine] DEBUG: Crawled (200) <GET http://stats.ncaa.org/teams/83672> (referer: None)\n"
     ]
    },
    {
     "name": "stdout",
     "output_type": "stream",
     "text": [
      "Wake Forest Demon Deacons\n"
     ]
    },
    {
     "name": "stderr",
     "output_type": "stream",
     "text": [
      "2017-12-03 21:01:04 [scrapy.core.engine] DEBUG: Crawled (200) <GET http://stats.ncaa.org/teams/83675> (referer: None)\n"
     ]
    },
    {
     "name": "stdout",
     "output_type": "stream",
     "text": [
      "West Virginia Mountaineers\n"
     ]
    },
    {
     "name": "stderr",
     "output_type": "stream",
     "text": [
      "2017-12-03 21:01:05 [scrapy.downloadermiddlewares.retry] DEBUG: Gave up retrying <GET http://stats.ncaa.org/teams/83553> (failed 3 times): 500 Internal Server Error\n",
      "2017-12-03 21:01:05 [scrapy.core.engine] DEBUG: Crawled (500) <GET http://stats.ncaa.org/teams/83553> (referer: None)\n",
      "2017-12-03 21:01:05 [scrapy.spidermiddlewares.httperror] INFO: Ignoring response <500 http://stats.ncaa.org/teams/83553>: HTTP status code is not handled or not allowed\n",
      "2017-12-03 21:01:09 [scrapy.core.engine] DEBUG: Crawled (200) <GET http://stats.ncaa.org/teams/83676> (referer: None)\n"
     ]
    },
    {
     "name": "stdout",
     "output_type": "stream",
     "text": [
      "Western Ky. Hilltoppers\n"
     ]
    },
    {
     "name": "stderr",
     "output_type": "stream",
     "text": [
      "2017-12-03 21:01:10 [scrapy.core.engine] DEBUG: Crawled (200) <GET http://stats.ncaa.org/teams/83677> (referer: None)\n"
     ]
    },
    {
     "name": "stdout",
     "output_type": "stream",
     "text": [
      "Western Mich. Broncos\n"
     ]
    },
    {
     "name": "stderr",
     "output_type": "stream",
     "text": [
      "2017-12-03 21:01:12 [scrapy.core.engine] DEBUG: Crawled (200) <GET http://stats.ncaa.org/teams/83678> (referer: None)\n"
     ]
    },
    {
     "name": "stdout",
     "output_type": "stream",
     "text": [
      "Wisconsin Badgers\n"
     ]
    },
    {
     "name": "stderr",
     "output_type": "stream",
     "text": [
      "2017-12-03 21:01:13 [scrapy.core.engine] DEBUG: Crawled (200) <GET http://stats.ncaa.org/teams/83679> (referer: None)\n",
      "2017-12-03 21:01:14 [scrapy.core.engine] INFO: Closing spider (finished)\n",
      "2017-12-03 21:01:14 [scrapy.statscollectors] INFO: Dumping Scrapy stats:\n",
      "{'downloader/request_bytes': 578924,\n",
      " 'downloader/request_count': 1082,\n",
      " 'downloader/request_method_count/GET': 1082,\n",
      " 'downloader/response_bytes': 3988380,\n",
      " 'downloader/response_count': 1082,\n",
      " 'downloader/response_status_count/200': 487,\n",
      " 'downloader/response_status_count/302': 514,\n",
      " 'downloader/response_status_count/500': 81,\n",
      " 'finish_reason': 'finished',\n",
      " 'finish_time': datetime.datetime(2017, 12, 4, 3, 1, 14, 235103),\n",
      " 'httperror/response_ignored_count': 27,\n",
      " 'httperror/response_ignored_status_count/500': 27,\n",
      " 'log_count/DEBUG': 1134,\n",
      " 'log_count/INFO': 66,\n",
      " 'memusage/max': 146575360,\n",
      " 'memusage/startup': 121135104,\n",
      " 'response_received_count': 514,\n",
      " 'retry/count': 54,\n",
      " 'retry/max_reached': 27,\n",
      " 'retry/reason_count/500 Internal Server Error': 54,\n",
      " 'scheduler/dequeued': 1082,\n",
      " 'scheduler/dequeued/memory': 1082,\n",
      " 'scheduler/enqueued': 1082,\n",
      " 'scheduler/enqueued/memory': 1082,\n",
      " 'start_time': datetime.datetime(2017, 12, 4, 2, 28, 24, 812785)}\n",
      "2017-12-03 21:01:14 [scrapy.core.engine] INFO: Spider closed (finished)\n"
     ]
    },
    {
     "name": "stdout",
     "output_type": "stream",
     "text": [
      "Wyoming Cowboys\n",
      "Spider is done\n"
     ]
    }
   ],
   "source": [
    "process = CrawlerProcess({\n",
    "    'USER_AGENT': 'Mozilla/5.0 (X11; Linux x86_64) AppleWebKit/537.36 (KHTML, like Gecko) Chrome/60.0.3112.90 Safari/537.36'\n",
    "})\n",
    "\n",
    "process.crawl(DataSpider)\n",
    "process.start() "
   ]
  },
  {
   "cell_type": "code",
   "execution_count": null,
   "metadata": {
    "collapsed": true
   },
   "outputs": [],
   "source": []
  }
 ],
 "metadata": {
  "kernelspec": {
   "display_name": "Python 3",
   "language": "python",
   "name": "python3"
  },
  "language_info": {
   "codemirror_mode": {
    "name": "ipython",
    "version": 3
   },
   "file_extension": ".py",
   "mimetype": "text/x-python",
   "name": "python",
   "nbconvert_exporter": "python",
   "pygments_lexer": "ipython3",
   "version": "3.6.1"
  }
 },
 "nbformat": 4,
 "nbformat_minor": 2
}
