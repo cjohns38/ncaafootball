{
 "cells": [
  {
   "cell_type": "code",
   "execution_count": 1,
   "metadata": {},
   "outputs": [],
   "source": [
    "import zipfile, os, re, datetime\n",
    "import pandas as pd\n",
    "import numpy as np \n",
    "from functions.functions import createvariables, yrRecode, fixTOP, removeSlashes, teamhistory, \\\n",
    "coach_history, previous_yrs, opponent, opp, create_variables"
   ]
  },
  {
   "cell_type": "markdown",
   "metadata": {},
   "source": [
    "# Read in the fooball data"
   ]
  },
  {
   "cell_type": "code",
   "execution_count": 2,
   "metadata": {
    "collapsed": true
   },
   "outputs": [],
   "source": [
    "_file = os.path.join('ncaa_football_scrapy','Data', 'Data.zip')\n",
    "zf = zipfile.ZipFile(_file)\n",
    "filenames = zf.namelist()"
   ]
  },
  {
   "cell_type": "markdown",
   "metadata": {},
   "source": [
    "# Create Program History DF"
   ]
  },
  {
   "cell_type": "code",
   "execution_count": 3,
   "metadata": {
    "collapsed": true
   },
   "outputs": [],
   "source": [
    "history = pd.read_csv(zf.open('history.csv'))\n",
    "history['year'] = history.apply(lambda x: int(x['Year'][:4]), axis = 1)"
   ]
  },
  {
   "cell_type": "markdown",
   "metadata": {},
   "source": [
    "# Coach links"
   ]
  },
  {
   "cell_type": "code",
   "execution_count": 4,
   "metadata": {
    "collapsed": true
   },
   "outputs": [],
   "source": [
    "coach_links = pd.read_csv(os.path.join(\"ncaa_football_scrapy\", \"Links\", \"links_teaminfo.csv\"))\n",
    "coach_links = coach_links.rename(columns={\"txt\":\"coach\", 'team':\"Team\"})\n",
    "coach_links = coach_links[coach_links.key == 'people'][['Team', 'coach', 'year']]\n",
    "coach_links['Team'] = coach_links.Team.str.replace(\"  \", \" \")"
   ]
  },
  {
   "cell_type": "markdown",
   "metadata": {},
   "source": [
    "# Account for coaches who get fired in the season"
   ]
  },
  {
   "cell_type": "code",
   "execution_count": 5,
   "metadata": {
    "collapsed": true
   },
   "outputs": [],
   "source": [
    "coach_dict = coach_links.to_dict(orient='record')"
   ]
  },
  {
   "cell_type": "code",
   "execution_count": 6,
   "metadata": {
    "collapsed": true
   },
   "outputs": [],
   "source": [
    "coach_fixed = {}\n",
    "for x in coach_dict: \n",
    "    if x['year'] not in coach_fixed: \n",
    "        coach_fixed[x['year']] = {}\n",
    "    if x['Team'] not in coach_fixed[x['year']]: \n",
    "        coach_fixed[x['year']][x['Team']] = []\n",
    "    coach_fixed[x['year']][x['Team']].append(x['coach'])"
   ]
  },
  {
   "cell_type": "code",
   "execution_count": 7,
   "metadata": {
    "collapsed": true
   },
   "outputs": [],
   "source": [
    "coaches_list = []\n",
    "for yr, teams in coach_fixed.items(): \n",
    "    for team, coaches in teams.items(): \n",
    "        tmp = {'year':yr, 'Team':team, 'coach':coaches}\n",
    "        coaches_list.append(tmp)"
   ]
  },
  {
   "cell_type": "code",
   "execution_count": 8,
   "metadata": {
    "collapsed": true
   },
   "outputs": [],
   "source": [
    "coaches_list_fixed = pd.DataFrame(coaches_list)"
   ]
  },
  {
   "cell_type": "markdown",
   "metadata": {},
   "source": [
    "# Create Coach DF "
   ]
  },
  {
   "cell_type": "code",
   "execution_count": 9,
   "metadata": {},
   "outputs": [],
   "source": [
    "coaches = pd.read_csv(zf.open('coaches.csv'))"
   ]
  },
  {
   "cell_type": "code",
   "execution_count": 10,
   "metadata": {},
   "outputs": [],
   "source": [
    "coaches['year'] = coaches.apply(lambda x: int(x['Year'][:4]), axis = 1)\n",
    "coaches.rename(columns = {'Name':'coach'}, inplace = True)"
   ]
  },
  {
   "cell_type": "markdown",
   "metadata": {},
   "source": [
    "# Create Roster DF"
   ]
  },
  {
   "cell_type": "code",
   "execution_count": 11,
   "metadata": {
    "collapsed": true
   },
   "outputs": [],
   "source": [
    "roster = pd.read_csv(zf.open('roster.csv'))"
   ]
  },
  {
   "cell_type": "code",
   "execution_count": 12,
   "metadata": {
    "collapsed": true
   },
   "outputs": [],
   "source": [
    "roster['year'] = roster.apply(lambda x: int(x['Year'][:4]), axis = 1)"
   ]
  },
  {
   "cell_type": "code",
   "execution_count": 13,
   "metadata": {
    "collapsed": true
   },
   "outputs": [],
   "source": [
    "roster_by_year = roster[['Team', 'Yr', 'year', 'GS']].groupby(['Team', 'year', 'Yr']).count().reset_index()"
   ]
  },
  {
   "cell_type": "code",
   "execution_count": 14,
   "metadata": {
    "collapsed": true
   },
   "outputs": [],
   "source": [
    "roster_games_started = roster[['Team', 'year', 'Yr', 'GS']].groupby(['Team', 'year', \"Yr\"]).mean().reset_index()"
   ]
  },
  {
   "cell_type": "code",
   "execution_count": 15,
   "metadata": {
    "collapsed": true
   },
   "outputs": [],
   "source": [
    "roster_games_played = roster[['Team', 'year', 'Yr', 'GP']].groupby(['Team', 'year', \"Yr\"]).mean().reset_index()"
   ]
  },
  {
   "cell_type": "code",
   "execution_count": 16,
   "metadata": {
    "collapsed": true
   },
   "outputs": [],
   "source": [
    "roster_final = pd.merge(roster_games_played, \n",
    "                        roster_games_started, \n",
    "                        left_on = ['Team', 'year', 'Yr'], \n",
    "                        right_on = ['Team', 'year', 'Yr'],\n",
    "                        how = 'left'\n",
    "                       )"
   ]
  },
  {
   "cell_type": "code",
   "execution_count": 17,
   "metadata": {
    "collapsed": true
   },
   "outputs": [],
   "source": [
    "roster_df = roster_final.set_index(['Team', 'year', 'Yr']).unstack().reset_index()"
   ]
  },
  {
   "cell_type": "code",
   "execution_count": 18,
   "metadata": {
    "collapsed": true
   },
   "outputs": [],
   "source": [
    "columns = [x[0] if x[0] in ['Team', 'year'] else x[0] + \"_\" + x[1] for x in roster_df.columns.values]\n",
    "roster_df.columns = columns"
   ]
  },
  {
   "cell_type": "markdown",
   "metadata": {
    "collapsed": true
   },
   "source": [
    "# Merge together game-by-game data"
   ]
  },
  {
   "cell_type": "code",
   "execution_count": 19,
   "metadata": {
    "collapsed": true
   },
   "outputs": [],
   "source": [
    "# Subset the gamebygame files\n",
    "targetfiles = [file for file in filenames if 'gamebygame' in file ]"
   ]
  },
  {
   "cell_type": "code",
   "execution_count": 20,
   "metadata": {},
   "outputs": [],
   "source": [
    "# Remove the team names data file \n",
    "idx = targetfiles.index('gamebygame_teamnames.csv')\n",
    "targetfiles.pop(idx);"
   ]
  },
  {
   "cell_type": "code",
   "execution_count": 21,
   "metadata": {
    "collapsed": true
   },
   "outputs": [],
   "source": [
    "# Create a dict of dfs with all the game-by-game stats using a multi-index \n",
    "dfs = {}\n",
    "for f in targetfiles: \n",
    "    filename = f.split(\".\")[0]\n",
    "    dfs[filename] = pd.read_csv(zf.open(f))\n",
    "    dfs[filename]['Date'] = pd.to_datetime(dfs[filename]['Date'])\n",
    "    dfs[filename].set_index(['Team', 'Date', 'OffenseDefense'], inplace = True)"
   ]
  },
  {
   "cell_type": "code",
   "execution_count": 22,
   "metadata": {
    "collapsed": true
   },
   "outputs": [],
   "source": [
    "# Concatenate the data together and drop duplicate columns \n",
    "master = pd.concat([v for k, v in dfs.items()], axis = 1)\n",
    "master = master.loc[:, ~master.columns.duplicated()]"
   ]
  },
  {
   "cell_type": "code",
   "execution_count": 23,
   "metadata": {},
   "outputs": [],
   "source": [
    "# Standardize time of possession format \n",
    "master['TOP'] = master.apply(lambda x: fixTOP(x['TOP']) if pd.isnull(x['TOP']) == False else x['TOP'], axis =1)\n",
    "master['TOP'] = pd.to_timedelta(master['TOP'])"
   ]
  },
  {
   "cell_type": "code",
   "execution_count": 24,
   "metadata": {},
   "outputs": [],
   "source": [
    "# Remove slashes in column data and convert to numeric \n",
    "\n",
    "cols = list(master.columns)\n",
    "TOP_index = list(cols).index('TOP')\n",
    "cols.pop(TOP_index);\n",
    "\n",
    "master[cols[3:]] = master.apply(lambda x: removeSlashes(x, cols), axis =1)\n",
    "master[cols[3:]] = master[cols[3:]].apply(pd.to_numeric)"
   ]
  },
  {
   "cell_type": "markdown",
   "metadata": {},
   "source": [
    "# Subset Offense Defense"
   ]
  },
  {
   "cell_type": "code",
   "execution_count": 25,
   "metadata": {
    "collapsed": true
   },
   "outputs": [],
   "source": [
    "defense = master[master.index.get_level_values('OffenseDefense') == 'Defense'].copy()\n",
    "offense = master[master.index.get_level_values('OffenseDefense') == 'Offense'].copy()"
   ]
  },
  {
   "cell_type": "code",
   "execution_count": 26,
   "metadata": {},
   "outputs": [],
   "source": [
    "assert len(defense) == len(offense),  \"Offense/Defense datasets different sizes\""
   ]
  },
  {
   "cell_type": "markdown",
   "metadata": {},
   "source": [
    "# Merge together offense / defense data"
   ]
  },
  {
   "cell_type": "code",
   "execution_count": 27,
   "metadata": {},
   "outputs": [],
   "source": [
    "offense.reset_index(inplace = True)\n",
    "offense['year'] = offense['Date'].dt.year\n",
    "offense.drop(['OffenseDefense', 'G', 'Result'], axis = 1, inplace = True)"
   ]
  },
  {
   "cell_type": "code",
   "execution_count": 28,
   "metadata": {},
   "outputs": [],
   "source": [
    "# Relabel defense columns to defense\n",
    "defense.columns = ['def_' + x for x in defense.columns]\n",
    "defense.reset_index(inplace = True)\n",
    "defense['year'] = defense['Date'].dt.year\n",
    "defense.drop(['OffenseDefense', 'def_G', 'def_Result'], axis = 1, inplace = True)"
   ]
  },
  {
   "cell_type": "code",
   "execution_count": 29,
   "metadata": {
    "collapsed": true
   },
   "outputs": [],
   "source": [
    "gamestats = pd.merge(offense,\n",
    "                     defense, \n",
    "                     left_on = ['Team', 'Date', 'year'], \n",
    "                     right_on = ['Team', 'Date', 'year'],\n",
    "                     how = 'left'\n",
    "                    )"
   ]
  },
  {
   "cell_type": "code",
   "execution_count": 30,
   "metadata": {
    "collapsed": true
   },
   "outputs": [],
   "source": [
    "assert len(gamestats) == len(offense), \"Size change during merging\""
   ]
  },
  {
   "cell_type": "code",
   "execution_count": 31,
   "metadata": {},
   "outputs": [],
   "source": [
    "gamestats['gamenumber'] = gamestats.groupby(['Team', 'year']).cumcount()+1"
   ]
  },
  {
   "cell_type": "markdown",
   "metadata": {
    "collapsed": true
   },
   "source": [
    "# Game list "
   ]
  },
  {
   "cell_type": "code",
   "execution_count": 32,
   "metadata": {
    "collapsed": true
   },
   "outputs": [],
   "source": [
    "# Read the file in\n",
    "gamelist = pd.read_csv(zf.open('gamebygame_participation.csv'))"
   ]
  },
  {
   "cell_type": "code",
   "execution_count": 33,
   "metadata": {},
   "outputs": [],
   "source": [
    "# Create a year variable and only keep the offense\n",
    "gamelist['Date'] = pd.to_datetime(gamelist['Date'])\n",
    "gamelist['year'] = gamelist['Date'].dt.year\n",
    "gamelist = gamelist[gamelist.OffenseDefense == 'Offense']\n",
    "\n",
    "# Add in the game count \n",
    "gamelist['gamenumber'] = gamelist.groupby(['Team', 'year']).cumcount() +1"
   ]
  },
  {
   "cell_type": "markdown",
   "metadata": {
    "collapsed": true
   },
   "source": [
    "# Read in team names"
   ]
  },
  {
   "cell_type": "code",
   "execution_count": 34,
   "metadata": {
    "collapsed": true
   },
   "outputs": [],
   "source": [
    "# Create a dataframe with the \"short\" and \"long\" names of the opponent\n",
    "teamnames = pd.read_csv(zf.open('gamebygame_teamnames.csv'))\n",
    "teamnames['shortName'] = teamnames.apply(lambda x: opponent(x, 'shortName'), axis=1)\n",
    "teamnames.drop_duplicates(inplace = True)\n",
    "teamnames = {x[\"shortName\"]:x[\"longName\"] for x in teamnames.to_dict(orient='record')}"
   ]
  },
  {
   "cell_type": "markdown",
   "metadata": {},
   "source": [
    "# Convert opponent names"
   ]
  },
  {
   "cell_type": "code",
   "execution_count": 35,
   "metadata": {
    "collapsed": true
   },
   "outputs": [],
   "source": [
    "# Exact the opponent \n",
    "gamelist['Opponent2'] = gamelist.apply(lambda x: opponent(x, 'Opponent'), axis = 1)"
   ]
  },
  {
   "cell_type": "code",
   "execution_count": 36,
   "metadata": {
    "collapsed": true
   },
   "outputs": [],
   "source": [
    "# Create the long opponent name \n",
    "gamelist['opponentName'] = gamelist.apply(lambda x:teamnames[x['Opponent2']]\n",
    "                                          if x['Opponent2'] in teamnames.keys()\n",
    "                                          else 'Missing', \n",
    "                                          axis = 1\n",
    "                                         )"
   ]
  },
  {
   "cell_type": "markdown",
   "metadata": {},
   "source": [
    "# Add in program history to game list  "
   ]
  },
  {
   "cell_type": "code",
   "execution_count": 37,
   "metadata": {
    "collapsed": true
   },
   "outputs": [],
   "source": [
    "# Add in team historical data \n",
    "yrs = [1, 2, 3, 5, 10]\n",
    "variables = ['history_wins_{yr}yrs', 'history_losses_{yr}yrs', 'history_WL_{yr}yrs']\n",
    "years = [v.format(yr = yr) for yr in yrs for v in variables ]\n",
    "years.extend([v.format(yr = 'max') for v in variables])\n",
    "\n",
    "gamelist[years] = gamelist.apply(lambda x: teamhistory(x['Team'], x['year'], yrs, history), axis = 1)"
   ]
  },
  {
   "cell_type": "markdown",
   "metadata": {},
   "source": [
    "# Add in coaching history "
   ]
  },
  {
   "cell_type": "code",
   "execution_count": 38,
   "metadata": {
    "collapsed": true
   },
   "outputs": [],
   "source": [
    "# Make sure that all the teams in the game list are in the coach list\n",
    "coach_teams = coach_links.Team.unique()\n",
    "for team in gamelist.Team.unique(): \n",
    "    if team not in coach_teams: \n",
    "        print(team)"
   ]
  },
  {
   "cell_type": "code",
   "execution_count": 39,
   "metadata": {},
   "outputs": [],
   "source": [
    "gamelist = gamelist.merge(coaches_list_fixed, \n",
    "                          left_on = ['Team', 'year'], \n",
    "                          right_on = ['Team', 'year'], \n",
    "                          how = 'left', \n",
    "                         )"
   ]
  },
  {
   "cell_type": "code",
   "execution_count": 40,
   "metadata": {},
   "outputs": [],
   "source": [
    "coach_variables = ['Coach_wins', 'Coach_losses', 'Coach_WL', 'Coach_years']\n",
    "gamelistOut = gamelist.copy()\n",
    "gamelistOut[coach_variables] = gamelist.apply(lambda x: coach_history(x['coach'], x['year'], coaches), axis = 1)"
   ]
  },
  {
   "cell_type": "markdown",
   "metadata": {},
   "source": [
    "# Add in roster data"
   ]
  },
  {
   "cell_type": "code",
   "execution_count": 41,
   "metadata": {},
   "outputs": [],
   "source": [
    "gamelist.merge(roster_df, \n",
    "               left_on = ['Team', 'year'], \n",
    "               right_on = ['Team', 'year'], \n",
    "               how = 'left'\n",
    "              );"
   ]
  },
  {
   "cell_type": "markdown",
   "metadata": {},
   "source": [
    "# Split out HomeAway and Win/Loss in game file "
   ]
  },
  {
   "cell_type": "code",
   "execution_count": 42,
   "metadata": {},
   "outputs": [],
   "source": [
    "gamelistOut[['HomeAway', 'WinLoss']] = gamelistOut.apply(lambda x: create_variables(x), axis = 1).copy()\n",
    "drop_columns = ['G', 'OffenseDefense', 'Opponent2']\n",
    "gamelistOut.drop(drop_columns, axis = 1, inplace = True)"
   ]
  },
  {
   "cell_type": "markdown",
   "metadata": {},
   "source": [
    "# Write the final files out "
   ]
  },
  {
   "cell_type": "code",
   "execution_count": 44,
   "metadata": {},
   "outputs": [],
   "source": [
    "zip_file_out = os.path.join('Data', 'finalgamedata.zip')\n",
    "\n",
    "with zipfile.ZipFile(zip_file_out, 'w') as csv_zip:\n",
    "    csv_zip.writestr(\"gameslist.csv\", pd.DataFrame(gamelistOut).to_csv(index = False))\n",
    "    csv_zip.writestr(\"gamestats.csv\", pd.DataFrame(gamestats).to_csv(index = False))"
   ]
  },
  {
   "cell_type": "code",
   "execution_count": null,
   "metadata": {
    "collapsed": true
   },
   "outputs": [],
   "source": []
  },
  {
   "cell_type": "markdown",
   "metadata": {},
   "source": [
    "# Merge in the data for the opponents"
   ]
  },
  {
   "cell_type": "code",
   "execution_count": null,
   "metadata": {
    "collapsed": true
   },
   "outputs": [],
   "source": [
    "cols2 = [\"Coach_WL\", \"Coach_years\", \"FG\",\n",
    "         \"RushNetYards\",\"PassYards\",\"Interceptions\",\"PassAttempts\",\"Punts\",\"Points\",\"FumblesLost\",\n",
    "         \"Penalties\",\"Plays\",\"def_RushNetYards\",\"def_PassYards\",\"def_Interceptions\",\"def_Punts\", \n",
    "         \"def_FF\",\"def_PenaltyYards\",\"def_PDef\",\"Sacks\",\"Tackles\",\"def_Plays\",\n",
    "        ]\n",
    "\n",
    "# Filter out game 1 of season 2013\n",
    "base_year_mask = ~((gamebygame_part.year == 2013) & (gamebygame_part['count'] == 1))\n",
    "\n",
    "gamebygame_part[cols2] = gamebygame_part[base_year_mask].apply(lambda x: previous_yrs(team = x['Team'], \n",
    "                                                     year = x['year'], \n",
    "                                                     game = x['count'], \n",
    "                                                     cols = cols2, \n",
    "                                                     final = final,                                                                                     \n",
    "                                                     debug = False\n",
    "                                                     ), axis = 1\n",
    "                                                   )"
   ]
  },
  {
   "cell_type": "code",
   "execution_count": null,
   "metadata": {},
   "outputs": [],
   "source": [
    "gamedata = list(gamelistOut['Team'].unique())"
   ]
  },
  {
   "cell_type": "markdown",
   "metadata": {
    "collapsed": true
   },
   "source": [
    "def opp(team, date, year, cols, debug = False):\n",
    "    \"\"\" Calculate the game-by-game stats for the opponents\"\"\"\n",
    "    game = final[(final['Team'] == team) &  (final['Date'] == date) ]['count'].values[0]\n",
    "    return previous_yrs(team = team, \n",
    "                        year = year, \n",
    "                        game = game, \n",
    "                        cols = cols2, \n",
    "                        debug = False\n",
    "                       )"
   ]
  },
  {
   "cell_type": "code",
   "execution_count": null,
   "metadata": {},
   "outputs": [],
   "source": [
    "# Create the oppoent variable names \n",
    "opps = ['opp_' + x for x in cols2]\n",
    "\n",
    "# Subset the datset to games to keep it short\n",
    "games = gamedata[~((gamebygame_part.year == 2013) & (gamebygame_part['count'] == 1))].copy()\n",
    "\n",
    "# Calculate the opponent data \n",
    "games[opps] = gamedata.apply(lambda x: opp(team = x['Team'],\n",
    "                                        date = x['Date'], \n",
    "                                        year = x['year'], \n",
    "                                        cols = cols2,\n",
    "                                        final = final,\n",
    "                                        debug = False\n",
    "                                       )\n",
    "                          if x['opponentName'] in gamedata\n",
    "                          else pd.Series([None for x in range(0, len(cols2))]),\n",
    "                          axis = 1\n",
    "                         )"
   ]
  },
  {
   "cell_type": "code",
   "execution_count": null,
   "metadata": {
    "collapsed": true
   },
   "outputs": [],
   "source": [
    "# Select all the games where they don't have missing data for rush data for home team and opponent team\n",
    "finalgames = games[(pd.notnull(games['opp_def_RushNetYards'])) & (pd.notnull(games['RushNetYards']))]"
   ]
  },
  {
   "cell_type": "code",
   "execution_count": null,
   "metadata": {},
   "outputs": [],
   "source": [
    "finalgames[['HomeAway', 'WinLoss']] = finalgames.apply(lambda x: create_variables(x), axis = 1).copy()"
   ]
  },
  {
   "cell_type": "code",
   "execution_count": null,
   "metadata": {
    "collapsed": true
   },
   "outputs": [],
   "source": [
    "# Variables to drop out for analysis\n",
    "drop_variables = ['Date', 'Opponent', 'Result', 'G', 'Team', 'OffenseDefense', \n",
    "                  'year', 'Opponent2', 'opponentName', 'WinLoss']"
   ]
  },
  {
   "cell_type": "code",
   "execution_count": null,
   "metadata": {
    "collapsed": true
   },
   "outputs": [],
   "source": [
    "y = finalgames['WinLoss'].values\n",
    "X = finalgames.drop(drop_variables, axis = 1).values"
   ]
  },
  {
   "cell_type": "code",
   "execution_count": null,
   "metadata": {
    "collapsed": true
   },
   "outputs": [],
   "source": [
    "stats = list(final.columns)"
   ]
  }
 ],
 "metadata": {
  "kernelspec": {
   "display_name": "Python 3",
   "language": "python",
   "name": "python3"
  },
  "language_info": {
   "codemirror_mode": {
    "name": "ipython",
    "version": 3
   },
   "file_extension": ".py",
   "mimetype": "text/x-python",
   "name": "python",
   "nbconvert_exporter": "python",
   "pygments_lexer": "ipython3",
   "version": "3.6.1"
  }
 },
 "nbformat": 4,
 "nbformat_minor": 2
}
